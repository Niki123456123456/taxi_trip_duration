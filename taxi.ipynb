{
 "cells": [
  {
   "cell_type": "code",
   "id": "initial_id",
   "metadata": {
    "collapsed": true
   },
   "source": [
    "import pickle\n",
    "from pathlib import Path\n",
    "from zipfile import ZipFile\n",
    "\n",
    "import matplotlib.pyplot as plt\n",
    "import pandas as pd\n",
    "from kaggle.api.kaggle_api_extended import KaggleApi"
   ],
   "outputs": [],
   "execution_count": null
  },
  {
   "metadata": {},
   "cell_type": "markdown",
   "source": "### Load taxi dataset, unzip and save in taxi_data_raw",
   "id": "efed8dd6702e92be"
  },
  {
   "metadata": {},
   "cell_type": "code",
   "source": [
    "def load_taxi_data():\n",
    "  download_file_name = \"nyc-taxi-trip-duration.zip\"\n",
    "  data_dir = Path(\"data_packages\")\n",
    "  extracted_dir = Path(\"data\")\n",
    "  csv_path = extracted_dir / \"train.csv\"\n",
    "  pkl_path = extracted_dir / \"train.pkl\"\n",
    "\n",
    "  zip_path = data_dir / download_file_name\n",
    "\n",
    "# Step 0: Fast CSV access via cache (if available)\n",
    "  if pkl_path.is_file():\n",
    "    with open(pkl_path, \"rb\") as f:\n",
    "      return pickle.load(f)\n",
    "\n",
    "  # Step 1: Download, only if ZIP is still missing\n",
    "  if not zip_path.is_file():\n",
    "    data_dir.mkdir(parents=True, exist_ok=True)\n",
    "    api = KaggleApi()\n",
    "    api.authenticate()\n",
    "    api.competition_download_files(\"nyc-taxi-trip-duration\", path=data_dir)\n",
    "\n",
    "# Step 2: Unpack ZIP only if inner ZIPs are missing\n",
    "  inner_zip_names = {\"train.zip\", \"test.zip\", \"sample_submission.zip\"}\n",
    "  existing_inner_zips = {z.name for z in data_dir.glob(\"*.zip\")}\n",
    "  missing_inner_zips = inner_zip_names - existing_inner_zips\n",
    "\n",
    "  if missing_inner_zips:\n",
    "    with ZipFile(zip_path, 'r') as outer_zip:\n",
    "      outer_zip.extractall(data_dir)\n",
    "\n",
    "# Step 3: Extract only missing CSVs from inner ZIPs\n",
    "  extracted_dir.mkdir(parents=True, exist_ok=True)\n",
    "  for inner_zip in data_dir.glob(\"*.zip\"):\n",
    "    with ZipFile(inner_zip, 'r') as zip_ref:\n",
    "      for member in zip_ref.namelist():\n",
    "        if member.endswith(\".csv\"):\n",
    "          target_file = extracted_dir / Path(member).name\n",
    "          if not target_file.is_file():\n",
    "            zip_ref.extract(member, path=extracted_dir)\n",
    "\n",
    "# Step 4: Load CSV and save pkl cache\n",
    "  if not csv_path.is_file():\n",
    "    raise FileNotFoundError(f\"'{csv_path}' wurde nicht gefunden – Entpackung fehlgeschlagen.\")\n",
    "\n",
    "  df = pd.read_csv(csv_path)\n",
    "  with open(pkl_path, \"wb\") as f:\n",
    "    pickle.dump(df, f)\n",
    "\n",
    "  return df\n",
    "\n",
    "\n",
    "# Anwendung\n",
    "taxi_data_raw = load_taxi_data()"
   ],
   "id": "600d536fa666d9a",
   "outputs": [],
   "execution_count": null
  },
  {
   "metadata": {},
   "cell_type": "markdown",
   "source": "# Univariat EDA Taxidata",
   "id": "7950164dcaa9e8b6"
  },
  {
   "metadata": {},
   "cell_type": "markdown",
   "source": "## General Exploration",
   "id": "289423fced367b0e"
  },
  {
   "metadata": {},
   "cell_type": "code",
   "source": "taxi_data_raw.info()",
   "id": "5265d3fb65c16631",
   "outputs": [],
   "execution_count": null
  },
  {
   "metadata": {},
   "cell_type": "markdown",
   "source": [
    "- 1458644 rows\n",
    "- 11 columns\n",
    "- object: id, pickup_datetime, dropoff_datetime, store_and_fwd_flag\n",
    "- int64: vendor_id, passenger_count, trip_duration\n",
    "- float64: pickup_longitude, pickup_latitude, dropoff_longitude, dropoff_latitude\n",
    "- no missing values/categories"
   ],
   "id": "ec1d13a85bbfda9c"
  },
  {
   "metadata": {},
   "cell_type": "code",
   "source": "taxi_data_raw.isna().sum()",
   "id": "15748e6fc767a29",
   "outputs": [],
   "execution_count": null
  },
  {
   "metadata": {},
   "cell_type": "markdown",
   "source": "- no NaNs",
   "id": "6405d6e039103f13"
  },
  {
   "metadata": {},
   "cell_type": "code",
   "source": "taxi_data_raw.nunique()",
   "id": "86faf9024d16e991",
   "outputs": [],
   "execution_count": null
  },
  {
   "metadata": {},
   "cell_type": "markdown",
   "source": [
    "- id can be used for unique ID\n",
    "- two unique vendors seems to be allright\n",
    "- ten unique passengers\n",
    "- two unique store_and_fwd_flag matches with description"
   ],
   "id": "bcb5afaccb144271"
  },
  {
   "metadata": {},
   "cell_type": "code",
   "source": "taxi_data_raw[taxi_data_raw.duplicated()]",
   "id": "9cf07c24ed7e9663",
   "outputs": [],
   "execution_count": null
  },
  {
   "metadata": {},
   "cell_type": "markdown",
   "source": "- no duplicated rows",
   "id": "4a96e01dcd78ca78"
  },
  {
   "metadata": {},
   "cell_type": "markdown",
   "source": "## Exploration of vendor_id",
   "id": "b5dc499766bbdad5"
  },
  {
   "metadata": {},
   "cell_type": "code",
   "source": [
    "# Vendor ID\n",
    "taxi_data_raw['vendor_id'].value_counts()"
   ],
   "id": "12cfb555bc22935f",
   "outputs": [],
   "execution_count": null
  },
  {
   "metadata": {},
   "cell_type": "code",
   "source": "taxi_data_raw['vendor_id'].plot.hist()",
   "id": "20d1f73a622b620a",
   "outputs": [],
   "execution_count": null
  },
  {
   "metadata": {},
   "cell_type": "markdown",
   "source": [
    "- Only two unique values: 1 and 2.\n",
    "- Frequencies are relatively balanced.\n",
    "- No missing values or anomalies detected."
   ],
   "id": "8cb9ac41c785a390"
  },
  {
   "metadata": {},
   "cell_type": "markdown",
   "source": "## Exploration of pickup_datetime & dropoff_datetime",
   "id": "b66b962d473ede59"
  },
  {
   "metadata": {},
   "cell_type": "markdown",
   "source": "pickup_datetime",
   "id": "991d15c801c770ac"
  },
  {
   "metadata": {},
   "cell_type": "code",
   "source": "taxi_data_raw['pickup_datetime'] = pd.to_datetime(taxi_data_raw['pickup_datetime'])",
   "id": "fa4bd2ea31513f7d",
   "outputs": [],
   "execution_count": null
  },
  {
   "metadata": {},
   "cell_type": "markdown",
   "source": "- transform object dtype into pd_datetime",
   "id": "fd1be6e43ca0d231"
  },
  {
   "metadata": {},
   "cell_type": "code",
   "source": [
    "taxi_data_raw['pickup_datetime'].astype(str).str.match(\n",
    "    r'^\\d{4}-\\d{2}-\\d{2} \\d{2}:\\d{2}:\\d{2}$').all()"
   ],
   "id": "e014c186ba289cde",
   "outputs": [],
   "execution_count": null
  },
  {
   "metadata": {},
   "cell_type": "markdown",
   "source": "- check wether the pattern is equal",
   "id": "671854ad3c1d616b"
  },
  {
   "metadata": {},
   "cell_type": "code",
   "source": "taxi_data_raw['pickup_datetime'].describe()",
   "id": "7ebcb82ff8c8b69a",
   "outputs": [],
   "execution_count": null
  },
  {
   "metadata": {},
   "cell_type": "markdown",
   "source": "dropoff_datetime",
   "id": "98ef3b17f49948d8"
  },
  {
   "metadata": {},
   "cell_type": "code",
   "source": "taxi_data_raw['dropoff_datetime'] = pd.to_datetime(taxi_data_raw['dropoff_datetime'])",
   "id": "41d6af7eddf3be56",
   "outputs": [],
   "execution_count": null
  },
  {
   "metadata": {},
   "cell_type": "markdown",
   "source": "- transform object dtype into pd_datetime",
   "id": "5075eff4cf203d32"
  },
  {
   "metadata": {},
   "cell_type": "code",
   "source": [
    "taxi_data_raw['dropoff_datetime'].astype(str).str.match(\n",
    "    r'^\\d{4}-\\d{2}-\\d{2} \\d{2}:\\d{2}:\\d{2}$').all()"
   ],
   "id": "7cbdd895d52b6e94",
   "outputs": [],
   "execution_count": null
  },
  {
   "metadata": {},
   "cell_type": "markdown",
   "source": "- check wether the pattern is equal",
   "id": "bad2e909e6970f9d"
  },
  {
   "metadata": {},
   "cell_type": "code",
   "source": "taxi_data_raw['dropoff_datetime'].describe()",
   "id": "e9241fd6445b8de0",
   "outputs": [],
   "execution_count": null
  },
  {
   "metadata": {},
   "cell_type": "code",
   "source": "(taxi_data_raw['dropoff_datetime'] < taxi_data_raw['pickup_datetime']).sum()",
   "id": "e864fad35d6eba7b",
   "outputs": [],
   "execution_count": null
  },
  {
   "metadata": {},
   "cell_type": "markdown",
   "source": "- no negative durations",
   "id": "af67cbb2c6120be8"
  },
  {
   "metadata": {},
   "cell_type": "code",
   "source": [
    "# Basic datetime features\n",
    "taxi_data_raw['pickup_hour_of_day'] = taxi_data_raw['pickup_datetime'].dt.hour\n",
    "taxi_data_raw['pickup_day_of_week'] = taxi_data_raw['pickup_datetime'].dt.dayofweek\n",
    "taxi_data_raw['pickup_month'] = taxi_data_raw['pickup_datetime'].dt.month\n",
    "\n",
    "# Day of year and hour of year (for merging with weather)\n",
    "taxi_data_raw['day_of_year'] = taxi_data_raw['pickup_datetime'].dt.dayofyear\n",
    "taxi_data_raw['hour_of_year'] = ((taxi_data_raw['day_of_year'] - 1) * 24 +\n",
    "                                 taxi_data_raw['pickup_hour_of_day'])"
   ],
   "id": "f08a6de82756910b",
   "outputs": [],
   "execution_count": null
  },
  {
   "metadata": {},
   "cell_type": "code",
   "source": [
    "pickup_counts = taxi_data_raw['pickup_datetime'].dt.date.value_counts().sort_index()\n",
    "dropoff_counts = taxi_data_raw['dropoff_datetime'].dt.date.value_counts().sort_index()\n",
    "\n",
    "# Plot\n",
    "fig, ax = plt.subplots(figsize=(12, 5))\n",
    "pickup_counts.plot(ax=ax, label=\"Pickups\", color='green', alpha=0.6)\n",
    "dropoff_counts.plot(ax=ax, label=\"Dropoffs\", color='blue', alpha=0.6)\n",
    "\n",
    "ax.set_title(\"Daily Pickup and Dropoff Counts\")\n",
    "ax.set_xlabel(\"Date\")\n",
    "ax.set_ylabel(\"Number of Rides\")\n",
    "ax.legend()\n",
    "plt.grid(True)\n",
    "plt.tight_layout()\n",
    "plt.show()"
   ],
   "id": "382ed36b63d14fe9",
   "outputs": [],
   "execution_count": null
  },
  {
   "metadata": {},
   "cell_type": "code",
   "source": "taxi_data_raw[\"pickup_hour_of_day\"].value_counts().sort_index().plot(kind='bar')",
   "id": "cd761058132640d9",
   "outputs": [],
   "execution_count": null
  },
  {
   "metadata": {},
   "cell_type": "markdown",
   "source": [
    "- peak from 18 to 22\n",
    "- trough from 1 to 6"
   ],
   "id": "182552317b3ffe37"
  },
  {
   "metadata": {},
   "cell_type": "code",
   "source": "taxi_data_raw['pickup_day_of_week'].value_counts().sort_index().plot(kind='bar')",
   "id": "de70db4851f320de",
   "outputs": [],
   "execution_count": null
  },
  {
   "metadata": {},
   "cell_type": "code",
   "source": "taxi_data_raw['pickup_day_of_week'].value_counts().sort_index()",
   "id": "217556123f94721f",
   "outputs": [],
   "execution_count": null
  },
  {
   "metadata": {},
   "cell_type": "markdown",
   "source": [
    "- trough on Sunday\n",
    "- peak on Friday"
   ],
   "id": "c795622c87b43bce"
  },
  {
   "metadata": {},
   "cell_type": "code",
   "source": "taxi_data_raw['pickup_month'].value_counts().sort_index().plot(kind='bar')",
   "id": "3a573d70097a6675",
   "outputs": [],
   "execution_count": null
  },
  {
   "metadata": {},
   "cell_type": "code",
   "source": "taxi_data_raw['pickup_month'].value_counts().sort_index()",
   "id": "9769da5e3550f8b6",
   "outputs": [],
   "execution_count": null
  },
  {
   "metadata": {},
   "cell_type": "markdown",
   "source": [
    "- trough in January\n",
    "- peak in March"
   ],
   "id": "a2cfa16bd598f658"
  },
  {
   "metadata": {},
   "cell_type": "code",
   "source": "taxi_data_raw.groupby(['pickup_datetime']).size().sort_values(ascending=False).head()",
   "id": "1d218449ee377b01",
   "outputs": [],
   "execution_count": null
  },
  {
   "metadata": {},
   "cell_type": "markdown",
   "source": "- could be repeated records",
   "id": "92980c7ccc0fd715"
  },
  {
   "metadata": {},
   "cell_type": "code",
   "source": [
    "# shows the average trip duration per pickup hour across a 24-hour day\n",
    "taxi_data_raw.groupby(taxi_data_raw['pickup_hour_of_day'])['trip_duration'].mean().plot()"
   ],
   "id": "e3e75ba2d1f6c241",
   "outputs": [],
   "execution_count": null
  },
  {
   "metadata": {},
   "cell_type": "markdown",
   "source": "- aligns with expected rush hour effects",
   "id": "89190e1e6701b41"
  },
  {
   "metadata": {},
   "cell_type": "markdown",
   "source": [
    "## Exploration of passenger_count\n",
    "\n",
    "Findings\n",
    "- The majority of trips have 1 passenger; distribution is heavily right-skewed\n",
    "- Edge values observed: 60 trips with 0 passengers, and very few with 7–9 passengers\n",
    "- These edge values are likely invalid or extremely rare\n",
    "- Trips with 0 passengers show the highest average trip duration, which is implausible and suggests data entry or system error\n",
    "- Passenger counts 7–9 are extremely rare and may suffer from sampling bias or logging issues\n",
    "- These edge cases collectively make up a very small share of the data (<0.01%)"
   ],
   "id": "17530423e66f5829"
  },
  {
   "metadata": {},
   "cell_type": "code",
   "source": "taxi_data_raw[\"passenger_count\"].describe()",
   "id": "c14b7aef050d6e79",
   "outputs": [],
   "execution_count": null
  },
  {
   "metadata": {},
   "cell_type": "code",
   "source": [
    "# Passenger count\n",
    "taxi_data_raw['passenger_count'].value_counts().sort_index()"
   ],
   "id": "71df320baea2d985",
   "outputs": [],
   "execution_count": null
  },
  {
   "metadata": {},
   "cell_type": "markdown",
   "source": [
    "- 60 with passenger count 0\n",
    "- 5 with passenger count > 6"
   ],
   "id": "530aad0620a1517d"
  },
  {
   "metadata": {},
   "cell_type": "code",
   "source": "taxi_data_raw['passenger_count'].value_counts().sort_index().plot(kind='bar')",
   "id": "516f404017ab0073",
   "outputs": [],
   "execution_count": null
  },
  {
   "metadata": {},
   "cell_type": "code",
   "source": "taxi_data_raw.groupby('passenger_count')['trip_duration'].mean().plot(kind='bar')",
   "id": "701fe3dcaeb46229",
   "outputs": [],
   "execution_count": null
  },
  {
   "metadata": {},
   "cell_type": "markdown",
   "source": "- Passenger count = 0 has the highest average trip duration, which is not plausible, indicating likely data entry or logging errors",
   "id": "e7b98bd8c13e1832"
  },
  {
   "metadata": {},
   "cell_type": "code",
   "source": [
    "(pd.crosstab(taxi_data_raw['pickup_hour_of_day'], taxi_data_raw['passenger_count']).plot(\n",
    "    kind='bar', stacked=True, figsize=(12, 5)))"
   ],
   "id": "a137e9073a328510",
   "outputs": [],
   "execution_count": null
  },
  {
   "metadata": {},
   "cell_type": "markdown",
   "source": [
    "- Passenger count = 1 dominates at all hours\n",
    "- Group trips (2–4 passengers) are more frequent in the evening and late night"
   ],
   "id": "7556a9392c535e9f"
  },
  {
   "metadata": {},
   "cell_type": "code",
   "source": [
    "edge_cases = taxi_data_raw['passenger_count'].isin([0, 7, 8, 9])\n",
    "edge_cases.mean()"
   ],
   "id": "9e197efba9f9cde6",
   "outputs": [],
   "execution_count": null
  },
  {
   "metadata": {},
   "cell_type": "markdown",
   "source": "- 0.0045% of trips are likely outliers or errors",
   "id": "4f1b667c11661606"
  },
  {
   "metadata": {},
   "cell_type": "code",
   "source": [
    "# View rows with passenger_count == 0\n",
    "zero_passenger_trips = taxi_data_raw[taxi_data_raw['passenger_count'] == 0]\n",
    "\n",
    "zero_passenger_trips[['pickup_datetime', 'dropoff_datetime', 'trip_duration']].describe()"
   ],
   "id": "d001cbb1bb91c62e",
   "outputs": [],
   "execution_count": null
  },
  {
   "metadata": {},
   "cell_type": "markdown",
   "source": "## Explore pickup_longitude, pickup_latitude & dropoff_longitude, dropoff_latitude",
   "id": "204e1e0da0b5b061"
  },
  {
   "metadata": {},
   "cell_type": "code",
   "source": [
    "# Summary statistics for coordinates\n",
    "taxi_data_raw[\n",
    "  ['pickup_latitude', 'pickup_longitude', 'dropoff_latitude', 'dropoff_longitude']].describe()"
   ],
   "id": "41558085fa790322",
   "outputs": [],
   "execution_count": null
  },
  {
   "metadata": {},
   "cell_type": "code",
   "source": [
    "taxi_data_raw[\n",
    "  (taxi_data_raw['pickup_latitude'] < 40.47) | (taxi_data_raw['pickup_latitude'] > 41.0) |\n",
    "  (taxi_data_raw['dropoff_latitude'] < 40.47) | (taxi_data_raw['dropoff_latitude'] > 41.0) |\n",
    "  (taxi_data_raw['pickup_longitude'] < -74.3) | (taxi_data_raw['pickup_longitude'] > -73.6) |\n",
    "  (taxi_data_raw['dropoff_longitude'] < -74.3) | (taxi_data_raw['dropoff_longitude'] > -73.6)]"
   ],
   "id": "811d25955253e3ab",
   "outputs": [],
   "execution_count": null
  },
  {
   "metadata": {},
   "cell_type": "markdown",
   "source": [
    "- Some trip coordinates lie outside NYC bounds\n",
    "- Some points lie far outside the visible city bounds — likely due to GPS glitches or data corruption."
   ],
   "id": "70020402d9e023f2"
  },
  {
   "metadata": {},
   "cell_type": "code",
   "source": "taxi_data_raw['pickup_longitude'].map(lambda x: str(x).endswith('000')).mean()",
   "id": "c3f4f458820dc67",
   "outputs": [],
   "execution_count": null
  },
  {
   "metadata": {},
   "cell_type": "code",
   "source": "taxi_data_raw['pickup_latitude'].map(lambda x: str(x).endswith('000')).mean()",
   "id": "264b7500ecd35f9",
   "outputs": [],
   "execution_count": null
  },
  {
   "metadata": {},
   "cell_type": "code",
   "source": "taxi_data_raw['dropoff_latitude'].map(lambda x: str(x).endswith('000')).mean()",
   "id": "c7256925451f56e",
   "outputs": [],
   "execution_count": null
  },
  {
   "metadata": {},
   "cell_type": "code",
   "source": "taxi_data_raw['dropoff_longitude'].map(lambda x:str(x).endswith('000')).mean()",
   "id": "799f7cb16aa01d85",
   "outputs": [],
   "execution_count": null
  },
  {
   "metadata": {},
   "cell_type": "markdown",
   "source": "- no rounding issues",
   "id": "91bd93ba76531129"
  },
  {
   "metadata": {},
   "cell_type": "markdown",
   "source": "### Geographic distribution",
   "id": "655c86dfd3df1e2e"
  },
  {
   "metadata": {},
   "cell_type": "code",
   "source": [
    "# Scatterplot of pickup and dropoff locations\n",
    "plt.figure(figsize=(6, 6))\n",
    "plt.scatter(taxi_data_raw['pickup_longitude'], taxi_data_raw['pickup_latitude'], s=0.5, alpha=0.1,\n",
    "            label='pickup')\n",
    "plt.scatter(taxi_data_raw['dropoff_longitude'], taxi_data_raw['dropoff_latitude'], s=0.5, alpha=0.1,\n",
    "            label='dropoff')\n",
    "plt.xlim(-74.3, -73.6)\n",
    "plt.ylim(40.47, 41.0)\n",
    "plt.xlabel(\"Longitude\")\n",
    "plt.ylabel(\"Latitude\")\n",
    "plt.legend(loc='upper right')\n",
    "plt.title(\"Geographic Distribution of Taxi Pickups and Dropoffs\")\n",
    "plt.grid(True)\n",
    "plt.tight_layout()\n",
    "plt.show()"
   ],
   "id": "b4c68c5028b5f640",
   "outputs": [],
   "execution_count": null
  },
  {
   "metadata": {},
   "cell_type": "markdown",
   "source": [
    "- Most pickups and dropoffs are located within the NYC area (Manhattan, Brooklyn, Queens).\n",
    "- Clear density clusters appear around Midtown and Downtown Manhattan."
   ],
   "id": "6902ca269862c466"
  },
  {
   "metadata": {},
   "cell_type": "code",
   "source": [
    "taxi_data_raw[\n",
    "  (taxi_data_raw['pickup_latitude'].round(5) == taxi_data_raw['dropoff_latitude'].round(5)) &\n",
    "  (taxi_data_raw['pickup_longitude'].round(5) == taxi_data_raw['dropoff_longitude'].round(5)) &\n",
    "  (taxi_data_raw['trip_duration'] > 300)  # more than 5 minutes\n",
    "  ]"
   ],
   "id": "810343619a3dcc8e",
   "outputs": [],
   "execution_count": null
  },
  {
   "metadata": {},
   "cell_type": "markdown",
   "source": "- implausible values",
   "id": "dc645a16b05330d1"
  },
  {
   "metadata": {},
   "cell_type": "markdown",
   "source": "## Explore store_and_fwd_flag",
   "id": "c04560a038ad5346"
  },
  {
   "metadata": {},
   "cell_type": "code",
   "source": "taxi_data_raw['store_and_fwd_flag'].value_counts(normalize=True)",
   "id": "56c66d0b0b2ec494",
   "outputs": [],
   "execution_count": null
  },
  {
   "metadata": {},
   "cell_type": "code",
   "source": "taxi_data_raw['store_and_fwd_flag'].value_counts().sort_index().plot(kind='bar')",
   "id": "e4bc8e60e16d9417",
   "outputs": [],
   "execution_count": null
  },
  {
   "metadata": {},
   "cell_type": "markdown",
   "source": "- store_and_fwd_flag = 'Y' is rare and likely not predictive on its own",
   "id": "367aadf0f1cf61ed"
  },
  {
   "metadata": {},
   "cell_type": "markdown",
   "source": "## Exploration of trip_duration",
   "id": "6a3606bed0961e51"
  },
  {
   "metadata": {},
   "cell_type": "code",
   "source": [
    "# Summary statistics for trip duration\n",
    "taxi_data_raw['trip_duration'].describe()"
   ],
   "id": "e70598f384108b14",
   "outputs": [],
   "execution_count": null
  },
  {
   "metadata": {},
   "cell_type": "code",
   "source": [
    "# Check for extreme trip durations\n",
    "taxi_data_raw[taxi_data_raw['trip_duration'] > 3 * 3600]"
   ],
   "id": "7294b1950b4fd69d",
   "outputs": [],
   "execution_count": null
  },
  {
   "metadata": {},
   "cell_type": "code",
   "source": "taxi_data_raw[taxi_data_raw['trip_duration'] < 60]  # < 1 minute",
   "id": "e17729b9653d117b",
   "outputs": [],
   "execution_count": null
  },
  {
   "metadata": {},
   "cell_type": "markdown",
   "source": "- Several trips have a duration longer than 2 hours, which is highly unlikely for intra-city NYC taxi rides. A few trips are also shorter than 1 minute, which may indicate errors or missing data.",
   "id": "227fff05a3a503e0"
  },
  {
   "metadata": {},
   "cell_type": "code",
   "source": [
    "import seaborn as sns\n",
    "\n",
    "sns.boxplot(x=taxi_data_raw['trip_duration'])"
   ],
   "id": "c8ab2238f87c7003",
   "outputs": [],
   "execution_count": null
  },
  {
   "metadata": {},
   "cell_type": "code",
   "source": [
    "# Trip duration in minutes\n",
    "taxi_data_raw['trip_duration_min'] = taxi_data_raw['trip_duration'] / 60"
   ],
   "id": "907c8ded2781ad06",
   "outputs": [],
   "execution_count": null
  },
  {
   "metadata": {},
   "cell_type": "code",
   "source": [
    "from numpy import radians, sin, cos, sqrt, arctan2\n",
    "\n",
    "\n",
    "def haversine(lat1, lon1, lat2, lon2):\n",
    "  r = 6371  # Earth's radius in km\n",
    "  lat1, lon1, lat2, lon2 = map(radians, [lat1, lon1, lat2, lon2])\n",
    "  dlat = lat2 - lat1\n",
    "  dlon = lon2 - lon1\n",
    "\n",
    "  a = sin(dlat / 2) ** 2 + cos(lat1) * cos(lat2) * sin(dlon / 2) ** 2\n",
    "  c = 2 * arctan2(sqrt(a), sqrt(1 - a))\n",
    "\n",
    "  return r * c\n",
    "\n",
    "\n",
    "# Apply to the dataset\n",
    "taxi_data_raw['haversine_km'] = haversine(\n",
    "    taxi_data_raw['pickup_latitude'], taxi_data_raw['pickup_longitude'],\n",
    "    taxi_data_raw['dropoff_latitude'], taxi_data_raw['dropoff_longitude']\n",
    ")"
   ],
   "id": "86c7fc6c4ee73efe",
   "outputs": [],
   "execution_count": null
  },
  {
   "metadata": {},
   "cell_type": "code",
   "source": "taxi_data_raw.plot.scatter(x='haversine_km', y='trip_duration_min', alpha=0.3)",
   "id": "c0efd505cdbc7d8d",
   "outputs": [],
   "execution_count": null
  },
  {
   "metadata": {},
   "cell_type": "markdown",
   "source": [
    "- Long durations at very short distances\n",
    "- Long distances with short durations"
   ],
   "id": "3b4d87074559d66"
  },
  {
   "metadata": {},
   "cell_type": "code",
   "source": [
    "# Filter for clearer visualization\n",
    "filtered_data = taxi_data_raw[\n",
    "  (taxi_data_raw['haversine_km'] <= 20) &\n",
    "  (taxi_data_raw['trip_duration_min'] <= 60)\n",
    "  ]\n",
    "\n",
    "# Plot\n",
    "plt.figure(figsize=(10, 5))\n",
    "plt.scatter(filtered_data['haversine_km'], filtered_data['trip_duration_min'], alpha=0.1, s=1)\n",
    "plt.xlabel(\"Haversine Distance (km)\")\n",
    "plt.ylabel(\"Trip Duration (min)\")\n",
    "plt.title(\"Trip Duration vs. Haversine Distance (Filtered: ≤20 km & ≤60 min)\")\n",
    "plt.grid(True)\n",
    "plt.tight_layout()\n",
    "plt.show()"
   ],
   "id": "bdd53dfcfe157156",
   "outputs": [],
   "execution_count": null
  },
  {
   "metadata": {},
   "cell_type": "markdown",
   "source": [
    "- For trips under ~2 km, durations vary widely\n",
    "- Some points still lie far above the trend line"
   ],
   "id": "79435314316fbdf0"
  },
  {
   "metadata": {},
   "cell_type": "code",
   "source": [
    "# Histogram (capped at 100 minutes for clarity)\n",
    "plt.figure(figsize=(8, 4))\n",
    "plt.hist(taxi_data_raw['trip_duration_min'], bins=100, range=(0, 100), edgecolor='black')\n",
    "plt.title(\"Distribution of Trip Duration (minutes)\")\n",
    "plt.xlabel(\"Trip Duration [min]\")\n",
    "plt.ylabel(\"Frequency\")\n",
    "plt.grid(True)\n",
    "plt.tight_layout()\n",
    "plt.show()"
   ],
   "id": "afb50afb2d9217d7",
   "outputs": [],
   "execution_count": null
  },
  {
   "metadata": {},
   "cell_type": "code",
   "source": [
    "import numpy as np\n",
    "\n",
    "# Log-transformed trip duration\n",
    "taxi_data_raw['trip_duration_log'] = np.log1p(taxi_data_raw['trip_duration'])\n",
    "\n",
    "plt.figure(figsize=(8, 4))\n",
    "plt.hist(taxi_data_raw['trip_duration_log'], bins=100, edgecolor='black')\n",
    "plt.title(\"Log-Transformed Trip Duration\")\n",
    "plt.xlabel(\"log(1 + trip_duration [s])\")\n",
    "plt.ylabel(\"Frequency\")\n",
    "plt.grid(True)\n",
    "plt.tight_layout()\n",
    "plt.show()"
   ],
   "id": "f0574318be7afd24",
   "outputs": [],
   "execution_count": null
  },
  {
   "metadata": {},
   "cell_type": "markdown",
   "source": "- log1p(trip_duration) helps stabilize variance, handle skewness, and improve model performance",
   "id": "c3c5c785e0caf0e1"
  },
  {
   "metadata": {},
   "cell_type": "markdown",
   "source": "# Save Taxi Data",
   "id": "8718228162c741d6"
  },
  {
   "metadata": {},
   "cell_type": "code",
   "source": "taxi_data_raw.to_csv(\"data/taxi_data_clean.csv\", index=False)",
   "id": "18561b04ea8d14e8",
   "outputs": [],
   "execution_count": null
  }
 ],
 "metadata": {
  "kernelspec": {
   "display_name": "Python 3",
   "language": "python",
   "name": "python3"
  },
  "language_info": {
   "codemirror_mode": {
    "name": "ipython",
    "version": 2
   },
   "file_extension": ".py",
   "mimetype": "text/x-python",
   "name": "python",
   "nbconvert_exporter": "python",
   "pygments_lexer": "ipython2",
   "version": "2.7.6"
  }
 },
 "nbformat": 4,
 "nbformat_minor": 5
}
