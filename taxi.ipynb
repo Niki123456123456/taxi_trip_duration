{
 "cells": [
  {
   "cell_type": "code",
   "id": "initial_id",
   "metadata": {
    "collapsed": true,
    "ExecuteTime": {
     "end_time": "2025-06-07T10:52:18.796692Z",
     "start_time": "2025-06-07T10:52:18.634589Z"
    }
   },
   "source": [
    "import matplotlib.pyplot as plt\n",
    "import numpy as np\n",
    "import pandas as pd\n",
    "import seaborn as sns\n",
    "\n",
    "from data_loader import load_taxi_data\n",
    "from features_engineering import add_taxi_time_features, \\\n",
    "  add_taxi_distance_features\n",
    "from features_engineering import add_trip_duration_features"
   ],
   "outputs": [
    {
     "name": "stderr",
     "output_type": "stream",
     "text": [
      "/Users/Wendo99/miniconda3/envs/NYC_Taxi/lib/python3.12/site-packages/requests/__init__.py:86: RequestsDependencyWarning: Unable to find acceptable character detection dependency (chardet or charset_normalizer).\n",
      "  warnings.warn(\n"
     ]
    }
   ],
   "execution_count": 1
  },
  {
   "metadata": {},
   "cell_type": "markdown",
   "source": "# Load taxi dataset",
   "id": "efed8dd6702e92be"
  },
  {
   "metadata": {
    "ExecuteTime": {
     "end_time": "2025-06-07T10:52:23.045450Z",
     "start_time": "2025-06-07T10:52:22.762365Z"
    }
   },
   "cell_type": "code",
   "source": "taxi_data_raw = load_taxi_data()",
   "id": "600d536fa666d9a",
   "outputs": [],
   "execution_count": 2
  },
  {
   "metadata": {
    "ExecuteTime": {
     "end_time": "2025-06-07T10:52:49.230495Z",
     "start_time": "2025-06-07T10:52:48.945772Z"
    }
   },
   "cell_type": "code",
   "source": "taxi_data_raw.info()",
   "id": "d88bc0728270abfb",
   "outputs": [
    {
     "name": "stdout",
     "output_type": "stream",
     "text": [
      "<class 'pandas.core.frame.DataFrame'>\n",
      "RangeIndex: 1458644 entries, 0 to 1458643\n",
      "Data columns (total 11 columns):\n",
      " #   Column              Non-Null Count    Dtype  \n",
      "---  ------              --------------    -----  \n",
      " 0   id                  1458644 non-null  object \n",
      " 1   vendor_id           1458644 non-null  int64  \n",
      " 2   pickup_datetime     1458644 non-null  object \n",
      " 3   dropoff_datetime    1458644 non-null  object \n",
      " 4   passenger_count     1458644 non-null  int64  \n",
      " 5   pickup_longitude    1458644 non-null  float64\n",
      " 6   pickup_latitude     1458644 non-null  float64\n",
      " 7   dropoff_longitude   1458644 non-null  float64\n",
      " 8   dropoff_latitude    1458644 non-null  float64\n",
      " 9   store_and_fwd_flag  1458644 non-null  object \n",
      " 10  trip_duration       1458644 non-null  int64  \n",
      "dtypes: float64(4), int64(3), object(4)\n",
      "memory usage: 122.4+ MB\n"
     ]
    }
   ],
   "execution_count": 4
  },
  {
   "metadata": {},
   "cell_type": "markdown",
   "source": "# Univariat EDA Taxidata",
   "id": "7950164dcaa9e8b6"
  },
  {
   "metadata": {},
   "cell_type": "markdown",
   "source": "## General Exploration",
   "id": "289423fced367b0e"
  },
  {
   "metadata": {},
   "cell_type": "code",
   "source": "taxi_data_raw.info()",
   "id": "5265d3fb65c16631",
   "outputs": [],
   "execution_count": null
  },
  {
   "metadata": {},
   "cell_type": "markdown",
   "source": [
    "- 1458644 rows\n",
    "- 11 columns\n",
    "- object: id, pickup_datetime, dropoff_datetime, store_and_fwd_flag\n",
    "- int64: vendor_id, passenger_count, trip_duration\n",
    "- float64: pickup_longitude, pickup_latitude, dropoff_longitude, dropoff_latitude\n",
    "- no missing values/categories"
   ],
   "id": "ec1d13a85bbfda9c"
  },
  {
   "metadata": {},
   "cell_type": "code",
   "source": "taxi_data_raw.isna().sum()",
   "id": "15748e6fc767a29",
   "outputs": [],
   "execution_count": null
  },
  {
   "metadata": {},
   "cell_type": "markdown",
   "source": "- no NaNs",
   "id": "6405d6e039103f13"
  },
  {
   "metadata": {},
   "cell_type": "code",
   "source": "taxi_data_raw.nunique()",
   "id": "86faf9024d16e991",
   "outputs": [],
   "execution_count": null
  },
  {
   "metadata": {},
   "cell_type": "markdown",
   "source": [
    "- id can be used for unique ID\n",
    "- two unique vendors seems to be allright\n",
    "- ten unique passengers\n",
    "- two unique store_and_fwd_flag matches with description"
   ],
   "id": "bcb5afaccb144271"
  },
  {
   "metadata": {},
   "cell_type": "code",
   "source": "taxi_data_raw[taxi_data_raw.duplicated()]",
   "id": "9cf07c24ed7e9663",
   "outputs": [],
   "execution_count": null
  },
  {
   "metadata": {},
   "cell_type": "markdown",
   "source": "- no duplicated rows",
   "id": "4a96e01dcd78ca78"
  },
  {
   "metadata": {},
   "cell_type": "markdown",
   "source": "## Exploration of vendor_id",
   "id": "b5dc499766bbdad5"
  },
  {
   "metadata": {},
   "cell_type": "code",
   "source": [
    "# Vendor ID\n",
    "taxi_data_raw['vendor_id'].value_counts()"
   ],
   "id": "12cfb555bc22935f",
   "outputs": [],
   "execution_count": null
  },
  {
   "metadata": {},
   "cell_type": "code",
   "source": "taxi_data_raw['vendor_id'].plot.hist()",
   "id": "20d1f73a622b620a",
   "outputs": [],
   "execution_count": null
  },
  {
   "metadata": {},
   "cell_type": "markdown",
   "source": [
    "- Only two unique values: 1 and 2.\n",
    "- Frequencies are relatively balanced.\n",
    "- No missing values or anomalies detected."
   ],
   "id": "8cb9ac41c785a390"
  },
  {
   "metadata": {},
   "cell_type": "markdown",
   "source": "## Exploration of pickup_datetime & dropoff_datetime",
   "id": "b66b962d473ede59"
  },
  {
   "metadata": {},
   "cell_type": "code",
   "source": "taxi_data_raw['pickup_datetime'].describe()",
   "id": "7ebcb82ff8c8b69a",
   "outputs": [],
   "execution_count": null
  },
  {
   "metadata": {},
   "cell_type": "code",
   "source": "taxi_data_raw['dropoff_datetime'].describe()",
   "id": "e9241fd6445b8de0",
   "outputs": [],
   "execution_count": null
  },
  {
   "metadata": {},
   "cell_type": "code",
   "source": "(taxi_data_raw['dropoff_datetime'] < taxi_data_raw['pickup_datetime']).sum()",
   "id": "e864fad35d6eba7b",
   "outputs": [],
   "execution_count": null
  },
  {
   "metadata": {},
   "cell_type": "markdown",
   "source": "- no negative durations",
   "id": "af67cbb2c6120be8"
  },
  {
   "metadata": {},
   "cell_type": "code",
   "source": [
    "# Basic datetime features\n",
    "add_taxi_time_features(taxi_data_raw)"
   ],
   "id": "f08a6de82756910b",
   "outputs": [],
   "execution_count": null
  },
  {
   "metadata": {},
   "cell_type": "code",
   "source": [
    "pickup_counts = taxi_data_raw['pickup_datetime'].dt.date.value_counts().sort_index()\n",
    "dropoff_counts = taxi_data_raw['dropoff_datetime'].dt.date.value_counts().sort_index()\n",
    "\n",
    "# Plot\n",
    "fig, ax = plt.subplots(figsize=(12, 5))\n",
    "pickup_counts.plot(ax=ax, label=\"Pick_ups\", color='green', alpha=0.6)\n",
    "dropoff_counts.plot(ax=ax, label=\"Drop_offs\", color='blue', alpha=0.6)\n",
    "\n",
    "ax.set_title(\"Daily Pickup and Dropoff Counts\")\n",
    "ax.set_xlabel(\"Date\")\n",
    "ax.set_ylabel(\"Number of Rides\")\n",
    "ax.legend()\n",
    "plt.grid(True)\n",
    "plt.tight_layout()\n",
    "plt.show()"
   ],
   "id": "382ed36b63d14fe9",
   "outputs": [],
   "execution_count": null
  },
  {
   "metadata": {},
   "cell_type": "code",
   "source": "taxi_data_raw[\"pickup_hour_of_day\"].value_counts().sort_index().plot(kind='bar')",
   "id": "cd761058132640d9",
   "outputs": [],
   "execution_count": null
  },
  {
   "metadata": {},
   "cell_type": "markdown",
   "source": [
    "- peak from 18 to 22\n",
    "- trough from 1 to 6"
   ],
   "id": "182552317b3ffe37"
  },
  {
   "metadata": {},
   "cell_type": "code",
   "source": "taxi_data_raw['pickup_day_of_week'].value_counts().sort_index().plot(kind='bar')",
   "id": "de70db4851f320de",
   "outputs": [],
   "execution_count": null
  },
  {
   "metadata": {},
   "cell_type": "code",
   "source": "taxi_data_raw['pickup_day_of_week'].value_counts().sort_index()",
   "id": "217556123f94721f",
   "outputs": [],
   "execution_count": null
  },
  {
   "metadata": {},
   "cell_type": "markdown",
   "source": [
    "- trough on Sunday\n",
    "- peak on Friday"
   ],
   "id": "c795622c87b43bce"
  },
  {
   "metadata": {},
   "cell_type": "code",
   "source": "taxi_data_raw['pickup_month'].value_counts().sort_index().plot(kind='bar')",
   "id": "3a573d70097a6675",
   "outputs": [],
   "execution_count": null
  },
  {
   "metadata": {},
   "cell_type": "code",
   "source": "taxi_data_raw['pickup_month'].value_counts().sort_index()",
   "id": "9769da5e3550f8b6",
   "outputs": [],
   "execution_count": null
  },
  {
   "metadata": {},
   "cell_type": "markdown",
   "source": [
    "- trough in January\n",
    "- peak in March"
   ],
   "id": "a2cfa16bd598f658"
  },
  {
   "metadata": {},
   "cell_type": "code",
   "source": "taxi_data_raw.groupby(['pickup_datetime']).size().sort_values(ascending=False).head()",
   "id": "1d218449ee377b01",
   "outputs": [],
   "execution_count": null
  },
  {
   "metadata": {},
   "cell_type": "markdown",
   "source": "- could be repeated records",
   "id": "92980c7ccc0fd715"
  },
  {
   "metadata": {},
   "cell_type": "code",
   "source": [
    "# shows the average trip duration per pickup hour across a 24-hour day\n",
    "taxi_data_raw.groupby(taxi_data_raw['pickup_hour_of_day'])['trip_duration'].mean().plot()"
   ],
   "id": "e3e75ba2d1f6c241",
   "outputs": [],
   "execution_count": null
  },
  {
   "metadata": {},
   "cell_type": "markdown",
   "source": "- aligns with expected rush hour effects",
   "id": "89190e1e6701b41"
  },
  {
   "metadata": {},
   "cell_type": "markdown",
   "source": [
    "## Exploration of passenger_count\n",
    "\n",
    "Findings\n",
    "- The majority of trips have 1 passenger; distribution is heavily right-skewed\n",
    "- Edge values observed: 60 trips with 0 passengers, and very few with 7–9 passengers\n",
    "- These edge values are likely invalid or extremely rare\n",
    "- Trips with 0 passengers show the highest average trip duration, which is implausible and suggests data entry or system error\n",
    "- Passenger counts 7–9 are extremely rare and may suffer from sampling bias or logging issues\n",
    "- These edge cases collectively make up a very small share of the data (<0.01%)"
   ],
   "id": "17530423e66f5829"
  },
  {
   "metadata": {},
   "cell_type": "code",
   "source": "taxi_data_raw[\"passenger_count\"].describe()",
   "id": "c14b7aef050d6e79",
   "outputs": [],
   "execution_count": null
  },
  {
   "metadata": {},
   "cell_type": "code",
   "source": [
    "# Passenger count\n",
    "taxi_data_raw['passenger_count'].value_counts().sort_index()"
   ],
   "id": "71df320baea2d985",
   "outputs": [],
   "execution_count": null
  },
  {
   "metadata": {},
   "cell_type": "markdown",
   "source": [
    "- 60 with passenger count 0\n",
    "- 5 with passenger count > 6"
   ],
   "id": "530aad0620a1517d"
  },
  {
   "metadata": {},
   "cell_type": "code",
   "source": "taxi_data_raw['passenger_count'].value_counts().sort_index().plot(kind='bar')",
   "id": "516f404017ab0073",
   "outputs": [],
   "execution_count": null
  },
  {
   "metadata": {},
   "cell_type": "code",
   "source": "taxi_data_raw.groupby('passenger_count')['trip_duration'].mean().plot(kind='bar')",
   "id": "701fe3dcaeb46229",
   "outputs": [],
   "execution_count": null
  },
  {
   "metadata": {},
   "cell_type": "markdown",
   "source": "- Passenger count = 0 has the highest average trip duration, which is not plausible, indicating likely data entry or logging errors",
   "id": "e7b98bd8c13e1832"
  },
  {
   "metadata": {},
   "cell_type": "code",
   "source": [
    "(pd.crosstab(taxi_data_raw['pickup_hour_of_day'], taxi_data_raw['passenger_count']).plot(\n",
    "    kind='bar', stacked=True, figsize=(12, 5)))"
   ],
   "id": "a137e9073a328510",
   "outputs": [],
   "execution_count": null
  },
  {
   "metadata": {},
   "cell_type": "markdown",
   "source": [
    "- Passenger count = 1 dominates at all hours\n",
    "- Group trips (2–4 passengers) are more frequent in the evening and late night"
   ],
   "id": "7556a9392c535e9f"
  },
  {
   "metadata": {},
   "cell_type": "code",
   "source": [
    "edge_cases = taxi_data_raw['passenger_count'].isin([0, 7, 8, 9])\n",
    "edge_cases.mean()"
   ],
   "id": "9e197efba9f9cde6",
   "outputs": [],
   "execution_count": null
  },
  {
   "metadata": {},
   "cell_type": "markdown",
   "source": "- 0.0045% of trips are likely outliers or errors",
   "id": "4f1b667c11661606"
  },
  {
   "metadata": {},
   "cell_type": "code",
   "source": [
    "# View rows with passenger_count == 0\n",
    "zero_passenger_trips = taxi_data_raw[taxi_data_raw['passenger_count'] == 0]\n",
    "\n",
    "zero_passenger_trips[['pickup_datetime', 'dropoff_datetime', 'trip_duration']].describe()"
   ],
   "id": "d001cbb1bb91c62e",
   "outputs": [],
   "execution_count": null
  },
  {
   "metadata": {},
   "cell_type": "markdown",
   "source": "## Explore pickup_longitude, pickup_latitude & dropoff_longitude, dropoff_latitude",
   "id": "204e1e0da0b5b061"
  },
  {
   "metadata": {},
   "cell_type": "code",
   "source": [
    "NYC_LAT_MIN = 40.47\n",
    "NYC_LAT_MAX = 41.0\n",
    "NYC_LON_MIN = -74.3\n",
    "NYC_LON_MAX = -73.6"
   ],
   "id": "47b2d80e14f23516",
   "outputs": [],
   "execution_count": null
  },
  {
   "metadata": {},
   "cell_type": "code",
   "source": [
    "# Summary statistics for coordinates\n",
    "taxi_data_raw[\n",
    "  ['pickup_latitude', 'pickup_longitude', 'dropoff_latitude', 'dropoff_longitude']].describe()"
   ],
   "id": "41558085fa790322",
   "outputs": [],
   "execution_count": null
  },
  {
   "metadata": {},
   "cell_type": "code",
   "source": [
    "taxi_data_raw[\n",
    "  (taxi_data_raw['pickup_latitude'] < NYC_LAT_MIN) | (\n",
    "      taxi_data_raw['pickup_latitude'] > NYC_LAT_MAX) |\n",
    "  (taxi_data_raw['dropoff_latitude'] < NYC_LAT_MIN) | (\n",
    "      taxi_data_raw['dropoff_latitude'] > NYC_LAT_MAX) |\n",
    "  (taxi_data_raw['pickup_longitude'] < NYC_LON_MIN) | (\n",
    "      taxi_data_raw['pickup_longitude'] > NYC_LON_MAX) |\n",
    "  (taxi_data_raw['dropoff_longitude'] < NYC_LON_MIN) | (\n",
    "      taxi_data_raw['dropoff_longitude'] > NYC_LON_MAX)]"
   ],
   "id": "811d25955253e3ab",
   "outputs": [],
   "execution_count": null
  },
  {
   "metadata": {},
   "cell_type": "markdown",
   "source": [
    "- Some trip coordinates lie outside NYC bounds\n",
    "- Some points lie far outside the visible city bounds — likely due to GPS glitches or data corruption."
   ],
   "id": "70020402d9e023f2"
  },
  {
   "metadata": {},
   "cell_type": "code",
   "source": "(taxi_data_raw['pickup_longitude'] % 0.001 < 1e-10).mean()",
   "id": "c3f4f458820dc67",
   "outputs": [],
   "execution_count": null
  },
  {
   "metadata": {},
   "cell_type": "code",
   "source": "(taxi_data_raw['pickup_latitude'] % 0.001 < 1e-10).mean()",
   "id": "264b7500ecd35f9",
   "outputs": [],
   "execution_count": null
  },
  {
   "metadata": {},
   "cell_type": "code",
   "source": "(taxi_data_raw['dropoff_latitude'] % 0.001 < 1e-10).mean()",
   "id": "c7256925451f56e",
   "outputs": [],
   "execution_count": null
  },
  {
   "metadata": {},
   "cell_type": "code",
   "source": "(taxi_data_raw['dropoff_longitude'] % 0.001 < 1e-10).mean()",
   "id": "799f7cb16aa01d85",
   "outputs": [],
   "execution_count": null
  },
  {
   "metadata": {},
   "cell_type": "markdown",
   "source": "- no rounding issues",
   "id": "91bd93ba76531129"
  },
  {
   "metadata": {},
   "cell_type": "markdown",
   "source": "### Geographic distribution",
   "id": "655c86dfd3df1e2e"
  },
  {
   "metadata": {},
   "cell_type": "code",
   "source": [
    "# Scatterplot of pickup and dropoff locations\n",
    "plt.figure(figsize=(6, 6))\n",
    "plt.scatter(taxi_data_raw['pickup_longitude'], taxi_data_raw['pickup_latitude'], s=0.5, alpha=0.1,\n",
    "            label='pickup')\n",
    "plt.scatter(taxi_data_raw['dropoff_longitude'], taxi_data_raw['dropoff_latitude'], s=0.5, alpha=0.1,\n",
    "            label='dropoff')\n",
    "plt.xlim(-74.3, -73.6)\n",
    "plt.ylim(40.47, 41.0)\n",
    "plt.xlabel(\"Longitude\")\n",
    "plt.ylabel(\"Latitude\")\n",
    "plt.legend(loc='upper right')\n",
    "plt.title(\"Geographic Distribution of Taxi Pickups and Dropoffs\")\n",
    "plt.grid(True)\n",
    "plt.tight_layout()\n",
    "plt.show()"
   ],
   "id": "b4c68c5028b5f640",
   "outputs": [],
   "execution_count": null
  },
  {
   "metadata": {},
   "cell_type": "markdown",
   "source": [
    "- Most pickups and dropoffs are located within the NYC area (Manhattan, Brooklyn, Queens).\n",
    "- Clear density clusters appear around Midtown and Downtown Manhattan."
   ],
   "id": "6902ca269862c466"
  },
  {
   "metadata": {},
   "cell_type": "code",
   "source": [
    "taxi_data_raw[\n",
    "  (taxi_data_raw['pickup_latitude'].round(5) == taxi_data_raw['dropoff_latitude'].round(5)) &\n",
    "  (taxi_data_raw['pickup_longitude'].round(5) == taxi_data_raw['dropoff_longitude'].round(5)) &\n",
    "  (taxi_data_raw['trip_duration'] > 300)  # more than 5 minutes\n",
    "  ].shape[0]"
   ],
   "id": "810343619a3dcc8e",
   "outputs": [],
   "execution_count": null
  },
  {
   "metadata": {},
   "cell_type": "markdown",
   "source": "- implausible values",
   "id": "dc645a16b05330d1"
  },
  {
   "metadata": {},
   "cell_type": "markdown",
   "source": "## Explore store_and_fwd_flag",
   "id": "c04560a038ad5346"
  },
  {
   "metadata": {},
   "cell_type": "code",
   "source": "taxi_data_raw['store_and_fwd_flag'].value_counts(normalize=True)",
   "id": "56c66d0b0b2ec494",
   "outputs": [],
   "execution_count": null
  },
  {
   "metadata": {},
   "cell_type": "code",
   "source": "taxi_data_raw['store_and_fwd_flag'].value_counts().sort_index().plot(kind='bar')",
   "id": "e4bc8e60e16d9417",
   "outputs": [],
   "execution_count": null
  },
  {
   "metadata": {},
   "cell_type": "markdown",
   "source": "- store_and_fwd_flag = 'Y' is rare and likely not predictive on its own",
   "id": "367aadf0f1cf61ed"
  },
  {
   "metadata": {},
   "cell_type": "markdown",
   "source": "## Exploration of trip_duration",
   "id": "6a3606bed0961e51"
  },
  {
   "metadata": {},
   "cell_type": "code",
   "outputs": [],
   "execution_count": null,
   "source": "taxi_data_raw = add_trip_duration_features(taxi_data_raw)",
   "id": "468ffa49c4a54a6e"
  },
  {
   "metadata": {},
   "cell_type": "code",
   "source": [
    "# Summary statistics for trip duration\n",
    "taxi_data_raw['trip_duration'].describe()"
   ],
   "id": "e70598f384108b14",
   "outputs": [],
   "execution_count": null
  },
  {
   "metadata": {},
   "cell_type": "code",
   "source": [
    "# Check for extreme trip durations\n",
    "taxi_data_raw[taxi_data_raw['trip_duration'] > 3 * 3600]"
   ],
   "id": "7294b1950b4fd69d",
   "outputs": [],
   "execution_count": null
  },
  {
   "metadata": {},
   "cell_type": "code",
   "source": "taxi_data_raw[taxi_data_raw['trip_duration'] < 60]  # < 1 minute",
   "id": "e17729b9653d117b",
   "outputs": [],
   "execution_count": null
  },
  {
   "metadata": {},
   "cell_type": "markdown",
   "source": "- Several trips have a duration longer than 2 hours, which is highly unlikely for intra-city NYC taxi rides. A few trips are also shorter than 1 minute, which may indicate errors or missing data.",
   "id": "227fff05a3a503e0"
  },
  {
   "metadata": {},
   "cell_type": "code",
   "source": "sns.boxplot(x=taxi_data_raw['trip_duration'][taxi_data_raw['trip_duration'] < 5000])",
   "id": "c8ab2238f87c7003",
   "outputs": [],
   "execution_count": null
  },
  {
   "metadata": {},
   "cell_type": "markdown",
   "source": "## Distance Features",
   "id": "4f8e5228e30403b9"
  },
  {
   "metadata": {},
   "cell_type": "markdown",
   "source": "### Haversine",
   "id": "befca6bf9b54d28f"
  },
  {
   "metadata": {},
   "cell_type": "code",
   "source": "add_taxi_distance_features(taxi_data_raw)",
   "id": "2a4c1ff0005f57fa",
   "outputs": [],
   "execution_count": null
  },
  {
   "metadata": {},
   "cell_type": "code",
   "source": "taxi_data_raw.plot.scatter(x='hav_dist_km', y='trip_duration_min', alpha=0.3)",
   "id": "c0efd505cdbc7d8d",
   "outputs": [],
   "execution_count": null
  },
  {
   "metadata": {},
   "cell_type": "code",
   "source": [
    "# Filter for clearer visualization\n",
    "filtered_data = taxi_data_raw[\n",
    "  (taxi_data_raw['hav_dist_km'] <= 20) &\n",
    "  (taxi_data_raw['trip_duration_min'] <= 60)\n",
    "  ]\n",
    "\n",
    "# Plot\n",
    "plt.figure(figsize=(10, 5))\n",
    "plt.scatter(filtered_data['hav_dist_km'], filtered_data['trip_duration_min'], alpha=0.1, s=1)\n",
    "plt.xlabel(\"hav_dist_km\")\n",
    "plt.ylabel(\"Trip Duration (min)\")\n",
    "plt.title(\"Trip Duration vs. hav_dist_km (Filtered: ≤20 km & ≤60 min)\")\n",
    "plt.grid(True)\n",
    "plt.tight_layout()\n",
    "plt.show()"
   ],
   "id": "cbe1e1150bc53381",
   "outputs": [],
   "execution_count": null
  },
  {
   "metadata": {},
   "cell_type": "markdown",
   "source": "### Vincenty",
   "id": "c99d6fee6219af8"
  },
  {
   "metadata": {},
   "cell_type": "code",
   "source": [
    "# # Apply haversine to the dataset\n",
    "# taxi_data_raw['vin_dist_km'] = vincenty(\n",
    "#     taxi_data_raw['pickup_latitude'], taxi_data_raw['pickup_longitude'],\n",
    "#     taxi_data_raw['dropoff_latitude'], taxi_data_raw['dropoff_longitude']\n",
    "# )"
   ],
   "id": "f4ce1b1de7184286",
   "outputs": [],
   "execution_count": null
  },
  {
   "metadata": {},
   "cell_type": "code",
   "source": "# taxi_data_raw.plot.scatter(x='vin_dist_km', y='trip_duration_min', alpha=0.3)",
   "id": "da20989d109633e7",
   "outputs": [],
   "execution_count": null
  },
  {
   "metadata": {},
   "cell_type": "markdown",
   "source": [
    "- Long durations at very short distances\n",
    "- Long distances with short durations"
   ],
   "id": "3b4d87074559d66"
  },
  {
   "metadata": {},
   "cell_type": "code",
   "source": [
    "# # Filter for clearer visualization\n",
    "# filtered_data = taxi_data_raw[\n",
    "#   (taxi_data_raw['vin_dist_km'] <= 20) &\n",
    "#   (taxi_data_raw['trip_duration_min'] <= 60)\n",
    "#   ]\n",
    "#\n",
    "# # Plot\n",
    "# plt.figure(figsize=(10, 5))\n",
    "# plt.scatter(filtered_data['vin_dist_km'], filtered_data['trip_duration_min'], alpha=0.1, s=1)\n",
    "# plt.xlabel(\"VINCENTY_DIST_KM\")\n",
    "# plt.ylabel(\"Trip Duration (min)\")\n",
    "# plt.title(\"Trip Duration vs. VINCENTY_DIST_KM (Filtered: ≤20 km & ≤60 min)\")\n",
    "# plt.grid(True)\n",
    "# plt.tight_layout()\n",
    "# plt.show()"
   ],
   "id": "f5311cee43c03744",
   "outputs": [],
   "execution_count": null
  },
  {
   "metadata": {},
   "cell_type": "markdown",
   "source": [
    "- For trips under ~2 km, durations vary widely\n",
    "- Some points still lie far above the trend line"
   ],
   "id": "79435314316fbdf0"
  },
  {
   "metadata": {},
   "cell_type": "code",
   "source": [
    "# from geopy.distance import geodesic\n",
    "#\n",
    "# # Apply geodesic row-wise\n",
    "# taxi_data_raw['geodesic_km'] = taxi_data_raw.apply(\n",
    "#     lambda row: geodesic(\n",
    "#         (row['pickup_latitude'], row['pickup_longitude']),\n",
    "#         (row['dropoff_latitude'], row['dropoff_longitude'])\n",
    "#     ).kilometers,\n",
    "#     axis=1\n",
    "# )"
   ],
   "id": "7c52359289f6d8ca",
   "outputs": [],
   "execution_count": null
  },
  {
   "metadata": {},
   "cell_type": "code",
   "source": [
    "# Histogram (capped at 100 minutes for clarity)\n",
    "plt.figure(figsize=(8, 4))\n",
    "plt.hist(taxi_data_raw['trip_duration_min'], bins=100, range=(0, 100), edgecolor='black')\n",
    "plt.title(\"Distribution of Trip Duration (minutes)\")\n",
    "plt.xlabel(\"Trip Duration [min]\")\n",
    "plt.ylabel(\"Frequency\")\n",
    "plt.grid(True)\n",
    "plt.tight_layout()\n",
    "plt.show()"
   ],
   "id": "afb50afb2d9217d7",
   "outputs": [],
   "execution_count": null
  },
  {
   "metadata": {},
   "cell_type": "code",
   "source": [
    "# Log-transformed trip duration\n",
    "taxi_data_raw['trip_duration_log'] = np.log1p(taxi_data_raw['trip_duration'])\n",
    "\n",
    "plt.figure(figsize=(8, 4))\n",
    "plt.hist(taxi_data_raw['trip_duration_log'], bins=100, edgecolor='black')\n",
    "plt.title(\"Log-Transformed Trip Duration\")\n",
    "plt.xlabel(\"log(1 + trip_duration [s])\")\n",
    "plt.ylabel(\"Frequency\")\n",
    "plt.grid(True)\n",
    "plt.tight_layout()\n",
    "plt.show()"
   ],
   "id": "f0574318be7afd24",
   "outputs": [],
   "execution_count": null
  },
  {
   "metadata": {},
   "cell_type": "markdown",
   "source": "- log1p(trip_duration) helps stabilize variance, handle skewness, and improve model performance",
   "id": "c3c5c785e0caf0e1"
  },
  {
   "metadata": {},
   "cell_type": "markdown",
   "source": "# Save Taxi Data",
   "id": "8718228162c741d6"
  },
  {
   "metadata": {},
   "cell_type": "code",
   "source": "taxi_data_raw.info()",
   "id": "f73de7268abe5c67",
   "outputs": [],
   "execution_count": null
  },
  {
   "metadata": {},
   "cell_type": "code",
   "source": "taxi_data_raw.to_csv(\"data/taxi_data_clean.csv\", index=False)",
   "id": "18561b04ea8d14e8",
   "outputs": [],
   "execution_count": null
  }
 ],
 "metadata": {
  "kernelspec": {
   "display_name": "Python 3",
   "language": "python",
   "name": "python3"
  },
  "language_info": {
   "codemirror_mode": {
    "name": "ipython",
    "version": 2
   },
   "file_extension": ".py",
   "mimetype": "text/x-python",
   "name": "python",
   "nbconvert_exporter": "python",
   "pygments_lexer": "ipython2",
   "version": "2.7.6"
  }
 },
 "nbformat": 4,
 "nbformat_minor": 5
}
