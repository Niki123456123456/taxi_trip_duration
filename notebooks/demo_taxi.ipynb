{
 "cells": [
  {
   "cell_type": "code",
   "id": "initial_id",
   "metadata": {
    "collapsed": true,
    "ExecuteTime": {
     "end_time": "2025-06-28T02:13:35.699657Z",
     "start_time": "2025-06-28T02:13:35.698011Z"
    }
   },
   "source": [
    "import pandas as pd\n",
    "from pandas import read_csv"
   ],
   "outputs": [],
   "execution_count": 1
  },
  {
   "metadata": {
    "ExecuteTime": {
     "end_time": "2025-06-28T02:16:24.640100Z",
     "start_time": "2025-06-28T02:16:21.250570Z"
    }
   },
   "cell_type": "code",
   "source": "taxi_raw= read_csv('../data/processed/taxi_clean.csv')",
   "id": "6edaddefe4502942",
   "outputs": [],
   "execution_count": 7
  },
  {
   "metadata": {
    "ExecuteTime": {
     "end_time": "2025-06-28T02:19:09.148699Z",
     "start_time": "2025-06-28T02:19:08.981930Z"
    }
   },
   "cell_type": "code",
   "source": [
    "import matplotlib.pyplot as plt\n",
    "\n",
    "# Assuming `df` is already loaded and has \"pickup_hour\"\n",
    "counts = taxi_raw[\"pickup_hour\"].value_counts().sort_index()\n",
    "\n",
    "plt.figure(figsize=(10, 6))\n",
    "plt.bar(counts.index, counts.values)\n",
    "plt.xlabel(\"Hour of Day\")\n",
    "plt.ylabel(\"Number of Trips\")\n",
    "plt.title(\"Number of Taxi Trips by Pickup Hour of Day\")\n",
    "plt.xticks(range(0, 24))\n",
    "plt.tight_layout()\n",
    "plt.show()"
   ],
   "id": "43f31af0a4d30277",
   "outputs": [
    {
     "data": {
      "text/plain": [
       "<Figure size 1000x600 with 1 Axes>"
      ],
      "image/png": "[encoded data removed]"
     },
     "metadata": {},
     "output_type": "display_data"
    }
   ],
   "execution_count": 9
  },
  {
   "metadata": {
    "ExecuteTime": {
     "end_time": "2025-06-28T02:13:39.829138Z",
     "start_time": "2025-06-28T02:13:37.566506Z"
    }
   },
   "cell_type": "code",
   "source": "taxi_raw.describe(include='object')",
   "id": "cdc86ca3df26a3db",
   "outputs": [
    {
     "data": {
      "text/plain": [
       "               id      pickup_datetime     dropoff_datetime store_and_fwd_flag\n",
       "count     1458644              1458644              1458644            1458644\n",
       "unique    1458644              1380222              1380377                  2\n",
       "top     id2875421  2016-03-04 08:07:34  2016-02-19 19:25:04                  N\n",
       "freq            1                    5                    5            1450599"
      ],
      "text/html": [
       "<div>\n",
       "<style scoped>\n",
       "    .dataframe tbody tr th:only-of-type {\n",
       "        vertical-align: middle;\n",
       "    }\n",
       "\n",
       "    .dataframe tbody tr th {\n",
       "        vertical-align: top;\n",
       "    }\n",
       "\n",
       "    .dataframe thead th {\n",
       "        text-align: right;\n",
       "    }\n",
       "</style>\n",
       "<table border=\"1\" class=\"dataframe\">\n",
       "  <thead>\n",
       "    <tr style=\"text-align: right;\">\n",
       "      <th></th>\n",
       "      <th>id</th>\n",
       "      <th>pickup_datetime</th>\n",
       "      <th>dropoff_datetime</th>\n",
       "      <th>store_and_fwd_flag</th>\n",
       "    </tr>\n",
       "  </thead>\n",
       "  <tbody>\n",
       "    <tr>\n",
       "      <th>count</th>\n",
       "      <td>1458644</td>\n",
       "      <td>1458644</td>\n",
       "      <td>1458644</td>\n",
       "      <td>1458644</td>\n",
       "    </tr>\n",
       "    <tr>\n",
       "      <th>unique</th>\n",
       "      <td>1458644</td>\n",
       "      <td>1380222</td>\n",
       "      <td>1380377</td>\n",
       "      <td>2</td>\n",
       "    </tr>\n",
       "    <tr>\n",
       "      <th>top</th>\n",
       "      <td>id2875421</td>\n",
       "      <td>2016-03-04 08:07:34</td>\n",
       "      <td>2016-02-19 19:25:04</td>\n",
       "      <td>N</td>\n",
       "    </tr>\n",
       "    <tr>\n",
       "      <th>freq</th>\n",
       "      <td>1</td>\n",
       "      <td>5</td>\n",
       "      <td>5</td>\n",
       "      <td>1450599</td>\n",
       "    </tr>\n",
       "  </tbody>\n",
       "</table>\n",
       "</div>"
      ]
     },
     "execution_count": 3,
     "metadata": {},
     "output_type": "execute_result"
    }
   ],
   "execution_count": 3
  },
  {
   "metadata": {
    "ExecuteTime": {
     "end_time": "2025-06-28T02:13:40.395755Z",
     "start_time": "2025-06-28T02:13:39.982311Z"
    }
   },
   "cell_type": "code",
   "source": [
    "taxi_raw['pickup_datetime'] = pd.to_datetime(taxi_raw['pickup_datetime'], errors=\"coerce\"\n",
    "                                       )\n",
    "taxi_raw['dropoff_datetime'] = pd.to_datetime(taxi_raw['dropoff_datetime'],\n",
    "                                        errors=\"coerce\"\n",
    "                                        )"
   ],
   "id": "8e924aef0e6b8b87",
   "outputs": [],
   "execution_count": 4
  },
  {
   "metadata": {
    "ExecuteTime": {
     "end_time": "2025-06-28T02:13:40.427752Z",
     "start_time": "2025-06-28T02:13:40.425713Z"
    }
   },
   "cell_type": "code",
   "source": "feature = 'dropoff_datetime'",
   "id": "3686f5afa1810707",
   "outputs": [],
   "execution_count": 5
  },
  {
   "metadata": {
    "ExecuteTime": {
     "end_time": "2025-06-25T22:18:17.314849Z",
     "start_time": "2025-06-25T22:18:17.271130Z"
    }
   },
   "cell_type": "code",
   "source": "taxi_raw[feature].describe()",
   "id": "ef952c33293cbbb9",
   "outputs": [
    {
     "data": {
      "text/plain": [
       "count                          1458644\n",
       "mean     2016-04-01 10:26:24.432310528\n",
       "min                2016-01-01 00:03:31\n",
       "25%         2016-02-17 17:05:32.500000\n",
       "50%                2016-04-01 17:35:12\n",
       "75%      2016-05-15 04:10:51.750000128\n",
       "max                2016-07-01 23:02:03\n",
       "Name: dropoff_datetime, dtype: object"
      ]
     },
     "execution_count": 72,
     "metadata": {},
     "output_type": "execute_result"
    }
   ],
   "execution_count": 72
  },
  {
   "metadata": {
    "ExecuteTime": {
     "end_time": "2025-06-25T22:18:18.572413Z",
     "start_time": "2025-06-25T22:18:18.567089Z"
    }
   },
   "cell_type": "code",
   "source": "print(\"Missing:\", taxi_raw[feature].isna().sum())",
   "id": "5841446d0ff7f0eb",
   "outputs": [
    {
     "name": "stdout",
     "output_type": "stream",
     "text": [
      "Missing: 0\n"
     ]
    }
   ],
   "execution_count": 73
  },
  {
   "metadata": {
    "ExecuteTime": {
     "end_time": "2025-06-25T22:18:19.080581Z",
     "start_time": "2025-06-25T22:18:18.975138Z"
    }
   },
   "cell_type": "code",
   "source": "taxi_raw[feature].value_counts().sum()",
   "id": "fcdec986b799928d",
   "outputs": [
    {
     "data": {
      "text/plain": [
       "1458644"
      ]
     },
     "execution_count": 74,
     "metadata": {},
     "output_type": "execute_result"
    }
   ],
   "execution_count": 74
  },
  {
   "metadata": {
    "ExecuteTime": {
     "end_time": "2025-06-25T22:18:19.936011Z",
     "start_time": "2025-06-25T22:18:19.707031Z"
    }
   },
   "cell_type": "code",
   "source": "print(taxi_raw[feature].value_counts().sort_index())",
   "id": "a7141990f6b2f66f",
   "outputs": [
    {
     "name": "stdout",
     "output_type": "stream",
     "text": [
      "dropoff_datetime\n",
      "2016-01-01 00:03:31    1\n",
      "2016-01-01 00:05:54    1\n",
      "2016-01-01 00:07:13    1\n",
      "2016-01-01 00:07:25    1\n",
      "2016-01-01 00:07:49    1\n",
      "                      ..\n",
      "2016-07-01 16:37:39    1\n",
      "2016-07-01 19:54:54    1\n",
      "2016-07-01 20:17:00    1\n",
      "2016-07-01 22:10:26    1\n",
      "2016-07-01 23:02:03    1\n",
      "Name: count, Length: 1380377, dtype: int64\n"
     ]
    }
   ],
   "execution_count": 75
  }
 ],
 "metadata": {
  "kernelspec": {
   "display_name": "Python 3",
   "language": "python",
   "name": "python3"
  },
  "language_info": {
   "codemirror_mode": {
    "name": "ipython",
    "version": 2
   },
   "file_extension": ".py",
   "mimetype": "text/x-python",
   "name": "python",
   "nbconvert_exporter": "python",
   "pygments_lexer": "ipython2",
   "version": "2.7.6"
  }
 },
 "nbformat": 4,
 "nbformat_minor": 5
}
