{
 "cells": [
  {
   "metadata": {},
   "cell_type": "markdown",
   "source": "# Imports + pipeline call",
   "id": "f670ebc8f127a047"
  },
  {
   "metadata": {
    "ExecuteTime": {
     "end_time": "2025-06-29T12:05:05.298676Z",
     "start_time": "2025-06-29T12:05:04.736540Z"
    }
   },
   "cell_type": "code",
   "source": [
    "import matplotlib.pyplot as plt\n",
    "\n",
    "from constants.taxi_c import GeoBounds as gb\n",
    "from pipelines.taxi_pipeline import build_taxi_dataset"
   ],
   "id": "6bf767d2ca55e774",
   "outputs": [
    {
     "name": "stderr",
     "output_type": "stream",
     "text": [
      "/Users/Wendo99/Documents/50-Apps/PyCharm/NYC_Taxi/src/features/taxi.py:8: UserWarning: The numpy.array_api submodule is still experimental. See NEP 47.\n",
      "  from numpy.array_api import int32\n",
      "/Users/Wendo99/miniconda3/envs/NYC_Taxi/lib/python3.12/site-packages/tqdm/auto.py:21: TqdmWarning: IProgress not found. Please update jupyter and ipywidgets. See https://ipywidgets.readthedocs.io/en/stable/user_install.html\n",
      "  from .autonotebook import tqdm as notebook_tqdm\n"
     ]
    }
   ],
   "execution_count": 1
  },
  {
   "metadata": {
    "ExecuteTime": {
     "end_time": "2025-06-29T12:05:20.966815Z",
     "start_time": "2025-06-29T12:05:05.363478Z"
    }
   },
   "cell_type": "code",
   "source": "taxi_df = build_taxi_dataset(save_csv=True)",
   "id": "52ef194befb89ba",
   "outputs": [],
   "execution_count": 2
  },
  {
   "metadata": {},
   "cell_type": "markdown",
   "source": "# EDA Hist / describe",
   "id": "7950164dcaa9e8b6"
  },
  {
   "metadata": {},
   "cell_type": "markdown",
   "source": [
    "- 1458644 rows\n",
    "- 11 columns\n",
    "- object: id, pickup_datetime, dropoff_datetime, store_and_fwd_flag\n",
    "- int64: vendor_id, passenger_count, trip_duration\n",
    "- float64: pickup_longitude, pickup_latitude, dropoff_longitude, dropoff_latitude\n",
    "- no missing values/categories\n",
    "- no NaNs\n",
    "- id can be used for unique ID\n",
    "- two unique vendors seems to be all right\n",
    "- ten unique passengers\n",
    "- two unique store_and_fwd_flag matches with description\n",
    "- no duplicated rows"
   ],
   "id": "ec1d13a85bbfda9c"
  },
  {
   "metadata": {},
   "cell_type": "code",
   "source": "taxi_df.describe(include='object')",
   "id": "ce24ca122da37d34",
   "outputs": [],
   "execution_count": null
  },
  {
   "metadata": {},
   "cell_type": "markdown",
   "source": "## vendor_id",
   "id": "b5dc499766bbdad5"
  },
  {
   "metadata": {},
   "cell_type": "code",
   "source": "taxi_df['vendor_id'].value_counts()",
   "id": "12cfb555bc22935f",
   "outputs": [],
   "execution_count": null
  },
  {
   "metadata": {},
   "cell_type": "code",
   "source": "taxi_df['vendor_id'].isna().sum()",
   "id": "59ebd18ff5f2fb64",
   "outputs": [],
   "execution_count": null
  },
  {
   "metadata": {},
   "cell_type": "markdown",
   "source": [
    "- Only two unique values: 1 and 2.\n",
    "- Frequencies are relatively balanced.\n",
    "- No missing values or anomalies detected."
   ],
   "id": "8cb9ac41c785a390"
  },
  {
   "metadata": {},
   "cell_type": "markdown",
   "source": "##  pickup_datetime & dropoff_datetime",
   "id": "b66b962d473ede59"
  },
  {
   "metadata": {},
   "cell_type": "code",
   "source": [
    "# Number of missing values\n",
    "print(\"Missing pickup_datetime:\", taxi_df['pickup_datetime'].isna().sum())\n",
    "print(\"Missing dropoff_datetime:\", taxi_df['dropoff_datetime'].isna().sum())"
   ],
   "id": "7ebcb82ff8c8b69a",
   "outputs": [],
   "execution_count": null
  },
  {
   "metadata": {},
   "cell_type": "code",
   "source": [
    "# Negative or unrealistic trip durations\n",
    "invalid_times = (taxi_df['dropoff_datetime'] < taxi_df['pickup_datetime'])\n",
    "print(\"Trips with negative duration:\", invalid_times.sum())"
   ],
   "id": "672225916fa18736",
   "outputs": [],
   "execution_count": null
  },
  {
   "metadata": {},
   "cell_type": "markdown",
   "source": "- no negative durations",
   "id": "af67cbb2c6120be8"
  },
  {
   "metadata": {},
   "cell_type": "code",
   "source": [
    "pickup_counts = taxi_df['pickup_datetime'].dt.date.value_counts().sort_index()\n",
    "dropoff_counts = taxi_df['dropoff_datetime'].dt.date.value_counts().sort_index()\n",
    "\n",
    "# Plot\n",
    "fig, ax = plt.subplots(figsize=(12, 5))\n",
    "pickup_counts.plot(ax=ax, label=\"Pick_ups\", color='green', alpha=0.6)\n",
    "dropoff_counts.plot(ax=ax, label=\"Drop_offs\", color='blue', alpha=0.6)\n",
    "\n",
    "ax.set_title(\"Daily Pickup and Dropoff Counts\")\n",
    "ax.set_xlabel(\"Date\")\n",
    "ax.set_ylabel(\"Number of Rides\")\n",
    "ax.legend()\n",
    "plt.grid(True)\n",
    "plt.tight_layout()\n",
    "plt.show()"
   ],
   "id": "382ed36b63d14fe9",
   "outputs": [],
   "execution_count": null
  },
  {
   "metadata": {},
   "cell_type": "markdown",
   "source": "- aligns with expected rush hour effects",
   "id": "89190e1e6701b41"
  },
  {
   "metadata": {},
   "cell_type": "markdown",
   "source": "##  passenger_count",
   "id": "17530423e66f5829"
  },
  {
   "metadata": {},
   "cell_type": "code",
   "source": "print(taxi_df['passenger_count'].value_counts().sort_index())",
   "id": "c14b7aef050d6e79",
   "outputs": [],
   "execution_count": null
  },
  {
   "metadata": {},
   "cell_type": "markdown",
   "source": [
    "- 60 with passenger count 0\n",
    "- 5 with passenger count > 6"
   ],
   "id": "530aad0620a1517d"
  },
  {
   "metadata": {},
   "cell_type": "code",
   "source": "taxi_df['passenger_count'].value_counts().sort_index().plot(kind='bar')",
   "id": "b816c0898ed3bf0a",
   "outputs": [],
   "execution_count": null
  },
  {
   "metadata": {},
   "cell_type": "code",
   "source": "taxi_df.groupby('passenger_count')['trip_duration'].mean().plot(kind='bar')",
   "id": "701fe3dcaeb46229",
   "outputs": [],
   "execution_count": null
  },
  {
   "metadata": {},
   "cell_type": "markdown",
   "source": "- Passenger count = 0 has the highest average trip duration, which is not plausible, indicating likely data entry or logging errors",
   "id": "e7b98bd8c13e1832"
  },
  {
   "metadata": {},
   "cell_type": "markdown",
   "source": [
    "- Passenger count = 1 dominates at all hours\n",
    "- Group trips (2–4 passengers) are more frequent in the evening and late night"
   ],
   "id": "7556a9392c535e9f"
  },
  {
   "metadata": {},
   "cell_type": "markdown",
   "source": "##  pickup_longitude, pickup_latitude & dropoff_longitude, dropoff_latitude",
   "id": "204e1e0da0b5b061"
  },
  {
   "metadata": {},
   "cell_type": "code",
   "source": "print(taxi_df[gb.cols].describe())",
   "id": "9ac51d7f197e93d7",
   "outputs": [],
   "execution_count": null
  },
  {
   "metadata": {},
   "cell_type": "markdown",
   "source": [
    "- Some trip coordinates lie outside NYC bounds\n",
    "- Some points lie far outside the visible city bounds — likely due to GPS glitches or data corruption."
   ],
   "id": "70020402d9e023f2"
  },
  {
   "metadata": {},
   "cell_type": "markdown",
   "source": "## Geographic distribution",
   "id": "655c86dfd3df1e2e"
  },
  {
   "metadata": {},
   "cell_type": "code",
   "source": [
    "# Scatterplot of pickup and dropoff locations\n",
    "plt.figure(figsize=(6, 6))\n",
    "plt.scatter(taxi_df['pickup_longitude'], taxi_df['pickup_latitude'], s=0.5, alpha=0.1,\n",
    "            label='pickup')\n",
    "plt.scatter(taxi_df['dropoff_longitude'], taxi_df['dropoff_latitude'], s=0.5, alpha=0.1,\n",
    "            label='dropoff')\n",
    "plt.xlim(gb.min_lon, gb.max_lon)\n",
    "plt.ylim(gb.min_lat, gb.max_lat)\n",
    "plt.xlabel(\"Longitude\")\n",
    "plt.ylabel(\"Latitude\")\n",
    "plt.legend(loc='upper right')\n",
    "plt.title(\"Geographic Distribution of Taxi Pickups and Dropoffs\")\n",
    "plt.grid(True)\n",
    "plt.tight_layout()\n",
    "plt.show()"
   ],
   "id": "b4c68c5028b5f640",
   "outputs": [],
   "execution_count": null
  },
  {
   "metadata": {},
   "cell_type": "markdown",
   "source": [
    "- Most pickups and dropoffs are located within the NYC area (Manhattan, Brooklyn, Queens).\n",
    "- Clear density clusters appear around Midtown and Downtown Manhattan."
   ],
   "id": "6902ca269862c466"
  },
  {
   "metadata": {},
   "cell_type": "markdown",
   "source": "##  store_and_fwd_flag",
   "id": "c04560a038ad5346"
  },
  {
   "metadata": {},
   "cell_type": "code",
   "source": "print(taxi_df['store_and_fwd_flag'].value_counts(dropna=False))",
   "id": "56c66d0b0b2ec494",
   "outputs": [],
   "execution_count": null
  },
  {
   "metadata": {},
   "cell_type": "markdown",
   "source": "- store_and_fwd_flag = 'Y' is rare and likely not predictive on its own",
   "id": "367aadf0f1cf61ed"
  },
  {
   "metadata": {},
   "cell_type": "markdown",
   "source": "##  trip_duration",
   "id": "6a3606bed0961e51"
  },
  {
   "metadata": {},
   "cell_type": "code",
   "source": "taxi_df['trip_duration'].describe()",
   "id": "75337583a9dbfa71",
   "outputs": [],
   "execution_count": null
  },
  {
   "metadata": {},
   "cell_type": "code",
   "source": "taxi_df['trip_duration'].plot.hist(bins=100, range=(0, 3600))  # bis 1 Stunde",
   "id": "21f388059707fc36",
   "outputs": [],
   "execution_count": null
  },
  {
   "metadata": {},
   "cell_type": "markdown",
   "source": "- Several trips have a duration longer than 2 hours, which is highly unlikely for intra-city NYC taxi rides. A few trips are also shorter than 1 minute, which may indicate errors or missing data.",
   "id": "227fff05a3a503e0"
  },
  {
   "metadata": {},
   "cell_type": "code",
   "source": [
    "plt.figure(figsize=(8, 4))\n",
    "plt.hist(taxi_df['trip_duration_log'], bins=50, edgecolor='black')\n",
    "plt.title(\"Log-Transformed Trip Duration\")\n",
    "plt.xlabel(\"log(1 + trip_duration [s])\")\n",
    "plt.ylabel(\"Frequency\")\n",
    "plt.grid(True)\n",
    "plt.tight_layout()\n",
    "plt.show()"
   ],
   "id": "6c27c9e63f07b935",
   "outputs": [],
   "execution_count": null
  },
  {
   "metadata": {},
   "cell_type": "markdown",
   "source": "## distance feature (Haversine)",
   "id": "befca6bf9b54d28f"
  },
  {
   "metadata": {},
   "cell_type": "code",
   "source": "taxi_df.plot.scatter(x='hav_dist_km', y='trip_duration_log', alpha=0.3)",
   "id": "c0efd505cdbc7d8d",
   "outputs": [],
   "execution_count": null
  },
  {
   "metadata": {},
   "cell_type": "code",
   "source": [
    "# Filter for clearer visualization\n",
    "filtered_data = taxi_df[\n",
    "  (taxi_df['route_distance_km'] <= 20) &\n",
    "  (taxi_df['hav_dist_km'] > 0.0) &\n",
    "  (taxi_df['trip_duration_min'] <= 60) &\n",
    "  (taxi_df['trip_duration_min'] > 0)\n",
    "  ]\n",
    "\n",
    "# Plot\n",
    "plt.figure(figsize=(10, 5))\n",
    "plt.scatter(filtered_data['hav_dist_km'], filtered_data['trip_duration_min'], alpha=0.1, s=1)\n",
    "plt.xlabel(\"hav_dist_km\")\n",
    "plt.ylabel(\"Trip Duration (min)\")\n",
    "plt.title(\"Trip Duration vs. hav_dist_km (Filtered: ≤20 km & ≤60 min)\")\n",
    "plt.grid(True)\n",
    "plt.tight_layout()\n",
    "plt.show()"
   ],
   "id": "cbe1e1150bc53381",
   "outputs": [],
   "execution_count": null
  },
  {
   "metadata": {},
   "cell_type": "markdown",
   "source": [
    "- Long durations at very short distances\n",
    "- Long distances with short durations"
   ],
   "id": "3b4d87074559d66"
  }
 ],
 "metadata": {
  "kernelspec": {
   "display_name": "Python 3",
   "language": "python",
   "name": "python3"
  },
  "language_info": {
   "codemirror_mode": {
    "name": "ipython",
    "version": 2
   },
   "file_extension": ".py",
   "mimetype": "text/x-python",
   "name": "python",
   "nbconvert_exporter": "python",
   "pygments_lexer": "ipython2",
   "version": "2.7.6"
  }
 },
 "nbformat": 4,
 "nbformat_minor": 5
}
