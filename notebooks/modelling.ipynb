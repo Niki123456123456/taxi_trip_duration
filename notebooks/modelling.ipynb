{
 "cells": [
  {
   "metadata": {},
   "cell_type": "markdown",
   "source": "# Load data",
   "id": "a0d5a60dd549e5f"
  },
  {
   "metadata": {
    "ExecuteTime": {
     "end_time": "2025-06-15T09:56:17.922299Z",
     "start_time": "2025-06-15T09:56:16.851818Z"
    }
   },
   "cell_type": "code",
   "source": [
    "\n",
    "import numpy as np\n",
    "import pandas as pd\n",
    "\n",
    "import features.config as config\n",
    "import features.modelling as ml"
   ],
   "id": "a3673db47b16301e",
   "outputs": [],
   "execution_count": 1
  },
  {
   "metadata": {
    "ExecuteTime": {
     "end_time": "2025-06-15T09:56:21.724081Z",
     "start_time": "2025-06-15T09:56:18.012629Z"
    }
   },
   "cell_type": "code",
   "source": [
    "# Load taxi and weather data\n",
    "taxi_weather_raw = pd.read_csv(config.TAXI_WEATHER_DATA_SAVE)"
   ],
   "id": "66184c84eada8cc",
   "outputs": [],
   "execution_count": 2
  },
  {
   "metadata": {},
   "cell_type": "markdown",
   "source": "## split train and test set",
   "id": "144f9dd08de3852f"
  },
  {
   "metadata": {
    "ExecuteTime": {
     "end_time": "2025-06-15T09:56:22.088452Z",
     "start_time": "2025-06-15T09:56:21.735818Z"
    }
   },
   "cell_type": "code",
   "source": [
    "train_set, test_set = ml.split_train_test(taxi_weather_raw, config.TEST_SIZE,\n",
    "                                          config.RANDOM_STATE)"
   ],
   "id": "1de79edf73cc8618",
   "outputs": [],
   "execution_count": 3
  },
  {
   "metadata": {},
   "cell_type": "markdown",
   "source": "# Pipelining",
   "id": "d33cd47c63bccd97"
  },
  {
   "metadata": {
    "ExecuteTime": {
     "end_time": "2025-06-15T09:56:22.333283Z",
     "start_time": "2025-06-15T09:56:22.099259Z"
    }
   },
   "cell_type": "code",
   "source": [
    "taxi_weather = train_set.copy()\n",
    "taxi_weather.drop(['trip_duration', 'trip_duration_log', 'trip_duration_min'], axis=1, inplace=True)\n",
    "taxi_weather_labels = train_set[['trip_duration', 'trip_duration_log', 'trip_duration_min']].copy()"
   ],
   "id": "14e3bbc5d6cb1e25",
   "outputs": [],
   "execution_count": 4
  },
  {
   "metadata": {
    "ExecuteTime": {
     "end_time": "2025-06-15T09:56:22.926215Z",
     "start_time": "2025-06-15T09:56:22.345634Z"
    }
   },
   "cell_type": "code",
   "source": [
    "taxi_weather['pickup_datetime'] = pd.to_datetime(taxi_weather['pickup_datetime'])\n",
    "taxi_weather['dropoff_datetime'] = pd.to_datetime(taxi_weather['dropoff_datetime'])\n",
    "taxi_weather['datetime_hour'] = pd.to_datetime(taxi_weather['datetime_hour'])\n",
    "taxi_weather['hav_dist_km_log'] = np.log1p(taxi_weather['hav_dist_km'])"
   ],
   "id": "71c29841658379e3",
   "outputs": [],
   "execution_count": 5
  },
  {
   "metadata": {
    "ExecuteTime": {
     "end_time": "2025-06-15T10:18:51.615614Z",
     "start_time": "2025-06-15T10:18:51.597427Z"
    }
   },
   "cell_type": "code",
   "source": [
    "from sklearn.compose import ColumnTransformer\n",
    "\n",
    "num_attr = ['passenger_count', 'hav_dist_km_log', 'temp_c', 'windspeed_kph_sqrt', 'humidity',\n",
    "            'pressure_hpa']\n",
    "\n",
    "pickup_attr = ['pickup_longitude', 'pickup_latitude']\n",
    "\n",
    "dropoff_attr = ['dropoff_longitude', 'dropoff_latitude']\n",
    "\n",
    "cat_attr = ['pickup_weekday', 'pickup_month', 'vendor_id', 'pickup_hour', 'hour_of_year',\n",
    "            'hour_of_day', 'temp_code',\n",
    "            'windspeed_code', 'humidity_code', 'fog_code', 'freezing_code', 'cloud_code',\n",
    "            'hazy_code',\n",
    "            'pressure_code', 'rain_code', 'snow_code']\n",
    "for col in cat_attr:\n",
    "  taxi_weather[col] = taxi_weather[col].astype('category')\n",
    "\n",
    "bin_attr = ['store_and_fwd_flag_bin', 'fog', 'rain', 'snow', 'cloud_missing_flag']\n",
    "taxi_weather[bin_attr] = taxi_weather[bin_attr].astype(bool)\n",
    "\n",
    "attr_to_drop = [\n",
    "  'pickup_datetime', 'dropoff_datetime', 'datetime_hour',\n",
    "  'windspeed_outliers', 'daily_snow_outliers',\n",
    "  'passenger_count_invalid', 'pickup_coord_invalid',\n",
    "  'dropoff_coord_invalid', 'same_location_long_trip', 'trip_duration_outlier', 'windspeed_kph',\n",
    "  'hav_dist_km', 'rain_mm', 'snow_mm', 'daily_precip_mm', 'daily_snow_mm']"
   ],
   "id": "2e8bcbfefe9a8f0a",
   "outputs": [],
   "execution_count": 26
  },
  {
   "metadata": {},
   "cell_type": "markdown",
   "source": "## model prep",
   "id": "7149d88c353d1a65"
  },
  {
   "metadata": {
    "ExecuteTime": {
     "end_time": "2025-06-15T10:18:53.497780Z",
     "start_time": "2025-06-15T10:18:53.493523Z"
    }
   },
   "cell_type": "code",
   "source": [
    "\n",
    "from sklearn.linear_model import LinearRegression\n",
    "from sklearn.model_selection import cross_val_score\n",
    "import features.transformer as tf\n",
    "\n",
    "# Preprocessing Pipelines\n",
    "num_pipeline = tf.num_stand_pipeline()\n",
    "geo_pipeline_pick = tf.geo_clustering_pipeline(5)\n",
    "geo_pipeline_drop = tf.geo_clustering_pipeline(4)\n",
    "cat_pipeline = tf.cat_onehot_pipeline()\n",
    "bool_pipeline = tf.bool_pipeline()\n",
    "\n",
    "# Finaler ColumnTransformer\n",
    "lin_preprocessing = ColumnTransformer([\n",
    "  ('num', num_pipeline, num_attr),\n",
    "  ('cat', cat_pipeline, cat_attr),\n",
    "  ('geo_pick', geo_pipeline_pick, pickup_attr),\n",
    "  ('geo_drop', geo_pipeline_drop, dropoff_attr),\n",
    "  ('bool', bool_pipeline, bin_attr)\n",
    "])"
   ],
   "id": "6dc3869091563431",
   "outputs": [],
   "execution_count": 27
  },
  {
   "metadata": {
    "ExecuteTime": {
     "end_time": "2025-06-15T10:18:57.173666Z",
     "start_time": "2025-06-15T10:18:55.984677Z"
    }
   },
   "cell_type": "code",
   "source": "taxi_weather_prep = lin_preprocessing.fit_transform(taxi_weather)",
   "id": "7fb95a7eeda7b40f",
   "outputs": [],
   "execution_count": 28
  },
  {
   "metadata": {
    "ExecuteTime": {
     "end_time": "2025-06-15T10:18:58.146424Z",
     "start_time": "2025-06-15T10:18:58.141789Z"
    }
   },
   "cell_type": "code",
   "source": "taxi_weather_prep.shape",
   "id": "f5a20847db9ec499",
   "outputs": [
    {
     "data": {
      "text/plain": [
       "(1166915, 36)"
      ]
     },
     "execution_count": 29,
     "metadata": {},
     "output_type": "execute_result"
    }
   ],
   "execution_count": 29
  },
  {
   "metadata": {
    "ExecuteTime": {
     "end_time": "2025-06-15T10:18:59.125369Z",
     "start_time": "2025-06-15T10:18:59.120321Z"
    }
   },
   "cell_type": "code",
   "source": "lin_preprocessing.get_feature_names_out()",
   "id": "24b63aef37f1e277",
   "outputs": [
    {
     "data": {
      "text/plain": [
       "array(['num__passenger_count', 'num__hav_dist_km_log', 'num__temp_c',\n",
       "       'num__windspeed_kph_sqrt', 'num__humidity', 'num__pressure_hpa',\n",
       "       'cat__pickup_weekday', 'cat__pickup_month', 'cat__vendor_id',\n",
       "       'cat__pickup_hour', 'cat__hour_of_year', 'cat__hour_of_day',\n",
       "       'cat__temp_code', 'cat__windspeed_code', 'cat__humidity_code',\n",
       "       'cat__fog_code', 'cat__freezing_code', 'cat__cloud_code',\n",
       "       'cat__hazy_code', 'cat__pressure_code', 'cat__rain_code',\n",
       "       'cat__snow_code', 'geo_pick__minibatchkmeans0',\n",
       "       'geo_pick__minibatchkmeans1', 'geo_pick__minibatchkmeans2',\n",
       "       'geo_pick__minibatchkmeans3', 'geo_pick__minibatchkmeans4',\n",
       "       'geo_drop__minibatchkmeans0', 'geo_drop__minibatchkmeans1',\n",
       "       'geo_drop__minibatchkmeans2', 'geo_drop__minibatchkmeans3',\n",
       "       'bool__store_and_fwd_flag_bin', 'bool__fog', 'bool__rain',\n",
       "       'bool__snow', 'bool__cloud_missing_flag'], dtype=object)"
      ]
     },
     "execution_count": 30,
     "metadata": {},
     "output_type": "execute_result"
    }
   ],
   "execution_count": 30
  },
  {
   "metadata": {},
   "cell_type": "markdown",
   "source": "## lin reg",
   "id": "49a2b7ac7e90324f"
  },
  {
   "metadata": {
    "ExecuteTime": {
     "end_time": "2025-06-15T10:19:08.515080Z",
     "start_time": "2025-06-15T10:19:01.065243Z"
    }
   },
   "cell_type": "code",
   "source": [
    "from sklearn.pipeline import make_pipeline\n",
    "\n",
    "# Modell-Pipeline\n",
    "model_pipeline = make_pipeline(lin_preprocessing, (LinearRegression()))\n",
    "\n",
    "# Trainingsdaten vorbereiten\n",
    "X_train = taxi_weather[num_attr + pickup_attr + dropoff_attr + cat_attr + bin_attr]\n",
    "y_train = taxi_weather_labels['trip_duration_log']\n",
    "\n",
    "# Cross-Validation\n",
    "lin_scores = cross_val_score(model_pipeline, X_train, y_train,\n",
    "                             scoring=\"neg_root_mean_squared_error\", cv=5)\n",
    "print(\"log-RMSE:\", -lin_scores.mean())"
   ],
   "id": "3380fb0ef15fb708",
   "outputs": [
    {
     "name": "stdout",
     "output_type": "stream",
     "text": [
      "log-RMSE: 0.501912490153978\n"
     ]
    }
   ],
   "execution_count": 31
  },
  {
   "metadata": {
    "ExecuteTime": {
     "end_time": "2025-06-15T11:50:50.322285Z",
     "start_time": "2025-06-15T11:50:49.675933Z"
    }
   },
   "cell_type": "code",
   "source": [
    "# Nach dem Vorhersagen:\n",
    "y_pred_log = model_pipeline.predict(X_train)\n",
    "\n",
    "# Rücktransformation:\n",
    "y_pred = np.expm1(y_pred_log)\n",
    "y_true = np.expm1(y_train)\n",
    "\n",
    "# RMSE im Originalraum\n",
    "from sklearn.metrics import mean_squared_error\n",
    "import numpy as np\n",
    "\n",
    "mse = mean_squared_error(y_true, y_pred)\n",
    "rmse = np.sqrt(mse)\n",
    "print(\"RMSE (seconds):\", rmse)"
   ],
   "id": "ad8693ac0d03fd9e",
   "outputs": [
    {
     "name": "stdout",
     "output_type": "stream",
     "text": [
      "RMSE (seconds): 128990379022.81541\n"
     ]
    }
   ],
   "execution_count": 45
  },
  {
   "metadata": {
    "ExecuteTime": {
     "end_time": "2025-06-15T11:42:02.066711Z",
     "start_time": "2025-06-15T11:42:02.060042Z"
    }
   },
   "cell_type": "code",
   "source": "pd.Series(-lin_scores).describe()",
   "id": "5190838248d262bb",
   "outputs": [
    {
     "data": {
      "text/plain": [
       "count    5.000000\n",
       "mean     0.501912\n",
       "std      0.003522\n",
       "min      0.498397\n",
       "25%      0.499968\n",
       "50%      0.500402\n",
       "75%      0.503539\n",
       "max      0.507256\n",
       "dtype: float64"
      ]
     },
     "execution_count": 39,
     "metadata": {},
     "output_type": "execute_result"
    }
   ],
   "execution_count": 39
  },
  {
   "metadata": {},
   "cell_type": "markdown",
   "source": "## dec tree reg",
   "id": "5cdeafafeb3d809b"
  },
  {
   "metadata": {
    "ExecuteTime": {
     "end_time": "2025-06-15T10:23:25.806870Z",
     "start_time": "2025-06-15T10:21:11.917519Z"
    }
   },
   "cell_type": "code",
   "source": [
    "from sklearn.tree import DecisionTreeRegressor\n",
    "from sklearn.model_selection import cross_val_score\n",
    "from sklearn.pipeline import Pipeline\n",
    "\n",
    "tree_preprocessor = ColumnTransformer([\n",
    "  ('num', num_pipeline, num_attr),\n",
    "  ('cat', cat_pipeline, cat_attr),\n",
    "  ('geo_pick', geo_pipeline_pick, pickup_attr),\n",
    "  ('geo_drop', geo_pipeline_drop, dropoff_attr),\n",
    "  ('bool', bool_pipeline, bin_attr)\n",
    "])\n",
    "\n",
    "tree_pipeline = Pipeline([\n",
    "  ('pre', tree_preprocessor),\n",
    "  ('model', DecisionTreeRegressor(random_state=42))\n",
    "])\n",
    "\n",
    "X_train = taxi_weather[num_attr + pickup_attr + dropoff_attr + cat_attr + bin_attr]\n",
    "y_train = taxi_weather_labels['trip_duration_log']\n",
    "\n",
    "tree_scores = cross_val_score(tree_pipeline, X_train, y_train,\n",
    "                              scoring=\"neg_root_mean_squared_error\", cv=5)\n",
    "\n",
    "print(\"log-RMSE:\", -tree_scores.mean())"
   ],
   "id": "5e73d573ba3f8d2e",
   "outputs": [
    {
     "name": "stdout",
     "output_type": "stream",
     "text": [
      "log-RMSE: 0.5822420252243012\n"
     ]
    }
   ],
   "execution_count": 34
  },
  {
   "metadata": {
    "ExecuteTime": {
     "end_time": "2025-06-15T11:42:08.364909Z",
     "start_time": "2025-06-15T11:42:08.357908Z"
    }
   },
   "cell_type": "code",
   "source": "pd.Series(-tree_scores).describe()",
   "id": "657c0c313d4a9296",
   "outputs": [
    {
     "data": {
      "text/plain": [
       "count    5.000000\n",
       "mean     0.582242\n",
       "std      0.002768\n",
       "min      0.579826\n",
       "25%      0.579994\n",
       "50%      0.581960\n",
       "75%      0.582785\n",
       "max      0.586645\n",
       "dtype: float64"
      ]
     },
     "execution_count": 40,
     "metadata": {},
     "output_type": "execute_result"
    }
   ],
   "execution_count": 40
  },
  {
   "metadata": {},
   "cell_type": "markdown",
   "source": "## random forest",
   "id": "dfe6de1c730485d1"
  },
  {
   "metadata": {
    "ExecuteTime": {
     "end_time": "2025-06-15T10:26:25.953602Z",
     "start_time": "2025-06-15T10:23:47.378950Z"
    }
   },
   "cell_type": "code",
   "source": [
    "from sklearn.ensemble import RandomForestRegressor\n",
    "from sklearn.model_selection import cross_val_score\n",
    "\n",
    "rf_pipeline = Pipeline([\n",
    "  ('pre', tree_preprocessor),\n",
    "  ('model', RandomForestRegressor(n_estimators=10, max_depth=20,\n",
    "                                  n_jobs=-1, random_state=42))\n",
    "])\n",
    "\n",
    "rf_scores = -cross_val_score(rf_pipeline, X_train, y_train,\n",
    "                             scoring=\"neg_root_mean_squared_error\", cv=5)\n",
    "\n",
    "print(\"Random Forest log-RMSE:\", rf_scores.mean())"
   ],
   "id": "73c8f828a43fbbe3",
   "outputs": [
    {
     "name": "stdout",
     "output_type": "stream",
     "text": [
      "Random Forest log-RMSE: 0.41943863883994387\n"
     ]
    }
   ],
   "execution_count": 36
  },
  {
   "metadata": {
    "ExecuteTime": {
     "end_time": "2025-06-15T11:42:50.798966Z",
     "start_time": "2025-06-15T11:42:50.792776Z"
    }
   },
   "cell_type": "code",
   "source": "pd.Series(rf_scores).describe()",
   "id": "4d8e3ff4f99eff4e",
   "outputs": [
    {
     "data": {
      "text/plain": [
       "count    5.000000\n",
       "mean     0.419439\n",
       "std      0.002677\n",
       "min      0.417135\n",
       "25%      0.417806\n",
       "50%      0.417997\n",
       "75%      0.420689\n",
       "max      0.423567\n",
       "dtype: float64"
      ]
     },
     "execution_count": 42,
     "metadata": {},
     "output_type": "execute_result"
    }
   ],
   "execution_count": 42
  },
  {
   "metadata": {},
   "cell_type": "markdown",
   "source": "## hist gradient",
   "id": "c181202439a76938"
  },
  {
   "metadata": {
    "ExecuteTime": {
     "end_time": "2025-06-15T11:29:43.496873Z",
     "start_time": "2025-06-15T11:29:13.699400Z"
    }
   },
   "cell_type": "code",
   "source": [
    "from sklearn.ensemble import HistGradientBoostingRegressor\n",
    "\n",
    "gb_pipeline = Pipeline([\n",
    "  ('pre', tree_preprocessor),\n",
    "  ('model', HistGradientBoostingRegressor(max_iter=100, max_depth=10,\n",
    "                                          learning_rate=0.1, random_state=42))\n",
    "])\n",
    "\n",
    "gb_scores = -cross_val_score(gb_pipeline, X_train, y_train,\n",
    "                             scoring=\"neg_root_mean_squared_error\", cv=5)\n",
    "\n",
    "print(\"Gradient Boosting log-RMSE:\", gb_scores.mean())"
   ],
   "id": "4a753349fbf41f01",
   "outputs": [
    {
     "name": "stdout",
     "output_type": "stream",
     "text": [
      "Gradient Boosting log-RMSE: 0.4169309699557803\n"
     ]
    }
   ],
   "execution_count": 37
  },
  {
   "metadata": {
    "ExecuteTime": {
     "end_time": "2025-06-15T11:42:58.265218Z",
     "start_time": "2025-06-15T11:42:58.257913Z"
    }
   },
   "cell_type": "code",
   "source": "pd.Series(gb_scores).describe()",
   "id": "6d32ef0c74842eff",
   "outputs": [
    {
     "data": {
      "text/plain": [
       "count    5.000000\n",
       "mean     0.416931\n",
       "std      0.003018\n",
       "min      0.414050\n",
       "25%      0.414696\n",
       "50%      0.415543\n",
       "75%      0.419996\n",
       "max      0.420370\n",
       "dtype: float64"
      ]
     },
     "execution_count": 43,
     "metadata": {},
     "output_type": "execute_result"
    }
   ],
   "execution_count": 43
  },
  {
   "metadata": {},
   "cell_type": "markdown",
   "source": "## xboost",
   "id": "14b7428899bf522c"
  }
 ],
 "metadata": {
  "kernelspec": {
   "display_name": "Python 3",
   "language": "python",
   "name": "python3"
  },
  "language_info": {
   "codemirror_mode": {
    "name": "ipython",
    "version": 2
   },
   "file_extension": ".py",
   "mimetype": "text/x-python",
   "name": "python",
   "nbconvert_exporter": "python",
   "pygments_lexer": "ipython2",
   "version": "2.7.6"
  }
 },
 "nbformat": 4,
 "nbformat_minor": 5
}
