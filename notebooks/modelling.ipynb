{
 "cells": [
  {
   "metadata": {},
   "cell_type": "markdown",
   "source": "# Setup & Imports",
   "id": "a0d5a60dd549e5f"
  },
  {
   "metadata": {
    "ExecuteTime": {
     "end_time": "2025-06-18T03:21:12.223943Z",
     "start_time": "2025-06-18T03:21:12.217602Z"
    }
   },
   "cell_type": "code",
   "source": [
    "\n",
    "import pandas as pd\n",
    "from sklearn.compose import ColumnTransformer\n",
    "from sklearn.ensemble import RandomForestRegressor\n",
    "from sklearn.metrics import mean_squared_error\n",
    "from sklearn.model_selection import RandomizedSearchCV, train_test_split\n",
    "\n",
    "import preModelling.data_config as config\n",
    "from modelling.GeoClusterer import GeoClusterer\n",
    "from modelling.feature_config import NUM_ALL, CAT_ALL, BOOL_ALL\n",
    "from modelling.feature_importance import plot_lin_feature_importance, \\\n",
    "  plot_tree_feature_importance\n",
    "from modelling.modelling_config import (\n",
    "  N_PICKUP_CLUSTERS, N_DROPOFF_CLUSTERS, RANDOM_SEED, KMEANS_BATCH_SIZE\n",
    ")\n",
    "from modelling.modelling_utils import make_all_models, feature_to_category, \\\n",
    "  feature_as_bool\n",
    "from modelling.transformer import build_haversine_transformer, \\\n",
    "  make_linear_pipeline\n",
    "from modelling.transformer import get_display_models_results, \\\n",
    "  compare_models_results\n",
    "from modelling.transformer import (\n",
    "  num_base_pipelining,\n",
    "  cat_base_pipelining,\n",
    "  bool_base_pipelining\n",
    ")"
   ],
   "id": "a3673db47b16301e",
   "outputs": [],
   "execution_count": 31
  },
  {
   "metadata": {
    "ExecuteTime": {
     "end_time": "2025-06-18T02:17:22.595390Z",
     "start_time": "2025-06-18T02:17:18.732331Z"
    }
   },
   "cell_type": "code",
   "source": [
    "# Load taxi and weather data\n",
    "taxi_weather_df = pd.read_csv(config.TAXI_WEATHER_DATA_SAVE)\n",
    "\n",
    "for dt in [\"pickup_datetime\", \"dropoff_datetime\"]:\n",
    "  taxi_weather_df[dt] = pd.to_datetime(taxi_weather_df[dt])\n",
    "\n",
    "taxi_weather_df = feature_to_category(taxi_weather_df, CAT_ALL)\n",
    "taxi_weather_df = feature_as_bool(taxi_weather_df, BOOL_ALL)\n",
    "\n",
    "taxi_weather_df = taxi_weather_df.drop(columns=[\"id\", 'dropoff_datetime', \"pickup_datetime\"\n",
    "                                                ], errors=\"ignore\")"
   ],
   "id": "66184c84eada8cc",
   "outputs": [],
   "execution_count": 7
  },
  {
   "metadata": {},
   "cell_type": "markdown",
   "source": "# Train/Test Split",
   "id": "b1435a95842a4f3b"
  },
  {
   "metadata": {
    "ExecuteTime": {
     "end_time": "2025-06-18T02:17:24.136415Z",
     "start_time": "2025-06-18T02:17:23.933391Z"
    }
   },
   "cell_type": "code",
   "source": [
    "# everything until 31-05-2016 as a Training Base\n",
    "TARGET_COL = 'trip_duration_log'\n",
    "\n",
    "train_df, test_df = train_test_split(taxi_weather_df, test_size=0.2, random_state=42)\n",
    "\n",
    "X_train, y_train = train_df.drop(columns=[TARGET_COL]), train_df[TARGET_COL]\n",
    "\n",
    "X_holdout, y_holdout = test_df.drop(columns=[TARGET_COL]), test_df[TARGET_COL]"
   ],
   "id": "40e27e9a0fc5e3e9",
   "outputs": [],
   "execution_count": 8
  },
  {
   "metadata": {},
   "cell_type": "markdown",
   "source": "# Preprocessing-Configuration",
   "id": "123729d1b4343dbb"
  },
  {
   "metadata": {
    "ExecuteTime": {
     "end_time": "2025-06-18T02:17:26.178289Z",
     "start_time": "2025-06-18T02:17:26.174065Z"
    }
   },
   "cell_type": "code",
   "source": [
    "num_pipe = num_base_pipelining()\n",
    "cat_pipe = cat_base_pipelining()\n",
    "bool_pipe = bool_base_pipelining()\n",
    "\n",
    "geo_pick = GeoClusterer(\n",
    "    cols=['pickup_longitude', 'pickup_latitude'],\n",
    "    n_clusters=N_PICKUP_CLUSTERS,\n",
    "    random_state=RANDOM_SEED,\n",
    "    batch_size=KMEANS_BATCH_SIZE\n",
    ")\n",
    "geo_drop = GeoClusterer(\n",
    "    cols=['dropoff_longitude', 'dropoff_latitude'],\n",
    "    n_clusters=N_DROPOFF_CLUSTERS,\n",
    "    random_state=RANDOM_SEED,\n",
    "    batch_size=KMEANS_BATCH_SIZE\n",
    ")\n",
    "hav_trans = build_haversine_transformer()\n",
    "\n",
    "preprocessing = ColumnTransformer(\n",
    "    transformers=[\n",
    "      ('num', num_pipe, NUM_ALL),\n",
    "      ('cat', cat_pipe, CAT_ALL),\n",
    "      ('bool', bool_pipe, BOOL_ALL),\n",
    "      ('g_pick', geo_pick, ['pickup_longitude', 'pickup_latitude']),\n",
    "      ('g_drop', geo_drop, ['dropoff_longitude', 'dropoff_latitude']),\n",
    "      ('hav', hav_trans,\n",
    "       ['pickup_latitude', 'pickup_longitude',\n",
    "        'dropoff_latitude', 'dropoff_longitude']),\n",
    "    ],\n",
    "    remainder=\"drop\",\n",
    ")"
   ],
   "id": "3eb38da5461c4fff",
   "outputs": [],
   "execution_count": 9
  },
  {
   "metadata": {},
   "cell_type": "markdown",
   "source": "# Hyperparameter search",
   "id": "8db282d426445cb2"
  },
  {
   "metadata": {
    "ExecuteTime": {
     "end_time": "2025-06-18T03:55:39.883053Z",
     "start_time": "2025-06-18T03:55:39.865777Z"
    }
   },
   "cell_type": "code",
   "source": [
    "param_dist_xgb = {\n",
    "  'model__n_estimators': [200, 400, 800],\n",
    "  'model__max_depth': [6, 10],\n",
    "  'model__learning_rate': [0.03, 0.1],\n",
    "  'model__subsample': [0.8, 1.0],\n",
    "  'model__colsample_bytree': [0.7, 0.9],\n",
    "  'model__gamma': [0, 1],\n",
    "}\n",
    "param_dist_lgbm = {\n",
    "  'model__n_estimators': [400, 700, 1000],\n",
    "  'model__learning_rate': [0.05, 0.1, 0.2],\n",
    "  'model__max_depth': [-1, 8, 12],\n",
    "  'model__num_leaves': [31, 63, 127],\n",
    "  'model__feature_fraction': [0.7, 0.9, 1.0],\n",
    "  'model__bagging_fraction': [0.7, 0.9, 1.0],\n",
    "  'model__bagging_freq': [0, 1],\n",
    "}\n",
    "\n",
    "# ----------------------  XGBoost  ---------------------------------\n",
    "param_dist_xgb_fast = {\n",
    "  \"model__n_estimators\": [150, 300],  # weniger Bäume\n",
    "  \"model__max_depth\": [6, 9],  # zwei sinnvolle Tiefen\n",
    "  \"model__learning_rate\": [0.05],  # guter Mittelwert\n",
    "  \"model__subsample\": [0.8],  # nur 0.8 (meist besser)\n",
    "  \"model__colsample_bytree\": [0.8],  # dito\n",
    "  \"model__gamma\": [0],  # selten nötig: nur 0\n",
    "}\n",
    "\n",
    "# ----------------------  LightGBM  --------------------------------\n",
    "param_dist_lgbm_fast = {\n",
    "  \"model__n_estimators\": [300, 600],  # halb so viele Kombis\n",
    "  \"model__learning_rate\": [0.05, 0.1],  # zwei LR-Stufen\n",
    "  \"model__max_depth\": [-1, 8],  # -1 (keine Grenze) oder 8\n",
    "  \"model__num_leaves\": [31, 63],  # üblich für obige depth\n",
    "  \"model__feature_fraction\": [0.8, 1.0],  # 80 % oder alle Features\n",
    "  \"model__bagging_fraction\": [0.8],  # nur eine Variante\n",
    "  \"model__bagging_freq\": [0],  # kein Bagging\n",
    "}\n",
    "\n",
    "param_dist_linreg = {\n",
    "  \"model__fit_intercept\": [True, False],\n",
    "  \"model__positive\": [True, False],\n",
    "}\n",
    "\n",
    "param_dist_ridge = {\"model__alpha\": [0.1, 1.0, 10, 20]}\n",
    "\n",
    "param_dist_lasso = {\n",
    "  # log-uniform draws values everywhere between 1e-4 and 10\n",
    "  \"model__alpha\": [0.1, 1.0, 10, 20],\n",
    "\n",
    "  # try with/without intercept\n",
    "  \"model__fit_intercept\": [True, False],\n",
    "\n",
    "  # try both CD update orders\n",
    "  \"model__selection\": [\"cyclic\", \"random\"],\n",
    "}\n",
    "\n",
    "# ------------------------------------------------------------------\n",
    "# DecisionTreeRegressor\n",
    "# ------------------------------------------------------------------\n",
    "from scipy.stats import randint  # if you want real dists\n",
    "\n",
    "param_dist_dt = {\n",
    "  # model__ prefix because the step is named \"model\"\n",
    "  \"model__max_depth\": [None, 5, 10, 15, 20],\n",
    "\n",
    "  \"model__min_samples_split\": randint(2, 20),  # 2–19\n",
    "  \"model__min_samples_leaf\": randint(1, 10),  # 1–9\n",
    "\n",
    "  # valid options only – no \"auto\"\n",
    "  \"model__max_features\": [\"sqrt\", \"log2\", None, 0.3, 0.5],\n",
    "\n",
    "  # post-pruning strength, draw small non-negatives\n",
    "  \"model__ccp_alpha\": [0.0, 0.001, 0.02]  # 0.000…0.02\n",
    "}\n",
    "\n",
    "# ------------------------------------------------------------------\n",
    "# RandomForestRegressor\n",
    "# ------------------------------------------------------------------\n",
    "param_dist_rf_fast = {\n",
    "  \"model__n_estimators\": (50, 100),\n",
    "  \"model__max_depth\": [10, 20],\n",
    "  \"model__min_samples_split\": (2, 8),  # 2-7\n",
    "  \"model__min_samples_leaf\": (1, 4),  # 1-3\n",
    "  \"model__max_features\": [\"sqrt\", 0.3, 0.5],  # keine langsamen Varianten\n",
    "  \"model__bootstrap\": [True],  # OOB-Metrik möglich\n",
    "}\n",
    "\n",
    "param_dist_rf = {\n",
    "  \"model__n_estimators\": randint(200, 1001),  # 200–1000\n",
    "\n",
    "  \"model__max_depth\": [None, 10, 20, 30],\n",
    "  \"model__min_samples_split\": randint(2, 15),\n",
    "  \"model__min_samples_leaf\": randint(1, 8),\n",
    "\n",
    "  # again: no \"auto\"\n",
    "  \"model__max_features\": [\"sqrt\", \"log2\", None, 0.3, 0.5],\n",
    "\n",
    "  \"model__bootstrap\": [True, False],\n",
    "}"
   ],
   "id": "de168c404245e0dc",
   "outputs": [],
   "execution_count": 33
  },
  {
   "metadata": {},
   "cell_type": "markdown",
   "source": "Lin reg",
   "id": "c3f9b3688ff029c7"
  },
  {
   "metadata": {
    "ExecuteTime": {
     "end_time": "2025-06-18T02:20:24.245858Z",
     "start_time": "2025-06-18T02:19:41.489919Z"
    }
   },
   "cell_type": "code",
   "source": [
    "linreg_pipeline = make_linear_pipeline('linreg', preprocessing)\n",
    "\n",
    "search_linreg = RandomizedSearchCV(linreg_pipeline,\n",
    "                                   param_dist_linreg,\n",
    "                                   cv=4,\n",
    "                                   n_iter=4,\n",
    "                                   scoring='neg_root_mean_squared_error',\n",
    "                                   random_state=RANDOM_SEED,\n",
    "                                   n_jobs=-1)\n",
    "\n",
    "search_linreg.fit(X_train, y_train)\n",
    "\n",
    "print(\"Best Lin Reg CV score log-RMSE:\", -search_linreg.best_score_)\n",
    "print(\"Best Lin Reg hyper-parameters:   \", search_linreg.best_params_)\n",
    "\n",
    "best_linreg_model = search_linreg.best_estimator_\n",
    "y_linreg_pred = best_linreg_model.predict(X_holdout)\n",
    "linreg_rmse = mean_squared_error(y_holdout, y_linreg_pred)\n",
    "\n",
    "print(\"Hold-out Lin Reg RMSE:\", linreg_rmse)"
   ],
   "id": "9aeadaf30a21a0de",
   "outputs": [
    {
     "name": "stdout",
     "output_type": "stream",
     "text": [
      "Best Lin Reg CV score log-RMSE: 0.5619142017252576\n",
      "Best Lin Reg hyper-parameters:    {'model__positive': False, 'model__fit_intercept': True}\n",
      "Hold-out Lin Reg RMSE: 0.319040919360973\n"
     ]
    }
   ],
   "execution_count": 12
  },
  {
   "metadata": {},
   "cell_type": "markdown",
   "source": "Ridge",
   "id": "5bf36256ba704ba9"
  },
  {
   "metadata": {
    "ExecuteTime": {
     "end_time": "2025-06-18T02:29:44.835771Z",
     "start_time": "2025-06-18T02:29:26.215591Z"
    }
   },
   "cell_type": "code",
   "source": [
    "ridge_pipeline = make_linear_pipeline('ridge', preprocessing)\n",
    "\n",
    "search_ridge = RandomizedSearchCV(ridge_pipeline,\n",
    "                                  param_dist_ridge,\n",
    "                                  cv=4,\n",
    "                                  n_iter=4,\n",
    "                                  scoring='neg_root_mean_squared_error',\n",
    "                                  random_state=RANDOM_SEED,\n",
    "                                  n_jobs=-1)\n",
    "\n",
    "search_ridge.fit(X_train, y_train)\n",
    "\n",
    "print(\"Best Ridge CV score log-RMSE:\", -search_ridge.best_score_)\n",
    "print(\"Best Ridge hyper-parameters:   \", search_ridge.best_params_)\n",
    "\n",
    "best_ridge_model = search_ridge.best_estimator_\n",
    "y_ridge_pred = best_ridge_model.predict(X_holdout)\n",
    "ridge_rmse = mean_squared_error(y_holdout, y_ridge_pred)\n",
    "\n",
    "print(\"Hold-out Ridge RMSE:\", ridge_rmse)"
   ],
   "id": "971bed8b0c5fd684",
   "outputs": [
    {
     "name": "stdout",
     "output_type": "stream",
     "text": [
      "Best Lin Reg CV score log-RMSE: 0.5619141660460274\n",
      "Best Lin Reg hyper-parameters:    {'model__alpha': 20}\n",
      "Hold-out Lin Reg RMSE: 0.3190410200018535\n"
     ]
    }
   ],
   "execution_count": 16
  },
  {
   "metadata": {},
   "cell_type": "markdown",
   "source": "Lasso",
   "id": "d40fa7008c9c64db"
  },
  {
   "metadata": {
    "ExecuteTime": {
     "end_time": "2025-06-18T02:39:26.465822Z",
     "start_time": "2025-06-18T02:37:46.255511Z"
    }
   },
   "cell_type": "code",
   "source": [
    "lasso_pipeline = make_linear_pipeline('lasso', preprocessing)\n",
    "\n",
    "search_lasso = RandomizedSearchCV(lasso_pipeline,\n",
    "                                  param_dist_lasso,\n",
    "                                  n_iter=16,  # ~10 draws per dimension is plenty\n",
    "                                  cv=3,\n",
    "                                  scoring='neg_root_mean_squared_error',\n",
    "                                  random_state=RANDOM_SEED,\n",
    "                                  n_jobs=-1)\n",
    "\n",
    "search_lasso.fit(X_train, y_train)\n",
    "\n",
    "print(\"Best Lasso CV score log-RMSE:\", -search_lasso.best_score_)\n",
    "print(\"Best Lasso hyper-parameters:   \", search_lasso.best_params_)\n",
    "\n",
    "best_lasso_model = search_lasso.best_estimator_\n",
    "y_lasso_pred = best_lasso_model.predict(X_holdout)\n",
    "lasso_rmse = mean_squared_error(y_holdout, y_lasso_pred)\n",
    "\n",
    "print(\"Hold-out Lasso RMSE:\", lasso_rmse)"
   ],
   "id": "b4956148c2e1ffb4",
   "outputs": [
    {
     "name": "stderr",
     "output_type": "stream",
     "text": [
      "/Users/Wendo99/miniconda3/envs/NYC_Taxi/lib/python3.12/site-packages/sklearn/model_selection/_search.py:317: UserWarning: The total space of parameters 16 is smaller than n_iter=40. Running 16 iterations. For exhaustive searches, use GridSearchCV.\n",
      "  warnings.warn(\n"
     ]
    },
    {
     "name": "stdout",
     "output_type": "stream",
     "text": [
      "Best Lasso CV score log-RMSE: 0.5689098420165003\n",
      "Best Lasso hyper-parameters:    {'model__selection': 'cyclic', 'model__fit_intercept': True, 'model__alpha': 0.1}\n",
      "Hold-out Lasso RMSE: 0.32528923830330053\n"
     ]
    }
   ],
   "execution_count": 20
  },
  {
   "metadata": {},
   "cell_type": "markdown",
   "source": "Decision Tree",
   "id": "5917c55ab23db81e"
  },
  {
   "metadata": {
    "ExecuteTime": {
     "end_time": "2025-06-18T03:19:08.320439Z",
     "start_time": "2025-06-18T03:11:58.591554Z"
    }
   },
   "cell_type": "code",
   "source": [
    "from sklearn.pipeline import Pipeline\n",
    "from sklearn.tree import DecisionTreeRegressor\n",
    "\n",
    "dt_pipeline = Pipeline(\n",
    "    steps=[\n",
    "      (\"prep\", preprocessing),  # ← your ColumnTransformer\n",
    "      (\"model\", DecisionTreeRegressor(\n",
    "          random_state=RANDOM_SEED,  # reproducibility\n",
    "          # --- sensible defaults you can tune later ------------------\n",
    "          max_depth=None,\n",
    "          min_samples_split=2,\n",
    "          min_samples_leaf=1,\n",
    "      )),\n",
    "    ],\n",
    "    memory=None,  # reuse the joblib cache if you like\n",
    ")\n",
    "\n",
    "search_dt = RandomizedSearchCV(\n",
    "    dt_pipeline,\n",
    "    param_distributions=param_dist_dt,\n",
    "    n_iter=40,\n",
    "    cv=3,\n",
    "    scoring=\"neg_root_mean_squared_error\",\n",
    "    random_state=RANDOM_SEED,\n",
    "    n_jobs=-1,\n",
    "    error_score=\"raise\"  # <- helps you catch bad params immediately\n",
    ")\n",
    "\n",
    "search_dt.fit(X_train, y_train)\n",
    "\n",
    "print(\"Best dt CV score log-RMSE:\", -search_dt.best_score_)\n",
    "print(\"Best dt hyper-parameters:   \", search_dt.best_params_)\n",
    "\n",
    "best_dt_model = search_dt.best_estimator_\n",
    "y_dt_pred = best_dt_model.predict(X_holdout)\n",
    "dt_rmse = mean_squared_error(y_holdout, y_dt_pred)\n",
    "\n",
    "print(\"Hold-out dt RMSE:\", dt_rmse)\n",
    "\n"
   ],
   "id": "41a51a84229c4d33",
   "outputs": [
    {
     "name": "stderr",
     "output_type": "stream",
     "text": [
      "/Users/Wendo99/miniconda3/envs/NYC_Taxi/lib/python3.12/site-packages/joblib/externals/loky/process_executor.py:752: UserWarning: A worker stopped while some jobs were given to the executor. This can be caused by a too short worker timeout or by a memory leak.\n",
      "  warnings.warn(\n"
     ]
    },
    {
     "name": "stdout",
     "output_type": "stream",
     "text": [
      "Best dt CV score log-RMSE: 0.4094025557207141\n",
      "Best dt hyper-parameters:    {'model__ccp_alpha': 0.0, 'model__max_depth': 10, 'model__max_features': None, 'model__min_samples_leaf': 9, 'model__min_samples_split': 6}\n",
      "Hold-out dt RMSE: 0.16931029095142222\n"
     ]
    }
   ],
   "execution_count": 26
  },
  {
   "metadata": {},
   "cell_type": "markdown",
   "source": "Random Forest",
   "id": "afa76c9f19825a6e"
  },
  {
   "metadata": {
    "ExecuteTime": {
     "end_time": "2025-06-18T05:03:48.106054Z",
     "start_time": "2025-06-18T04:21:40.118842Z"
    }
   },
   "cell_type": "code",
   "source": [
    "rf_pipeline = Pipeline(\n",
    "    steps=[\n",
    "      (\"prep\", preprocessing),  # ← your ColumnTransformer\n",
    "      (\"model\", RandomForestRegressor(\n",
    "          random_state=RANDOM_SEED,  # reproducibility\n",
    "          # --- sensible defaults you can tune later ------------------\n",
    "          max_depth=None,\n",
    "          min_samples_split=2,\n",
    "          min_samples_leaf=1,\n",
    "      )),\n",
    "    ],\n",
    "    memory=None,  # reuse the joblib cache if you like\n",
    ")\n",
    "\n",
    "search_rf = RandomizedSearchCV(\n",
    "    rf_pipeline,\n",
    "    param_distributions=param_dist_rf,\n",
    "    n_iter=80,\n",
    "    cv=3,\n",
    "    scoring=\"neg_root_mean_squared_error\",\n",
    "    random_state=RANDOM_SEED,\n",
    "    n_jobs=-1,\n",
    "    error_score=\"raise\"\n",
    ")\n",
    "\n",
    "search_rf_fast = RandomizedSearchCV(\n",
    "    rf_pipeline,\n",
    "    param_distributions=param_dist_rf_fast,\n",
    "    n_iter=20,\n",
    "    cv=3,\n",
    "    scoring=\"neg_root_mean_squared_error\",\n",
    "    random_state=RANDOM_SEED,\n",
    "    n_jobs=-1,\n",
    "    verbose=2,\n",
    ")\n",
    "\n",
    "search_rf_fast.fit(X_train, y_train)\n",
    "\n",
    "print(\"Best rf CV score log-RMSE:\", -search_rf_fast.best_score_)\n",
    "print(\"Best rf hyper-parameters:   \", search_rf_fast.best_params_)\n",
    "\n",
    "best_rf_model = search_rf_fast.best_estimator_\n",
    "y_rf_pred = best_rf_model.predict(X_holdout)\n",
    "rf_rmse = mean_squared_error(y_holdout, y_rf_pred)\n",
    "\n",
    "print(\"Hold-out rf RMSE:\", rf_rmse)\n",
    "\n"
   ],
   "id": "728d958536ce778f",
   "outputs": [
    {
     "name": "stdout",
     "output_type": "stream",
     "text": [
      "Fitting 3 folds for each of 30 candidates, totalling 90 fits\n",
      "[CV] END model__bootstrap=True, model__max_depth=10, model__max_features=sqrt, model__min_samples_leaf=3, model__min_samples_split=7, model__n_estimators=102; total time= 1.6min\n",
      "[CV] END model__bootstrap=True, model__max_depth=10, model__max_features=sqrt, model__min_samples_leaf=3, model__min_samples_split=7, model__n_estimators=102; total time= 1.6min\n",
      "[CV] END model__bootstrap=True, model__max_depth=10, model__max_features=sqrt, model__min_samples_leaf=3, model__min_samples_split=7, model__n_estimators=102; total time= 1.7min\n",
      "[CV] END model__bootstrap=True, model__max_depth=10, model__max_features=sqrt, model__min_samples_leaf=3, model__min_samples_split=4, model__n_estimators=121; total time= 1.9min\n",
      "[CV] END model__bootstrap=True, model__max_depth=10, model__max_features=sqrt, model__min_samples_leaf=3, model__min_samples_split=4, model__n_estimators=121; total time= 1.9min\n",
      "[CV] END model__bootstrap=True, model__max_depth=10, model__max_features=sqrt, model__min_samples_leaf=3, model__min_samples_split=4, model__n_estimators=121; total time= 2.0min\n",
      "[CV] END model__bootstrap=True, model__max_depth=10, model__max_features=sqrt, model__min_samples_leaf=3, model__min_samples_split=3, model__n_estimators=124; total time= 2.0min\n",
      "[CV] END model__bootstrap=True, model__max_depth=10, model__max_features=sqrt, model__min_samples_leaf=3, model__min_samples_split=3, model__n_estimators=124; total time= 2.0min\n",
      "[CV] END model__bootstrap=True, model__max_depth=10, model__max_features=sqrt, model__min_samples_leaf=3, model__min_samples_split=3, model__n_estimators=124; total time= 2.0min\n",
      "[CV] END model__bootstrap=True, model__max_depth=20, model__max_features=0.3, model__min_samples_leaf=2, model__min_samples_split=3, model__n_estimators=70; total time= 3.0min\n",
      "[CV] END model__bootstrap=True, model__max_depth=20, model__max_features=0.3, model__min_samples_leaf=2, model__min_samples_split=3, model__n_estimators=70; total time= 2.9min\n",
      "[CV] END model__bootstrap=True, model__max_depth=20, model__max_features=0.3, model__min_samples_leaf=2, model__min_samples_split=3, model__n_estimators=70; total time= 2.9min\n",
      "[CV] END model__bootstrap=True, model__max_depth=10, model__max_features=0.5, model__min_samples_leaf=3, model__min_samples_split=3, model__n_estimators=64; total time= 2.6min\n",
      "[CV] END model__bootstrap=True, model__max_depth=10, model__max_features=0.5, model__min_samples_leaf=3, model__min_samples_split=3, model__n_estimators=64; total time= 2.6min\n",
      "[CV] END model__bootstrap=True, model__max_depth=10, model__max_features=0.5, model__min_samples_leaf=3, model__min_samples_split=3, model__n_estimators=64; total time= 2.7min\n",
      "[CV] END model__bootstrap=True, model__max_depth=10, model__max_features=0.3, model__min_samples_leaf=2, model__min_samples_split=6, model__n_estimators=138; total time= 3.5min\n",
      "[CV] END model__bootstrap=True, model__max_depth=10, model__max_features=0.3, model__min_samples_leaf=2, model__min_samples_split=6, model__n_estimators=138; total time= 3.4min\n",
      "[CV] END model__bootstrap=True, model__max_depth=10, model__max_features=0.3, model__min_samples_leaf=2, model__min_samples_split=6, model__n_estimators=138; total time= 3.5min\n",
      "[CV] END model__bootstrap=True, model__max_depth=20, model__max_features=0.3, model__min_samples_leaf=3, model__min_samples_split=7, model__n_estimators=100; total time= 4.1min\n",
      "[CV] END model__bootstrap=True, model__max_depth=10, model__max_features=0.3, model__min_samples_leaf=2, model__min_samples_split=3, model__n_estimators=58; total time= 1.6min\n",
      "[CV] END model__bootstrap=True, model__max_depth=20, model__max_features=0.3, model__min_samples_leaf=3, model__min_samples_split=7, model__n_estimators=100; total time= 4.1min\n",
      "[CV] END model__bootstrap=True, model__max_depth=10, model__max_features=sqrt, model__min_samples_leaf=1, model__min_samples_split=3, model__n_estimators=181; total time= 2.7min\n",
      "[CV] END model__bootstrap=True, model__max_depth=10, model__max_features=0.3, model__min_samples_leaf=2, model__min_samples_split=3, model__n_estimators=58; total time= 1.5min\n",
      "[CV] END model__bootstrap=True, model__max_depth=10, model__max_features=sqrt, model__min_samples_leaf=1, model__min_samples_split=3, model__n_estimators=181; total time= 2.7min\n",
      "[CV] END model__bootstrap=True, model__max_depth=10, model__max_features=sqrt, model__min_samples_leaf=1, model__min_samples_split=3, model__n_estimators=181; total time= 2.7min\n",
      "[CV] END model__bootstrap=True, model__max_depth=10, model__max_features=0.3, model__min_samples_leaf=2, model__min_samples_split=3, model__n_estimators=58; total time= 1.5min\n",
      "[CV] END model__bootstrap=True, model__max_depth=20, model__max_features=0.3, model__min_samples_leaf=3, model__min_samples_split=7, model__n_estimators=100; total time= 4.1min\n",
      "[CV] END model__bootstrap=True, model__max_depth=20, model__max_features=sqrt, model__min_samples_leaf=2, model__min_samples_split=5, model__n_estimators=141; total time= 3.4min\n",
      "[CV] END model__bootstrap=True, model__max_depth=20, model__max_features=sqrt, model__min_samples_leaf=2, model__min_samples_split=5, model__n_estimators=141; total time= 3.3min\n"
     ]
    },
    {
     "name": "stderr",
     "output_type": "stream",
     "text": [
      "/Users/Wendo99/miniconda3/envs/NYC_Taxi/lib/python3.12/site-packages/joblib/externals/loky/process_executor.py:752: UserWarning: A worker stopped while some jobs were given to the executor. This can be caused by a too short worker timeout or by a memory leak.\n",
      "  warnings.warn(\n"
     ]
    },
    {
     "name": "stdout",
     "output_type": "stream",
     "text": [
      "[CV] END model__bootstrap=True, model__max_depth=20, model__max_features=sqrt, model__min_samples_leaf=2, model__min_samples_split=5, model__n_estimators=141; total time= 3.3min\n",
      "[CV] END model__bootstrap=True, model__max_depth=20, model__max_features=0.5, model__min_samples_leaf=1, model__min_samples_split=4, model__n_estimators=100; total time= 6.8min\n",
      "[CV] END model__bootstrap=True, model__max_depth=20, model__max_features=0.5, model__min_samples_leaf=1, model__min_samples_split=4, model__n_estimators=100; total time= 7.0min\n",
      "[CV] END model__bootstrap=True, model__max_depth=20, model__max_features=0.5, model__min_samples_leaf=1, model__min_samples_split=4, model__n_estimators=100; total time= 6.8min\n",
      "[CV] END model__bootstrap=True, model__max_depth=10, model__max_features=0.5, model__min_samples_leaf=1, model__min_samples_split=4, model__n_estimators=130; total time= 5.3min\n",
      "[CV] END model__bootstrap=True, model__max_depth=10, model__max_features=0.5, model__min_samples_leaf=1, model__min_samples_split=4, model__n_estimators=130; total time= 5.3min\n",
      "[CV] END model__bootstrap=True, model__max_depth=10, model__max_features=0.5, model__min_samples_leaf=1, model__min_samples_split=4, model__n_estimators=130; total time= 5.3min\n",
      "[CV] END model__bootstrap=True, model__max_depth=20, model__max_features=0.3, model__min_samples_leaf=2, model__min_samples_split=7, model__n_estimators=63; total time= 2.5min\n",
      "[CV] END model__bootstrap=True, model__max_depth=20, model__max_features=0.3, model__min_samples_leaf=2, model__min_samples_split=7, model__n_estimators=63; total time= 2.4min\n",
      "[CV] END model__bootstrap=True, model__max_depth=20, model__max_features=0.3, model__min_samples_leaf=2, model__min_samples_split=7, model__n_estimators=63; total time= 2.4min\n",
      "[CV] END model__bootstrap=True, model__max_depth=20, model__max_features=0.3, model__min_samples_leaf=2, model__min_samples_split=7, model__n_estimators=183; total time= 7.3min\n",
      "[CV] END model__bootstrap=True, model__max_depth=10, model__max_features=sqrt, model__min_samples_leaf=2, model__min_samples_split=6, model__n_estimators=73; total time= 1.1min\n",
      "[CV] END model__bootstrap=True, model__max_depth=10, model__max_features=sqrt, model__min_samples_leaf=2, model__min_samples_split=6, model__n_estimators=73; total time= 1.1min\n",
      "[CV] END model__bootstrap=True, model__max_depth=10, model__max_features=0.5, model__min_samples_leaf=2, model__min_samples_split=5, model__n_estimators=89; total time= 3.6min\n",
      "[CV] END model__bootstrap=True, model__max_depth=10, model__max_features=0.5, model__min_samples_leaf=2, model__min_samples_split=5, model__n_estimators=89; total time= 3.6min\n",
      "[CV] END model__bootstrap=True, model__max_depth=20, model__max_features=0.3, model__min_samples_leaf=2, model__min_samples_split=7, model__n_estimators=183; total time= 7.2min\n",
      "[CV] END model__bootstrap=True, model__max_depth=20, model__max_features=0.3, model__min_samples_leaf=2, model__min_samples_split=7, model__n_estimators=183; total time= 7.2min\n",
      "[CV] END model__bootstrap=True, model__max_depth=10, model__max_features=sqrt, model__min_samples_leaf=2, model__min_samples_split=6, model__n_estimators=73; total time= 1.1min\n",
      "[CV] END model__bootstrap=True, model__max_depth=20, model__max_features=sqrt, model__min_samples_leaf=1, model__min_samples_split=2, model__n_estimators=64; total time= 1.6min\n",
      "[CV] END model__bootstrap=True, model__max_depth=20, model__max_features=0.3, model__min_samples_leaf=2, model__min_samples_split=6, model__n_estimators=195; total time= 7.8min\n",
      "[CV] END model__bootstrap=True, model__max_depth=20, model__max_features=sqrt, model__min_samples_leaf=1, model__min_samples_split=2, model__n_estimators=64; total time= 1.6min\n",
      "[CV] END model__bootstrap=True, model__max_depth=20, model__max_features=0.3, model__min_samples_leaf=2, model__min_samples_split=6, model__n_estimators=195; total time= 7.7min\n",
      "[CV] END model__bootstrap=True, model__max_depth=20, model__max_features=sqrt, model__min_samples_leaf=1, model__min_samples_split=2, model__n_estimators=64; total time= 1.6min\n",
      "[CV] END model__bootstrap=True, model__max_depth=20, model__max_features=0.3, model__min_samples_leaf=2, model__min_samples_split=6, model__n_estimators=195; total time= 7.7min\n",
      "[CV] END model__bootstrap=True, model__max_depth=10, model__max_features=0.5, model__min_samples_leaf=2, model__min_samples_split=5, model__n_estimators=89; total time= 3.7min\n",
      "[CV] END model__bootstrap=True, model__max_depth=10, model__max_features=sqrt, model__min_samples_leaf=1, model__min_samples_split=2, model__n_estimators=137; total time= 2.0min\n",
      "[CV] END model__bootstrap=True, model__max_depth=10, model__max_features=sqrt, model__min_samples_leaf=1, model__min_samples_split=2, model__n_estimators=137; total time= 1.9min\n",
      "[CV] END model__bootstrap=True, model__max_depth=10, model__max_features=sqrt, model__min_samples_leaf=1, model__min_samples_split=2, model__n_estimators=137; total time= 2.0min\n",
      "[CV] END model__bootstrap=True, model__max_depth=10, model__max_features=0.3, model__min_samples_leaf=3, model__min_samples_split=3, model__n_estimators=90; total time= 2.2min\n",
      "[CV] END model__bootstrap=True, model__max_depth=10, model__max_features=0.3, model__min_samples_leaf=3, model__min_samples_split=3, model__n_estimators=90; total time= 2.2min\n",
      "[CV] END model__bootstrap=True, model__max_depth=10, model__max_features=0.3, model__min_samples_leaf=3, model__min_samples_split=3, model__n_estimators=90; total time= 2.2min\n",
      "[CV] END model__bootstrap=True, model__max_depth=10, model__max_features=0.5, model__min_samples_leaf=3, model__min_samples_split=4, model__n_estimators=130; total time= 5.1min\n",
      "[CV] END model__bootstrap=True, model__max_depth=10, model__max_features=0.5, model__min_samples_leaf=3, model__min_samples_split=4, model__n_estimators=130; total time= 5.1min\n",
      "[CV] END model__bootstrap=True, model__max_depth=10, model__max_features=0.5, model__min_samples_leaf=3, model__min_samples_split=4, model__n_estimators=130; total time= 5.1min\n",
      "[CV] END model__bootstrap=True, model__max_depth=20, model__max_features=0.5, model__min_samples_leaf=1, model__min_samples_split=5, model__n_estimators=82; total time= 5.2min\n",
      "[CV] END model__bootstrap=True, model__max_depth=20, model__max_features=0.5, model__min_samples_leaf=1, model__min_samples_split=5, model__n_estimators=82; total time= 5.0min\n",
      "[CV] END model__bootstrap=True, model__max_depth=20, model__max_features=0.5, model__min_samples_leaf=1, model__min_samples_split=5, model__n_estimators=82; total time= 5.0min\n",
      "[CV] END model__bootstrap=True, model__max_depth=20, model__max_features=0.5, model__min_samples_leaf=3, model__min_samples_split=7, model__n_estimators=86; total time= 5.2min\n",
      "[CV] END model__bootstrap=True, model__max_depth=10, model__max_features=0.3, model__min_samples_leaf=3, model__min_samples_split=4, model__n_estimators=150; total time= 3.4min\n",
      "[CV] END model__bootstrap=True, model__max_depth=10, model__max_features=0.3, model__min_samples_leaf=3, model__min_samples_split=2, model__n_estimators=54; total time= 1.3min\n",
      "[CV] END model__bootstrap=True, model__max_depth=10, model__max_features=0.3, model__min_samples_leaf=3, model__min_samples_split=2, model__n_estimators=54; total time= 1.3min\n",
      "[CV] END model__bootstrap=True, model__max_depth=10, model__max_features=0.3, model__min_samples_leaf=3, model__min_samples_split=4, model__n_estimators=150; total time= 3.5min\n",
      "[CV] END model__bootstrap=True, model__max_depth=10, model__max_features=0.3, model__min_samples_leaf=3, model__min_samples_split=2, model__n_estimators=54; total time= 1.3min\n",
      "[CV] END model__bootstrap=True, model__max_depth=20, model__max_features=0.5, model__min_samples_leaf=3, model__min_samples_split=7, model__n_estimators=86; total time= 5.2min\n",
      "[CV] END model__bootstrap=True, model__max_depth=20, model__max_features=0.5, model__min_samples_leaf=3, model__min_samples_split=7, model__n_estimators=86; total time= 5.2min\n",
      "[CV] END model__bootstrap=True, model__max_depth=20, model__max_features=0.5, model__min_samples_leaf=3, model__min_samples_split=2, model__n_estimators=172; total time=10.5min\n",
      "[CV] END model__bootstrap=True, model__max_depth=20, model__max_features=0.5, model__min_samples_leaf=3, model__min_samples_split=2, model__n_estimators=172; total time=10.5min\n",
      "[CV] END model__bootstrap=True, model__max_depth=20, model__max_features=0.5, model__min_samples_leaf=3, model__min_samples_split=2, model__n_estimators=172; total time=10.6min\n",
      "[CV] END model__bootstrap=True, model__max_depth=10, model__max_features=0.3, model__min_samples_leaf=3, model__min_samples_split=4, model__n_estimators=150; total time= 3.6min\n",
      "[CV] END model__bootstrap=True, model__max_depth=10, model__max_features=sqrt, model__min_samples_leaf=3, model__min_samples_split=3, model__n_estimators=91; total time= 1.3min\n",
      "[CV] END model__bootstrap=True, model__max_depth=10, model__max_features=sqrt, model__min_samples_leaf=3, model__min_samples_split=3, model__n_estimators=91; total time= 1.3min\n",
      "[CV] END model__bootstrap=True, model__max_depth=10, model__max_features=sqrt, model__min_samples_leaf=3, model__min_samples_split=3, model__n_estimators=91; total time= 1.3min\n",
      "[CV] END model__bootstrap=True, model__max_depth=20, model__max_features=sqrt, model__min_samples_leaf=3, model__min_samples_split=2, model__n_estimators=101; total time= 2.1min\n",
      "[CV] END model__bootstrap=True, model__max_depth=20, model__max_features=sqrt, model__min_samples_leaf=3, model__min_samples_split=2, model__n_estimators=101; total time= 2.1min\n",
      "[CV] END model__bootstrap=True, model__max_depth=20, model__max_features=sqrt, model__min_samples_leaf=3, model__min_samples_split=2, model__n_estimators=101; total time= 2.1min\n",
      "[CV] END model__bootstrap=True, model__max_depth=10, model__max_features=0.3, model__min_samples_leaf=1, model__min_samples_split=6, model__n_estimators=192; total time= 3.7min\n",
      "[CV] END model__bootstrap=True, model__max_depth=10, model__max_features=0.3, model__min_samples_leaf=1, model__min_samples_split=6, model__n_estimators=192; total time= 3.7min\n",
      "[CV] END model__bootstrap=True, model__max_depth=10, model__max_features=0.3, model__min_samples_leaf=1, model__min_samples_split=6, model__n_estimators=192; total time= 3.6min\n",
      "[CV] END model__bootstrap=True, model__max_depth=20, model__max_features=0.5, model__min_samples_leaf=3, model__min_samples_split=7, model__n_estimators=152; total time= 7.5min\n",
      "[CV] END model__bootstrap=True, model__max_depth=20, model__max_features=0.5, model__min_samples_leaf=3, model__min_samples_split=7, model__n_estimators=152; total time= 7.2min\n",
      "[CV] END model__bootstrap=True, model__max_depth=20, model__max_features=0.5, model__min_samples_leaf=3, model__min_samples_split=7, model__n_estimators=152; total time= 7.2min\n",
      "Best rf CV score log-RMSE: 0.39754111369803\n",
      "Best rf hyper-parameters:    {'model__bootstrap': True, 'model__max_depth': 20, 'model__max_features': 0.3, 'model__min_samples_leaf': 2, 'model__min_samples_split': 7, 'model__n_estimators': 183}\n",
      "Hold-out rf RMSE: 0.1597386353082649\n"
     ]
    }
   ],
   "execution_count": 37
  },
  {
   "metadata": {
    "ExecuteTime": {
     "end_time": "2025-06-18T04:21:39.746335Z",
     "start_time": "2025-06-18T04:20:38.166060Z"
    }
   },
   "cell_type": "code",
   "source": [
    "from xgboost import XGBRegressor\n",
    "\n",
    "xgb_pipeline = Pipeline(\n",
    "    steps=[\n",
    "      (\"prep\", preprocessing),\n",
    "      (\"model\", XGBRegressor(\n",
    "          objective=\"reg:squarederror\",\n",
    "          random_state=RANDOM_SEED,\n",
    "          n_jobs=-1,\n",
    "          enable_categorical=True,  # lets pandas categories through\n",
    "      )),\n",
    "    ],\n",
    "    memory=None,\n",
    ")\n",
    "\n",
    "search_xgb = RandomizedSearchCV(\n",
    "    xgb_pipeline,\n",
    "    param_distributions=param_dist_xgb_fast,\n",
    "    n_iter=8,  # 2×2×1×1×1×1 = 4  → 8 Samples decken alles ab\n",
    "    cv=3,\n",
    "    scoring=\"neg_root_mean_squared_error\",\n",
    "    random_state=RANDOM_SEED,\n",
    "    n_jobs=-1,\n",
    ")\n",
    "\n",
    "search_xgb.fit(X_train, y_train)\n",
    "\n",
    "print(\"Best xgb CV score log-RMSE:\", -search_xgb.best_score_)\n",
    "print(\"Best xgb hyper-parameters:   \", search_xgb.best_params_)\n",
    "\n",
    "best_xgb_model = search_xgb.best_estimator_\n",
    "y_xgb_pred = best_xgb_model.predict(X_holdout)\n",
    "xgb_rmse = mean_squared_error(y_holdout, y_xgb_pred)\n",
    "\n",
    "print(\"Hold-out xgb RMSE:\", xgb_rmse)"
   ],
   "id": "1b80505fb2531d9d",
   "outputs": [
    {
     "name": "stderr",
     "output_type": "stream",
     "text": [
      "/Users/Wendo99/miniconda3/envs/NYC_Taxi/lib/python3.12/site-packages/sklearn/model_selection/_search.py:317: UserWarning: The total space of parameters 4 is smaller than n_iter=8. Running 4 iterations. For exhaustive searches, use GridSearchCV.\n",
      "  warnings.warn(\n"
     ]
    },
    {
     "name": "stdout",
     "output_type": "stream",
     "text": [
      "Best xgb CV score log-RMSE: 0.3957739854488404\n",
      "Best xgb hyper-parameters:    {'model__subsample': 0.8, 'model__n_estimators': 300, 'model__max_depth': 9, 'model__learning_rate': 0.05, 'model__gamma': 0, 'model__colsample_bytree': 0.8}\n",
      "Hold-out xgb RMSE: 0.15892652155664427\n"
     ]
    }
   ],
   "execution_count": 36
  },
  {
   "metadata": {
    "ExecuteTime": {
     "end_time": "2025-06-18T04:20:37.834443Z",
     "start_time": "2025-06-18T04:15:21.033876Z"
    }
   },
   "cell_type": "code",
   "source": [
    "from lightgbm import LGBMRegressor\n",
    "from sklearn.model_selection import RandomizedSearchCV\n",
    "\n",
    "lgbm_pipeline = Pipeline(\n",
    "    steps=[\n",
    "      (\"prep\", preprocessing),  # your ColumnTransformer\n",
    "      (\"model\", LGBMRegressor(\n",
    "          objective=\"regression\",\n",
    "          metric=\"rmse\",\n",
    "          random_state=RANDOM_SEED,\n",
    "          n_jobs=-1,\n",
    "          # no enable_categorical here—after preprocessing features are numeric\n",
    "      )),\n",
    "    ],\n",
    "    memory=None,\n",
    ")\n",
    "\n",
    "search_lgbm = RandomizedSearchCV(\n",
    "    lgbm_pipeline,\n",
    "    param_distributions=param_dist_lgbm_fast,\n",
    "    n_iter=12,  # 2×2×2×2×2×1×1 = 32 → 12 Zufallssamples reichen\n",
    "    cv=3,\n",
    "    scoring=\"neg_root_mean_squared_error\",\n",
    "    random_state=RANDOM_SEED,\n",
    "    n_jobs=-1,\n",
    ")\n",
    "\n",
    "search_lgbm.fit(X_train, y_train)\n",
    "\n",
    "print(\"Best LGBM CV log-RMSE:\", -search_lgbm.best_score_)\n",
    "print(\"Best LGBM hyper-parameters:\", search_lgbm.best_params_)\n",
    "\n",
    "best_lgbm_model = search_lgbm.best_estimator_\n",
    "y_lgbm_pred = best_lgbm_model.predict(X_holdout)\n",
    "lgbm_rmse = mean_squared_error(y_holdout, y_lgbm_pred)\n",
    "print(\"Hold-out LGBM RMSE:\", lgbm_rmse)"
   ],
   "id": "8949c080cddb7405",
   "outputs": [
    {
     "name": "stdout",
     "output_type": "stream",
     "text": [
      "[LightGBM] [Warning] bagging_freq is set=0, subsample_freq=0 will be ignored. Current value: bagging_freq=0\n",
      "[LightGBM] [Warning] feature_fraction is set=1.0, colsample_bytree=1.0 will be ignored. Current value: feature_fraction=1.0\n",
      "[LightGBM] [Warning] bagging_fraction is set=0.8, subsample=1.0 will be ignored. Current value: bagging_fraction=0.8\n",
      "[LightGBM] [Warning] bagging_freq is set=0, subsample_freq=0 will be ignored. Current value: bagging_freq=0\n",
      "[LightGBM] [Warning] feature_fraction is set=1.0, colsample_bytree=1.0 will be ignored. Current value: feature_fraction=1.0\n",
      "[LightGBM] [Warning] bagging_fraction is set=0.8, subsample=1.0 will be ignored. Current value: bagging_fraction=0.8\n",
      "[LightGBM] [Warning] bagging_freq is set=0, subsample_freq=0 will be ignored. Current value: bagging_freq=0\n",
      "[LightGBM] [Warning] feature_fraction is set=0.8, colsample_bytree=1.0 will be ignored. Current value: feature_fraction=0.8\n",
      "[LightGBM] [Warning] bagging_fraction is set=0.8, subsample=1.0 will be ignored. Current value: bagging_fraction=0.8\n",
      "[LightGBM] [Warning] bagging_freq is set=0, subsample_freq=0 will be ignored. Current value: bagging_freq=0\n",
      "[LightGBM] [Warning] feature_fraction is set=1.0, colsample_bytree=1.0 will be ignored. Current value: feature_fraction=1.0\n",
      "[LightGBM] [Warning] bagging_fraction is set=0.8, subsample=1.0 will be ignored. Current value: bagging_fraction=0.8\n",
      "[LightGBM] [Warning] bagging_freq is set=0, subsample_freq=0 will be ignored. Current value: bagging_freq=0\n",
      "[LightGBM] [Warning] feature_fraction is set=1.0, colsample_bytree=1.0 will be ignored. Current value: feature_fraction=1.0\n",
      "[LightGBM] [Warning] bagging_fraction is set=0.8, subsample=1.0 will be ignored. Current value: bagging_fraction=0.8\n",
      "[LightGBM] [Warning] bagging_freq is set=0, subsample_freq=0 will be ignored. Current value: bagging_freq=0\n",
      "[LightGBM] [Warning] feature_fraction is set=0.8, colsample_bytree=1.0 will be ignored. Current value: feature_fraction=0.8\n",
      "[LightGBM] [Warning] bagging_fraction is set=0.8, subsample=1.0 will be ignored. Current value: bagging_fraction=0.8\n",
      "[LightGBM] [Info] Auto-choosing row-wise multi-threading, the overhead of testing was 0.061050 seconds.\n",
      "You can set `force_row_wise=true` to remove the overhead.\n",
      "And if memory is not enough, you can set `force_col_wise=true`.\n",
      "[LightGBM] [Info] Total Bins 1729\n",
      "[LightGBM] [Info] Number of data points in the train set: 777943, number of used features: 34\n",
      "[LightGBM] [Info] Start training from score 6.469957\n",
      "[LightGBM] [Warning] bagging_freq is set=0, subsample_freq=0 will be ignored. Current value: bagging_freq=0\n",
      "[LightGBM] [Warning] feature_fraction is set=0.8, colsample_bytree=1.0 will be ignored. Current value: feature_fraction=0.8\n",
      "[LightGBM] [Warning] bagging_fraction is set=0.8, subsample=1.0 will be ignored. Current value: bagging_fraction=0.8\n",
      "[LightGBM] [Warning] bagging_freq is set=0, subsample_freq=0 will be ignored. Current value: bagging_freq=0\n",
      "[LightGBM] [Warning] feature_fraction is set=1.0, colsample_bytree=1.0 will be ignored. Current value: feature_fraction=1.0\n",
      "[LightGBM] [Warning] bagging_fraction is set=0.8, subsample=1.0 will be ignored. Current value: bagging_fraction=0.8\n",
      "[LightGBM] [Warning] bagging_freq is set=0, subsample_freq=0 will be ignored. Current value: bagging_freq=0\n",
      "[LightGBM] [Warning] feature_fraction is set=1.0, colsample_bytree=1.0 will be ignored. Current value: feature_fraction=1.0\n",
      "[LightGBM] [Warning] bagging_fraction is set=0.8, subsample=1.0 will be ignored. Current value: bagging_fraction=0.8\n",
      "[LightGBM] [Warning] bagging_freq is set=0, subsample_freq=0 will be ignored. Current value: bagging_freq=0\n",
      "[LightGBM] [Warning] feature_fraction is set=1.0, colsample_bytree=1.0 will be ignored. Current value: feature_fraction=1.0\n",
      "[LightGBM] [Warning] bagging_fraction is set=0.8, subsample=1.0 will be ignored. Current value: bagging_fraction=0.8\n",
      "[LightGBM] [Warning] bagging_freq is set=0, subsample_freq=0 will be ignored. Current value: bagging_freq=0\n",
      "[LightGBM] [Warning] feature_fraction is set=1.0, colsample_bytree=1.0 will be ignored. Current value: feature_fraction=1.0\n",
      "[LightGBM] [Warning] bagging_fraction is set=0.8, subsample=1.0 will be ignored. Current value: bagging_fraction=0.8\n",
      "[LightGBM] [Warning] bagging_freq is set=0, subsample_freq=0 will be ignored. Current value: bagging_freq=0\n",
      "[LightGBM] [Warning] feature_fraction is set=1.0, colsample_bytree=1.0 will be ignored. Current value: feature_fraction=1.0\n",
      "[LightGBM] [Warning] bagging_fraction is set=0.8, subsample=1.0 will be ignored. Current value: bagging_fraction=0.8\n",
      "[LightGBM] [Info] Auto-choosing row-wise multi-threading, the overhead of testing was 0.163099 seconds.\n",
      "You can set `force_row_wise=true` to remove the overhead.\n",
      "And if memory is not enough, you can set `force_col_wise=true`.\n",
      "[LightGBM] [Info] Total Bins 1729\n",
      "[LightGBM] [Info] Number of data points in the train set: 777943, number of used features: 34\n",
      "[LightGBM] [Info] Start training from score 6.469957\n",
      "[LightGBM] [Warning] bagging_freq is set=0, subsample_freq=0 will be ignored. Current value: bagging_freq=0\n",
      "[LightGBM] [Warning] feature_fraction is set=0.8, colsample_bytree=1.0 will be ignored. Current value: feature_fraction=0.8\n",
      "[LightGBM] [Warning] bagging_fraction is set=0.8, subsample=1.0 will be ignored. Current value: bagging_fraction=0.8\n",
      "[LightGBM] [Warning] bagging_freq is set=0, subsample_freq=0 will be ignored. Current value: bagging_freq=0\n",
      "[LightGBM] [Warning] feature_fraction is set=1.0, colsample_bytree=1.0 will be ignored. Current value: feature_fraction=1.0\n",
      "[LightGBM] [Warning] bagging_fraction is set=0.8, subsample=1.0 will be ignored. Current value: bagging_fraction=0.8\n",
      "[LightGBM] [Warning] bagging_freq is set=0, subsample_freq=0 will be ignored. Current value: bagging_freq=0\n",
      "[LightGBM] [Warning] feature_fraction is set=0.8, colsample_bytree=1.0 will be ignored. Current value: feature_fraction=0.8\n",
      "[LightGBM] [Warning] bagging_fraction is set=0.8, subsample=1.0 will be ignored. Current value: bagging_fraction=0.8\n",
      "[LightGBM] [Warning] bagging_freq is set=0, subsample_freq=0 will be ignored. Current value: bagging_freq=0\n",
      "[LightGBM] [Warning] feature_fraction is set=0.8, colsample_bytree=1.0 will be ignored. Current value: feature_fraction=0.8\n",
      "[LightGBM] [Warning] bagging_fraction is set=0.8, subsample=1.0 will be ignored. Current value: bagging_fraction=0.8\n",
      "[LightGBM] [Warning] bagging_freq is set=0, subsample_freq=0 will be ignored. Current value: bagging_freq=0\n",
      "[LightGBM] [Warning] feature_fraction is set=1.0, colsample_bytree=1.0 will be ignored. Current value: feature_fraction=1.0\n",
      "[LightGBM] [Warning] bagging_fraction is set=0.8, subsample=1.0 will be ignored. Current value: bagging_fraction=0.8\n",
      "[LightGBM] [Warning] bagging_freq is set=0, subsample_freq=0 will be ignored. Current value: bagging_freq=0\n",
      "[LightGBM] [Warning] feature_fraction is set=1.0, colsample_bytree=1.0 will be ignored. Current value: feature_fraction=1.0\n",
      "[LightGBM] [Warning] bagging_fraction is set=0.8, subsample=1.0 will be ignored. Current value: bagging_fraction=0.8\n",
      "[LightGBM] [Warning] bagging_freq is set=0, subsample_freq=0 will be ignored. Current value: bagging_freq=0\n",
      "[LightGBM] [Warning] feature_fraction is set=1.0, colsample_bytree=1.0 will be ignored. Current value: feature_fraction=1.0\n",
      "[LightGBM] [Warning] bagging_fraction is set=0.8, subsample=1.0 will be ignored. Current value: bagging_fraction=0.8\n",
      "[LightGBM] [Warning] bagging_freq is set=0, subsample_freq=0 will be ignored. Current value: bagging_freq=0\n",
      "[LightGBM] [Warning] feature_fraction is set=1.0, colsample_bytree=1.0 will be ignored. Current value: feature_fraction=1.0\n",
      "[LightGBM] [Warning] bagging_fraction is set=0.8, subsample=1.0 will be ignored. Current value: bagging_fraction=0.8\n",
      "[LightGBM] [Info] Auto-choosing row-wise multi-threading, the overhead of testing was 0.367253 seconds.\n",
      "You can set `force_row_wise=true` to remove the overhead.\n",
      "And if memory is not enough, you can set `force_col_wise=true`.\n",
      "[LightGBM] [Info] Total Bins 1729\n",
      "[LightGBM] [Info] Number of data points in the train set: 777943, number of used features: 34\n",
      "[LightGBM] [Info] Start training from score 6.469957\n",
      "[LightGBM] [Info] Auto-choosing row-wise multi-threading, the overhead of testing was 0.236859 seconds.\n",
      "You can set `force_row_wise=true` to remove the overhead.\n",
      "And if memory is not enough, you can set `force_col_wise=true`.\n",
      "[LightGBM] [Info] Total Bins 1724\n",
      "[LightGBM] [Info] Number of data points in the train set: 777943, number of used features: 34\n",
      "[LightGBM] [Info] Start training from score 6.470364\n",
      "[LightGBM] [Info] Auto-choosing row-wise multi-threading, the overhead of testing was 0.280405 seconds.\n",
      "You can set `force_row_wise=true` to remove the overhead.\n",
      "And if memory is not enough, you can set `force_col_wise=true`.\n",
      "[LightGBM] [Info] Total Bins 1729\n",
      "[LightGBM] [Info] Number of data points in the train set: 777943, number of used features: 34\n",
      "[LightGBM] [Info] Auto-choosing row-wise multi-threading, the overhead of testing was 0.166466 seconds.\n",
      "You can set `force_row_wise=true` to remove the overhead.\n",
      "And if memory is not enough, you can set `force_col_wise=true`.\n",
      "[LightGBM] [Info] Total Bins 1718\n",
      "[LightGBM] [Info] Start training from score 6.469957\n",
      "[LightGBM] [Info] Number of data points in the train set: 777944, number of used features: 34\n",
      "[LightGBM] [Info] Auto-choosing row-wise multi-threading, the overhead of testing was 0.176728 seconds.\n",
      "You can set `force_row_wise=true` to remove the overhead.\n",
      "And if memory is not enough, you can set `force_col_wise=true`.\n",
      "[LightGBM] [Info] Total Bins 1718\n",
      "[LightGBM] [Info] Start training from score 6.468315\n",
      "[LightGBM] [Info] Number of data points in the train set: 777944, number of used features: 34\n",
      "[LightGBM] [Info] Auto-choosing row-wise multi-threading, the overhead of testing was 0.205320 seconds.\n",
      "You can set `force_row_wise=true` to remove the overhead.\n",
      "And if memory is not enough, you can set `force_col_wise=true`.\n",
      "[LightGBM] [Info] Total Bins 1724\n",
      "[LightGBM] [Info] Start training from score 6.468315\n",
      "[LightGBM] [Info] Number of data points in the train set: 777943, number of used features: 34\n",
      "[LightGBM] [Info] Auto-choosing row-wise multi-threading, the overhead of testing was 0.203131 seconds.\n",
      "You can set `force_row_wise=true` to remove the overhead.\n",
      "And if memory is not enough, you can set `force_col_wise=true`.\n",
      "[LightGBM] [Info] Total Bins 1718\n",
      "[LightGBM] [Info] Number of data points in the train set: 777944, number of used features: 34\n",
      "[LightGBM] [Info] Start training from score 6.470364\n",
      "[LightGBM] [Info] Start training from score 6.468315\n",
      "[LightGBM] [Info] Auto-choosing row-wise multi-threading, the overhead of testing was 0.157704 seconds.\n",
      "You can set `force_row_wise=true` to remove the overhead.\n",
      "And if memory is not enough, you can set `force_col_wise=true`.\n",
      "[LightGBM] [Info] Total Bins 1724\n",
      "[LightGBM] [Info] Number of data points in the train set: 777943, number of used features: 34\n",
      "[LightGBM] [Info] Start training from score 6.470364\n",
      "[LightGBM] [Warning] No further splits with positive gain, best gain: -inf\n",
      "[LightGBM] [Warning] No further splits with positive gain, best gain: -inf\n",
      "[LightGBM] [Warning] No further splits with positive gain, best gain: -inf\n",
      "[LightGBM] [Warning] No further splits with positive gain, best gain: -inf\n",
      "[LightGBM] [Warning] No further splits with positive gain, best gain: -inf\n"
     ]
    },
    {
     "name": "stderr",
     "output_type": "stream",
     "text": [
      "/Users/Wendo99/miniconda3/envs/NYC_Taxi/lib/python3.12/site-packages/sklearn/utils/validation.py:2739: UserWarning: X does not have valid feature names, but LGBMRegressor was fitted with feature names\n",
      "  warnings.warn(\n",
      "/Users/Wendo99/miniconda3/envs/NYC_Taxi/lib/python3.12/site-packages/sklearn/utils/validation.py:2739: UserWarning: X does not have valid feature names, but LGBMRegressor was fitted with feature names\n",
      "  warnings.warn(\n",
      "/Users/Wendo99/miniconda3/envs/NYC_Taxi/lib/python3.12/site-packages/sklearn/utils/validation.py:2739: UserWarning: X does not have valid feature names, but LGBMRegressor was fitted with feature names\n",
      "  warnings.warn(\n"
     ]
    },
    {
     "name": "stdout",
     "output_type": "stream",
     "text": [
      "[LightGBM] [Warning] bagging_freq is set=0, subsample_freq=0 will be ignored. Current value: bagging_freq=0\n",
      "[LightGBM] [Warning] feature_fraction is set=1.0, colsample_bytree=1.0 will be ignored. Current value: feature_fraction=1.0\n",
      "[LightGBM] [Warning] bagging_fraction is set=0.8, subsample=1.0 will be ignored. Current value: bagging_fraction=0.8\n",
      "[LightGBM] [Warning] bagging_freq is set=0, subsample_freq=0 will be ignored. Current value: bagging_freq=0\n",
      "[LightGBM] [Warning] feature_fraction is set=1.0, colsample_bytree=1.0 will be ignored. Current value: feature_fraction=1.0\n",
      "[LightGBM] [Warning] bagging_fraction is set=0.8, subsample=1.0 will be ignored. Current value: bagging_fraction=0.8\n",
      "[LightGBM] [Warning] bagging_freq is set=0, subsample_freq=0 will be ignored. Current value: bagging_freq=0\n",
      "[LightGBM] [Warning] feature_fraction is set=1.0, colsample_bytree=1.0 will be ignored. Current value: feature_fraction=1.0\n",
      "[LightGBM] [Warning] bagging_fraction is set=0.8, subsample=1.0 will be ignored. Current value: bagging_fraction=0.8\n",
      "[LightGBM] [Warning] bagging_freq is set=0, subsample_freq=0 will be ignored. Current value: bagging_freq=0\n",
      "[LightGBM] [Warning] feature_fraction is set=1.0, colsample_bytree=1.0 will be ignored. Current value: feature_fraction=1.0\n",
      "[LightGBM] [Warning] bagging_fraction is set=0.8, subsample=1.0 will be ignored. Current value: bagging_fraction=0.8\n",
      "[LightGBM] [Warning] bagging_freq is set=0, subsample_freq=0 will be ignored. Current value: bagging_freq=0\n",
      "[LightGBM] [Warning] feature_fraction is set=1.0, colsample_bytree=1.0 will be ignored. Current value: feature_fraction=1.0\n",
      "[LightGBM] [Warning] bagging_fraction is set=0.8, subsample=1.0 will be ignored. Current value: bagging_fraction=0.8\n",
      "[LightGBM] [Warning] bagging_freq is set=0, subsample_freq=0 will be ignored. Current value: bagging_freq=0\n",
      "[LightGBM] [Warning] feature_fraction is set=1.0, colsample_bytree=1.0 will be ignored. Current value: feature_fraction=1.0\n",
      "[LightGBM] [Warning] bagging_fraction is set=0.8, subsample=1.0 will be ignored. Current value: bagging_fraction=0.8\n",
      "[LightGBM] [Warning] bagging_freq is set=0, subsample_freq=0 will be ignored. Current value: bagging_freq=0\n",
      "[LightGBM] [Warning] feature_fraction is set=0.8, colsample_bytree=1.0 will be ignored. Current value: feature_fraction=0.8\n",
      "[LightGBM] [Warning] bagging_fraction is set=0.8, subsample=1.0 will be ignored. Current value: bagging_fraction=0.8\n",
      "[LightGBM] [Info] Auto-choosing row-wise multi-threading, the overhead of testing was 0.046204 seconds.\n",
      "You can set `force_row_wise=true` to remove the overhead.\n",
      "And if memory is not enough, you can set `force_col_wise=true`.\n",
      "[LightGBM] [Info] Total Bins 1724\n",
      "[LightGBM] [Info] Number of data points in the train set: 777943, number of used features: 34\n",
      "[LightGBM] [Info] Start training from score 6.470364\n",
      "[LightGBM] [Warning] bagging_freq is set=0, subsample_freq=0 will be ignored. Current value: bagging_freq=0\n",
      "[LightGBM] [Warning] feature_fraction is set=1.0, colsample_bytree=1.0 will be ignored. Current value: feature_fraction=1.0\n",
      "[LightGBM] [Warning] bagging_fraction is set=0.8, subsample=1.0 will be ignored. Current value: bagging_fraction=0.8\n",
      "[LightGBM] [Warning] bagging_freq is set=0, subsample_freq=0 will be ignored. Current value: bagging_freq=0\n",
      "[LightGBM] [Warning] feature_fraction is set=0.8, colsample_bytree=1.0 will be ignored. Current value: feature_fraction=0.8\n",
      "[LightGBM] [Warning] bagging_fraction is set=0.8, subsample=1.0 will be ignored. Current value: bagging_fraction=0.8\n",
      "[LightGBM] [Info] Auto-choosing row-wise multi-threading, the overhead of testing was 0.104252 seconds.\n",
      "You can set `force_row_wise=true` to remove the overhead.\n",
      "And if memory is not enough, you can set `force_col_wise=true`.\n",
      "[LightGBM] [Info] Total Bins 1718\n",
      "[LightGBM] [Info] Number of data points in the train set: 777944, number of used features: 34\n",
      "[LightGBM] [Info] Start training from score 6.468315\n",
      "[LightGBM] [Info] Auto-choosing row-wise multi-threading, the overhead of testing was 0.080303 seconds.\n",
      "You can set `force_row_wise=true` to remove the overhead.\n",
      "And if memory is not enough, you can set `force_col_wise=true`.\n",
      "[LightGBM] [Info] Total Bins 1729\n",
      "[LightGBM] [Info] Number of data points in the train set: 777943, number of used features: 34\n",
      "[LightGBM] [Info] Start training from score 6.469957\n",
      "[LightGBM] [Warning] No further splits with positive gain, best gain: -inf\n",
      "[LightGBM] [Warning] No further splits with positive gain, best gain: -inf\n",
      "[LightGBM] [Warning] No further splits with positive gain, best gain: -inf\n",
      "[LightGBM] [Warning] No further splits with positive gain, best gain: -inf\n",
      "[LightGBM] [Warning] No further splits with positive gain, best gain: -inf\n",
      "[LightGBM] [Warning] No further splits with positive gain, best gain: -inf\n",
      "[LightGBM] [Warning] No further splits with positive gain, best gain: -inf\n",
      "[LightGBM] [Warning] No further splits with positive gain, best gain: -inf\n",
      "[LightGBM] [Warning] No further splits with positive gain, best gain: -inf\n",
      "[LightGBM] [Warning] No further splits with positive gain, best gain: -inf\n",
      "[LightGBM] [Warning] No further splits with positive gain, best gain: -inf\n",
      "[LightGBM] [Warning] No further splits with positive gain, best gain: -inf\n",
      "[LightGBM] [Warning] No further splits with positive gain, best gain: -inf\n",
      "[LightGBM] [Warning] No further splits with positive gain, best gain: -inf\n"
     ]
    },
    {
     "name": "stderr",
     "output_type": "stream",
     "text": [
      "/Users/Wendo99/miniconda3/envs/NYC_Taxi/lib/python3.12/site-packages/sklearn/utils/validation.py:2739: UserWarning: X does not have valid feature names, but LGBMRegressor was fitted with feature names\n",
      "  warnings.warn(\n"
     ]
    },
    {
     "name": "stdout",
     "output_type": "stream",
     "text": [
      "[LightGBM] [Warning] bagging_freq is set=0, subsample_freq=0 will be ignored. Current value: bagging_freq=0\n",
      "[LightGBM] [Warning] feature_fraction is set=1.0, colsample_bytree=1.0 will be ignored. Current value: feature_fraction=1.0\n",
      "[LightGBM] [Warning] bagging_fraction is set=0.8, subsample=1.0 will be ignored. Current value: bagging_fraction=0.8\n"
     ]
    },
    {
     "name": "stderr",
     "output_type": "stream",
     "text": [
      "/Users/Wendo99/miniconda3/envs/NYC_Taxi/lib/python3.12/site-packages/sklearn/utils/validation.py:2739: UserWarning: X does not have valid feature names, but LGBMRegressor was fitted with feature names\n",
      "  warnings.warn(\n"
     ]
    },
    {
     "name": "stdout",
     "output_type": "stream",
     "text": [
      "[LightGBM] [Warning] bagging_freq is set=0, subsample_freq=0 will be ignored. Current value: bagging_freq=0\n",
      "[LightGBM] [Warning] feature_fraction is set=1.0, colsample_bytree=1.0 will be ignored. Current value: feature_fraction=1.0\n",
      "[LightGBM] [Warning] bagging_fraction is set=0.8, subsample=1.0 will be ignored. Current value: bagging_fraction=0.8\n"
     ]
    },
    {
     "name": "stderr",
     "output_type": "stream",
     "text": [
      "/Users/Wendo99/miniconda3/envs/NYC_Taxi/lib/python3.12/site-packages/sklearn/utils/validation.py:2739: UserWarning: X does not have valid feature names, but LGBMRegressor was fitted with feature names\n",
      "  warnings.warn(\n"
     ]
    },
    {
     "name": "stdout",
     "output_type": "stream",
     "text": [
      "[LightGBM] [Warning] bagging_freq is set=0, subsample_freq=0 will be ignored. Current value: bagging_freq=0\n",
      "[LightGBM] [Warning] feature_fraction is set=1.0, colsample_bytree=1.0 will be ignored. Current value: feature_fraction=1.0\n",
      "[LightGBM] [Warning] bagging_fraction is set=0.8, subsample=1.0 will be ignored. Current value: bagging_fraction=0.8\n",
      "[LightGBM] [Warning] bagging_freq is set=0, subsample_freq=0 will be ignored. Current value: bagging_freq=0\n",
      "[LightGBM] [Warning] feature_fraction is set=0.8, colsample_bytree=1.0 will be ignored. Current value: feature_fraction=0.8\n",
      "[LightGBM] [Warning] bagging_fraction is set=0.8, subsample=1.0 will be ignored. Current value: bagging_fraction=0.8\n",
      "[LightGBM] [Warning] bagging_freq is set=0, subsample_freq=0 will be ignored. Current value: bagging_freq=0\n",
      "[LightGBM] [Warning] feature_fraction is set=0.8, colsample_bytree=1.0 will be ignored. Current value: feature_fraction=0.8\n",
      "[LightGBM] [Warning] bagging_fraction is set=0.8, subsample=1.0 will be ignored. Current value: bagging_fraction=0.8\n",
      "[LightGBM] [Info] Auto-choosing row-wise multi-threading, the overhead of testing was 0.044523 seconds.\n",
      "You can set `force_row_wise=true` to remove the overhead.\n",
      "And if memory is not enough, you can set `force_col_wise=true`.\n",
      "[LightGBM] [Info] Total Bins 1724\n",
      "[LightGBM] [Info] Number of data points in the train set: 777943, number of used features: 34\n",
      "[LightGBM] [Info] Start training from score 6.470364\n",
      "[LightGBM] [Warning] bagging_freq is set=0, subsample_freq=0 will be ignored. Current value: bagging_freq=0\n",
      "[LightGBM] [Warning] feature_fraction is set=0.8, colsample_bytree=1.0 will be ignored. Current value: feature_fraction=0.8\n",
      "[LightGBM] [Warning] bagging_fraction is set=0.8, subsample=1.0 will be ignored. Current value: bagging_fraction=0.8\n",
      "[LightGBM] [Warning] bagging_freq is set=0, subsample_freq=0 will be ignored. Current value: bagging_freq=0\n",
      "[LightGBM] [Warning] feature_fraction is set=0.8, colsample_bytree=1.0 will be ignored. Current value: feature_fraction=0.8\n",
      "[LightGBM] [Warning] bagging_fraction is set=0.8, subsample=1.0 will be ignored. Current value: bagging_fraction=0.8\n",
      "[LightGBM] [Info] Auto-choosing row-wise multi-threading, the overhead of testing was 0.050983 seconds.\n",
      "You can set `force_row_wise=true` to remove the overhead.\n",
      "And if memory is not enough, you can set `force_col_wise=true`.\n",
      "[LightGBM] [Info] Total Bins 1718\n",
      "[LightGBM] [Info] Number of data points in the train set: 777944, number of used features: 34\n",
      "[LightGBM] [Info] Start training from score 6.468315\n",
      "[LightGBM] [Warning] bagging_freq is set=0, subsample_freq=0 will be ignored. Current value: bagging_freq=0\n",
      "[LightGBM] [Warning] feature_fraction is set=0.8, colsample_bytree=1.0 will be ignored. Current value: feature_fraction=0.8\n",
      "[LightGBM] [Warning] bagging_fraction is set=0.8, subsample=1.0 will be ignored. Current value: bagging_fraction=0.8\n",
      "[LightGBM] [Warning] bagging_freq is set=0, subsample_freq=0 will be ignored. Current value: bagging_freq=0\n",
      "[LightGBM] [Warning] feature_fraction is set=0.8, colsample_bytree=1.0 will be ignored. Current value: feature_fraction=0.8\n",
      "[LightGBM] [Warning] bagging_fraction is set=0.8, subsample=1.0 will be ignored. Current value: bagging_fraction=0.8\n",
      "[LightGBM] [Info] Auto-choosing row-wise multi-threading, the overhead of testing was 0.049869 seconds.\n",
      "You can set `force_row_wise=true` to remove the overhead.\n",
      "And if memory is not enough, you can set `force_col_wise=true`.\n",
      "[LightGBM] [Info] Total Bins 1729\n",
      "[LightGBM] [Info] Number of data points in the train set: 777943, number of used features: 34\n",
      "[LightGBM] [Info] Start training from score 6.469957\n",
      "[LightGBM] [Warning] No further splits with positive gain, best gain: -inf\n",
      "[LightGBM] [Warning] No further splits with positive gain, best gain: -inf\n"
     ]
    },
    {
     "name": "stderr",
     "output_type": "stream",
     "text": [
      "/Users/Wendo99/miniconda3/envs/NYC_Taxi/lib/python3.12/site-packages/sklearn/utils/validation.py:2739: UserWarning: X does not have valid feature names, but LGBMRegressor was fitted with feature names\n",
      "  warnings.warn(\n"
     ]
    },
    {
     "name": "stdout",
     "output_type": "stream",
     "text": [
      "[LightGBM] [Warning] bagging_freq is set=0, subsample_freq=0 will be ignored. Current value: bagging_freq=0\n",
      "[LightGBM] [Warning] feature_fraction is set=1.0, colsample_bytree=1.0 will be ignored. Current value: feature_fraction=1.0\n",
      "[LightGBM] [Warning] bagging_fraction is set=0.8, subsample=1.0 will be ignored. Current value: bagging_fraction=0.8\n",
      "[LightGBM] [Warning] bagging_freq is set=0, subsample_freq=0 will be ignored. Current value: bagging_freq=0\n",
      "[LightGBM] [Warning] feature_fraction is set=0.8, colsample_bytree=1.0 will be ignored. Current value: feature_fraction=0.8\n",
      "[LightGBM] [Warning] bagging_fraction is set=0.8, subsample=1.0 will be ignored. Current value: bagging_fraction=0.8\n",
      "[LightGBM] [Warning] bagging_freq is set=0, subsample_freq=0 will be ignored. Current value: bagging_freq=0\n",
      "[LightGBM] [Warning] feature_fraction is set=0.8, colsample_bytree=1.0 will be ignored. Current value: feature_fraction=0.8\n",
      "[LightGBM] [Warning] bagging_fraction is set=0.8, subsample=1.0 will be ignored. Current value: bagging_fraction=0.8\n",
      "[LightGBM] [Info] Auto-choosing row-wise multi-threading, the overhead of testing was 0.041315 seconds.\n",
      "You can set `force_row_wise=true` to remove the overhead.\n",
      "And if memory is not enough, you can set `force_col_wise=true`.\n",
      "[LightGBM] [Info] Total Bins 1724\n",
      "[LightGBM] [Info] Number of data points in the train set: 777943, number of used features: 34\n",
      "[LightGBM] [Info] Start training from score 6.470364\n"
     ]
    },
    {
     "name": "stderr",
     "output_type": "stream",
     "text": [
      "/Users/Wendo99/miniconda3/envs/NYC_Taxi/lib/python3.12/site-packages/sklearn/utils/validation.py:2739: UserWarning: X does not have valid feature names, but LGBMRegressor was fitted with feature names\n",
      "  warnings.warn(\n"
     ]
    },
    {
     "name": "stdout",
     "output_type": "stream",
     "text": [
      "[LightGBM] [Warning] bagging_freq is set=0, subsample_freq=0 will be ignored. Current value: bagging_freq=0\n",
      "[LightGBM] [Warning] feature_fraction is set=0.8, colsample_bytree=1.0 will be ignored. Current value: feature_fraction=0.8\n",
      "[LightGBM] [Warning] bagging_fraction is set=0.8, subsample=1.0 will be ignored. Current value: bagging_fraction=0.8\n",
      "[LightGBM] [Warning] No further splits with positive gain, best gain: -inf\n",
      "[LightGBM] [Warning] bagging_freq is set=0, subsample_freq=0 will be ignored. Current value: bagging_freq=0\n",
      "[LightGBM] [Warning] feature_fraction is set=0.8, colsample_bytree=1.0 will be ignored. Current value: feature_fraction=0.8\n",
      "[LightGBM] [Warning] bagging_fraction is set=0.8, subsample=1.0 will be ignored. Current value: bagging_fraction=0.8\n",
      "[LightGBM] [Warning] bagging_freq is set=0, subsample_freq=0 will be ignored. Current value: bagging_freq=0\n",
      "[LightGBM] [Warning] feature_fraction is set=0.8, colsample_bytree=1.0 will be ignored. Current value: feature_fraction=0.8\n",
      "[LightGBM] [Warning] bagging_fraction is set=0.8, subsample=1.0 will be ignored. Current value: bagging_fraction=0.8\n",
      "[LightGBM] [Info] Auto-choosing row-wise multi-threading, the overhead of testing was 0.056466 seconds.\n",
      "You can set `force_row_wise=true` to remove the overhead.\n",
      "And if memory is not enough, you can set `force_col_wise=true`.\n",
      "[LightGBM] [Info] Total Bins 1718\n",
      "[LightGBM] [Info] Number of data points in the train set: 777944, number of used features: 34\n",
      "[LightGBM] [Info] Start training from score 6.468315\n",
      "[LightGBM] [Warning] No further splits with positive gain, best gain: -inf\n",
      "[LightGBM] [Warning] No further splits with positive gain, best gain: -inf\n",
      "[LightGBM] [Warning] No further splits with positive gain, best gain: -inf\n",
      "[LightGBM] [Warning] No further splits with positive gain, best gain: -inf\n",
      "[LightGBM] [Warning] No further splits with positive gain, best gain: -inf\n",
      "[LightGBM] [Warning] No further splits with positive gain, best gain: -inf\n"
     ]
    },
    {
     "name": "stderr",
     "output_type": "stream",
     "text": [
      "/Users/Wendo99/miniconda3/envs/NYC_Taxi/lib/python3.12/site-packages/sklearn/utils/validation.py:2739: UserWarning: X does not have valid feature names, but LGBMRegressor was fitted with feature names\n",
      "  warnings.warn(\n"
     ]
    },
    {
     "name": "stdout",
     "output_type": "stream",
     "text": [
      "[LightGBM] [Warning] bagging_freq is set=0, subsample_freq=0 will be ignored. Current value: bagging_freq=0\n",
      "[LightGBM] [Warning] feature_fraction is set=0.8, colsample_bytree=1.0 will be ignored. Current value: feature_fraction=0.8\n",
      "[LightGBM] [Warning] bagging_fraction is set=0.8, subsample=1.0 will be ignored. Current value: bagging_fraction=0.8\n"
     ]
    },
    {
     "name": "stderr",
     "output_type": "stream",
     "text": [
      "/Users/Wendo99/miniconda3/envs/NYC_Taxi/lib/python3.12/site-packages/sklearn/utils/validation.py:2739: UserWarning: X does not have valid feature names, but LGBMRegressor was fitted with feature names\n",
      "  warnings.warn(\n"
     ]
    },
    {
     "name": "stdout",
     "output_type": "stream",
     "text": [
      "[LightGBM] [Warning] bagging_freq is set=0, subsample_freq=0 will be ignored. Current value: bagging_freq=0\n",
      "[LightGBM] [Warning] feature_fraction is set=0.8, colsample_bytree=1.0 will be ignored. Current value: feature_fraction=0.8\n",
      "[LightGBM] [Warning] bagging_fraction is set=0.8, subsample=1.0 will be ignored. Current value: bagging_fraction=0.8\n",
      "[LightGBM] [Warning] bagging_freq is set=0, subsample_freq=0 will be ignored. Current value: bagging_freq=0\n",
      "[LightGBM] [Warning] feature_fraction is set=1.0, colsample_bytree=1.0 will be ignored. Current value: feature_fraction=1.0\n",
      "[LightGBM] [Warning] bagging_fraction is set=0.8, subsample=1.0 will be ignored. Current value: bagging_fraction=0.8\n",
      "[LightGBM] [Warning] bagging_freq is set=0, subsample_freq=0 will be ignored. Current value: bagging_freq=0\n",
      "[LightGBM] [Warning] feature_fraction is set=1.0, colsample_bytree=1.0 will be ignored. Current value: feature_fraction=1.0\n",
      "[LightGBM] [Warning] bagging_fraction is set=0.8, subsample=1.0 will be ignored. Current value: bagging_fraction=0.8\n",
      "[LightGBM] [Warning] bagging_freq is set=0, subsample_freq=0 will be ignored. Current value: bagging_freq=0\n",
      "[LightGBM] [Warning] feature_fraction is set=1.0, colsample_bytree=1.0 will be ignored. Current value: feature_fraction=1.0\n",
      "[LightGBM] [Warning] bagging_fraction is set=0.8, subsample=1.0 will be ignored. Current value: bagging_fraction=0.8\n",
      "[LightGBM] [Info] Auto-choosing row-wise multi-threading, the overhead of testing was 0.057208 seconds.\n",
      "You can set `force_row_wise=true` to remove the overhead.\n",
      "And if memory is not enough, you can set `force_col_wise=true`.\n",
      "[LightGBM] [Info] Total Bins 1729\n",
      "[LightGBM] [Info] Number of data points in the train set: 777943, number of used features: 34\n",
      "[LightGBM] [Info] Start training from score 6.469957\n",
      "[LightGBM] [Warning] bagging_freq is set=0, subsample_freq=0 will be ignored. Current value: bagging_freq=0\n",
      "[LightGBM] [Warning] feature_fraction is set=1.0, colsample_bytree=1.0 will be ignored. Current value: feature_fraction=1.0\n",
      "[LightGBM] [Warning] bagging_fraction is set=0.8, subsample=1.0 will be ignored. Current value: bagging_fraction=0.8\n",
      "[LightGBM] [Info] Auto-choosing row-wise multi-threading, the overhead of testing was 0.062379 seconds.\n",
      "You can set `force_row_wise=true` to remove the overhead.\n",
      "And if memory is not enough, you can set `force_col_wise=true`.\n",
      "[LightGBM] [Info] Total Bins 1724\n",
      "[LightGBM] [Info] Number of data points in the train set: 777943, number of used features: 34\n",
      "[LightGBM] [Info] Start training from score 6.470364\n",
      "[LightGBM] [Warning] No further splits with positive gain, best gain: -inf\n"
     ]
    },
    {
     "name": "stderr",
     "output_type": "stream",
     "text": [
      "/Users/Wendo99/miniconda3/envs/NYC_Taxi/lib/python3.12/site-packages/sklearn/utils/validation.py:2739: UserWarning: X does not have valid feature names, but LGBMRegressor was fitted with feature names\n",
      "  warnings.warn(\n"
     ]
    },
    {
     "name": "stdout",
     "output_type": "stream",
     "text": [
      "[LightGBM] [Warning] bagging_freq is set=0, subsample_freq=0 will be ignored. Current value: bagging_freq=0\n",
      "[LightGBM] [Warning] feature_fraction is set=1.0, colsample_bytree=1.0 will be ignored. Current value: feature_fraction=1.0\n",
      "[LightGBM] [Warning] bagging_fraction is set=0.8, subsample=1.0 will be ignored. Current value: bagging_fraction=0.8\n"
     ]
    },
    {
     "name": "stderr",
     "output_type": "stream",
     "text": [
      "/Users/Wendo99/miniconda3/envs/NYC_Taxi/lib/python3.12/site-packages/sklearn/utils/validation.py:2739: UserWarning: X does not have valid feature names, but LGBMRegressor was fitted with feature names\n",
      "  warnings.warn(\n"
     ]
    },
    {
     "name": "stdout",
     "output_type": "stream",
     "text": [
      "[LightGBM] [Warning] bagging_freq is set=0, subsample_freq=0 will be ignored. Current value: bagging_freq=0\n",
      "[LightGBM] [Warning] feature_fraction is set=1.0, colsample_bytree=1.0 will be ignored. Current value: feature_fraction=1.0\n",
      "[LightGBM] [Warning] bagging_fraction is set=0.8, subsample=1.0 will be ignored. Current value: bagging_fraction=0.8\n",
      "[LightGBM] [Warning] bagging_freq is set=0, subsample_freq=0 will be ignored. Current value: bagging_freq=0\n",
      "[LightGBM] [Warning] feature_fraction is set=1.0, colsample_bytree=1.0 will be ignored. Current value: feature_fraction=1.0\n",
      "[LightGBM] [Warning] bagging_fraction is set=0.8, subsample=1.0 will be ignored. Current value: bagging_fraction=0.8\n",
      "[LightGBM] [Warning] bagging_freq is set=0, subsample_freq=0 will be ignored. Current value: bagging_freq=0\n",
      "[LightGBM] [Warning] feature_fraction is set=1.0, colsample_bytree=1.0 will be ignored. Current value: feature_fraction=1.0\n",
      "[LightGBM] [Warning] bagging_fraction is set=0.8, subsample=1.0 will be ignored. Current value: bagging_fraction=0.8\n",
      "[LightGBM] [Info] Auto-choosing row-wise multi-threading, the overhead of testing was 0.040647 seconds.\n",
      "You can set `force_row_wise=true` to remove the overhead.\n",
      "And if memory is not enough, you can set `force_col_wise=true`.\n",
      "[LightGBM] [Info] Total Bins 1718\n",
      "[LightGBM] [Info] Number of data points in the train set: 777944, number of used features: 34\n",
      "[LightGBM] [Info] Start training from score 6.468315\n",
      "[LightGBM] [Warning] bagging_freq is set=0, subsample_freq=0 will be ignored. Current value: bagging_freq=0\n",
      "[LightGBM] [Warning] feature_fraction is set=1.0, colsample_bytree=1.0 will be ignored. Current value: feature_fraction=1.0\n",
      "[LightGBM] [Warning] bagging_fraction is set=0.8, subsample=1.0 will be ignored. Current value: bagging_fraction=0.8\n",
      "[LightGBM] [Warning] bagging_freq is set=0, subsample_freq=0 will be ignored. Current value: bagging_freq=0\n",
      "[LightGBM] [Warning] feature_fraction is set=1.0, colsample_bytree=1.0 will be ignored. Current value: feature_fraction=1.0\n",
      "[LightGBM] [Warning] bagging_fraction is set=0.8, subsample=1.0 will be ignored. Current value: bagging_fraction=0.8\n",
      "[LightGBM] [Info] Auto-choosing row-wise multi-threading, the overhead of testing was 0.057956 seconds.\n",
      "You can set `force_row_wise=true` to remove the overhead.\n",
      "And if memory is not enough, you can set `force_col_wise=true`.\n",
      "[LightGBM] [Info] Total Bins 1729\n",
      "[LightGBM] [Info] Number of data points in the train set: 777943, number of used features: 34\n",
      "[LightGBM] [Info] Start training from score 6.469957\n",
      "[LightGBM] [Warning] No further splits with positive gain, best gain: -inf\n"
     ]
    },
    {
     "name": "stderr",
     "output_type": "stream",
     "text": [
      "/Users/Wendo99/miniconda3/envs/NYC_Taxi/lib/python3.12/site-packages/sklearn/utils/validation.py:2739: UserWarning: X does not have valid feature names, but LGBMRegressor was fitted with feature names\n",
      "  warnings.warn(\n"
     ]
    },
    {
     "name": "stdout",
     "output_type": "stream",
     "text": [
      "[LightGBM] [Warning] bagging_freq is set=0, subsample_freq=0 will be ignored. Current value: bagging_freq=0\n",
      "[LightGBM] [Warning] feature_fraction is set=0.8, colsample_bytree=1.0 will be ignored. Current value: feature_fraction=0.8\n",
      "[LightGBM] [Warning] bagging_fraction is set=0.8, subsample=1.0 will be ignored. Current value: bagging_fraction=0.8\n"
     ]
    },
    {
     "name": "stderr",
     "output_type": "stream",
     "text": [
      "/Users/Wendo99/miniconda3/envs/NYC_Taxi/lib/python3.12/site-packages/sklearn/utils/validation.py:2739: UserWarning: X does not have valid feature names, but LGBMRegressor was fitted with feature names\n",
      "  warnings.warn(\n",
      "/Users/Wendo99/miniconda3/envs/NYC_Taxi/lib/python3.12/site-packages/sklearn/utils/validation.py:2739: UserWarning: X does not have valid feature names, but LGBMRegressor was fitted with feature names\n",
      "  warnings.warn(\n"
     ]
    },
    {
     "name": "stdout",
     "output_type": "stream",
     "text": [
      "[LightGBM] [Warning] bagging_freq is set=0, subsample_freq=0 will be ignored. Current value: bagging_freq=0\n",
      "[LightGBM] [Warning] feature_fraction is set=0.8, colsample_bytree=1.0 will be ignored. Current value: feature_fraction=0.8\n",
      "[LightGBM] [Warning] bagging_fraction is set=0.8, subsample=1.0 will be ignored. Current value: bagging_fraction=0.8\n",
      "[LightGBM] [Warning] bagging_freq is set=0, subsample_freq=0 will be ignored. Current value: bagging_freq=0\n",
      "[LightGBM] [Warning] feature_fraction is set=0.8, colsample_bytree=1.0 will be ignored. Current value: feature_fraction=0.8\n",
      "[LightGBM] [Warning] bagging_fraction is set=0.8, subsample=1.0 will be ignored. Current value: bagging_fraction=0.8\n",
      "[LightGBM] [Warning] bagging_freq is set=0, subsample_freq=0 will be ignored. Current value: bagging_freq=0\n",
      "[LightGBM] [Warning] feature_fraction is set=1.0, colsample_bytree=1.0 will be ignored. Current value: feature_fraction=1.0\n",
      "[LightGBM] [Warning] bagging_fraction is set=0.8, subsample=1.0 will be ignored. Current value: bagging_fraction=0.8\n",
      "[LightGBM] [Warning] bagging_freq is set=0, subsample_freq=0 will be ignored. Current value: bagging_freq=0\n",
      "[LightGBM] [Warning] feature_fraction is set=1.0, colsample_bytree=1.0 will be ignored. Current value: feature_fraction=1.0\n",
      "[LightGBM] [Warning] bagging_fraction is set=0.8, subsample=1.0 will be ignored. Current value: bagging_fraction=0.8\n",
      "[LightGBM] [Info] Auto-choosing row-wise multi-threading, the overhead of testing was 0.053932 seconds.\n",
      "You can set `force_row_wise=true` to remove the overhead.\n",
      "And if memory is not enough, you can set `force_col_wise=true`.\n",
      "[LightGBM] [Info] Total Bins 1724\n",
      "[LightGBM] [Info] Number of data points in the train set: 777943, number of used features: 34\n",
      "[LightGBM] [Info] Start training from score 6.470364\n",
      "[LightGBM] [Warning] bagging_freq is set=0, subsample_freq=0 will be ignored. Current value: bagging_freq=0\n",
      "[LightGBM] [Warning] feature_fraction is set=0.8, colsample_bytree=1.0 will be ignored. Current value: feature_fraction=0.8\n",
      "[LightGBM] [Warning] bagging_fraction is set=0.8, subsample=1.0 will be ignored. Current value: bagging_fraction=0.8\n",
      "[LightGBM] [Warning] bagging_freq is set=0, subsample_freq=0 will be ignored. Current value: bagging_freq=0\n",
      "[LightGBM] [Warning] feature_fraction is set=1.0, colsample_bytree=1.0 will be ignored. Current value: feature_fraction=1.0\n",
      "[LightGBM] [Warning] bagging_fraction is set=0.8, subsample=1.0 will be ignored. Current value: bagging_fraction=0.8\n",
      "[LightGBM] [Warning] bagging_freq is set=0, subsample_freq=0 will be ignored. Current value: bagging_freq=0\n",
      "[LightGBM] [Warning] feature_fraction is set=0.8, colsample_bytree=1.0 will be ignored. Current value: feature_fraction=0.8\n",
      "[LightGBM] [Warning] bagging_fraction is set=0.8, subsample=1.0 will be ignored. Current value: bagging_fraction=0.8\n",
      "[LightGBM] [Warning] bagging_freq is set=0, subsample_freq=0 will be ignored. Current value: bagging_freq=0\n",
      "[LightGBM] [Warning] feature_fraction is set=1.0, colsample_bytree=1.0 will be ignored. Current value: feature_fraction=1.0\n",
      "[LightGBM] [Warning] bagging_fraction is set=0.8, subsample=1.0 will be ignored. Current value: bagging_fraction=0.8\n",
      "[LightGBM] [Info] Auto-choosing row-wise multi-threading, the overhead of testing was 0.056623 seconds.\n",
      "You can set `force_row_wise=true` to remove the overhead.\n",
      "And if memory is not enough, you can set `force_col_wise=true`.\n",
      "[LightGBM] [Info] Total Bins 1729\n",
      "[LightGBM] [Info] Number of data points in the train set: 777943, number of used features: 34\n",
      "[LightGBM] [Info] Start training from score 6.469957\n",
      "[LightGBM] [Info] Auto-choosing row-wise multi-threading, the overhead of testing was 0.057005 seconds.\n",
      "You can set `force_row_wise=true` to remove the overhead.\n",
      "And if memory is not enough, you can set `force_col_wise=true`.\n",
      "[LightGBM] [Info] Total Bins 1718\n",
      "[LightGBM] [Info] Number of data points in the train set: 777944, number of used features: 34\n",
      "[LightGBM] [Info] Start training from score 6.468315\n"
     ]
    },
    {
     "name": "stderr",
     "output_type": "stream",
     "text": [
      "/Users/Wendo99/miniconda3/envs/NYC_Taxi/lib/python3.12/site-packages/sklearn/utils/validation.py:2739: UserWarning: X does not have valid feature names, but LGBMRegressor was fitted with feature names\n",
      "  warnings.warn(\n"
     ]
    },
    {
     "name": "stdout",
     "output_type": "stream",
     "text": [
      "[LightGBM] [Warning] bagging_freq is set=0, subsample_freq=0 will be ignored. Current value: bagging_freq=0\n",
      "[LightGBM] [Warning] feature_fraction is set=0.8, colsample_bytree=1.0 will be ignored. Current value: feature_fraction=0.8\n",
      "[LightGBM] [Warning] bagging_fraction is set=0.8, subsample=1.0 will be ignored. Current value: bagging_fraction=0.8\n",
      "[LightGBM] [Warning] bagging_freq is set=0, subsample_freq=0 will be ignored. Current value: bagging_freq=0\n",
      "[LightGBM] [Warning] feature_fraction is set=0.8, colsample_bytree=1.0 will be ignored. Current value: feature_fraction=0.8\n",
      "[LightGBM] [Warning] bagging_fraction is set=0.8, subsample=1.0 will be ignored. Current value: bagging_fraction=0.8\n",
      "[LightGBM] [Warning] bagging_freq is set=0, subsample_freq=0 will be ignored. Current value: bagging_freq=0\n",
      "[LightGBM] [Warning] feature_fraction is set=0.8, colsample_bytree=1.0 will be ignored. Current value: feature_fraction=0.8\n",
      "[LightGBM] [Warning] bagging_fraction is set=0.8, subsample=1.0 will be ignored. Current value: bagging_fraction=0.8\n",
      "[LightGBM] [Info] Auto-choosing row-wise multi-threading, the overhead of testing was 0.048528 seconds.\n",
      "You can set `force_row_wise=true` to remove the overhead.\n",
      "And if memory is not enough, you can set `force_col_wise=true`.\n",
      "[LightGBM] [Info] Total Bins 1724\n",
      "[LightGBM] [Info] Number of data points in the train set: 777943, number of used features: 34\n",
      "[LightGBM] [Info] Start training from score 6.470364\n"
     ]
    },
    {
     "name": "stderr",
     "output_type": "stream",
     "text": [
      "/Users/Wendo99/miniconda3/envs/NYC_Taxi/lib/python3.12/site-packages/sklearn/utils/validation.py:2739: UserWarning: X does not have valid feature names, but LGBMRegressor was fitted with feature names\n",
      "  warnings.warn(\n"
     ]
    },
    {
     "name": "stdout",
     "output_type": "stream",
     "text": [
      "[LightGBM] [Warning] bagging_freq is set=0, subsample_freq=0 will be ignored. Current value: bagging_freq=0\n",
      "[LightGBM] [Warning] feature_fraction is set=0.8, colsample_bytree=1.0 will be ignored. Current value: feature_fraction=0.8\n",
      "[LightGBM] [Warning] bagging_fraction is set=0.8, subsample=1.0 will be ignored. Current value: bagging_fraction=0.8\n",
      "[LightGBM] [Warning] bagging_freq is set=0, subsample_freq=0 will be ignored. Current value: bagging_freq=0\n",
      "[LightGBM] [Warning] feature_fraction is set=0.8, colsample_bytree=1.0 will be ignored. Current value: feature_fraction=0.8\n",
      "[LightGBM] [Warning] bagging_fraction is set=0.8, subsample=1.0 will be ignored. Current value: bagging_fraction=0.8\n",
      "[LightGBM] [Warning] bagging_freq is set=0, subsample_freq=0 will be ignored. Current value: bagging_freq=0\n",
      "[LightGBM] [Warning] feature_fraction is set=0.8, colsample_bytree=1.0 will be ignored. Current value: feature_fraction=0.8\n",
      "[LightGBM] [Warning] bagging_fraction is set=0.8, subsample=1.0 will be ignored. Current value: bagging_fraction=0.8\n",
      "[LightGBM] [Info] Auto-choosing row-wise multi-threading, the overhead of testing was 0.046652 seconds.\n",
      "You can set `force_row_wise=true` to remove the overhead.\n",
      "And if memory is not enough, you can set `force_col_wise=true`.\n",
      "[LightGBM] [Info] Total Bins 1718\n",
      "[LightGBM] [Info] Number of data points in the train set: 777944, number of used features: 34\n",
      "[LightGBM] [Info] Start training from score 6.468315\n"
     ]
    },
    {
     "name": "stderr",
     "output_type": "stream",
     "text": [
      "/Users/Wendo99/miniconda3/envs/NYC_Taxi/lib/python3.12/site-packages/sklearn/utils/validation.py:2739: UserWarning: X does not have valid feature names, but LGBMRegressor was fitted with feature names\n",
      "  warnings.warn(\n"
     ]
    },
    {
     "name": "stdout",
     "output_type": "stream",
     "text": [
      "[LightGBM] [Warning] bagging_freq is set=0, subsample_freq=0 will be ignored. Current value: bagging_freq=0\n",
      "[LightGBM] [Warning] feature_fraction is set=0.8, colsample_bytree=1.0 will be ignored. Current value: feature_fraction=0.8\n",
      "[LightGBM] [Warning] bagging_fraction is set=0.8, subsample=1.0 will be ignored. Current value: bagging_fraction=0.8\n",
      "[LightGBM] [Warning] bagging_freq is set=0, subsample_freq=0 will be ignored. Current value: bagging_freq=0\n",
      "[LightGBM] [Warning] feature_fraction is set=0.8, colsample_bytree=1.0 will be ignored. Current value: feature_fraction=0.8\n",
      "[LightGBM] [Warning] bagging_fraction is set=0.8, subsample=1.0 will be ignored. Current value: bagging_fraction=0.8\n",
      "[LightGBM] [Warning] bagging_freq is set=0, subsample_freq=0 will be ignored. Current value: bagging_freq=0\n",
      "[LightGBM] [Warning] feature_fraction is set=0.8, colsample_bytree=1.0 will be ignored. Current value: feature_fraction=0.8\n",
      "[LightGBM] [Warning] bagging_fraction is set=0.8, subsample=1.0 will be ignored. Current value: bagging_fraction=0.8\n",
      "[LightGBM] [Info] Auto-choosing row-wise multi-threading, the overhead of testing was 0.044598 seconds.\n",
      "You can set `force_row_wise=true` to remove the overhead.\n",
      "And if memory is not enough, you can set `force_col_wise=true`.\n",
      "[LightGBM] [Info] Total Bins 1729\n",
      "[LightGBM] [Info] Number of data points in the train set: 777943, number of used features: 34\n",
      "[LightGBM] [Info] Start training from score 6.469957\n"
     ]
    },
    {
     "name": "stderr",
     "output_type": "stream",
     "text": [
      "/Users/Wendo99/miniconda3/envs/NYC_Taxi/lib/python3.12/site-packages/sklearn/utils/validation.py:2739: UserWarning: X does not have valid feature names, but LGBMRegressor was fitted with feature names\n",
      "  warnings.warn(\n"
     ]
    },
    {
     "name": "stdout",
     "output_type": "stream",
     "text": [
      "[LightGBM] [Warning] bagging_freq is set=0, subsample_freq=0 will be ignored. Current value: bagging_freq=0\n",
      "[LightGBM] [Warning] feature_fraction is set=0.8, colsample_bytree=1.0 will be ignored. Current value: feature_fraction=0.8\n",
      "[LightGBM] [Warning] bagging_fraction is set=0.8, subsample=1.0 will be ignored. Current value: bagging_fraction=0.8\n",
      "[LightGBM] [Warning] bagging_freq is set=0, subsample_freq=0 will be ignored. Current value: bagging_freq=0\n",
      "[LightGBM] [Warning] feature_fraction is set=0.8, colsample_bytree=1.0 will be ignored. Current value: feature_fraction=0.8\n",
      "[LightGBM] [Warning] bagging_fraction is set=0.8, subsample=1.0 will be ignored. Current value: bagging_fraction=0.8\n",
      "[LightGBM] [Warning] bagging_freq is set=0, subsample_freq=0 will be ignored. Current value: bagging_freq=0\n",
      "[LightGBM] [Warning] feature_fraction is set=0.8, colsample_bytree=1.0 will be ignored. Current value: feature_fraction=0.8\n",
      "[LightGBM] [Warning] bagging_fraction is set=0.8, subsample=1.0 will be ignored. Current value: bagging_fraction=0.8\n",
      "[LightGBM] [Info] Auto-choosing row-wise multi-threading, the overhead of testing was 0.056362 seconds.\n",
      "You can set `force_row_wise=true` to remove the overhead.\n",
      "And if memory is not enough, you can set `force_col_wise=true`.\n",
      "[LightGBM] [Info] Total Bins 1724\n",
      "[LightGBM] [Info] Number of data points in the train set: 777943, number of used features: 34\n",
      "[LightGBM] [Info] Start training from score 6.470364\n"
     ]
    },
    {
     "name": "stderr",
     "output_type": "stream",
     "text": [
      "/Users/Wendo99/miniconda3/envs/NYC_Taxi/lib/python3.12/site-packages/sklearn/utils/validation.py:2739: UserWarning: X does not have valid feature names, but LGBMRegressor was fitted with feature names\n",
      "  warnings.warn(\n"
     ]
    },
    {
     "name": "stdout",
     "output_type": "stream",
     "text": [
      "[LightGBM] [Warning] bagging_freq is set=0, subsample_freq=0 will be ignored. Current value: bagging_freq=0\n",
      "[LightGBM] [Warning] feature_fraction is set=1.0, colsample_bytree=1.0 will be ignored. Current value: feature_fraction=1.0\n",
      "[LightGBM] [Warning] bagging_fraction is set=0.8, subsample=1.0 will be ignored. Current value: bagging_fraction=0.8\n"
     ]
    },
    {
     "name": "stderr",
     "output_type": "stream",
     "text": [
      "/Users/Wendo99/miniconda3/envs/NYC_Taxi/lib/python3.12/site-packages/sklearn/utils/validation.py:2739: UserWarning: X does not have valid feature names, but LGBMRegressor was fitted with feature names\n",
      "  warnings.warn(\n"
     ]
    },
    {
     "name": "stdout",
     "output_type": "stream",
     "text": [
      "[LightGBM] [Warning] bagging_freq is set=0, subsample_freq=0 will be ignored. Current value: bagging_freq=0\n",
      "[LightGBM] [Warning] feature_fraction is set=1.0, colsample_bytree=1.0 will be ignored. Current value: feature_fraction=1.0\n",
      "[LightGBM] [Warning] bagging_fraction is set=0.8, subsample=1.0 will be ignored. Current value: bagging_fraction=0.8\n",
      "[LightGBM] [Warning] bagging_freq is set=0, subsample_freq=0 will be ignored. Current value: bagging_freq=0\n",
      "[LightGBM] [Warning] feature_fraction is set=0.8, colsample_bytree=1.0 will be ignored. Current value: feature_fraction=0.8\n",
      "[LightGBM] [Warning] bagging_fraction is set=0.8, subsample=1.0 will be ignored. Current value: bagging_fraction=0.8\n",
      "[LightGBM] [Warning] bagging_freq is set=0, subsample_freq=0 will be ignored. Current value: bagging_freq=0\n",
      "[LightGBM] [Warning] feature_fraction is set=0.8, colsample_bytree=1.0 will be ignored. Current value: feature_fraction=0.8\n",
      "[LightGBM] [Warning] bagging_fraction is set=0.8, subsample=1.0 will be ignored. Current value: bagging_fraction=0.8\n",
      "[LightGBM] [Info] Auto-choosing row-wise multi-threading, the overhead of testing was 0.041189 seconds.\n",
      "You can set `force_row_wise=true` to remove the overhead.\n",
      "And if memory is not enough, you can set `force_col_wise=true`.\n",
      "[LightGBM] [Info] Total Bins 1718\n",
      "[LightGBM] [Info] Number of data points in the train set: 777944, number of used features: 34\n",
      "[LightGBM] [Info] Start training from score 6.468315\n",
      "[LightGBM] [Warning] bagging_freq is set=0, subsample_freq=0 will be ignored. Current value: bagging_freq=0\n",
      "[LightGBM] [Warning] feature_fraction is set=0.8, colsample_bytree=1.0 will be ignored. Current value: feature_fraction=0.8\n",
      "[LightGBM] [Warning] bagging_fraction is set=0.8, subsample=1.0 will be ignored. Current value: bagging_fraction=0.8\n",
      "[LightGBM] [Warning] bagging_freq is set=0, subsample_freq=0 will be ignored. Current value: bagging_freq=0\n",
      "[LightGBM] [Warning] feature_fraction is set=0.8, colsample_bytree=1.0 will be ignored. Current value: feature_fraction=0.8\n",
      "[LightGBM] [Warning] bagging_fraction is set=0.8, subsample=1.0 will be ignored. Current value: bagging_fraction=0.8\n",
      "[LightGBM] [Info] Auto-choosing row-wise multi-threading, the overhead of testing was 0.049940 seconds.\n",
      "You can set `force_row_wise=true` to remove the overhead.\n",
      "And if memory is not enough, you can set `force_col_wise=true`.\n",
      "[LightGBM] [Info] Total Bins 1729\n",
      "[LightGBM] [Info] Number of data points in the train set: 777943, number of used features: 34\n",
      "[LightGBM] [Info] Start training from score 6.469957\n"
     ]
    },
    {
     "name": "stderr",
     "output_type": "stream",
     "text": [
      "/Users/Wendo99/miniconda3/envs/NYC_Taxi/lib/python3.12/site-packages/sklearn/utils/validation.py:2739: UserWarning: X does not have valid feature names, but LGBMRegressor was fitted with feature names\n",
      "  warnings.warn(\n"
     ]
    },
    {
     "name": "stdout",
     "output_type": "stream",
     "text": [
      "[LightGBM] [Warning] bagging_freq is set=0, subsample_freq=0 will be ignored. Current value: bagging_freq=0\n",
      "[LightGBM] [Warning] feature_fraction is set=0.8, colsample_bytree=1.0 will be ignored. Current value: feature_fraction=0.8\n",
      "[LightGBM] [Warning] bagging_fraction is set=0.8, subsample=1.0 will be ignored. Current value: bagging_fraction=0.8\n",
      "[LightGBM] [Warning] bagging_freq is set=0, subsample_freq=0 will be ignored. Current value: bagging_freq=0\n",
      "[LightGBM] [Warning] feature_fraction is set=0.8, colsample_bytree=1.0 will be ignored. Current value: feature_fraction=0.8\n",
      "[LightGBM] [Warning] bagging_fraction is set=0.8, subsample=1.0 will be ignored. Current value: bagging_fraction=0.8\n",
      "[LightGBM] [Warning] bagging_freq is set=0, subsample_freq=0 will be ignored. Current value: bagging_freq=0\n",
      "[LightGBM] [Warning] feature_fraction is set=0.8, colsample_bytree=1.0 will be ignored. Current value: feature_fraction=0.8\n",
      "[LightGBM] [Warning] bagging_fraction is set=0.8, subsample=1.0 will be ignored. Current value: bagging_fraction=0.8\n",
      "[LightGBM] [Info] Auto-choosing row-wise multi-threading, the overhead of testing was 0.046627 seconds.\n",
      "You can set `force_row_wise=true` to remove the overhead.\n",
      "And if memory is not enough, you can set `force_col_wise=true`.\n",
      "[LightGBM] [Info] Total Bins 1724\n",
      "[LightGBM] [Info] Number of data points in the train set: 777943, number of used features: 34\n",
      "[LightGBM] [Info] Start training from score 6.470364\n"
     ]
    },
    {
     "name": "stderr",
     "output_type": "stream",
     "text": [
      "/Users/Wendo99/miniconda3/envs/NYC_Taxi/lib/python3.12/site-packages/sklearn/utils/validation.py:2739: UserWarning: X does not have valid feature names, but LGBMRegressor was fitted with feature names\n",
      "  warnings.warn(\n"
     ]
    },
    {
     "name": "stdout",
     "output_type": "stream",
     "text": [
      "[LightGBM] [Warning] bagging_freq is set=0, subsample_freq=0 will be ignored. Current value: bagging_freq=0\n",
      "[LightGBM] [Warning] feature_fraction is set=1.0, colsample_bytree=1.0 will be ignored. Current value: feature_fraction=1.0\n",
      "[LightGBM] [Warning] bagging_fraction is set=0.8, subsample=1.0 will be ignored. Current value: bagging_fraction=0.8\n",
      "[LightGBM] [Warning] bagging_freq is set=0, subsample_freq=0 will be ignored. Current value: bagging_freq=0\n",
      "[LightGBM] [Warning] feature_fraction is set=0.8, colsample_bytree=1.0 will be ignored. Current value: feature_fraction=0.8\n",
      "[LightGBM] [Warning] bagging_fraction is set=0.8, subsample=1.0 will be ignored. Current value: bagging_fraction=0.8\n",
      "[LightGBM] [Warning] bagging_freq is set=0, subsample_freq=0 will be ignored. Current value: bagging_freq=0\n",
      "[LightGBM] [Warning] feature_fraction is set=0.8, colsample_bytree=1.0 will be ignored. Current value: feature_fraction=0.8\n",
      "[LightGBM] [Warning] bagging_fraction is set=0.8, subsample=1.0 will be ignored. Current value: bagging_fraction=0.8\n",
      "[LightGBM] [Info] Auto-choosing row-wise multi-threading, the overhead of testing was 0.056668 seconds.\n",
      "You can set `force_row_wise=true` to remove the overhead.\n",
      "And if memory is not enough, you can set `force_col_wise=true`.\n",
      "[LightGBM] [Info] Total Bins 1718\n",
      "[LightGBM] [Info] Number of data points in the train set: 777944, number of used features: 34\n",
      "[LightGBM] [Info] Start training from score 6.468315\n"
     ]
    },
    {
     "name": "stderr",
     "output_type": "stream",
     "text": [
      "/Users/Wendo99/miniconda3/envs/NYC_Taxi/lib/python3.12/site-packages/sklearn/utils/validation.py:2739: UserWarning: X does not have valid feature names, but LGBMRegressor was fitted with feature names\n",
      "  warnings.warn(\n"
     ]
    },
    {
     "name": "stdout",
     "output_type": "stream",
     "text": [
      "[LightGBM] [Warning] bagging_freq is set=0, subsample_freq=0 will be ignored. Current value: bagging_freq=0\n",
      "[LightGBM] [Warning] feature_fraction is set=0.8, colsample_bytree=1.0 will be ignored. Current value: feature_fraction=0.8\n",
      "[LightGBM] [Warning] bagging_fraction is set=0.8, subsample=1.0 will be ignored. Current value: bagging_fraction=0.8\n",
      "[LightGBM] [Warning] bagging_freq is set=0, subsample_freq=0 will be ignored. Current value: bagging_freq=0\n",
      "[LightGBM] [Warning] feature_fraction is set=1.0, colsample_bytree=1.0 will be ignored. Current value: feature_fraction=1.0\n",
      "[LightGBM] [Warning] bagging_fraction is set=0.8, subsample=1.0 will be ignored. Current value: bagging_fraction=0.8\n",
      "[LightGBM] [Warning] bagging_freq is set=0, subsample_freq=0 will be ignored. Current value: bagging_freq=0\n",
      "[LightGBM] [Warning] feature_fraction is set=1.0, colsample_bytree=1.0 will be ignored. Current value: feature_fraction=1.0\n",
      "[LightGBM] [Warning] bagging_fraction is set=0.8, subsample=1.0 will be ignored. Current value: bagging_fraction=0.8\n",
      "[LightGBM] [Info] Auto-choosing row-wise multi-threading, the overhead of testing was 0.052527 seconds.\n",
      "You can set `force_row_wise=true` to remove the overhead.\n",
      "And if memory is not enough, you can set `force_col_wise=true`.\n",
      "[LightGBM] [Info] Total Bins 1729\n",
      "[LightGBM] [Info] Number of data points in the train set: 777943, number of used features: 34\n",
      "[LightGBM] [Info] Start training from score 6.469957\n"
     ]
    },
    {
     "name": "stderr",
     "output_type": "stream",
     "text": [
      "/Users/Wendo99/miniconda3/envs/NYC_Taxi/lib/python3.12/site-packages/sklearn/utils/validation.py:2739: UserWarning: X does not have valid feature names, but LGBMRegressor was fitted with feature names\n",
      "  warnings.warn(\n"
     ]
    },
    {
     "name": "stdout",
     "output_type": "stream",
     "text": [
      "[LightGBM] [Warning] bagging_freq is set=0, subsample_freq=0 will be ignored. Current value: bagging_freq=0\n",
      "[LightGBM] [Warning] feature_fraction is set=1.0, colsample_bytree=1.0 will be ignored. Current value: feature_fraction=1.0\n",
      "[LightGBM] [Warning] bagging_fraction is set=0.8, subsample=1.0 will be ignored. Current value: bagging_fraction=0.8\n",
      "[LightGBM] [Warning] bagging_freq is set=0, subsample_freq=0 will be ignored. Current value: bagging_freq=0\n",
      "[LightGBM] [Warning] feature_fraction is set=1.0, colsample_bytree=1.0 will be ignored. Current value: feature_fraction=1.0\n",
      "[LightGBM] [Warning] bagging_fraction is set=0.8, subsample=1.0 will be ignored. Current value: bagging_fraction=0.8\n",
      "[LightGBM] [Warning] bagging_freq is set=0, subsample_freq=0 will be ignored. Current value: bagging_freq=0\n",
      "[LightGBM] [Warning] feature_fraction is set=1.0, colsample_bytree=1.0 will be ignored. Current value: feature_fraction=1.0\n",
      "[LightGBM] [Warning] bagging_fraction is set=0.8, subsample=1.0 will be ignored. Current value: bagging_fraction=0.8\n",
      "[LightGBM] [Info] Auto-choosing row-wise multi-threading, the overhead of testing was 0.045365 seconds.\n",
      "You can set `force_row_wise=true` to remove the overhead.\n",
      "And if memory is not enough, you can set `force_col_wise=true`.\n",
      "[LightGBM] [Info] Total Bins 1724\n",
      "[LightGBM] [Info] Number of data points in the train set: 777943, number of used features: 34\n",
      "[LightGBM] [Info] Start training from score 6.470364\n"
     ]
    },
    {
     "name": "stderr",
     "output_type": "stream",
     "text": [
      "/Users/Wendo99/miniconda3/envs/NYC_Taxi/lib/python3.12/site-packages/sklearn/utils/validation.py:2739: UserWarning: X does not have valid feature names, but LGBMRegressor was fitted with feature names\n",
      "  warnings.warn(\n"
     ]
    },
    {
     "name": "stdout",
     "output_type": "stream",
     "text": [
      "[LightGBM] [Warning] bagging_freq is set=0, subsample_freq=0 will be ignored. Current value: bagging_freq=0\n",
      "[LightGBM] [Warning] feature_fraction is set=0.8, colsample_bytree=1.0 will be ignored. Current value: feature_fraction=0.8\n",
      "[LightGBM] [Warning] bagging_fraction is set=0.8, subsample=1.0 will be ignored. Current value: bagging_fraction=0.8\n",
      "[LightGBM] [Warning] bagging_freq is set=0, subsample_freq=0 will be ignored. Current value: bagging_freq=0\n",
      "[LightGBM] [Warning] feature_fraction is set=1.0, colsample_bytree=1.0 will be ignored. Current value: feature_fraction=1.0\n",
      "[LightGBM] [Warning] bagging_fraction is set=0.8, subsample=1.0 will be ignored. Current value: bagging_fraction=0.8\n",
      "[LightGBM] [Warning] bagging_freq is set=0, subsample_freq=0 will be ignored. Current value: bagging_freq=0\n",
      "[LightGBM] [Warning] feature_fraction is set=1.0, colsample_bytree=1.0 will be ignored. Current value: feature_fraction=1.0\n",
      "[LightGBM] [Warning] bagging_fraction is set=0.8, subsample=1.0 will be ignored. Current value: bagging_fraction=0.8\n",
      "[LightGBM] [Info] Auto-choosing row-wise multi-threading, the overhead of testing was 0.059320 seconds.\n",
      "You can set `force_row_wise=true` to remove the overhead.\n",
      "And if memory is not enough, you can set `force_col_wise=true`.\n",
      "[LightGBM] [Info] Total Bins 1718\n",
      "[LightGBM] [Info] Number of data points in the train set: 777944, number of used features: 34\n",
      "[LightGBM] [Info] Start training from score 6.468315\n"
     ]
    },
    {
     "name": "stderr",
     "output_type": "stream",
     "text": [
      "/Users/Wendo99/miniconda3/envs/NYC_Taxi/lib/python3.12/site-packages/sklearn/utils/validation.py:2739: UserWarning: X does not have valid feature names, but LGBMRegressor was fitted with feature names\n",
      "  warnings.warn(\n"
     ]
    },
    {
     "name": "stdout",
     "output_type": "stream",
     "text": [
      "[LightGBM] [Warning] bagging_freq is set=0, subsample_freq=0 will be ignored. Current value: bagging_freq=0\n",
      "[LightGBM] [Warning] feature_fraction is set=1.0, colsample_bytree=1.0 will be ignored. Current value: feature_fraction=1.0\n",
      "[LightGBM] [Warning] bagging_fraction is set=0.8, subsample=1.0 will be ignored. Current value: bagging_fraction=0.8\n"
     ]
    },
    {
     "name": "stderr",
     "output_type": "stream",
     "text": [
      "/Users/Wendo99/miniconda3/envs/NYC_Taxi/lib/python3.12/site-packages/sklearn/utils/validation.py:2739: UserWarning: X does not have valid feature names, but LGBMRegressor was fitted with feature names\n",
      "  warnings.warn(\n"
     ]
    },
    {
     "name": "stdout",
     "output_type": "stream",
     "text": [
      "[LightGBM] [Warning] bagging_freq is set=0, subsample_freq=0 will be ignored. Current value: bagging_freq=0\n",
      "[LightGBM] [Warning] feature_fraction is set=1.0, colsample_bytree=1.0 will be ignored. Current value: feature_fraction=1.0\n",
      "[LightGBM] [Warning] bagging_fraction is set=0.8, subsample=1.0 will be ignored. Current value: bagging_fraction=0.8\n"
     ]
    },
    {
     "name": "stderr",
     "output_type": "stream",
     "text": [
      "/Users/Wendo99/miniconda3/envs/NYC_Taxi/lib/python3.12/site-packages/sklearn/utils/validation.py:2739: UserWarning: X does not have valid feature names, but LGBMRegressor was fitted with feature names\n",
      "  warnings.warn(\n"
     ]
    },
    {
     "name": "stdout",
     "output_type": "stream",
     "text": [
      "[LightGBM] [Warning] bagging_freq is set=0, subsample_freq=0 will be ignored. Current value: bagging_freq=0\n",
      "[LightGBM] [Warning] feature_fraction is set=0.8, colsample_bytree=1.0 will be ignored. Current value: feature_fraction=0.8\n",
      "[LightGBM] [Warning] bagging_fraction is set=0.8, subsample=1.0 will be ignored. Current value: bagging_fraction=0.8\n"
     ]
    },
    {
     "name": "stderr",
     "output_type": "stream",
     "text": [
      "/Users/Wendo99/miniconda3/envs/NYC_Taxi/lib/python3.12/site-packages/sklearn/utils/validation.py:2739: UserWarning: X does not have valid feature names, but LGBMRegressor was fitted with feature names\n",
      "  warnings.warn(\n"
     ]
    },
    {
     "name": "stdout",
     "output_type": "stream",
     "text": [
      "[LightGBM] [Warning] bagging_freq is set=0, subsample_freq=0 will be ignored. Current value: bagging_freq=0\n",
      "[LightGBM] [Warning] feature_fraction is set=0.8, colsample_bytree=1.0 will be ignored. Current value: feature_fraction=0.8\n",
      "[LightGBM] [Warning] bagging_fraction is set=0.8, subsample=1.0 will be ignored. Current value: bagging_fraction=0.8\n"
     ]
    },
    {
     "name": "stderr",
     "output_type": "stream",
     "text": [
      "/Users/Wendo99/miniconda3/envs/NYC_Taxi/lib/python3.12/site-packages/sklearn/utils/validation.py:2739: UserWarning: X does not have valid feature names, but LGBMRegressor was fitted with feature names\n",
      "  warnings.warn(\n"
     ]
    },
    {
     "name": "stdout",
     "output_type": "stream",
     "text": [
      "[LightGBM] [Warning] bagging_freq is set=0, subsample_freq=0 will be ignored. Current value: bagging_freq=0\n",
      "[LightGBM] [Warning] feature_fraction is set=0.8, colsample_bytree=1.0 will be ignored. Current value: feature_fraction=0.8\n",
      "[LightGBM] [Warning] bagging_fraction is set=0.8, subsample=1.0 will be ignored. Current value: bagging_fraction=0.8\n"
     ]
    },
    {
     "name": "stderr",
     "output_type": "stream",
     "text": [
      "/Users/Wendo99/miniconda3/envs/NYC_Taxi/lib/python3.12/site-packages/sklearn/utils/validation.py:2739: UserWarning: X does not have valid feature names, but LGBMRegressor was fitted with feature names\n",
      "  warnings.warn(\n"
     ]
    },
    {
     "name": "stdout",
     "output_type": "stream",
     "text": [
      "[LightGBM] [Warning] bagging_freq is set=0, subsample_freq=0 will be ignored. Current value: bagging_freq=0\n",
      "[LightGBM] [Warning] feature_fraction is set=0.8, colsample_bytree=1.0 will be ignored. Current value: feature_fraction=0.8\n",
      "[LightGBM] [Warning] bagging_fraction is set=0.8, subsample=1.0 will be ignored. Current value: bagging_fraction=0.8\n"
     ]
    },
    {
     "name": "stderr",
     "output_type": "stream",
     "text": [
      "/Users/Wendo99/miniconda3/envs/NYC_Taxi/lib/python3.12/site-packages/sklearn/utils/validation.py:2739: UserWarning: X does not have valid feature names, but LGBMRegressor was fitted with feature names\n",
      "  warnings.warn(\n"
     ]
    },
    {
     "name": "stdout",
     "output_type": "stream",
     "text": [
      "[LightGBM] [Warning] bagging_freq is set=0, subsample_freq=0 will be ignored. Current value: bagging_freq=0\n",
      "[LightGBM] [Warning] feature_fraction is set=0.8, colsample_bytree=1.0 will be ignored. Current value: feature_fraction=0.8\n",
      "[LightGBM] [Warning] bagging_fraction is set=0.8, subsample=1.0 will be ignored. Current value: bagging_fraction=0.8\n"
     ]
    },
    {
     "name": "stderr",
     "output_type": "stream",
     "text": [
      "/Users/Wendo99/miniconda3/envs/NYC_Taxi/lib/python3.12/site-packages/sklearn/utils/validation.py:2739: UserWarning: X does not have valid feature names, but LGBMRegressor was fitted with feature names\n",
      "  warnings.warn(\n"
     ]
    },
    {
     "name": "stdout",
     "output_type": "stream",
     "text": [
      "[LightGBM] [Warning] bagging_freq is set=0, subsample_freq=0 will be ignored. Current value: bagging_freq=0\n",
      "[LightGBM] [Warning] feature_fraction is set=1.0, colsample_bytree=1.0 will be ignored. Current value: feature_fraction=1.0\n",
      "[LightGBM] [Warning] bagging_fraction is set=0.8, subsample=1.0 will be ignored. Current value: bagging_fraction=0.8\n"
     ]
    },
    {
     "name": "stderr",
     "output_type": "stream",
     "text": [
      "/Users/Wendo99/miniconda3/envs/NYC_Taxi/lib/python3.12/site-packages/sklearn/utils/validation.py:2739: UserWarning: X does not have valid feature names, but LGBMRegressor was fitted with feature names\n",
      "  warnings.warn(\n"
     ]
    },
    {
     "name": "stdout",
     "output_type": "stream",
     "text": [
      "[LightGBM] [Warning] bagging_freq is set=0, subsample_freq=0 will be ignored. Current value: bagging_freq=0\n",
      "[LightGBM] [Warning] feature_fraction is set=1.0, colsample_bytree=1.0 will be ignored. Current value: feature_fraction=1.0\n",
      "[LightGBM] [Warning] bagging_fraction is set=0.8, subsample=1.0 will be ignored. Current value: bagging_fraction=0.8\n"
     ]
    },
    {
     "name": "stderr",
     "output_type": "stream",
     "text": [
      "/Users/Wendo99/miniconda3/envs/NYC_Taxi/lib/python3.12/site-packages/sklearn/utils/validation.py:2739: UserWarning: X does not have valid feature names, but LGBMRegressor was fitted with feature names\n",
      "  warnings.warn(\n"
     ]
    },
    {
     "name": "stdout",
     "output_type": "stream",
     "text": [
      "[LightGBM] [Warning] bagging_freq is set=0, subsample_freq=0 will be ignored. Current value: bagging_freq=0\n",
      "[LightGBM] [Warning] feature_fraction is set=1.0, colsample_bytree=1.0 will be ignored. Current value: feature_fraction=1.0\n",
      "[LightGBM] [Warning] bagging_fraction is set=0.8, subsample=1.0 will be ignored. Current value: bagging_fraction=0.8\n",
      "[LightGBM] [Warning] bagging_freq is set=0, subsample_freq=0 will be ignored. Current value: bagging_freq=0\n",
      "[LightGBM] [Warning] feature_fraction is set=0.8, colsample_bytree=1.0 will be ignored. Current value: feature_fraction=0.8\n",
      "[LightGBM] [Warning] bagging_fraction is set=0.8, subsample=1.0 will be ignored. Current value: bagging_fraction=0.8\n",
      "[LightGBM] [Warning] bagging_freq is set=0, subsample_freq=0 will be ignored. Current value: bagging_freq=0\n",
      "[LightGBM] [Warning] feature_fraction is set=0.8, colsample_bytree=1.0 will be ignored. Current value: feature_fraction=0.8\n",
      "[LightGBM] [Warning] bagging_fraction is set=0.8, subsample=1.0 will be ignored. Current value: bagging_fraction=0.8\n",
      "[LightGBM] [Info] Auto-choosing row-wise multi-threading, the overhead of testing was 0.027966 seconds.\n",
      "You can set `force_row_wise=true` to remove the overhead.\n",
      "And if memory is not enough, you can set `force_col_wise=true`.\n",
      "[LightGBM] [Info] Total Bins 1719\n",
      "[LightGBM] [Info] Number of data points in the train set: 1166915, number of used features: 34\n",
      "[LightGBM] [Info] Start training from score 6.469545\n",
      "[LightGBM] [Warning] No further splits with positive gain, best gain: -inf\n",
      "Best LGBM CV log-RMSE: 0.3943972072517839\n",
      "Best LGBM hyper-parameters: {'model__num_leaves': 63, 'model__n_estimators': 600, 'model__max_depth': 8, 'model__learning_rate': 0.1, 'model__feature_fraction': 0.8, 'model__bagging_freq': 0, 'model__bagging_fraction': 0.8}\n"
     ]
    },
    {
     "name": "stderr",
     "output_type": "stream",
     "text": [
      "/Users/Wendo99/miniconda3/envs/NYC_Taxi/lib/python3.12/site-packages/sklearn/utils/validation.py:2739: UserWarning: X does not have valid feature names, but LGBMRegressor was fitted with feature names\n",
      "  warnings.warn(\n"
     ]
    },
    {
     "name": "stdout",
     "output_type": "stream",
     "text": [
      "[LightGBM] [Warning] bagging_freq is set=0, subsample_freq=0 will be ignored. Current value: bagging_freq=0\n",
      "[LightGBM] [Warning] feature_fraction is set=0.8, colsample_bytree=1.0 will be ignored. Current value: feature_fraction=0.8\n",
      "[LightGBM] [Warning] bagging_fraction is set=0.8, subsample=1.0 will be ignored. Current value: bagging_fraction=0.8\n",
      "Hold-out LGBM RMSE: 0.15765329434686484\n"
     ]
    }
   ],
   "execution_count": 35
  },
  {
   "metadata": {},
   "cell_type": "markdown",
   "source": "# Model Factories",
   "id": "66dbfdf4d03b8249"
  },
  {
   "metadata": {},
   "cell_type": "markdown",
   "source": "## exp1 Training – All Models – All Features",
   "id": "3af5aee63539338e"
  },
  {
   "metadata": {
    "ExecuteTime": {
     "end_time": "2025-06-18T05:05:21.382060Z",
     "start_time": "2025-06-18T05:03:48.483106Z"
    }
   },
   "cell_type": "code",
   "source": [
    "models_all = make_all_models(preprocessing)\n",
    "\n",
    "result_all_models = get_display_models_results(\n",
    "    models_all,\n",
    "    X_train, y_train\n",
    ")\n",
    "compare_models_results(result_all_models, seconds=True)"
   ],
   "id": "520518999823306",
   "outputs": [
    {
     "name": "stdout",
     "output_type": "stream",
     "text": [
      "[LightGBM] [Warning] feature_fraction is set=0.8, colsample_bytree=1.0 will be ignored. Current value: feature_fraction=0.8\n",
      "[LightGBM] [Warning] feature_fraction is set=0.8, colsample_bytree=1.0 will be ignored. Current value: feature_fraction=0.8\n",
      "[LightGBM] [Info] Auto-choosing row-wise multi-threading, the overhead of testing was 0.020362 seconds.\n",
      "You can set `force_row_wise=true` to remove the overhead.\n",
      "And if memory is not enough, you can set `force_col_wise=true`.\n",
      "[LightGBM] [Info] Total Bins 1729\n",
      "[LightGBM] [Info] Number of data points in the train set: 777943, number of used features: 34\n",
      "[LightGBM] [Info] Start training from score 6.469957\n"
     ]
    },
    {
     "name": "stderr",
     "output_type": "stream",
     "text": [
      "/Users/Wendo99/miniconda3/envs/NYC_Taxi/lib/python3.12/site-packages/sklearn/utils/validation.py:2739: UserWarning: X does not have valid feature names, but LGBMRegressor was fitted with feature names\n",
      "  warnings.warn(\n"
     ]
    },
    {
     "name": "stdout",
     "output_type": "stream",
     "text": [
      "[LightGBM] [Warning] feature_fraction is set=0.8, colsample_bytree=1.0 will be ignored. Current value: feature_fraction=0.8\n",
      "[LightGBM] [Warning] feature_fraction is set=0.8, colsample_bytree=1.0 will be ignored. Current value: feature_fraction=0.8\n",
      "[LightGBM] [Warning] feature_fraction is set=0.8, colsample_bytree=1.0 will be ignored. Current value: feature_fraction=0.8\n",
      "[LightGBM] [Info] Auto-choosing row-wise multi-threading, the overhead of testing was 0.022563 seconds.\n",
      "You can set `force_row_wise=true` to remove the overhead.\n",
      "And if memory is not enough, you can set `force_col_wise=true`.\n",
      "[LightGBM] [Info] Total Bins 1724\n",
      "[LightGBM] [Info] Number of data points in the train set: 777943, number of used features: 34\n",
      "[LightGBM] [Info] Start training from score 6.470364\n"
     ]
    },
    {
     "name": "stderr",
     "output_type": "stream",
     "text": [
      "/Users/Wendo99/miniconda3/envs/NYC_Taxi/lib/python3.12/site-packages/sklearn/utils/validation.py:2739: UserWarning: X does not have valid feature names, but LGBMRegressor was fitted with feature names\n",
      "  warnings.warn(\n"
     ]
    },
    {
     "name": "stdout",
     "output_type": "stream",
     "text": [
      "[LightGBM] [Warning] feature_fraction is set=0.8, colsample_bytree=1.0 will be ignored. Current value: feature_fraction=0.8\n",
      "[LightGBM] [Warning] feature_fraction is set=0.8, colsample_bytree=1.0 will be ignored. Current value: feature_fraction=0.8\n",
      "[LightGBM] [Warning] feature_fraction is set=0.8, colsample_bytree=1.0 will be ignored. Current value: feature_fraction=0.8\n",
      "[LightGBM] [Info] Auto-choosing row-wise multi-threading, the overhead of testing was 0.021207 seconds.\n",
      "You can set `force_row_wise=true` to remove the overhead.\n",
      "And if memory is not enough, you can set `force_col_wise=true`.\n",
      "[LightGBM] [Info] Total Bins 1718\n",
      "[LightGBM] [Info] Number of data points in the train set: 777944, number of used features: 34\n",
      "[LightGBM] [Info] Start training from score 6.468315\n"
     ]
    },
    {
     "name": "stderr",
     "output_type": "stream",
     "text": [
      "/Users/Wendo99/miniconda3/envs/NYC_Taxi/lib/python3.12/site-packages/sklearn/utils/validation.py:2739: UserWarning: X does not have valid feature names, but LGBMRegressor was fitted with feature names\n",
      "  warnings.warn(\n"
     ]
    },
    {
     "name": "stdout",
     "output_type": "stream",
     "text": [
      "[LightGBM] [Warning] feature_fraction is set=0.8, colsample_bytree=1.0 will be ignored. Current value: feature_fraction=0.8\n"
     ]
    },
    {
     "data": {
      "text/plain": [
       "<Figure size 800x400 with 1 Axes>"
      ],
      "image/png": "[encoded data removed]"
     },
     "metadata": {},
     "output_type": "display_data"
    },
    {
     "data": {
      "text/plain": [
       "              Model  log-RMSE (mean)  log-RMSE (std)  RMSE (sec)\n",
       "6           XGBoost         0.398900        0.003260       0.490\n",
       "5          LightGBM         0.398920        0.003297       0.490\n",
       "3      DecisionTree         0.447364        0.000687       0.564\n",
       "4      RandomForest         0.469036        0.010992       0.598\n",
       "1             Ridge         0.563941        0.000636       0.758\n",
       "0  LinearRegression         0.563941        0.000636       0.758\n",
       "2             Lasso         0.564209        0.000615       0.758"
      ],
      "text/html": [
       "<div>\n",
       "<style scoped>\n",
       "    .dataframe tbody tr th:only-of-type {\n",
       "        vertical-align: middle;\n",
       "    }\n",
       "\n",
       "    .dataframe tbody tr th {\n",
       "        vertical-align: top;\n",
       "    }\n",
       "\n",
       "    .dataframe thead th {\n",
       "        text-align: right;\n",
       "    }\n",
       "</style>\n",
       "<table border=\"1\" class=\"dataframe\">\n",
       "  <thead>\n",
       "    <tr style=\"text-align: right;\">\n",
       "      <th></th>\n",
       "      <th>Model</th>\n",
       "      <th>log-RMSE (mean)</th>\n",
       "      <th>log-RMSE (std)</th>\n",
       "      <th>RMSE (sec)</th>\n",
       "    </tr>\n",
       "  </thead>\n",
       "  <tbody>\n",
       "    <tr>\n",
       "      <th>6</th>\n",
       "      <td>XGBoost</td>\n",
       "      <td>0.398900</td>\n",
       "      <td>0.003260</td>\n",
       "      <td>0.490</td>\n",
       "    </tr>\n",
       "    <tr>\n",
       "      <th>5</th>\n",
       "      <td>LightGBM</td>\n",
       "      <td>0.398920</td>\n",
       "      <td>0.003297</td>\n",
       "      <td>0.490</td>\n",
       "    </tr>\n",
       "    <tr>\n",
       "      <th>3</th>\n",
       "      <td>DecisionTree</td>\n",
       "      <td>0.447364</td>\n",
       "      <td>0.000687</td>\n",
       "      <td>0.564</td>\n",
       "    </tr>\n",
       "    <tr>\n",
       "      <th>4</th>\n",
       "      <td>RandomForest</td>\n",
       "      <td>0.469036</td>\n",
       "      <td>0.010992</td>\n",
       "      <td>0.598</td>\n",
       "    </tr>\n",
       "    <tr>\n",
       "      <th>1</th>\n",
       "      <td>Ridge</td>\n",
       "      <td>0.563941</td>\n",
       "      <td>0.000636</td>\n",
       "      <td>0.758</td>\n",
       "    </tr>\n",
       "    <tr>\n",
       "      <th>0</th>\n",
       "      <td>LinearRegression</td>\n",
       "      <td>0.563941</td>\n",
       "      <td>0.000636</td>\n",
       "      <td>0.758</td>\n",
       "    </tr>\n",
       "    <tr>\n",
       "      <th>2</th>\n",
       "      <td>Lasso</td>\n",
       "      <td>0.564209</td>\n",
       "      <td>0.000615</td>\n",
       "      <td>0.758</td>\n",
       "    </tr>\n",
       "  </tbody>\n",
       "</table>\n",
       "</div>"
      ]
     },
     "metadata": {},
     "output_type": "display_data"
    }
   ],
   "execution_count": 38
  },
  {
   "metadata": {},
   "cell_type": "markdown",
   "source": "## Top Features",
   "id": "371b6d262ed6a646"
  },
  {
   "metadata": {
    "ExecuteTime": {
     "end_time": "2025-06-18T05:05:57.924850Z",
     "start_time": "2025-06-18T05:05:21.821162Z"
    }
   },
   "cell_type": "code",
   "source": [
    "for name, pipe in models_all.items():\n",
    "  pipe.fit(X_train, y_train)"
   ],
   "id": "56655ea3dff86be7",
   "outputs": [
    {
     "name": "stdout",
     "output_type": "stream",
     "text": [
      "[LightGBM] [Warning] feature_fraction is set=0.8, colsample_bytree=1.0 will be ignored. Current value: feature_fraction=0.8\n",
      "[LightGBM] [Warning] feature_fraction is set=0.8, colsample_bytree=1.0 will be ignored. Current value: feature_fraction=0.8\n",
      "[LightGBM] [Info] Auto-choosing row-wise multi-threading, the overhead of testing was 0.029398 seconds.\n",
      "You can set `force_row_wise=true` to remove the overhead.\n",
      "And if memory is not enough, you can set `force_col_wise=true`.\n",
      "[LightGBM] [Info] Total Bins 1719\n",
      "[LightGBM] [Info] Number of data points in the train set: 1166915, number of used features: 34\n",
      "[LightGBM] [Info] Start training from score 6.469545\n"
     ]
    }
   ],
   "execution_count": 39
  },
  {
   "metadata": {
    "ExecuteTime": {
     "end_time": "2025-06-18T05:06:02.731765Z",
     "start_time": "2025-06-18T05:05:58.350615Z"
    }
   },
   "cell_type": "code",
   "source": [
    "linreg_model = models_all['LinearRegression']\n",
    "plot_lin_feature_importance(linreg_model, X_train, y_train)"
   ],
   "id": "72b23769bbdc9b9d",
   "outputs": [
    {
     "ename": "AttributeError",
     "evalue": "Estimator functiontransformer does not provide get_feature_names_out. Did you mean to call pipeline[:-1].get_feature_names_out()?",
     "output_type": "error",
     "traceback": [
      "\u001B[31m---------------------------------------------------------------------------\u001B[39m",
      "\u001B[31mAttributeError\u001B[39m                            Traceback (most recent call last)",
      "\u001B[36mCell\u001B[39m\u001B[36m \u001B[39m\u001B[32mIn[40]\u001B[39m\u001B[32m, line 2\u001B[39m\n\u001B[32m      1\u001B[39m linreg_model = models_all[\u001B[33m'\u001B[39m\u001B[33mLinearRegression\u001B[39m\u001B[33m'\u001B[39m]\n\u001B[32m----> \u001B[39m\u001B[32m2\u001B[39m plot_lin_feature_importance(linreg_model, X_train, y_train)\n",
      "\u001B[36mFile \u001B[39m\u001B[32m~/Documents/50-Apps/PyCharm/NYC_Taxi/modelling/feature_importance.py:35\u001B[39m, in \u001B[36mplot_lin_feature_importance\u001B[39m\u001B[34m(pipeline, X_train, y_train, model_step, pre_step)\u001B[39m\n\u001B[32m     32\u001B[39m \u001B[38;5;28;01melif\u001B[39;00m coefs.ndim > \u001B[32m1\u001B[39m:\n\u001B[32m     33\u001B[39m   \u001B[38;5;28;01mraise\u001B[39;00m \u001B[38;5;167;01mValueError\u001B[39;00m(\u001B[33m\"\u001B[39m\u001B[33mMulti-output regression not supported.\u001B[39m\u001B[33m\"\u001B[39m)\n\u001B[32m---> \u001B[39m\u001B[32m35\u001B[39m feature_names = pipeline.named_steps[pre_step].get_feature_names_out()\n\u001B[32m     37\u001B[39m feat_df = pd.DataFrame({\n\u001B[32m     38\u001B[39m   \u001B[33m'\u001B[39m\u001B[33mfeature\u001B[39m\u001B[33m'\u001B[39m: feature_names,\n\u001B[32m     39\u001B[39m   \u001B[33m'\u001B[39m\u001B[33mimportance\u001B[39m\u001B[33m'\u001B[39m: np.abs(coefs),\n\u001B[32m     40\u001B[39m   \u001B[33m'\u001B[39m\u001B[33msign\u001B[39m\u001B[33m'\u001B[39m: np.sign(coefs)\n\u001B[32m     41\u001B[39m }).sort_values(by=\u001B[33m'\u001B[39m\u001B[33mimportance\u001B[39m\u001B[33m'\u001B[39m, ascending=\u001B[38;5;28;01mFalse\u001B[39;00m)\n\u001B[32m     43\u001B[39m _plot_feature_bar(feat_df, \u001B[32m20\u001B[39m, \u001B[33m\"\u001B[39m\u001B[33mTop 20 feature importances\u001B[39m\u001B[33m\"\u001B[39m)\n",
      "\u001B[36mFile \u001B[39m\u001B[32m~/miniconda3/envs/NYC_Taxi/lib/python3.12/site-packages/sklearn/compose/_column_transformer.py:646\u001B[39m, in \u001B[36mColumnTransformer.get_feature_names_out\u001B[39m\u001B[34m(self, input_features)\u001B[39m\n\u001B[32m    639\u001B[39m transformer_with_feature_names_out = []\n\u001B[32m    640\u001B[39m \u001B[38;5;28;01mfor\u001B[39;00m name, trans, *_ \u001B[38;5;129;01min\u001B[39;00m \u001B[38;5;28mself\u001B[39m._iter(\n\u001B[32m    641\u001B[39m     fitted=\u001B[38;5;28;01mTrue\u001B[39;00m,\n\u001B[32m    642\u001B[39m     column_as_labels=\u001B[38;5;28;01mFalse\u001B[39;00m,\n\u001B[32m    643\u001B[39m     skip_empty_columns=\u001B[38;5;28;01mTrue\u001B[39;00m,\n\u001B[32m    644\u001B[39m     skip_drop=\u001B[38;5;28;01mTrue\u001B[39;00m,\n\u001B[32m    645\u001B[39m ):\n\u001B[32m--> \u001B[39m\u001B[32m646\u001B[39m     feature_names_out = \u001B[38;5;28mself\u001B[39m._get_feature_name_out_for_transformer(\n\u001B[32m    647\u001B[39m         name, trans, input_features\n\u001B[32m    648\u001B[39m     )\n\u001B[32m    649\u001B[39m     \u001B[38;5;28;01mif\u001B[39;00m feature_names_out \u001B[38;5;129;01mis\u001B[39;00m \u001B[38;5;28;01mNone\u001B[39;00m:\n\u001B[32m    650\u001B[39m         \u001B[38;5;28;01mcontinue\u001B[39;00m\n",
      "\u001B[36mFile \u001B[39m\u001B[32m~/miniconda3/envs/NYC_Taxi/lib/python3.12/site-packages/sklearn/compose/_column_transformer.py:613\u001B[39m, in \u001B[36mColumnTransformer._get_feature_name_out_for_transformer\u001B[39m\u001B[34m(self, name, trans, feature_names_in)\u001B[39m\n\u001B[32m    608\u001B[39m \u001B[38;5;28;01mif\u001B[39;00m \u001B[38;5;129;01mnot\u001B[39;00m \u001B[38;5;28mhasattr\u001B[39m(trans, \u001B[33m\"\u001B[39m\u001B[33mget_feature_names_out\u001B[39m\u001B[33m\"\u001B[39m):\n\u001B[32m    609\u001B[39m     \u001B[38;5;28;01mraise\u001B[39;00m \u001B[38;5;167;01mAttributeError\u001B[39;00m(\n\u001B[32m    610\u001B[39m         \u001B[33mf\u001B[39m\u001B[33m\"\u001B[39m\u001B[33mTransformer \u001B[39m\u001B[38;5;132;01m{\u001B[39;00mname\u001B[38;5;132;01m}\u001B[39;00m\u001B[33m (type \u001B[39m\u001B[38;5;132;01m{\u001B[39;00m\u001B[38;5;28mtype\u001B[39m(trans).\u001B[34m__name__\u001B[39m\u001B[38;5;132;01m}\u001B[39;00m\u001B[33m) does \u001B[39m\u001B[33m\"\u001B[39m\n\u001B[32m    611\u001B[39m         \u001B[33m\"\u001B[39m\u001B[33mnot provide get_feature_names_out.\u001B[39m\u001B[33m\"\u001B[39m\n\u001B[32m    612\u001B[39m     )\n\u001B[32m--> \u001B[39m\u001B[32m613\u001B[39m \u001B[38;5;28;01mreturn\u001B[39;00m trans.get_feature_names_out(names)\n",
      "\u001B[36mFile \u001B[39m\u001B[32m~/miniconda3/envs/NYC_Taxi/lib/python3.12/site-packages/sklearn/pipeline.py:1276\u001B[39m, in \u001B[36mPipeline.get_feature_names_out\u001B[39m\u001B[34m(self, input_features)\u001B[39m\n\u001B[32m   1274\u001B[39m \u001B[38;5;28;01mfor\u001B[39;00m _, name, transform \u001B[38;5;129;01min\u001B[39;00m \u001B[38;5;28mself\u001B[39m._iter():\n\u001B[32m   1275\u001B[39m     \u001B[38;5;28;01mif\u001B[39;00m \u001B[38;5;129;01mnot\u001B[39;00m \u001B[38;5;28mhasattr\u001B[39m(transform, \u001B[33m\"\u001B[39m\u001B[33mget_feature_names_out\u001B[39m\u001B[33m\"\u001B[39m):\n\u001B[32m-> \u001B[39m\u001B[32m1276\u001B[39m         \u001B[38;5;28;01mraise\u001B[39;00m \u001B[38;5;167;01mAttributeError\u001B[39;00m(\n\u001B[32m   1277\u001B[39m             \u001B[33m\"\u001B[39m\u001B[33mEstimator \u001B[39m\u001B[38;5;132;01m{}\u001B[39;00m\u001B[33m does not provide get_feature_names_out. \u001B[39m\u001B[33m\"\u001B[39m\n\u001B[32m   1278\u001B[39m             \u001B[33m\"\u001B[39m\u001B[33mDid you mean to call pipeline[:-1].get_feature_names_out\u001B[39m\u001B[33m\"\u001B[39m\n\u001B[32m   1279\u001B[39m             \u001B[33m\"\u001B[39m\u001B[33m()?\u001B[39m\u001B[33m\"\u001B[39m.format(name)\n\u001B[32m   1280\u001B[39m         )\n\u001B[32m   1281\u001B[39m     feature_names_out = transform.get_feature_names_out(feature_names_out)\n\u001B[32m   1282\u001B[39m \u001B[38;5;28;01mreturn\u001B[39;00m feature_names_out\n",
      "\u001B[31mAttributeError\u001B[39m: Estimator functiontransformer does not provide get_feature_names_out. Did you mean to call pipeline[:-1].get_feature_names_out()?"
     ]
    }
   ],
   "execution_count": 40
  },
  {
   "metadata": {},
   "cell_type": "code",
   "source": [
    "lasso_model = models_all['Lasso']\n",
    "plot_lin_feature_importance(lasso_model, X_train, y_train)"
   ],
   "id": "165f9714b263df12",
   "outputs": [],
   "execution_count": null
  },
  {
   "metadata": {},
   "cell_type": "code",
   "source": [
    "ridge_model = models_all['Ridge']\n",
    "plot_lin_feature_importance(ridge_model, X_train, y_train)"
   ],
   "id": "5e014afa5dda556f",
   "outputs": [],
   "execution_count": null
  },
  {
   "metadata": {},
   "cell_type": "code",
   "source": [
    "xgb_model = models_all['XGBoost']\n",
    "plot_tree_feature_importance(xgb_model, X_train, y_train)"
   ],
   "id": "da9212f1fb9e3471",
   "outputs": [],
   "execution_count": null
  },
  {
   "metadata": {},
   "cell_type": "code",
   "source": [
    "lgbm_model = models_all['LightGBM']\n",
    "plot_tree_feature_importance(lgbm_model, X_train, y_train)"
   ],
   "id": "d4e4a9374e018892",
   "outputs": [],
   "execution_count": null
  },
  {
   "metadata": {},
   "cell_type": "code",
   "source": [
    "dt_model = models_all['DecisionTree']\n",
    "plot_tree_feature_importance(dt_model, X_train, y_train)"
   ],
   "id": "8fe877660d189231",
   "outputs": [],
   "execution_count": null
  },
  {
   "metadata": {},
   "cell_type": "code",
   "source": [
    "rf_model = models_all['RandomForest']\n",
    "plot_tree_feature_importance(rf_model, X_train, y_train)"
   ],
   "id": "346a54949a0d7ae0",
   "outputs": [],
   "execution_count": null
  },
  {
   "metadata": {},
   "cell_type": "code",
   "outputs": [],
   "execution_count": null,
   "source": "",
   "id": "e2f4cafc72870d5d"
  }
 ],
 "metadata": {
  "kernelspec": {
   "display_name": "Python 3",
   "language": "python",
   "name": "python3"
  },
  "language_info": {
   "codemirror_mode": {
    "name": "ipython",
    "version": 2
   },
   "file_extension": ".py",
   "mimetype": "text/x-python",
   "name": "python",
   "nbconvert_exporter": "python",
   "pygments_lexer": "ipython2",
   "version": "2.7.6"
  }
 },
 "nbformat": 4,
 "nbformat_minor": 5
}
