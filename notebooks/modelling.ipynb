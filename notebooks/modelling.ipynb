{
 "cells": [
  {
   "metadata": {},
   "cell_type": "markdown",
   "source": "# Setup & Imports",
   "id": "a0d5a60dd549e5f"
  },
  {
   "metadata": {
    "ExecuteTime": {
     "end_time": "2025-06-29T15:13:54.287048Z",
     "start_time": "2025-06-29T15:13:53.902194Z"
    }
   },
   "cell_type": "code",
   "source": [
    "import importlib\n",
    "\n",
    "import matplotlib.pyplot as plt\n",
    "import pandas as pd\n",
    "import seaborn as sns\n",
    "from sklearn.model_selection import train_test_split\n",
    "\n",
    "import constants.features_c as features_c\n",
    "import pipelines.training as training\n",
    "from constants.modelling_c import TEST_SIZE, RANDOM_STATE\n",
    "from pipelines import preprocessing\n",
    "from pipelines.preprocessing import build_preprocessor, feature_to_category, \\\n",
    "  feature_to_fp32\n",
    "from viz import plot_residual_heatmap\n",
    "from viz import plot_residuals, plot_residual_scatter\n",
    "\n",
    "# Reload the module to pick up any changes.\n",
    "importlib.reload(features_c)\n",
    "importlib.reload(preprocessing)\n",
    "importlib.reload(training)"
   ],
   "id": "9de7dd380173399a",
   "outputs": [
    {
     "data": {
      "text/plain": [
       "<module 'pipelines.training' from '/Users/Wendo99/Documents/50-Apps/PyCharm/NYC_Taxi/src/pipelines/training.py'>"
      ]
     },
     "execution_count": 1,
     "metadata": {},
     "output_type": "execute_result"
    }
   ],
   "execution_count": 1
  },
  {
   "metadata": {
    "ExecuteTime": {
     "end_time": "2025-06-29T15:14:00.807188Z",
     "start_time": "2025-06-29T15:13:54.367101Z"
    }
   },
   "cell_type": "code",
   "source": "df = training.load_taxi_weather_data()",
   "id": "7ad060e72ad0d835",
   "outputs": [],
   "execution_count": 2
  },
  {
   "metadata": {
    "ExecuteTime": {
     "end_time": "2025-06-29T15:14:00.976889Z",
     "start_time": "2025-06-29T15:14:00.821429Z"
    }
   },
   "cell_type": "code",
   "source": "df = df.drop(columns=[c for c in df.columns if c in features_c.DROPPED_FEATURES])",
   "id": "95f20dd846f04892",
   "outputs": [],
   "execution_count": 3
  },
  {
   "metadata": {
    "ExecuteTime": {
     "end_time": "2025-06-29T15:14:01.099095Z",
     "start_time": "2025-06-29T15:14:00.986140Z"
    }
   },
   "cell_type": "code",
   "source": [
    "df = feature_to_fp32(df, features_c.NUM_ALL)\n",
    "df = feature_to_category(df, features_c.CAT_ALL)"
   ],
   "id": "ceda4ac80b8dd201",
   "outputs": [],
   "execution_count": 4
  },
  {
   "metadata": {
    "ExecuteTime": {
     "end_time": "2025-06-29T15:14:01.293240Z",
     "start_time": "2025-06-29T15:14:01.107724Z"
    }
   },
   "cell_type": "code",
   "source": [
    "x_dataset = df.drop(columns=[features_c.TARGET])\n",
    "y_dataset = df[features_c.TARGET]\n",
    "\n",
    "x_train, x_test, y_train, y_test = train_test_split(\n",
    "    x_dataset, y_dataset, test_size=TEST_SIZE, random_state=RANDOM_STATE\n",
    ")"
   ],
   "id": "a0cb7453a2c915f5",
   "outputs": [],
   "execution_count": 5
  },
  {
   "metadata": {},
   "cell_type": "markdown",
   "source": "# Preprocessing-Configuration",
   "id": "d0431ad95859d212"
  },
  {
   "metadata": {
    "ExecuteTime": {
     "end_time": "2025-06-29T15:14:01.310389Z",
     "start_time": "2025-06-29T15:14:01.308401Z"
    }
   },
   "cell_type": "code",
   "source": "preprocessor = build_preprocessor()",
   "id": "963071ad6574561e",
   "outputs": [],
   "execution_count": 6
  },
  {
   "metadata": {},
   "cell_type": "markdown",
   "source": "## Hyperparameter Search",
   "id": "6f63e9de3d91aeb8"
  },
  {
   "metadata": {
    "ExecuteTime": {
     "end_time": "2025-06-29T15:14:01.376771Z",
     "start_time": "2025-06-29T15:14:01.374604Z"
    }
   },
   "cell_type": "code",
   "source": "NEED_SEARCH = False",
   "id": "f1490aaefd6c2e26",
   "outputs": [],
   "execution_count": 7
  },
  {
   "metadata": {},
   "cell_type": "markdown",
   "source": "Ridge",
   "id": "11f57a7990d7e374"
  },
  {
   "metadata": {
    "ExecuteTime": {
     "end_time": "2025-06-29T15:14:01.400265Z",
     "start_time": "2025-06-29T15:14:01.398649Z"
    }
   },
   "cell_type": "code",
   "source": [
    "if NEED_SEARCH:\n",
    "  training.search_hyperparameters(\"Ridge\", x_train, y_train, 2)"
   ],
   "id": "b42e4b20b13d5355",
   "outputs": [],
   "execution_count": 8
  },
  {
   "metadata": {},
   "cell_type": "markdown",
   "source": "Random Forest",
   "id": "8e8b65a1bfbed657"
  },
  {
   "metadata": {
    "ExecuteTime": {
     "end_time": "2025-06-29T15:14:01.424935Z",
     "start_time": "2025-06-29T15:14:01.423075Z"
    }
   },
   "cell_type": "code",
   "source": [
    "if NEED_SEARCH:\n",
    "  training.search_hyperparameters(\"RandomForest\", x_train, y_train, 4)"
   ],
   "id": "3431e8653a6879b8",
   "outputs": [],
   "execution_count": 9
  },
  {
   "metadata": {},
   "cell_type": "markdown",
   "source": "XGBoost",
   "id": "90096aa368cd6ad7"
  },
  {
   "metadata": {
    "ExecuteTime": {
     "end_time": "2025-06-29T15:14:01.448092Z",
     "start_time": "2025-06-29T15:14:01.446383Z"
    }
   },
   "cell_type": "code",
   "source": [
    "if NEED_SEARCH:\n",
    "  training.search_hyperparameters(\"XGBoost\", x_train, y_train, 14)"
   ],
   "id": "983b26f61eb030df",
   "outputs": [],
   "execution_count": 10
  },
  {
   "metadata": {},
   "cell_type": "markdown",
   "source": "Bayes",
   "id": "8decb7c066f73337"
  },
  {
   "metadata": {
    "ExecuteTime": {
     "end_time": "2025-06-29T15:14:01.472437Z",
     "start_time": "2025-06-29T15:14:01.470206Z"
    }
   },
   "cell_type": "code",
   "source": [
    "if NEED_SEARCH:\n",
    "  training.search_hyperparameters(\"Bayes\", x_train, y_train, 6)"
   ],
   "id": "a403abc41010c1a",
   "outputs": [],
   "execution_count": 11
  },
  {
   "metadata": {},
   "cell_type": "markdown",
   "source": "SVM",
   "id": "63a22b134d9267f9"
  },
  {
   "metadata": {
    "ExecuteTime": {
     "end_time": "2025-06-29T15:14:01.495546Z",
     "start_time": "2025-06-29T15:14:01.493422Z"
    }
   },
   "cell_type": "code",
   "source": [
    "if NEED_SEARCH:\n",
    "  training.search_hyperparameters(\"SVM\", x_train, y_train, 10)"
   ],
   "id": "1732b32183185d67",
   "outputs": [],
   "execution_count": 12
  },
  {
   "metadata": {},
   "cell_type": "markdown",
   "source": "# First Train",
   "id": "db66f9c532c6518"
  },
  {
   "metadata": {
    "ExecuteTime": {
     "end_time": "2025-06-29T15:14:01.522097Z",
     "start_time": "2025-06-29T15:14:01.519955Z"
    }
   },
   "cell_type": "code",
   "source": "RETRAIN = True",
   "id": "295d50c5d838bc2b",
   "outputs": [],
   "execution_count": 13
  },
  {
   "metadata": {
    "ExecuteTime": {
     "end_time": "2025-06-29T15:14:01.545325Z",
     "start_time": "2025-06-29T15:14:01.543178Z"
    }
   },
   "cell_type": "code",
   "source": [
    "# linReg = training.fit_save_model(\"LinearRegression\", preprocessor, x_train, y_train,\n",
    "#                                  retrain=RETRAIN)"
   ],
   "id": "1069f3a5f29861ed",
   "outputs": [],
   "execution_count": 14
  },
  {
   "metadata": {
    "ExecuteTime": {
     "end_time": "2025-06-29T15:14:01.568950Z",
     "start_time": "2025-06-29T15:14:01.566659Z"
    }
   },
   "cell_type": "code",
   "source": "# ridge = training.fit_save_model(\"Ridge\", preprocessor, x_train, y_train, retrain=RETRAIN)",
   "id": "b95e89e02e00e86",
   "outputs": [],
   "execution_count": 15
  },
  {
   "metadata": {
    "ExecuteTime": {
     "end_time": "2025-06-29T15:14:01.591397Z",
     "start_time": "2025-06-29T15:14:01.589643Z"
    }
   },
   "cell_type": "code",
   "source": [
    "# random_forest = training.fit_save_model(\"RandomForest\", preprocessor, x_train, y_train,\n",
    "#                                         retrain=RETRAIN)"
   ],
   "id": "691fb54c11da5fa7",
   "outputs": [],
   "execution_count": 16
  },
  {
   "metadata": {
    "ExecuteTime": {
     "end_time": "2025-06-29T15:14:05.873029Z",
     "start_time": "2025-06-29T15:14:01.613481Z"
    }
   },
   "cell_type": "code",
   "source": "xgboost = training.fit_save_model(\"XGBoost\", preprocessor, x_train, y_train, retrain=RETRAIN)",
   "id": "65c9b13b1cbb0c61",
   "outputs": [],
   "execution_count": 17
  },
  {
   "metadata": {
    "ExecuteTime": {
     "end_time": "2025-06-29T15:14:05.912274Z",
     "start_time": "2025-06-29T15:14:05.910108Z"
    }
   },
   "cell_type": "code",
   "source": "# bayes = training.fit_save_model(\"Bayes\", x_train, y_train, retrain=RETRAIN)",
   "id": "4b05040c8a418e43",
   "outputs": [],
   "execution_count": 18
  },
  {
   "metadata": {},
   "cell_type": "markdown",
   "source": "# CV Performance Search",
   "id": "685a7eecef0a5420"
  },
  {
   "metadata": {
    "ExecuteTime": {
     "end_time": "2025-06-29T15:14:05.927367Z",
     "start_time": "2025-06-29T15:14:05.924851Z"
    }
   },
   "cell_type": "code",
   "source": "CV_TRAIN = True",
   "id": "2d9f7a4033fffb66",
   "outputs": [],
   "execution_count": 19
  },
  {
   "metadata": {},
   "cell_type": "markdown",
   "source": "Lin Reg",
   "id": "8a6fc34d2a2b231"
  },
  {
   "metadata": {
    "ExecuteTime": {
     "end_time": "2025-06-29T15:14:05.999777Z",
     "start_time": "2025-06-29T15:14:05.995734Z"
    }
   },
   "cell_type": "code",
   "source": [
    "# if CV_TRAIN:\n",
    "#   training.cv_train('LinearRegression', linReg, x_train, y_train)"
   ],
   "id": "7504ee5ec7c2e2f6",
   "outputs": [],
   "execution_count": 20
  },
  {
   "metadata": {},
   "cell_type": "markdown",
   "source": "Ridge",
   "id": "80a73601402cdce"
  },
  {
   "metadata": {
    "ExecuteTime": {
     "end_time": "2025-06-29T15:14:06.046751Z",
     "start_time": "2025-06-29T15:14:06.044208Z"
    }
   },
   "cell_type": "code",
   "source": [
    "# if CV_TRAIN:\n",
    "#   training.cv_train('Ridge', ridge, x_train, y_train)"
   ],
   "id": "5f7cb83a96b9e88",
   "outputs": [],
   "execution_count": 21
  },
  {
   "metadata": {},
   "cell_type": "markdown",
   "source": "RF",
   "id": "adb01fa0b7b64fe7"
  },
  {
   "metadata": {
    "ExecuteTime": {
     "end_time": "2025-06-29T15:14:06.090273Z",
     "start_time": "2025-06-29T15:14:06.087642Z"
    }
   },
   "cell_type": "code",
   "source": [
    "# if CV_TRAIN:\n",
    "#   training.cv_train('RandomForest', random_forest, x_train, y_train)"
   ],
   "id": "c3c66f50ad6c0578",
   "outputs": [],
   "execution_count": 22
  },
  {
   "metadata": {},
   "cell_type": "markdown",
   "source": "XGBoost",
   "id": "992e35e10b5cb327"
  },
  {
   "metadata": {
    "ExecuteTime": {
     "end_time": "2025-06-29T15:14:15.078117Z",
     "start_time": "2025-06-29T15:14:06.132121Z"
    }
   },
   "cell_type": "code",
   "source": [
    "if CV_TRAIN:\n",
    "  training.cv_train('XGBoost', xgboost, x_train, y_train)"
   ],
   "id": "cae94d75b59c2eb1",
   "outputs": [
    {
     "name": "stdout",
     "output_type": "stream",
     "text": [
      "XGBoost Log-RMSE (mean): 0.319698\n",
      "XGBoost Log-RMSE (std): 0.000834\n"
     ]
    }
   ],
   "execution_count": 23
  },
  {
   "metadata": {},
   "cell_type": "markdown",
   "source": [
    "XGBoost Log-RMSE (mean): 0.338292\n",
    "XGBoost Log-RMSE (std): 0.000219\n",
    "\n",
    "XGBoost Log-RMSE (mean): 0.319581\n",
    "XGBoost Log-RMSE (std): 0.000313\n",
    "\n",
    "XGBoost Log-RMSE (mean): 0.319793\n",
    "XGBoost Log-RMSE (std): 0.000200\n",
    "\n",
    "XGBoost Log-RMSE (mean): 0.319698\n",
    "XGBoost Log-RMSE (std): 0.000834"
   ],
   "id": "933c9ae8b130166a"
  },
  {
   "metadata": {},
   "cell_type": "markdown",
   "source": "Bayes",
   "id": "9e06001068974006"
  },
  {
   "metadata": {
    "ExecuteTime": {
     "end_time": "2025-06-29T15:14:15.119713Z",
     "start_time": "2025-06-29T15:14:15.117793Z"
    }
   },
   "cell_type": "code",
   "source": [
    "# if CV_TRAIN:\n",
    "#   training.cv_train('Bayes', x_train, y_train)"
   ],
   "id": "d213d0c607868cac",
   "outputs": [],
   "execution_count": 24
  },
  {
   "metadata": {},
   "cell_type": "markdown",
   "source": "# Top Features",
   "id": "9a4c729de8b25922"
  },
  {
   "metadata": {
    "ExecuteTime": {
     "end_time": "2025-06-29T15:14:15.168389Z",
     "start_time": "2025-06-29T15:14:15.166089Z"
    }
   },
   "cell_type": "code",
   "source": "SHOW_TOP_F = True",
   "id": "50ab8f34bb0387f8",
   "outputs": [],
   "execution_count": 25
  },
  {
   "metadata": {},
   "cell_type": "markdown",
   "source": "Linear Regression",
   "id": "fbe695bb60e05cb3"
  },
  {
   "metadata": {
    "ExecuteTime": {
     "end_time": "2025-06-29T15:14:15.214242Z",
     "start_time": "2025-06-29T15:14:15.211977Z"
    }
   },
   "cell_type": "code",
   "source": [
    "# if SHOW_TOP_F:\n",
    "#   top20 = training.top_linreg_features(linReg, x_train=x_train, top_n=75)\n",
    "#   print(top20)"
   ],
   "id": "dfc57ba94de551d1",
   "outputs": [],
   "execution_count": 26
  },
  {
   "metadata": {},
   "cell_type": "markdown",
   "source": "Ridge",
   "id": "8a6e658cbc6a7a97"
  },
  {
   "metadata": {
    "ExecuteTime": {
     "end_time": "2025-06-29T15:14:15.228019Z",
     "start_time": "2025-06-29T15:14:15.224479Z"
    }
   },
   "cell_type": "code",
   "source": [
    "# if SHOW_TOP_F:\n",
    "#   top20 = training.top_linreg_features(ridge, x_train=x_train, top_n=60)\n",
    "#   print(top20)"
   ],
   "id": "c07624f0ff5afa1c",
   "outputs": [],
   "execution_count": 27
  },
  {
   "metadata": {},
   "cell_type": "markdown",
   "source": "Random Forest",
   "id": "1874d2ba15eb7c75"
  },
  {
   "metadata": {
    "ExecuteTime": {
     "end_time": "2025-06-29T15:14:15.302830Z",
     "start_time": "2025-06-29T15:14:15.301208Z"
    }
   },
   "cell_type": "code",
   "source": [
    "# if SHOW_TOP_F:\n",
    "#   top20_rf = training.top_tree_features(random_forest, x_train=x_train, top_n=60)\n",
    "#   print(top20_rf)"
   ],
   "id": "ccf9fe0276641e91",
   "outputs": [],
   "execution_count": 28
  },
  {
   "metadata": {},
   "cell_type": "markdown",
   "source": "XGBoost",
   "id": "c3f263242d00da02"
  },
  {
   "metadata": {
    "ExecuteTime": {
     "end_time": "2025-06-29T15:14:15.350882Z",
     "start_time": "2025-06-29T15:14:15.345305Z"
    }
   },
   "cell_type": "code",
   "source": [
    "if SHOW_TOP_F:\n",
    "  top20_xgb = training.top_tree_features(xgboost, x_train=x_train, top_n=60)\n",
    "  print(top20_xgb)"
   ],
   "id": "1aade65f3cb02cab",
   "outputs": [
    {
     "name": "stdout",
     "output_type": "stream",
     "text": [
      "                  feature  importance  rel_importance  cum_importance\n",
      "0   route_distance_log_km    0.461758           46.18       46.180000\n",
      "1   trip_duration_outlier    0.097892            9.79       55.959999\n",
      "2         hav_dist_km_log    0.083911            8.39       64.360001\n",
      "3             hour_of_day    0.043096            4.31       68.669998\n",
      "4          pickup_weekday    0.029452            2.95       71.610001\n",
      "5       dropoff_cluster_3    0.027809            2.78       74.389999\n",
      "6       dropoff_cluster_0    0.021012            2.10       76.489998\n",
      "7              is_holiday    0.017584            1.76       78.250000\n",
      "8       dropoff_cluster_4    0.017333            1.73       79.980003\n",
      "9                    rain    0.016871            1.69       81.669998\n",
      "10       dropoff_latitude    0.015339            1.53       83.209999\n",
      "11       is_early_morning    0.014408            1.44       84.650002\n",
      "12             is_rush_pm    0.013034            1.30       85.949997\n",
      "13           pickup_month    0.011673            1.17       87.120003\n",
      "14               is_night    0.010822            1.08       88.199997\n",
      "15              vendor_id    0.010773            1.08       89.279999\n",
      "16             is_rush_am    0.009888            0.99       90.269997\n",
      "17       pickup_longitude    0.008067            0.81       91.070000\n",
      "18           hour_of_year    0.007915            0.79       91.860001\n",
      "19       pickup_cluster_2    0.007706            0.77       92.629997\n",
      "20      dropoff_longitude    0.007424            0.74       93.379997\n",
      "21        pickup_latitude    0.007399            0.74       94.120003\n",
      "22       pickup_cluster_4    0.007261            0.73       94.839996\n",
      "23      dropoff_cluster_6    0.007002            0.70       95.540001\n",
      "24              temp_code    0.006499            0.65       96.190002\n",
      "25            is_jfk_drop    0.006251            0.63       96.820000\n",
      "26       pickup_cluster_3    0.003630            0.36       97.180000\n",
      "27      dropoff_cluster_2    0.003401            0.34       97.519997\n",
      "28        passenger_count    0.003388            0.34       97.860001\n",
      "29                 temp_c    0.002979            0.30       98.160004\n",
      "30                rain_mm    0.002741            0.27       98.430000\n",
      "31           pressure_hpa    0.002689            0.27       98.699997\n",
      "32        daily_precip_mm    0.002608            0.26       98.959999\n",
      "33            is_jfk_pick    0.002468            0.25       99.209999\n",
      "34      dropoff_cluster_1    0.002242            0.22       99.430000\n",
      "35       pickup_cluster_0    0.001989            0.20       99.629997\n",
      "36       pickup_cluster_1    0.001926            0.19       99.820000\n",
      "37      dropoff_cluster_5    0.001289            0.13       99.949997\n",
      "38      dropoff_cluster_7    0.000471            0.05      100.000000\n"
     ]
    }
   ],
   "execution_count": 29
  },
  {
   "metadata": {},
   "cell_type": "markdown",
   "source": "Bayes Net",
   "id": "c0d670131506b2a2"
  },
  {
   "metadata": {},
   "cell_type": "code",
   "source": [
    "# if SHOW_TOP_F:\n",
    "#   top20_bayes = training.top_generic_features(bayes, x_train=x_train, y_train=y_train, top_n=75\n",
    "#                                               )\n",
    "#   print(top20_bayes)"
   ],
   "id": "aaef61bf7d1eae6f",
   "outputs": [],
   "execution_count": null
  },
  {
   "metadata": {},
   "cell_type": "markdown",
   "source": "# Error Analysis",
   "id": "ef80063982c721a1"
  },
  {
   "metadata": {},
   "cell_type": "code",
   "source": [
    "model_name = \"XGBoost\"\n",
    "model = xgboost"
   ],
   "id": "f38d646042030497",
   "outputs": [],
   "execution_count": null
  },
  {
   "metadata": {},
   "cell_type": "code",
   "source": [
    "df_err = training.get_res_errors(modell=model, x_train=x_train,\n",
    "                                 y_train=y_train)"
   ],
   "id": "59cfe9862dd8f0eb",
   "outputs": [],
   "execution_count": null
  },
  {
   "metadata": {},
   "cell_type": "code",
   "source": "plot_residuals(df_err, model_name)",
   "id": "c0445362ab1ec33",
   "outputs": [],
   "execution_count": null
  },
  {
   "metadata": {},
   "cell_type": "code",
   "source": "plot_residual_scatter(df_err, model_name)",
   "id": "ebc7b612c46bf481",
   "outputs": [],
   "execution_count": null
  },
  {
   "metadata": {},
   "cell_type": "code",
   "source": "training.list_res_errors(df_err, model_name)",
   "id": "cf1975f8c1eae15f",
   "outputs": [],
   "execution_count": null
  },
  {
   "metadata": {},
   "cell_type": "code",
   "source": [
    "df_err['dist_bin'] = pd.qcut(\n",
    "    df_err['route_distance_log_km'].fillna(0),\n",
    "    q=10,\n",
    "    labels=False\n",
    ")\n",
    "\n",
    "plot_residual_heatmap(\n",
    "    df_err,\n",
    "    model_name,\n",
    "    x_col='dist_bin',\n",
    "    y_col='hour_of_day'\n",
    ")\n",
    "\n",
    "plot_residual_heatmap(df_err,\n",
    "                      model_name,\n",
    "                      x_col=\"dist_bin\",\n",
    "                      y_col=\"hour_of_day\")\n",
    "\n",
    "plot_residual_heatmap(df_err,\n",
    "                      model_name,\n",
    "                      x_col=\"hour_of_day\",\n",
    "                      y_col=\"pickup_cluster\")\n",
    "\n",
    "plot_residual_heatmap(df_err,\n",
    "                      model_name,\n",
    "                      x_col=\"hour_of_day\",\n",
    "                      y_col=\"dropoff_cluster\")\n"
   ],
   "id": "9a6bfb4c4da8ebb5",
   "outputs": [],
   "execution_count": null
  },
  {
   "metadata": {},
   "cell_type": "code",
   "source": "training.list_errors_10_bins(df_err, model_name, \"hav_dist_km_log\")",
   "id": "f6ce69ff94d00dbb",
   "outputs": [],
   "execution_count": null
  },
  {
   "metadata": {},
   "cell_type": "code",
   "source": "training.list_errors_10_bins(df_err, model_name, \"route_distance_log_km\")",
   "id": "315d18a0e60a2d54",
   "outputs": [],
   "execution_count": null
  },
  {
   "metadata": {},
   "cell_type": "markdown",
   "source": "# Feature eng / selection",
   "id": "f0fde4393bb831bf"
  },
  {
   "metadata": {},
   "cell_type": "code",
   "source": "corr = x_train.corr()",
   "id": "4d502f7baed1182",
   "outputs": [],
   "execution_count": null
  },
  {
   "metadata": {},
   "cell_type": "code",
   "source": "corr.temp_code",
   "id": "c3069a666019b8ab",
   "outputs": [],
   "execution_count": null
  },
  {
   "metadata": {},
   "cell_type": "code",
   "source": [
    "num = x_train.select_dtypes(\"number\")\n",
    "corr = num.corr()\n",
    "sns.heatmap(corr, cmap=\"coolwarm\", vmin=-1, vmax=1)\n",
    "plt.show()"
   ],
   "id": "8b0befcd80a5e074",
   "outputs": [],
   "execution_count": null
  },
  {
   "metadata": {},
   "cell_type": "code",
   "source": [
    "hi_corr = (corr.abs()\n",
    "           .stack()\n",
    "           .rename(\"corr\")\n",
    "           .reset_index()\n",
    "           .query(\"level_0 < level_1 and corr >= 0.70\")\n",
    "           .sort_values(\"corr\", ascending=False))\n",
    "print(hi_corr.head(20))"
   ],
   "id": "282041719fd8b18a",
   "outputs": [],
   "execution_count": null
  },
  {
   "metadata": {},
   "cell_type": "code",
   "source": [
    "rank = (\n",
    "  x_train.assign(target=y_train)\n",
    "  .corr()\n",
    "  [\"target\"]\n",
    "  .abs()\n",
    "  .sort_values(ascending=False)\n",
    ")\n",
    "print(rank.head(20))"
   ],
   "id": "683be3faf99750c9",
   "outputs": [],
   "execution_count": null
  }
 ],
 "metadata": {
  "kernelspec": {
   "display_name": "Python 3",
   "language": "python",
   "name": "python3"
  },
  "language_info": {
   "codemirror_mode": {
    "name": "ipython",
    "version": 2
   },
   "file_extension": ".py",
   "mimetype": "text/x-python",
   "name": "python",
   "nbconvert_exporter": "python",
   "pygments_lexer": "ipython2",
   "version": "2.7.6"
  }
 },
 "nbformat": 4,
 "nbformat_minor": 5
}
