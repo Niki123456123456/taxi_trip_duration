{
 "cells": [
  {
   "metadata": {},
   "cell_type": "markdown",
   "source": "# Setup & Imports",
   "id": "a0d5a60dd549e5f"
  },
  {
   "metadata": {
    "ExecuteTime": {
     "end_time": "2025-06-17T15:47:08.797195Z",
     "start_time": "2025-06-17T15:47:07.077845Z"
    }
   },
   "cell_type": "code",
   "source": [
    "import numpy as np\n",
    "import pandas as pd\n",
    "from sklearn.compose import ColumnTransformer\n",
    "\n",
    "import preModelling.data_config as config\n",
    "import preModelling.utils\n",
    "from modelling.feature_config import NUM_ALL, CAT_ALL, BOOL_ALL, NUM_NO_WEATHER, \\\n",
    "  CAT_NO_WEATHER, BOOL_NO_WEATHER\n",
    "from modelling.feature_importance import plot_lin_feature_importance, \\\n",
    "  plot_tree_feature_importance\n",
    "from modelling.modelling_config import N_PICKUP_CLUSTERS, N_DROPOFF_CLUSTERS, \\\n",
    "  RANDOM_SEED, \\\n",
    "  KMEANS_BATCH_SIZE\n",
    "from modelling.modelling_utils import feature_to_category, feature_as_bool, \\\n",
    "  make_all_models\n",
    "from modelling.transformer import num_base_pipelining, cat_base_pipelining, \\\n",
    "  bool_base_pipelining, get_display_models_results, compare_models_results, \\\n",
    "  create_geo_clusters"
   ],
   "id": "a3673db47b16301e",
   "outputs": [],
   "execution_count": 1
  },
  {
   "metadata": {
    "ExecuteTime": {
     "end_time": "2025-06-17T15:47:12.907282Z",
     "start_time": "2025-06-17T15:47:08.900644Z"
    }
   },
   "cell_type": "code",
   "source": [
    "# Load taxi and weather data\n",
    "taxi_weather_raw = pd.read_csv(config.TAXI_WEATHER_DATA_SAVE)"
   ],
   "id": "66184c84eada8cc",
   "outputs": [],
   "execution_count": 2
  },
  {
   "metadata": {},
   "cell_type": "markdown",
   "source": "# Train/Test Split",
   "id": "144f9dd08de3852f"
  },
  {
   "metadata": {
    "ExecuteTime": {
     "end_time": "2025-06-17T15:47:13.299898Z",
     "start_time": "2025-06-17T15:47:12.925425Z"
    }
   },
   "cell_type": "code",
   "source": [
    "train_set, test_set = preModelling.utils.split_train_test(taxi_weather_raw, config.TEST_SIZE,\n",
    "                                                          config.RANDOM_STATE)"
   ],
   "id": "1de79edf73cc8618",
   "outputs": [],
   "execution_count": 3
  },
  {
   "metadata": {
    "ExecuteTime": {
     "end_time": "2025-06-17T15:47:13.577115Z",
     "start_time": "2025-06-17T15:47:13.310377Z"
    }
   },
   "cell_type": "code",
   "source": [
    "taxi_weather = train_set.copy()\n",
    "taxi_weather.drop(['trip_duration', 'trip_duration_log', 'trip_duration_min'], axis=1, inplace=True)\n",
    "taxi_weather_labels = train_set[['trip_duration_log']].copy()"
   ],
   "id": "14e3bbc5d6cb1e25",
   "outputs": [],
   "execution_count": 4
  },
  {
   "metadata": {
    "ExecuteTime": {
     "end_time": "2025-06-17T15:47:13.597941Z",
     "start_time": "2025-06-17T15:47:13.589726Z"
    }
   },
   "cell_type": "code",
   "source": "taxi_weather['hav_dist_km_log'] = np.log1p(taxi_weather['hav_dist_km'])",
   "id": "71c29841658379e3",
   "outputs": [],
   "execution_count": 5
  },
  {
   "metadata": {},
   "cell_type": "markdown",
   "source": "# Preprocessing-Configuration",
   "id": "7149d88c353d1a65"
  },
  {
   "metadata": {
    "ExecuteTime": {
     "end_time": "2025-06-17T15:47:14.371665Z",
     "start_time": "2025-06-17T15:47:13.608918Z"
    }
   },
   "cell_type": "code",
   "source": [
    "taxi_weather = create_geo_clusters(\n",
    "    taxi_weather,\n",
    "    ['pickup_longitude', 'pickup_latitude'],\n",
    "    'pickup',\n",
    "    n_clusters=N_PICKUP_CLUSTERS,  # oder dein `N_PICKUP_CLUSTERS`\n",
    "    random_state=RANDOM_SEED,\n",
    "    batch_size=KMEANS_BATCH_SIZE\n",
    ")\n",
    "\n",
    "taxi_weather = create_geo_clusters(\n",
    "    taxi_weather,\n",
    "    ['dropoff_longitude', 'dropoff_latitude'],\n",
    "    'dropoff',\n",
    "    n_clusters=N_DROPOFF_CLUSTERS,\n",
    "    random_state=RANDOM_SEED,\n",
    "    batch_size=KMEANS_BATCH_SIZE\n",
    ")\n",
    "taxi_weather['pickup_cluster'] = taxi_weather['pickup_cluster'].astype('category')\n",
    "taxi_weather['dropoff_cluster'] = taxi_weather['dropoff_cluster'].astype('category')\n",
    "\n",
    "taxi_weather = feature_to_category(taxi_weather, CAT_ALL)\n",
    "taxi_weather = feature_as_bool(taxi_weather, BOOL_ALL)\n",
    "\n",
    "num_base_pipeline = num_base_pipelining()\n",
    "cat_base_pipeline = cat_base_pipelining()\n",
    "bool_base_pipeline = bool_base_pipelining()\n",
    "\n",
    "y_train = taxi_weather_labels['trip_duration_log']"
   ],
   "id": "6dc3869091563431",
   "outputs": [],
   "execution_count": 6
  },
  {
   "metadata": {},
   "cell_type": "markdown",
   "source": "# Model Factories",
   "id": "66dbfdf4d03b8249"
  },
  {
   "metadata": {},
   "cell_type": "markdown",
   "source": "## exp1 Training – All Models – All Features",
   "id": "3af5aee63539338e"
  },
  {
   "metadata": {
    "ExecuteTime": {
     "end_time": "2025-06-17T15:47:14.424972Z",
     "start_time": "2025-06-17T15:47:14.390916Z"
    }
   },
   "cell_type": "code",
   "source": [
    "preprocessing_base = ColumnTransformer([\n",
    "  ('num', num_base_pipeline, NUM_ALL),\n",
    "  ('cat', cat_base_pipeline, CAT_ALL),\n",
    "  ('bool', bool_base_pipeline, BOOL_ALL)\n",
    "])\n",
    "\n",
    "# Prepare training data\n",
    "X_train_all = taxi_weather[NUM_ALL + CAT_ALL + BOOL_ALL]\n",
    "\n",
    "models_all = make_all_models(preprocessing_base)"
   ],
   "id": "520518999823306",
   "outputs": [],
   "execution_count": 7
  },
  {
   "metadata": {
    "ExecuteTime": {
     "end_time": "2025-06-17T15:48:06.229136Z",
     "start_time": "2025-06-17T15:47:14.473806Z"
    }
   },
   "cell_type": "code",
   "source": "result_all_models_all_att = get_display_models_results(models_all, X_train_all, y_train)",
   "id": "1fded706799f7e51",
   "outputs": [
    {
     "name": "stdout",
     "output_type": "stream",
     "text": [
      "[LightGBM] [Info] Auto-choosing row-wise multi-threading, the overhead of testing was 0.031445 seconds.\n",
      "You can set `force_row_wise=true` to remove the overhead.\n",
      "And if memory is not enough, you can set `force_col_wise=true`.\n",
      "[LightGBM] [Info] Total Bins 1741\n",
      "[LightGBM] [Info] Number of data points in the train set: 777943, number of used features: 38\n",
      "[LightGBM] [Info] Start training from score 6.467198\n"
     ]
    },
    {
     "name": "stderr",
     "output_type": "stream",
     "text": [
      "/Users/Wendo99/miniconda3/envs/NYC_Taxi/lib/python3.12/site-packages/sklearn/utils/validation.py:2739: UserWarning: X does not have valid feature names, but LGBMRegressor was fitted with feature names\n",
      "  warnings.warn(\n"
     ]
    },
    {
     "name": "stdout",
     "output_type": "stream",
     "text": [
      "[LightGBM] [Info] Auto-choosing row-wise multi-threading, the overhead of testing was 0.030484 seconds.\n",
      "You can set `force_row_wise=true` to remove the overhead.\n",
      "And if memory is not enough, you can set `force_col_wise=true`.\n",
      "[LightGBM] [Info] Total Bins 1735\n",
      "[LightGBM] [Info] Number of data points in the train set: 777943, number of used features: 38\n",
      "[LightGBM] [Info] Start training from score 6.467330\n"
     ]
    },
    {
     "name": "stderr",
     "output_type": "stream",
     "text": [
      "/Users/Wendo99/miniconda3/envs/NYC_Taxi/lib/python3.12/site-packages/sklearn/utils/validation.py:2739: UserWarning: X does not have valid feature names, but LGBMRegressor was fitted with feature names\n",
      "  warnings.warn(\n"
     ]
    },
    {
     "name": "stdout",
     "output_type": "stream",
     "text": [
      "[LightGBM] [Info] Auto-choosing row-wise multi-threading, the overhead of testing was 0.022077 seconds.\n",
      "You can set `force_row_wise=true` to remove the overhead.\n",
      "And if memory is not enough, you can set `force_col_wise=true`.\n",
      "[LightGBM] [Info] Total Bins 1729\n",
      "[LightGBM] [Info] Number of data points in the train set: 777944, number of used features: 38\n",
      "[LightGBM] [Info] Start training from score 6.465593\n"
     ]
    },
    {
     "name": "stderr",
     "output_type": "stream",
     "text": [
      "/Users/Wendo99/miniconda3/envs/NYC_Taxi/lib/python3.12/site-packages/sklearn/utils/validation.py:2739: UserWarning: X does not have valid feature names, but LGBMRegressor was fitted with feature names\n",
      "  warnings.warn(\n"
     ]
    }
   ],
   "execution_count": 8
  },
  {
   "metadata": {},
   "cell_type": "code",
   "source": "compare_models_results(result_all_models_all_att, seconds=True)",
   "id": "711ce4cbe7a57e8c",
   "outputs": [],
   "execution_count": null
  },
  {
   "metadata": {},
   "cell_type": "markdown",
   "source": "## exp Training – All Models – All Features",
   "id": "67a378377fe2e6b0"
  },
  {
   "metadata": {},
   "cell_type": "code",
   "source": [
    "preprocessing_no_weather = ColumnTransformer([\n",
    "  ('num', num_base_pipeline, NUM_NO_WEATHER),\n",
    "  ('cat', cat_base_pipeline, CAT_NO_WEATHER),\n",
    "  ('bool', bool_base_pipeline, BOOL_NO_WEATHER)\n",
    "])\n",
    "\n",
    "X_train_no_weather = taxi_weather[\n",
    "  NUM_NO_WEATHER + CAT_NO_WEATHER + BOOL_NO_WEATHER\n",
    "  ]\n",
    "\n",
    "models_no_weather = make_all_models(preprocessing_no_weather)"
   ],
   "id": "eb42b9c5aa7cbd1f",
   "outputs": [],
   "execution_count": null
  },
  {
   "metadata": {},
   "cell_type": "code",
   "source": [
    "result_all_models_no_weather = get_display_models_results(models_no_weather, X_train_no_weather,\n",
    "                                                          y_train)"
   ],
   "id": "31972637b10fbc35",
   "outputs": [],
   "execution_count": null
  },
  {
   "metadata": {},
   "cell_type": "code",
   "source": "compare_models_results(result_all_models_no_weather, seconds=True)",
   "id": "7676996276edb6d0",
   "outputs": [],
   "execution_count": null
  },
  {
   "metadata": {},
   "cell_type": "markdown",
   "source": "## Top Features",
   "id": "371b6d262ed6a646"
  },
  {
   "metadata": {},
   "cell_type": "code",
   "source": [
    "linreg_model = models_all['LinearRegression']\n",
    "plot_lin_feature_importance(linreg_model, X_train_all, y_train)"
   ],
   "id": "72b23769bbdc9b9d",
   "outputs": [],
   "execution_count": null
  },
  {
   "metadata": {},
   "cell_type": "code",
   "source": [
    "lasso_model = models_all['Lasso']\n",
    "plot_lin_feature_importance(lasso_model, X_train_all, y_train)"
   ],
   "id": "165f9714b263df12",
   "outputs": [],
   "execution_count": null
  },
  {
   "metadata": {},
   "cell_type": "code",
   "source": [
    "ridge_model = models_all['Ridge']\n",
    "plot_lin_feature_importance(ridge_model, X_train_all, y_train)"
   ],
   "id": "5e014afa5dda556f",
   "outputs": [],
   "execution_count": null
  },
  {
   "metadata": {},
   "cell_type": "code",
   "source": [
    "xgb_model = models_all['XGBoost']\n",
    "plot_tree_feature_importance(xgb_model, X_train_all, y_train)"
   ],
   "id": "da9212f1fb9e3471",
   "outputs": [],
   "execution_count": null
  },
  {
   "metadata": {},
   "cell_type": "code",
   "source": [
    "lgbm_model = models_all['LightGBM']\n",
    "plot_tree_feature_importance(lgbm_model, X_train_all, y_train)"
   ],
   "id": "d4e4a9374e018892",
   "outputs": [],
   "execution_count": null
  },
  {
   "metadata": {},
   "cell_type": "code",
   "source": [
    "dt_model = models_all['DecisionTree']\n",
    "plot_tree_feature_importance(dt_model, X_train_all, y_train)"
   ],
   "id": "8fe877660d189231",
   "outputs": [],
   "execution_count": null
  },
  {
   "metadata": {},
   "cell_type": "code",
   "source": [
    "rf_model = models_all['RandomForest']\n",
    "plot_tree_feature_importance(rf_model, X_train_all, y_train)"
   ],
   "id": "346a54949a0d7ae0",
   "outputs": [],
   "execution_count": null
  }
 ],
 "metadata": {
  "kernelspec": {
   "display_name": "Python 3",
   "language": "python",
   "name": "python3"
  },
  "language_info": {
   "codemirror_mode": {
    "name": "ipython",
    "version": 2
   },
   "file_extension": ".py",
   "mimetype": "text/x-python",
   "name": "python",
   "nbconvert_exporter": "python",
   "pygments_lexer": "ipython2",
   "version": "2.7.6"
  }
 },
 "nbformat": 4,
 "nbformat_minor": 5
}
