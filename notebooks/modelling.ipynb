{
 "cells": [
  {
   "metadata": {},
   "cell_type": "markdown",
   "source": "# Load data",
   "id": "a0d5a60dd549e5f"
  },
  {
   "metadata": {
    "ExecuteTime": {
     "end_time": "2025-06-12T01:35:37.730907Z",
     "start_time": "2025-06-12T01:35:37.725376Z"
    }
   },
   "cell_type": "code",
   "source": [
    "import matplotlib.pyplot as plt\n",
    "import numpy as np\n",
    "import pandas as pd\n",
    "\n",
    "import config as config\n",
    "import features.taxi_config as tc\n",
    "import modelling as ml"
   ],
   "id": "a3673db47b16301e",
   "outputs": [],
   "execution_count": 4
  },
  {
   "metadata": {
    "ExecuteTime": {
     "end_time": "2025-06-12T01:35:42.937879Z",
     "start_time": "2025-06-12T01:35:39.296699Z"
    }
   },
   "cell_type": "code",
   "source": [
    "# Load taxi and weather data\n",
    "taxi_weather_data = pd.read_csv(config.TAXI_WEATHER_DATA_SAVE)"
   ],
   "id": "66184c84eada8cc",
   "outputs": [],
   "execution_count": 5
  },
  {
   "metadata": {
    "ExecuteTime": {
     "end_time": "2025-06-12T01:35:44.983956Z",
     "start_time": "2025-06-12T01:35:44.715199Z"
    }
   },
   "cell_type": "code",
   "source": "taxi_weather_data.info()",
   "id": "10f2c11940452b51",
   "outputs": [
    {
     "name": "stdout",
     "output_type": "stream",
     "text": [
      "<class 'pandas.core.frame.DataFrame'>\n",
      "RangeIndex: 1458644 entries, 0 to 1458643\n",
      "Data columns (total 33 columns):\n",
      " #   Column              Non-Null Count    Dtype  \n",
      "---  ------              --------------    -----  \n",
      " 0   id                  1458644 non-null  object \n",
      " 1   vendor_id           1458644 non-null  int64  \n",
      " 2   pickup_datetime     1458644 non-null  object \n",
      " 3   dropoff_datetime    1458644 non-null  object \n",
      " 4   passenger_count     1458644 non-null  int64  \n",
      " 5   pickup_longitude    1458644 non-null  float64\n",
      " 6   pickup_latitude     1458644 non-null  float64\n",
      " 7   dropoff_longitude   1458644 non-null  float64\n",
      " 8   dropoff_latitude    1458644 non-null  float64\n",
      " 9   store_and_fwd_flag  1458644 non-null  object \n",
      " 10  trip_duration       1458644 non-null  int64  \n",
      " 11  pickup_hour         1458644 non-null  int64  \n",
      " 12  pickup_weekday      1458644 non-null  object \n",
      " 13  pickup_month        1458644 non-null  int64  \n",
      " 14  hour_of_year        1458644 non-null  int64  \n",
      " 15  trip_duration_min   1458644 non-null  float64\n",
      " 16  trip_duration_log   1458644 non-null  float64\n",
      " 17  hav_dist_km         1458644 non-null  float64\n",
      " 18  Unnamed: 0          1458644 non-null  int64  \n",
      " 19  datetime_hour       1458644 non-null  object \n",
      " 20  humidity            1458644 non-null  float64\n",
      " 21  fog                 1458644 non-null  int64  \n",
      " 22  rain                1458644 non-null  int64  \n",
      " 23  snow                1458644 non-null  int64  \n",
      " 24  conditions          1458644 non-null  object \n",
      " 25  datetime            1458644 non-null  object \n",
      " 26  hour_of_day         1458644 non-null  int64  \n",
      " 27  temp_c              1458644 non-null  float64\n",
      " 28  windspeed_kph       1187026 non-null  float64\n",
      " 29  precip_mm           1458644 non-null  float64\n",
      " 30  pressure_hPa        1451059 non-null  float64\n",
      " 31  precip_daily_mm     1458644 non-null  float64\n",
      " 32  daily_snow_mm       1458644 non-null  float64\n",
      "dtypes: float64(14), int64(11), object(8)\n",
      "memory usage: 367.2+ MB\n"
     ]
    }
   ],
   "execution_count": 6
  },
  {
   "metadata": {
    "ExecuteTime": {
     "end_time": "2025-06-12T01:36:20.104694Z",
     "start_time": "2025-06-12T01:36:19.853440Z"
    }
   },
   "cell_type": "code",
   "source": "taxi_weather_data.isna().sum()",
   "id": "3f590dad2ec20f6d",
   "outputs": [
    {
     "data": {
      "text/plain": [
       "id                         0\n",
       "vendor_id                  0\n",
       "pickup_datetime            0\n",
       "dropoff_datetime           0\n",
       "passenger_count            0\n",
       "pickup_longitude           0\n",
       "pickup_latitude            0\n",
       "dropoff_longitude          0\n",
       "dropoff_latitude           0\n",
       "store_and_fwd_flag         0\n",
       "trip_duration              0\n",
       "pickup_hour                0\n",
       "pickup_weekday             0\n",
       "pickup_month               0\n",
       "hour_of_year               0\n",
       "trip_duration_min          0\n",
       "trip_duration_log          0\n",
       "hav_dist_km                0\n",
       "Unnamed: 0                 0\n",
       "datetime_hour              0\n",
       "humidity                   0\n",
       "fog                        0\n",
       "rain                       0\n",
       "snow                       0\n",
       "conditions                 0\n",
       "datetime                   0\n",
       "hour_of_day                0\n",
       "temp_c                     0\n",
       "windspeed_kph         271618\n",
       "precip_mm                  0\n",
       "pressure_hPa            7585\n",
       "precip_daily_mm            0\n",
       "daily_snow_mm              0\n",
       "dtype: int64"
      ]
     },
     "execution_count": 7,
     "metadata": {},
     "output_type": "execute_result"
    }
   ],
   "execution_count": 7
  },
  {
   "metadata": {},
   "cell_type": "markdown",
   "source": "# split train and test set",
   "id": "144f9dd08de3852f"
  },
  {
   "metadata": {},
   "cell_type": "code",
   "source": [
    "train_set, test_set = ml.split_train_test(taxi_weather_data, test_size=config.TEST_SIZE,\n",
    "                                       random_state=config.RANDOM_STATE)"
   ],
   "id": "1de79edf73cc8618",
   "outputs": [],
   "execution_count": null
  },
  {
   "metadata": {},
   "cell_type": "markdown",
   "source": "# Multi EDA",
   "id": "c4894e0786a8e3d4"
  },
  {
   "metadata": {},
   "cell_type": "markdown",
   "source": "Explore numerical Rain Features",
   "id": "eb1328cd94c5b5f1"
  },
  {
   "metadata": {},
   "cell_type": "code",
   "source": [
    "rain_features = ['precip_mm', 'precip_daily_mm', 'rain_code']\n",
    "taxi_weather_data[rain_features + ['trip_duration_log']].corr()['trip_duration_log'].sort_values()"
   ],
   "id": "57876d33b4911797",
   "outputs": [],
   "execution_count": null
  },
  {
   "metadata": {},
   "cell_type": "markdown",
   "source": "Explore categorial Rain Features",
   "id": "b4dd6a295931b245"
  },
  {
   "metadata": {},
   "cell_type": "code",
   "source": [
    "taxi_weather_data.groupby('rain_class')['trip_duration_log'].mean().plot(kind='bar',\n",
    "                                                                         title='trip_duration_log by rain_class')"
   ],
   "id": "22ce6407c2daa898",
   "outputs": [],
   "execution_count": null
  },
  {
   "metadata": {},
   "cell_type": "code",
   "source": [
    "from sklearn.ensemble import RandomForestRegressor\n",
    "\n",
    "features = ['precip_mm', 'precip_daily_mm', 'rain_code']  # + andere nützliche\n",
    "X = taxi_weather_data[features]\n",
    "y = taxi_weather_data['trip_duration_log']\n",
    "\n",
    "model = RandomForestRegressor(n_estimators=100, random_state=42)\n",
    "model.fit(X, y)\n",
    "\n",
    "importances = pd.Series(model.feature_importances_, index=features)\n",
    "importances.sort_values(ascending=False).plot(kind='barh', title='Feature Importance')"
   ],
   "id": "46e37851dce93779",
   "outputs": [],
   "execution_count": null
  },
  {
   "metadata": {},
   "cell_type": "code",
   "source": "taxi_weather_data[['precip_mm', 'rain_code']].corr()",
   "id": "e82ff6c34977c01d",
   "outputs": [],
   "execution_count": null
  },
  {
   "metadata": {},
   "cell_type": "markdown",
   "source": "# Seek correlation",
   "id": "ed28ff86c109b297"
  },
  {
   "metadata": {},
   "cell_type": "markdown",
   "source": "## correlation matrix (trip_dur and trip_dur_log)",
   "id": "c7a80185238b8f37"
  },
  {
   "cell_type": "code",
   "id": "initial_id",
   "metadata": {
    "collapsed": true
   },
   "source": "corr_matrix = train_set.select_dtypes(include='number').corr()",
   "outputs": [],
   "execution_count": null
  },
  {
   "metadata": {},
   "cell_type": "code",
   "source": "corr_matrix['trip_duration'].sort_values(ascending=False)",
   "id": "d122f6b93e6e4557",
   "outputs": [],
   "execution_count": null
  },
  {
   "metadata": {},
   "cell_type": "code",
   "source": "train_set['trip_duration'].std()",
   "id": "b80b7c8a961452af",
   "outputs": [],
   "execution_count": null
  },
  {
   "metadata": {},
   "cell_type": "markdown",
   "source": [
    "- Not a strong predictor so far. Even distance is only weakly correlated\n",
    "- No weather variable currently shows a significant linear correlation"
   ],
   "id": "42709045db68a86e"
  },
  {
   "metadata": {},
   "cell_type": "code",
   "source": "corr_matrix['trip_duration_log'].sort_values(ascending=False)",
   "id": "d2f685ef613257e0",
   "outputs": [],
   "execution_count": null
  },
  {
   "metadata": {},
   "cell_type": "code",
   "source": "train_set['trip_duration_log'].std()",
   "id": "42a15ff9f47a3628",
   "outputs": [],
   "execution_count": null
  },
  {
   "metadata": {},
   "cell_type": "markdown",
   "source": [
    "- The log transformation of trip_duration has reduced the dispersion\n",
    "- haversine_km - Strong correlation: longer distance → longer duration (logarithmically smoothed)\n",
    "- pickup_longitude - Possible district effect\n",
    "- Weather characteristics hardly show linear effects, they could have a non-linear effect or only be relevant at certain times or locations\n",
    "- Geographical coordinates contribute significantly"
   ],
   "id": "779df181d3f25f73"
  },
  {
   "metadata": {},
   "cell_type": "markdown",
   "source": "# Filter haversine in combination",
   "id": "33b24537acb783f4"
  },
  {
   "metadata": {},
   "cell_type": "code",
   "source": [
    "filtered = train_set[\n",
    "  (train_set['trip_duration_min'].between(*TYPICAL_DURATION_MIN)) &\n",
    "  (train_set['hav_dist_km'].between(*TYPICAL_DISTANCE_KM)) &\n",
    "  (train_set['pickup_hour'].between(*TYPICAL_HOURS)) &\n",
    "  (train_set['pickup_weekday'].isin(TYPICAL_WEEKDAYS)) &\n",
    "  (train_set['passenger_count'].between(*TYPICAL_PASSENGERS)) &\n",
    "  (train_set['pickup_longitude'].between(*LON_RANGE)) &\n",
    "  (train_set['dropoff_longitude'].between(*LON_RANGE)) &\n",
    "  (train_set['pickup_latitude'].between(*LAT_RANGE)) &\n",
    "  (train_set['dropoff_latitude'].between(*LAT_RANGE))\n",
    "  ]\n",
    "\n",
    "filtered.plot.scatter(x=\"hav_dist_km\", y=\"trip_duration_log\", alpha=0.7, grid=True)\n",
    "plt.xlabel(\"hav_dist_km\")\n",
    "plt.ylabel(\"Trip Duration\")\n",
    "plt.title(\"scatter: Weekday, Distance, Time\")\n",
    "plt.show()\n",
    "\n",
    "filtered.plot.hexbin(\n",
    "    x=\"hav_dist_km\", y=\"trip_duration_log\",\n",
    "    gridsize=50, cmap='plasma'\n",
    ")\n",
    "plt.xlabel(\"hav_dist_km\")\n",
    "plt.ylabel(\"Trip Duration\")\n",
    "plt.title(\"Hexbin: Weekday, Distance, Time\")\n",
    "plt.grid(True)\n",
    "plt.show()\n",
    "# TODO: Add zone-based filtering (e.g. by longitude/latitude clusters or external zone map)"
   ],
   "id": "51479b6f92b1b8b4",
   "outputs": [],
   "execution_count": null
  },
  {
   "metadata": {},
   "cell_type": "markdown",
   "source": "# Log transformed features",
   "id": "5afda805babec345"
  },
  {
   "metadata": {},
   "cell_type": "code",
   "source": "precip_log_mm = np.log1p(train_set['precip_mm'])",
   "id": "c086600cf8a4881a",
   "outputs": [],
   "execution_count": null
  },
  {
   "metadata": {},
   "cell_type": "code",
   "source": [
    "import seaborn as sns\n",
    "\n",
    "fig, axes = plt.subplots(1, 2, figsize=(12, 4))\n",
    "sns.histplot(train_set['precip_mm'], bins=20, ax=axes[0])\n",
    "axes[0].set_title(\"Original\")\n",
    "sns.histplot(np.log1p(precip_log_mm), bins=20, ax=axes[1])\n",
    "axes[1].set_title(\"log1p\")"
   ],
   "id": "1dce2fd5c6c927c0",
   "outputs": [],
   "execution_count": null
  },
  {
   "metadata": {},
   "cell_type": "markdown",
   "source": "- log shows no impact on rain",
   "id": "6aadc2f76eefd87"
  },
  {
   "metadata": {},
   "cell_type": "markdown",
   "source": "# Scale haversine km",
   "id": "578c672875b5384c"
  },
  {
   "metadata": {},
   "cell_type": "code",
   "source": "train_set['hav_dist_km'].plot.hist()",
   "id": "10e46f9e64ce0926",
   "outputs": [],
   "execution_count": null
  },
  {
   "metadata": {},
   "cell_type": "code",
   "source": "dist_km_log = np.log1p(train_set['hav_dist_km'])",
   "id": "7fd189a6c6f51d00",
   "outputs": [],
   "execution_count": null
  },
  {
   "metadata": {},
   "cell_type": "code",
   "source": [
    "fig, axes = plt.subplots(1, 2, figsize=(12, 4))\n",
    "sns.histplot(train_set['hav_dist_km'], bins=20, ax=axes[0])\n",
    "axes[0].set_title(\"Original\")\n",
    "sns.histplot(np.log1p(dist_km_log), bins=20, ax=axes[1])\n",
    "axes[1].set_title(\"log1p\")"
   ],
   "id": "1b1691c69c0df76f",
   "outputs": [],
   "execution_count": null
  }
 ],
 "metadata": {
  "kernelspec": {
   "display_name": "Python 3",
   "language": "python",
   "name": "python3"
  },
  "language_info": {
   "codemirror_mode": {
    "name": "ipython",
    "version": 2
   },
   "file_extension": ".py",
   "mimetype": "text/x-python",
   "name": "python",
   "nbconvert_exporter": "python",
   "pygments_lexer": "ipython2",
   "version": "2.7.6"
  }
 },
 "nbformat": 4,
 "nbformat_minor": 5
}
