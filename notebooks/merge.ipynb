{
 "cells": [
  {
   "metadata": {},
   "cell_type": "markdown",
   "source": "# Load & Merge Data",
   "id": "34c03db1a4ff8ba6"
  },
  {
   "metadata": {
    "ExecuteTime": {
     "end_time": "2025-06-13T19:09:55.201135Z",
     "start_time": "2025-06-13T19:09:54.772221Z"
    }
   },
   "cell_type": "code",
   "source": [
    "# Load packages\n",
    "import pandas as pd\n",
    "\n",
    "import features.config as config\n",
    "from features.merge_utils import merge_taxi_weather"
   ],
   "id": "7ec98e65d37bcc3d",
   "outputs": [],
   "execution_count": 1
  },
  {
   "metadata": {
    "ExecuteTime": {
     "end_time": "2025-06-13T19:09:57.596608Z",
     "start_time": "2025-06-13T19:09:55.257118Z"
    }
   },
   "cell_type": "code",
   "source": [
    "# Load taxi and weather data\n",
    "taxi_data = pd.read_csv(config.TAXI_DATA_SAVE)\n",
    "weather_data = pd.read_csv(config.WEATHER_DATA_SAVE)"
   ],
   "id": "30a0428aee6901b2",
   "outputs": [],
   "execution_count": 2
  },
  {
   "metadata": {
    "ExecuteTime": {
     "end_time": "2025-06-13T19:09:57.815383Z",
     "start_time": "2025-06-13T19:09:57.611337Z"
    }
   },
   "cell_type": "code",
   "source": "taxi_weather_data = merge_taxi_weather(taxi_data, weather_data)",
   "id": "4fa8ba53e918a438",
   "outputs": [],
   "execution_count": 3
  },
  {
   "metadata": {
    "ExecuteTime": {
     "end_time": "2025-06-13T19:10:13.825650Z",
     "start_time": "2025-06-13T19:09:57.826036Z"
    }
   },
   "cell_type": "code",
   "source": [
    "# save taxi_weather_data_raw to csv\n",
    "taxi_weather_data.to_csv(config.TAXI_WEATHER_DATA_SAVE, index=False)"
   ],
   "id": "efec25586d3d4c38",
   "outputs": [],
   "execution_count": 4
  }
 ],
 "metadata": {
  "kernelspec": {
   "display_name": "Python 3",
   "language": "python",
   "name": "python3"
  },
  "language_info": {
   "codemirror_mode": {
    "name": "ipython",
    "version": 2
   },
   "file_extension": ".py",
   "mimetype": "text/x-python",
   "name": "python",
   "nbconvert_exporter": "python",
   "pygments_lexer": "ipython2",
   "version": "2.7.6"
  }
 },
 "nbformat": 4,
 "nbformat_minor": 5
}
