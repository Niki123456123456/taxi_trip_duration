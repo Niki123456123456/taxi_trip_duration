{
 "cells": [
  {
   "metadata": {},
   "cell_type": "markdown",
   "source": "# Load & Merge Data",
   "id": "34c03db1a4ff8ba6"
  },
  {
   "metadata": {
    "ExecuteTime": {
     "end_time": "2025-06-17T21:26:24.860158Z",
     "start_time": "2025-06-17T21:26:24.856458Z"
    }
   },
   "cell_type": "code",
   "source": [
    "# Load packages\n",
    "import pandas as pd\n",
    "\n",
    "import preModelling.data_config as config\n",
    "from preModelling.taxi_engineering import add_us_holiday_flag\n",
    "from preModelling.utils import merge_taxi_weather"
   ],
   "id": "7ec98e65d37bcc3d",
   "outputs": [],
   "execution_count": 6
  },
  {
   "metadata": {
    "ExecuteTime": {
     "end_time": "2025-06-17T21:26:26.736294Z",
     "start_time": "2025-06-17T21:26:24.886273Z"
    }
   },
   "cell_type": "code",
   "source": [
    "# Load taxi and weather data\n",
    "taxi_data = pd.read_csv(config.TAXI_DATA_SAVE)\n",
    "weather_data = pd.read_csv(config.WEATHER_DATA_SAVE)"
   ],
   "id": "30a0428aee6901b2",
   "outputs": [],
   "execution_count": 7
  },
  {
   "metadata": {
    "ExecuteTime": {
     "end_time": "2025-06-17T21:26:27.224448Z",
     "start_time": "2025-06-17T21:26:26.753458Z"
    }
   },
   "cell_type": "code",
   "source": [
    "taxi_weather_df = merge_taxi_weather(taxi_data, weather_data)\n",
    "taxi_weather_df = add_us_holiday_flag(taxi_weather_df)"
   ],
   "id": "4fa8ba53e918a438",
   "outputs": [],
   "execution_count": 8
  },
  {
   "metadata": {
    "ExecuteTime": {
     "end_time": "2025-06-17T21:26:27.334646Z",
     "start_time": "2025-06-17T21:26:27.236152Z"
    }
   },
   "cell_type": "code",
   "source": "taxi_weather_df.info()",
   "id": "c3fe291a1b0a0b81",
   "outputs": [
    {
     "name": "stdout",
     "output_type": "stream",
     "text": [
      "<class 'pandas.core.frame.DataFrame'>\n",
      "RangeIndex: 1458644 entries, 0 to 1458643\n",
      "Data columns (total 40 columns):\n",
      " #   Column                  Non-Null Count    Dtype         \n",
      "---  ------                  --------------    -----         \n",
      " 0   id                      1458644 non-null  object        \n",
      " 1   vendor_id               1458644 non-null  int64         \n",
      " 2   pickup_datetime         1458644 non-null  datetime64[ns]\n",
      " 3   dropoff_datetime        1458644 non-null  object        \n",
      " 4   passenger_count         1458644 non-null  int64         \n",
      " 5   pickup_longitude        1458644 non-null  float64       \n",
      " 6   pickup_latitude         1458644 non-null  float64       \n",
      " 7   dropoff_longitude       1458644 non-null  float64       \n",
      " 8   dropoff_latitude        1458644 non-null  float64       \n",
      " 9   store_and_fwd_flag_bin  1458644 non-null  int64         \n",
      " 10  pickup_hour             1458644 non-null  int64         \n",
      " 11  pickup_weekday          1458644 non-null  int64         \n",
      " 12  pickup_month            1458644 non-null  int64         \n",
      " 13  hour_of_year            1458644 non-null  int64         \n",
      " 14  trip_duration_log       1458644 non-null  float64       \n",
      " 15  temp_c                  1458644 non-null  float64       \n",
      " 16  windspeed_kph           1458644 non-null  float64       \n",
      " 17  humidity                1458644 non-null  float64       \n",
      " 18  pressure_hpa            1458644 non-null  float64       \n",
      " 19  daily_precip_mm         1458644 non-null  float64       \n",
      " 20  daily_snow_mm           1458644 non-null  float64       \n",
      " 21  rain_mm                 1458644 non-null  float64       \n",
      " 22  snow_mm                 1458644 non-null  float64       \n",
      " 23  windspeed_kph_sqrt      1458644 non-null  float64       \n",
      " 24  fog                     1458644 non-null  int64         \n",
      " 25  rain                    1458644 non-null  int64         \n",
      " 26  snow                    1458644 non-null  int64         \n",
      " 27  cloud_missing_flag      1458644 non-null  int64         \n",
      " 28  temp_code               1458644 non-null  int64         \n",
      " 29  windspeed_code          1458644 non-null  int64         \n",
      " 30  humidity_code           1458644 non-null  int64         \n",
      " 31  fog_code                1458644 non-null  int64         \n",
      " 32  freezing_code           1458644 non-null  int64         \n",
      " 33  cloud_code              1458644 non-null  int64         \n",
      " 34  hazy_code               1458644 non-null  int64         \n",
      " 35  pressure_code           1458644 non-null  int64         \n",
      " 36  rain_code               1458644 non-null  int64         \n",
      " 37  snow_code               1458644 non-null  int64         \n",
      " 38  hour_of_day             1458644 non-null  int64         \n",
      " 39  is_holiday              1458644 non-null  bool          \n",
      "dtypes: bool(1), datetime64[ns](1), float64(14), int64(22), object(2)\n",
      "memory usage: 435.4+ MB\n"
     ]
    }
   ],
   "execution_count": 9
  },
  {
   "metadata": {
    "ExecuteTime": {
     "end_time": "2025-06-17T21:26:40.776555Z",
     "start_time": "2025-06-17T21:26:27.345120Z"
    }
   },
   "cell_type": "code",
   "source": [
    "# save taxi_weather_data_raw to csv\n",
    "taxi_weather_df.to_csv(config.TAXI_WEATHER_DATA_SAVE, index=False)"
   ],
   "id": "efec25586d3d4c38",
   "outputs": [],
   "execution_count": 10
  }
 ],
 "metadata": {
  "kernelspec": {
   "display_name": "Python 3",
   "language": "python",
   "name": "python3"
  },
  "language_info": {
   "codemirror_mode": {
    "name": "ipython",
    "version": 2
   },
   "file_extension": ".py",
   "mimetype": "text/x-python",
   "name": "python",
   "nbconvert_exporter": "python",
   "pygments_lexer": "ipython2",
   "version": "2.7.6"
  }
 },
 "nbformat": 4,
 "nbformat_minor": 5
}
