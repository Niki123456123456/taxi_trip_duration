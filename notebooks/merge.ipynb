{
 "cells": [
  {
   "metadata": {},
   "cell_type": "markdown",
   "source": "# Load n Merge",
   "id": "e1ee2dbfcdecf86"
  },
  {
   "metadata": {
    "ExecuteTime": {
     "end_time": "2025-06-29T12:05:38.739561Z",
     "start_time": "2025-06-29T12:05:38.583719Z"
    }
   },
   "cell_type": "code",
   "source": "from pipelines.merge_pipeline import build_merged_dataset",
   "id": "ad0c6c2298a331f5",
   "outputs": [],
   "execution_count": 1
  },
  {
   "metadata": {
    "ExecuteTime": {
     "end_time": "2025-06-29T12:06:04.739334Z",
     "start_time": "2025-06-29T12:05:38.799760Z"
    }
   },
   "cell_type": "code",
   "source": "df = build_merged_dataset(save_csv=True)",
   "id": "efe02d8fadab8392",
   "outputs": [],
   "execution_count": 2
  }
 ],
 "metadata": {
  "kernelspec": {
   "display_name": "Python 3",
   "language": "python",
   "name": "python3"
  },
  "language_info": {
   "codemirror_mode": {
    "name": "ipython",
    "version": 2
   },
   "file_extension": ".py",
   "mimetype": "text/x-python",
   "name": "python",
   "nbconvert_exporter": "python",
   "pygments_lexer": "ipython2",
   "version": "2.7.6"
  }
 },
 "nbformat": 4,
 "nbformat_minor": 5
}
