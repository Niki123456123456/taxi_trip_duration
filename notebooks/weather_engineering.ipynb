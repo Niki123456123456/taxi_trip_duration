{
 "cells": [
  {
   "metadata": {},
   "cell_type": "markdown",
   "source": "## Classify / EDA –  rain intensity",
   "id": "f34a15f1e30abf82"
  },
  {
   "metadata": {},
   "cell_type": "code",
   "outputs": [],
   "execution_count": null,
   "source": [
    "rain_counts = weather_data['rain_class'].value_counts().reindex([\n",
    "  'no_rain', 'light_rain', 'moderate_rain', 'heavy_rain', 'very_heavy_rain', 'extreme_rain'\n",
    "])\n",
    "\n",
    "rain_counts.plot(kind='bar', edgecolor='black', figsize=(8, 4))\n",
    "plt.title(\"Frequency of Rain Intensity Classes\")\n",
    "plt.xlabel(\"Rain Class\")\n",
    "plt.ylabel('number_of_hours')\n",
    "plt.grid(True)\n",
    "plt.tight_layout()\n",
    "plt.show()"
   ],
   "id": "18bcb04b709f5e1d"
  },
  {
   "metadata": {},
   "cell_type": "code",
   "outputs": [],
   "execution_count": null,
   "source": [
    "rain_time_series = weather_data.set_index('datetime_hour')['rain_code']\n",
    "\n",
    "plt.figure(figsize=(12, 4))\n",
    "rain_time_series.plot(drawstyle='steps-post')\n",
    "plt.title(\"Rain Intensity Over Time\")\n",
    "plt.ylabel(\"Rain Class Code\")\n",
    "plt.grid(True)\n",
    "plt.tight_layout()\n",
    "plt.show()"
   ],
   "id": "55c25bebb7b1c207"
  },
  {
   "metadata": {},
   "cell_type": "code",
   "outputs": [],
   "execution_count": null,
   "source": [
    "plt.figure(figsize=(8, 4))\n",
    "sns.boxplot(data=weather_data, x='rain_class', y='humidity')\n",
    "plt.title(\"Humidity Distribution by Rain Class\")\n",
    "plt.xlabel(\"Rain Class\")\n",
    "plt.ylabel(\"Humidity (%)\")\n",
    "plt.xticks(rotation=45)\n",
    "plt.grid(True)\n",
    "plt.tight_layout()\n",
    "plt.show()"
   ],
   "id": "94fe19e99aadd47b"
  },
  {
   "metadata": {},
   "cell_type": "markdown",
   "source": "## Classify / EDA – snow intensity",
   "id": "d6c1e40a58d4f02d"
  },
  {
   "metadata": {},
   "cell_type": "code",
   "outputs": [],
   "execution_count": null,
   "source": [
    "weather_data['snow_class'].value_counts().reindex([\n",
    "  'no_snow', 'light_snow', \"snow\", 'heavy_snow'\n",
    "]).plot(kind='bar', edgecolor='black')\n",
    "plt.title(\"Frequency of Snow Intensity Classes\")\n",
    "plt.xlabel(\"Snow Class\")\n",
    "plt.ylabel('number_of_hours')\n",
    "plt.grid(True)\n",
    "plt.tight_layout()\n",
    "plt.show()"
   ],
   "id": "279ff93b9fe9c734"
  },
  {
   "metadata": {},
   "cell_type": "code",
   "outputs": [],
   "execution_count": null,
   "source": [
    "# Time series: Snow Class Code\n",
    "plt.figure(figsize=(12, 4))\n",
    "weather_data.set_index('datetime_hour')['snow_code'].plot(drawstyle='steps-post')\n",
    "plt.title(\"Snow Intensity Over Time\")\n",
    "plt.ylabel(\"Snow Class Code\")\n",
    "plt.grid(True)\n",
    "plt.tight_layout()\n",
    "plt.show()"
   ],
   "id": "c3af2c15f26ebe2c"
  },
  {
   "metadata": {},
   "cell_type": "markdown",
   "source": "## Classify / EDA –  cloud intensity",
   "id": "6f98d9a69cf55f0f"
  },
  {
   "metadata": {},
   "cell_type": "code",
   "outputs": [],
   "execution_count": null,
   "source": [
    "# Bar plot: Frequency of Cloud Classes\n",
    "cloud_counts = weather_data['cloud_class'].value_counts().reindex([\n",
    "  \"clear\", 'scattered_clouds', 'partly_cloudy', 'mostly_cloudy', \"overcast\", \"unknown\"\n",
    "])\n",
    "cloud_counts.plot(kind='bar', edgecolor='black', figsize=(8, 4))\n",
    "plt.title(\"Frequency of Cloud Intensity Classes\")\n",
    "plt.xlabel(\"Cloud Class\")\n",
    "plt.ylabel('number_of_hours')\n",
    "plt.grid(True)\n",
    "plt.tight_layout()\n",
    "plt.show()"
   ],
   "id": "84023b1161cec626"
  },
  {
   "metadata": {},
   "cell_type": "code",
   "outputs": [],
   "execution_count": null,
   "source": [
    "# Time series: Cloud Class Code\n",
    "plt.figure(figsize=(12, 4))\n",
    "weather_data.set_index('datetime_hour')['cloud_code'].plot(drawstyle='steps-post')\n",
    "plt.title(\"Cloud Intensity Over Time\")\n",
    "plt.ylabel(\"Cloud Class Code\")\n",
    "plt.grid(True)\n",
    "plt.tight_layout()\n",
    "plt.show()"
   ],
   "id": "106a54e74a63e9dd"
  },
  {
   "metadata": {},
   "cell_type": "code",
   "outputs": [],
   "execution_count": null,
   "source": [
    "sns.boxplot(data=weather_data, x='cloud_class', y='humidity')\n",
    "plt.title(\"Humidity by Cloud Class\")"
   ],
   "id": "97a665227d3aed12"
  },
  {
   "metadata": {},
   "cell_type": "markdown",
   "source": "## Classify / EDA –  haze intensity",
   "id": "feec8abbcb1f516b"
  },
  {
   "metadata": {},
   "cell_type": "code",
   "outputs": [],
   "execution_count": null,
   "source": [
    "# Bar plot: Frequency of Haze\n",
    "hazy_counts = weather_data['hazy_class'].value_counts().reindex(['no_haze', \"haze\"])\n",
    "hazy_counts.plot(kind='bar', edgecolor='black', figsize=(6, 4))\n",
    "plt.title(\"Frequency of Haze\")\n",
    "plt.xlabel(\"Hazy Class\")\n",
    "plt.ylabel('number_of_hours')\n",
    "plt.grid(True)\n",
    "plt.tight_layout()\n",
    "plt.show()"
   ],
   "id": "d4ba04299901850b"
  },
  {
   "metadata": {},
   "cell_type": "code",
   "outputs": [],
   "execution_count": null,
   "source": [
    "# Time series: Hazy Class Code\n",
    "plt.figure(figsize=(12, 4))\n",
    "weather_data.set_index('datetime_hour')['hazy_code'].plot(drawstyle='steps-post')\n",
    "plt.title(\"Haze Intensity Over Time\")\n",
    "plt.ylabel(\"Hazy Class Code\")\n",
    "plt.grid(True)\n",
    "plt.tight_layout()\n",
    "plt.show()"
   ],
   "id": "a8ea2df9f52eea0a"
  },
  {
   "metadata": {},
   "cell_type": "markdown",
   "source": "## Classify / EDA –  freezing fog or rain",
   "id": "afc56bac1ec0503b"
  },
  {
   "metadata": {},
   "cell_type": "code",
   "outputs": [],
   "execution_count": null,
   "source": [
    "# Bar plot: Frequency of Freezing Classes\n",
    "freezing_counts = weather_data['freezing_class'].value_counts().reindex([\n",
    "  \"none\", 'light_freezing_rain', 'light_freezing_fog'\n",
    "])\n",
    "freezing_counts.plot(kind='bar', edgecolor='black', figsize=(8, 4))\n",
    "plt.title(\"Frequency of Freezing Fog or Rain\")\n",
    "plt.xlabel(\"Freezing Class\")\n",
    "plt.ylabel('number_of_hours')\n",
    "plt.grid(True)\n",
    "plt.tight_layout()\n",
    "plt.show()"
   ],
   "id": "bd43964c7f45bc34"
  },
  {
   "metadata": {},
   "cell_type": "code",
   "outputs": [],
   "execution_count": null,
   "source": [
    "# Time series: Freezing Class Code\n",
    "plt.figure(figsize=(12, 4))\n",
    "weather_data.set_index('datetime_hour')['freezing_code'].plot(drawstyle='steps-post')\n",
    "plt.title(\"Freezing Fog or Rain Intensity Over Time\")\n",
    "plt.ylabel(\"Freezing Class Code\")\n",
    "plt.grid(True)\n",
    "plt.tight_layout()\n",
    "plt.show()"
   ],
   "id": "9ba5aeb782ce2432"
  },
  {
   "metadata": {},
   "cell_type": "markdown",
   "source": "## Classify / EDA –  fog",
   "id": "502778dceb80d06d"
  },
  {
   "metadata": {},
   "cell_type": "code",
   "outputs": [],
   "execution_count": null,
   "source": [
    "# Bar plot: Frequency of Fog Classes\n",
    "fog_counts = weather_data['fog_class'].value_counts().reindex([\"no_fog\", \"fog\"])\n",
    "fog_counts.plot(kind='bar', edgecolor='black', figsize=(6, 4))\n",
    "plt.title(\"Frequency of Fog Classes\")\n",
    "plt.xlabel(\"Fog Class\")\n",
    "plt.ylabel('number_of_hours')\n",
    "plt.grid(True)\n",
    "plt.tight_layout()\n",
    "plt.show()"
   ],
   "id": "2b12a08f0b944b02"
  },
  {
   "metadata": {},
   "cell_type": "code",
   "outputs": [],
   "execution_count": null,
   "source": [
    "# Time series: Fog Class Code\n",
    "plt.figure(figsize=(12, 4))\n",
    "weather_data.set_index('datetime_hour')['fog_code'].plot(drawstyle='steps-post')\n",
    "plt.title(\"Fog Intensity Over Time\")\n",
    "plt.ylabel(\"Fog Class Code\")\n",
    "plt.grid(True)\n",
    "plt.tight_layout()\n",
    "plt.show()"
   ],
   "id": "f8cf027adfec4bd9"
  },
  {
   "metadata": {},
   "cell_type": "markdown",
   "source": "## Classify / EDA –  temp intensity",
   "id": "26e254c5c4967aa2"
  },
  {
   "metadata": {},
   "cell_type": "code",
   "outputs": [],
   "execution_count": null,
   "source": [
    "# Bar plot: Frequency of Temperature Classes\n",
    "temp_counts = weather_data['temp_class'].value_counts().reindex([\n",
    "  'very_cold', \"cold\", \"cool\", \"mild\", \"warm\", \"hot\"\n",
    "])\n",
    "\n",
    "temp_counts.plot(kind='bar', edgecolor='black', figsize=(8, 4))\n",
    "plt.title(\"Frequency of Temperature Classes\")\n",
    "plt.xlabel('Temperature_Class')\n",
    "plt.ylabel('number_of_hours')\n",
    "plt.grid(True)\n",
    "plt.tight_layout()\n",
    "plt.show()"
   ],
   "id": "eb1108555ae32332"
  },
  {
   "metadata": {},
   "cell_type": "code",
   "outputs": [],
   "execution_count": null,
   "source": [
    "# Boxplot: Windspeed by Temperature Class\n",
    "sns.boxplot(data=weather_data, x='temp_class', y='windspeed_kph')\n",
    "plt.title(\"Windspeed by Temperature Class\")\n",
    "plt.xlabel('Temperature_Class')\n",
    "plt.ylabel(\"Windspeed (km/h)\")\n",
    "plt.grid(True)\n",
    "plt.tight_layout()\n",
    "plt.show()"
   ],
   "id": "7198feec450e5588"
  },
  {
   "metadata": {},
   "cell_type": "code",
   "outputs": [],
   "execution_count": null,
   "source": [
    "# Boxplot: Pressure by Temperature Class\n",
    "sns.boxplot(data=weather_data, x='temp_class', y='pressure_hPa')\n",
    "plt.title(\"Pressure by Temperature Class\")\n",
    "plt.xlabel('Temperature_Class')\n",
    "plt.ylabel(\"Pressure (hPa)\")\n",
    "plt.grid(True)\n",
    "plt.tight_layout()\n",
    "plt.show()"
   ],
   "id": "efaa5e0961cf578d"
  },
  {
   "metadata": {},
   "cell_type": "code",
   "outputs": [],
   "execution_count": null,
   "source": [
    "# Time series: Temperature Class Code over Time\n",
    "plt.figure(figsize=(12, 4))\n",
    "weather_data.set_index('datetime_hour')['temp_code'].plot(drawstyle='steps-post')\n",
    "plt.title(\"Temperature Intensity Over Time\")\n",
    "plt.ylabel(\"Temperature Class Code\")\n",
    "plt.grid(True)\n",
    "plt.tight_layout()\n",
    "plt.show()"
   ],
   "id": "fb9158b7905598b1"
  },
  {
   "metadata": {},
   "cell_type": "markdown",
   "source": "## Classify / EDA –  windspeed intensity",
   "id": "3166732bdac28fb0"
  },
  {
   "metadata": {},
   "cell_type": "markdown",
   "source": "",
   "id": "a4ae329c6f6a6ba3"
  },
  {
   "metadata": {},
   "cell_type": "code",
   "outputs": [],
   "execution_count": null,
   "source": [
    "# Bar plot: Frequency of Windspeed Classes\n",
    "windspeed_counts = weather_data['windspeed_class'].value_counts().reindex([\n",
    "  \"calm\", 'light_air', 'light_breeze', 'moderate_breeze', 'strong_breeze', \"stormy\"\n",
    "])\n",
    "\n",
    "windspeed_counts.plot(kind='bar', edgecolor='black', figsize=(8, 4))\n",
    "plt.title(\"Frequency of Windspeed Classes\")\n",
    "plt.xlabel('Windspeed_Class')\n",
    "plt.ylabel('number_of_hours')\n",
    "plt.grid(True)\n",
    "plt.tight_layout()\n",
    "plt.show()"
   ],
   "id": "a08a27b53881e634"
  },
  {
   "metadata": {},
   "cell_type": "code",
   "outputs": [],
   "execution_count": null,
   "source": [
    "# Boxplot: Temperature by Windspeed Class\n",
    "sns.boxplot(data=weather_data, x='windspeed_class', y='temp_c')\n",
    "plt.title(\"Temperature by Windspeed Class\")\n",
    "plt.xlabel('Windspeed_Class')\n",
    "plt.ylabel(TEMP_C)\n",
    "plt.grid(True)\n",
    "plt.tight_layout()\n",
    "plt.show()"
   ],
   "id": "3e7abd406402d09d"
  },
  {
   "metadata": {},
   "cell_type": "code",
   "outputs": [],
   "execution_count": null,
   "source": [
    "# Boxplot: Pressure by Windspeed Class\n",
    "sns.boxplot(data=weather_data, x='windspeed_class', y='pressure_hPa')\n",
    "plt.title(\"Pressure by Windspeed Class\")\n",
    "plt.xlabel('Windspeed_Class')\n",
    "plt.ylabel(\"Pressure (hPa)\")\n",
    "plt.grid(True)\n",
    "plt.tight_layout()\n",
    "plt.show()"
   ],
   "id": "218577d615ca97ef"
  },
  {
   "metadata": {},
   "cell_type": "code",
   "outputs": [],
   "execution_count": null,
   "source": [
    "# Time series: Windspeed Class Code over Time\n",
    "plt.figure(figsize=(12, 4))\n",
    "weather_data.set_index('datetime_hour')['windspeed_code'].plot(drawstyle='steps-post')\n",
    "plt.title(\"Windspeed Intensity Over Time\")\n",
    "plt.ylabel(\"Windspeed Class Code\")\n",
    "plt.grid(True)\n",
    "plt.tight_layout()\n",
    "plt.show()"
   ],
   "id": "c86b8adc298cc35e"
  },
  {
   "metadata": {},
   "cell_type": "markdown",
   "source": "## Classify / EDA –  humidity intensity",
   "id": "5b0940b4069da51b"
  },
  {
   "metadata": {},
   "cell_type": "code",
   "outputs": [],
   "execution_count": null,
   "source": [
    "# Bar plot: Frequency of Humidity Classes\n",
    "humidity_counts = weather_data['humidity_class'].value_counts().reindex([\n",
    "  'very_dry', 'dry', 'normal', 'wet', 'very_wet'\n",
    "])\n",
    "\n",
    "humidity_counts.plot(kind='bar', edgecolor='black', figsize=(8, 4))\n",
    "plt.title(\"Frequency of Humidity Classes\")\n",
    "plt.xlabel(\"Humidity Class\")\n",
    "plt.ylabel('number_of_hours')\n",
    "plt.grid(True)\n",
    "plt.tight_layout()\n",
    "plt.show()"
   ],
   "id": "9d7dc7945f59d52c"
  },
  {
   "metadata": {},
   "cell_type": "code",
   "outputs": [],
   "execution_count": null,
   "source": [
    "\n",
    "# Boxplot: Temperature by Humidity Class\n",
    "sns.boxplot(data=weather_data, x='humidity_class', y='temp_c')\n",
    "plt.title(\"Temperature by Humidity Class\")\n",
    "plt.xlabel(\"Humidity Class\")\n",
    "plt.ylabel(TEMP_C)\n",
    "plt.grid(True)\n",
    "plt.tight_layout()\n",
    "plt.show()"
   ],
   "id": "bf6a0e5593560e63"
  },
  {
   "metadata": {},
   "cell_type": "code",
   "outputs": [],
   "execution_count": null,
   "source": [
    "\n",
    "# Time series: Humidity Class Code over Time\n",
    "plt.figure(figsize=(12, 4))\n",
    "weather_data.set_index('datetime_hour')['humidity_code'].plot(drawstyle='steps-post')\n",
    "plt.title(\"Humidity Intensity Over Time\")\n",
    "plt.ylabel(\"Humidity Class Code\")\n",
    "plt.grid(True)\n",
    "plt.tight_layout()\n",
    "plt.show()"
   ],
   "id": "4d03df26fe05b311"
  },
  {
   "metadata": {},
   "cell_type": "markdown",
   "source": "## Classify / EDA –  pressure intensity",
   "id": "3f2e928c554d81df"
  },
  {
   "metadata": {},
   "cell_type": "code",
   "outputs": [],
   "execution_count": null,
   "source": [
    "# Bar plot: Frequency of Pressure Classes\n",
    "pressure_counts = weather_data['pressure_class'].value_counts().reindex([\n",
    "  'very_low', \"low\", \"normal\", \"high\", 'very_high'\n",
    "])\n",
    "\n",
    "pressure_counts.plot(kind='bar', edgecolor='black', figsize=(8, 4))\n",
    "plt.title(\"Frequency of Pressure Classes\")\n",
    "plt.xlabel(\"Pressure Class\")\n",
    "plt.ylabel('number_of_hours')\n",
    "plt.grid(True)\n",
    "plt.tight_layout()\n",
    "plt.show()"
   ],
   "id": "db02c26256de3a97"
  },
  {
   "metadata": {},
   "cell_type": "code",
   "outputs": [],
   "execution_count": null,
   "source": [
    "# Boxplot: Temperature by Pressure Class\n",
    "sns.boxplot(data=weather_data, x='pressure_class', y='temp_c')\n",
    "plt.title(\"Temperature by Pressure Class\")\n",
    "plt.xlabel(\"Pressure Class\")\n",
    "plt.ylabel(TEMP_C)\n",
    "plt.grid(True)\n",
    "plt.tight_layout()\n",
    "plt.show()"
   ],
   "id": "c13a11fcb5fab375"
  },
  {
   "metadata": {},
   "cell_type": "code",
   "outputs": [],
   "execution_count": null,
   "source": [
    "\n",
    "# Time series: Pressure Class Code over Time\n",
    "plt.figure(figsize=(12, 4))\n",
    "weather_data.set_index('datetime_hour')['pressure_code'].plot(drawstyle='steps-post')\n",
    "plt.title(\"Pressure Intensity Over Time\")\n",
    "plt.ylabel(\"Pressure Class Code\")\n",
    "plt.grid(True)\n",
    "plt.tight_layout()\n",
    "plt.show()"
   ],
   "id": "7ef3959c8b49627b"
  },
  {
   "metadata": {},
   "cell_type": "code",
   "outputs": [],
   "execution_count": null,
   "source": "weather_data",
   "id": "f1ca4088263311fe"
  },
  {
   "metadata": {},
   "cell_type": "markdown",
   "source": "# Save Weather Data",
   "id": "982873af61046e48"
  },
  {
   "metadata": {},
   "cell_type": "code",
   "outputs": [],
   "execution_count": null,
   "source": "weather_data.isna().sum()",
   "id": "9fb767a954187c11"
  }
 ],
 "metadata": {
  "kernelspec": {
   "display_name": "Python 3",
   "language": "python",
   "name": "python3"
  },
  "language_info": {
   "codemirror_mode": {
    "name": "ipython",
    "version": 2
   },
   "file_extension": ".py",
   "mimetype": "text/x-python",
   "name": "python",
   "nbconvert_exporter": "python",
   "pygments_lexer": "ipython2",
   "version": "2.7.6"
  }
 },
 "nbformat": 4,
 "nbformat_minor": 5
}
