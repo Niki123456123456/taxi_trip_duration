{
 "cells": [
  {
   "metadata": {},
   "cell_type": "markdown",
   "source": "## Load and unzip weatherdata",
   "id": "5477770855d8a525"
  },
  {
   "metadata": {
    "ExecuteTime": {
     "end_time": "2025-06-07T10:50:57.262275Z",
     "start_time": "2025-06-07T10:50:57.138609Z"
    }
   },
   "cell_type": "code",
   "source": [
    "import matplotlib.pyplot as plt\n",
    "import pandas as pd\n",
    "import seaborn as sns\n",
    "from pandas import read_csv\n",
    "\n",
    "import features_engineering as fe\n",
    "from data_loader import load_weather_data"
   ],
   "id": "b1b3737881b94772",
   "outputs": [
    {
     "name": "stderr",
     "output_type": "stream",
     "text": [
      "/Users/Wendo99/miniconda3/envs/NYC_Taxi/lib/python3.12/site-packages/requests/__init__.py:86: RequestsDependencyWarning: Unable to find acceptable character detection dependency (chardet or charset_normalizer).\n",
      "  warnings.warn(\n"
     ]
    }
   ],
   "execution_count": 1
  },
  {
   "metadata": {
    "ExecuteTime": {
     "end_time": "2025-06-07T10:51:04.045983Z",
     "start_time": "2025-06-07T10:51:04.040360Z"
    }
   },
   "cell_type": "code",
   "source": "weather_data_raw = load_weather_data()",
   "id": "f1441f1fa8f4fdf3",
   "outputs": [],
   "execution_count": 2
  },
  {
   "metadata": {
    "ExecuteTime": {
     "end_time": "2025-06-07T10:51:07.691458Z",
     "start_time": "2025-06-07T10:51:07.682649Z"
    }
   },
   "cell_type": "code",
   "source": "weather_data_raw.info()",
   "id": "aac3490789f80ce",
   "outputs": [
    {
     "name": "stdout",
     "output_type": "stream",
     "text": [
      "<class 'pandas.core.frame.DataFrame'>\n",
      "RangeIndex: 5175 entries, 0 to 5174\n",
      "Data columns (total 12 columns):\n",
      " #   Column       Non-Null Count  Dtype  \n",
      "---  ------       --------------  -----  \n",
      " 0   timestamp    5175 non-null   object \n",
      " 1   temp         5175 non-null   float64\n",
      " 2   windspeed    4036 non-null   float64\n",
      " 3   humidity     5175 non-null   float64\n",
      " 4   precip       5175 non-null   float64\n",
      " 5   pressure     5041 non-null   float64\n",
      " 6   conditions   5175 non-null   object \n",
      " 7   dailyprecip  5175 non-null   object \n",
      " 8   dailysnow    5175 non-null   object \n",
      " 9   fog          5175 non-null   int64  \n",
      " 10  rain         5175 non-null   int64  \n",
      " 11  snow         5175 non-null   int64  \n",
      "dtypes: float64(5), int64(3), object(4)\n",
      "memory usage: 485.3+ KB\n"
     ]
    }
   ],
   "execution_count": 3
  },
  {
   "metadata": {},
   "cell_type": "code",
   "source": "weather_data_new_rows = read_csv('gitData/weather_data_new_rows.csv')",
   "id": "fcc1aeadc1e6509c",
   "outputs": [],
   "execution_count": null
  },
  {
   "metadata": {},
   "cell_type": "code",
   "source": "weather_data_new_rows.info()",
   "id": "77f296617ee4a64a",
   "outputs": [],
   "execution_count": null
  },
  {
   "metadata": {},
   "cell_type": "code",
   "source": [
    "weather_data_new_rows['fog'] = 0\n",
    "weather_data_new_rows['fog'] = weather_data_new_rows['fog'].astype(int)\n",
    "weather_data_new_rows['rain'] = weather_data_new_rows['conditions'].str.contains('Rain',\n",
    "                                                                                 case=False).astype(\n",
    "    int)\n",
    "weather_data_new_rows['snow'] = weather_data_new_rows['conditions'].str.contains('Snow',\n",
    "                                                                                 case=False).astype(\n",
    "    int)"
   ],
   "id": "252c61dbb05dca0f",
   "outputs": [],
   "execution_count": null
  },
  {
   "metadata": {},
   "cell_type": "code",
   "source": [
    "weather_data_new_rows['dailyprecip'] = weather_data_new_rows['dailyprecip'].replace('T', '0.001')\n",
    "weather_data_new_rows['dailyprecip'] = weather_data_new_rows['dailyprecip'].astype(float)\n",
    "weather_data_new_rows['dailysnow'] = weather_data_new_rows['dailysnow'].replace('T', '0.001')\n",
    "weather_data_new_rows['dailysnow'] = weather_data_new_rows['dailysnow'].astype(float)\n",
    "for col in ['fog', 'rain', 'snow']:\n",
    "  weather_data_new_rows[col] = weather_data_new_rows[col].fillna(0).astype(int)\n",
    "# Merge weather data\n",
    "weather_data_raw = pd.concat([weather_data_raw, weather_data_new_rows])\n",
    "weather_data_raw = fe.add_weather_time_features(weather_data_raw)"
   ],
   "id": "dc37091f6a3f0314",
   "outputs": [],
   "execution_count": null
  },
  {
   "metadata": {},
   "cell_type": "markdown",
   "source": "# EDA  weather_data_raw",
   "id": "648ae8501a52bcfa"
  },
  {
   "metadata": {},
   "cell_type": "markdown",
   "source": "## General EDA",
   "id": "774daa0844be994"
  },
  {
   "metadata": {},
   "cell_type": "code",
   "source": "weather_data_raw.info()",
   "id": "57db83f01fa40490",
   "outputs": [],
   "execution_count": null
  },
  {
   "metadata": {},
   "cell_type": "code",
   "source": "weather_data_raw.duplicated().sum()",
   "id": "be595d16d46c3cb7",
   "outputs": [],
   "execution_count": null
  },
  {
   "metadata": {},
   "cell_type": "markdown",
   "source": [
    "- timestamp into datetime\n",
    "- temp into celsius\n",
    "- windspeed into kph\n",
    "- precip into mm\n",
    "- pressure into hpa\n",
    "- dailyprecip into mm\n",
    "- dailysnow into mm"
   ],
   "id": "91e8e07b65a012b9"
  },
  {
   "metadata": {},
   "cell_type": "code",
   "source": "weather_data_raw.describe()",
   "id": "ef2aa35105c5479d",
   "outputs": [],
   "execution_count": null
  },
  {
   "metadata": {},
   "cell_type": "code",
   "source": "weather_data_raw.describe(include='object')",
   "id": "64f9e0683b0d377",
   "outputs": [],
   "execution_count": null
  },
  {
   "metadata": {},
   "cell_type": "markdown",
   "source": "- timestamp has one double",
   "id": "a4f0066fe717f0ff"
  },
  {
   "metadata": {},
   "cell_type": "code",
   "source": "weather_data_raw.nunique()",
   "id": "9bccd65cf94f0055",
   "outputs": [],
   "execution_count": null
  },
  {
   "metadata": {},
   "cell_type": "markdown",
   "source": "## EDA timestamp (datetime)",
   "id": "9b76212faa9f5b5b"
  },
  {
   "metadata": {},
   "cell_type": "code",
   "source": [
    "# Check for format consistency\n",
    "weather_data_raw['datetime_hour'].astype(str).str.match(\n",
    "    r'^\\d{4}-\\d{2}-\\d{2} \\d{2}:\\d{2}:\\d{2}$').all()"
   ],
   "id": "d87970b3262c765d",
   "outputs": [],
   "execution_count": null
  },
  {
   "metadata": {},
   "cell_type": "code",
   "source": [
    "counts_per_hour = weather_data_raw['datetime_hour'].value_counts().sort_index()\n",
    "\n",
    "# Plot time series frequency\n",
    "plt.figure(figsize=(12, 4))\n",
    "counts_per_hour.plot()\n",
    "plt.title(\"Weather Observations per Hour\")\n",
    "plt.xlabel(\"Time\")\n",
    "plt.ylabel(\"Observations per Hour\")\n",
    "plt.grid(True)\n",
    "plt.show()"
   ],
   "id": "2508601801ca31ad",
   "outputs": [],
   "execution_count": null
  },
  {
   "metadata": {},
   "cell_type": "markdown",
   "source": [
    "- The timestamps are predominantly distributed hourly, with slight fluctuations.\n",
    "- There are some dips in frequency; potentially missing hours.\n",
    "- The data does not appear to be exactly on the hour (e.g. xx:51)."
   ],
   "id": "844e4c8b06f9fdd4"
  },
  {
   "metadata": {},
   "cell_type": "code",
   "source": [
    "# Extract minute component from timestamp\n",
    "weather_data_raw['datetime_minute'] = weather_data_raw['datetime'].dt.minute\n",
    "\n",
    "# Count how many records fall into each minute of the hour\n",
    "minute_distribution = weather_data_raw['datetime_minute'].value_counts().sort_index()\n",
    "\n",
    "# Plot the distribution of measurement minutes\n",
    "plt.figure(figsize=(10, 4))\n",
    "minute_distribution.plot(kind='bar')\n",
    "plt.title(\"Distribution of Measurement Minutes\")\n",
    "plt.xlabel(\"Minute of the Hour\")\n",
    "plt.ylabel(\"Number of Observations\")\n",
    "plt.grid(True)\n",
    "plt.tight_layout()\n",
    "plt.show()"
   ],
   "id": "4d03f3d56a451997",
   "outputs": [],
   "execution_count": null
  },
  {
   "metadata": {},
   "cell_type": "markdown",
   "source": [
    "- Minute 51 is by far the most frequent minute of measurement (over 4000 entries).\n",
    "- All other minutes are rare or sporadic → probably exceptions, manual additions or other sources."
   ],
   "id": "4b7105fbcad38b02"
  },
  {
   "metadata": {},
   "cell_type": "code",
   "source": [
    "# Filter for rows measured at minute 51\n",
    "weather_51 = weather_data_raw[weather_data_raw['datetime_minute'] == 51].copy()\n",
    "\n",
    "# Count duplicated timestamps after filtering\n",
    "duplicate_timestamps = weather_51['datetime'].duplicated().sum()\n",
    "\n",
    "# Display all duplicated timestamp rows if any\n",
    "duplicated_rows = weather_51[weather_51['datetime'].duplicated(keep=False)]\n",
    "\n",
    "duplicate_timestamps, duplicated_rows.sort_values('datetime')"
   ],
   "id": "9000bb3f32a046d9",
   "outputs": [],
   "execution_count": null
  },
  {
   "metadata": {},
   "cell_type": "code",
   "source": [
    "# Aggregate to hourly level using mean for continuous values, max for binary flags\n",
    "weather_data_raw = (\n",
    "  weather_51.groupby('datetime_hour')\n",
    "  .agg({\n",
    "    'temp': 'mean',\n",
    "    'windspeed': 'mean',\n",
    "    'humidity': 'mean',\n",
    "    'precip': 'sum',\n",
    "    'pressure': 'mean',\n",
    "    'dailyprecip': 'first',  # same within a day\n",
    "    'dailysnow': 'first',\n",
    "    'fog': 'max',\n",
    "    'rain': 'max',\n",
    "    'snow': 'max',\n",
    "    'conditions': lambda x: x.mode().iloc[0] if not x.mode().empty else x.iloc[0]  # most frequent\n",
    "  })\n",
    "  .reset_index()\n",
    ")"
   ],
   "id": "7ba1cdd816dd29d2",
   "outputs": [],
   "execution_count": null
  },
  {
   "metadata": {},
   "cell_type": "code",
   "outputs": [],
   "execution_count": null,
   "source": [
    "# Standardizes units of measurement & classifies all weather phenomena\n",
    "weather_data_raw = fe.add_weather_features(weather_data_raw)"
   ],
   "id": "44d8027ecb34084d"
  },
  {
   "metadata": {},
   "cell_type": "markdown",
   "source": [
    "\n",
    "- Exactly one timestamp is duplicated: 2016-03-13 00:51:00; Two different entries (Clear vs. Light\n",
    "Rain), probably two weather sources or measurements."
   ],
   "id": "636bc7cdab19f56b"
  },
  {
   "metadata": {},
   "cell_type": "markdown",
   "source": "## EDA temp",
   "id": "acc4b5686bb6771"
  },
  {
   "metadata": {},
   "cell_type": "code",
   "source": "weather_data_raw['temp_c'].describe()",
   "id": "f5a18d7af9dc6b32",
   "outputs": [],
   "execution_count": null
  },
  {
   "metadata": {},
   "cell_type": "code",
   "source": [
    "plt.figure(figsize=(8, 4))\n",
    "weather_data_raw['temp_c'].plot.hist(bins=40, edgecolor='black')\n",
    "plt.title('Distribution of Temperature (°C)')\n",
    "plt.xlabel(\"Temperature [°C]\")\n",
    "plt.ylabel(\"Frequency\")\n",
    "plt.grid(True)\n",
    "plt.tight_layout()\n",
    "plt.show()"
   ],
   "id": "5f669d69fc758583",
   "outputs": [],
   "execution_count": null
  },
  {
   "metadata": {},
   "cell_type": "code",
   "source": [
    "plt.figure(figsize=(4, 6))\n",
    "plt.boxplot(weather_data_raw[\"temp_c\"].dropna())\n",
    "plt.title(\"Boxplot of temp_c\")\n",
    "plt.xlabel(\"temp_c\")\n",
    "plt.tight_layout()\n",
    "plt.show()"
   ],
   "id": "16de971d4452332f",
   "outputs": [],
   "execution_count": null
  },
  {
   "metadata": {},
   "cell_type": "markdown",
   "source": "## EDA Windspeed",
   "id": "9420e0475f358335"
  },
  {
   "metadata": {},
   "cell_type": "code",
   "source": "weather_data_raw['windspeed_kph'].describe()",
   "id": "313f4851d25bb87",
   "outputs": [],
   "execution_count": null
  },
  {
   "metadata": {},
   "cell_type": "code",
   "source": "weather_data_raw['windspeed_kph'].isna().sum()",
   "id": "9b90e46ac0582443",
   "outputs": [],
   "execution_count": null
  },
  {
   "metadata": {},
   "cell_type": "code",
   "source": [
    "plt.figure(figsize=(8, 4))\n",
    "weather_data_raw['windspeed_kph'].plot.hist(bins=40, edgecolor='black')\n",
    "plt.title(\"Distribution of Wind Speed (km/h)\")\n",
    "plt.xlabel(\"Wind Speed [km/h]\")\n",
    "plt.ylabel(\"Frequency\")\n",
    "plt.grid(True)\n",
    "plt.tight_layout()\n",
    "plt.show()"
   ],
   "id": "581539ce0007fc29",
   "outputs": [],
   "execution_count": null
  },
  {
   "metadata": {},
   "cell_type": "code",
   "source": [
    "plt.figure(figsize=(4, 6))\n",
    "plt.boxplot(weather_data_raw[\"windspeed_kph\"].dropna())\n",
    "plt.title(\"Boxplot of windspeed_kph\")\n",
    "plt.xlabel(\"windspeed_kph\")\n",
    "plt.tight_layout()\n",
    "plt.show()"
   ],
   "id": "174a8cff166c490f",
   "outputs": [],
   "execution_count": null
  },
  {
   "metadata": {},
   "cell_type": "markdown",
   "source": [
    "- Most values lie between 5 and 25 km/h, which is typical for city-level weather.\n",
    "- One extremely high value (137.12 km/h) may be an outlier.\n",
    "- The variable appears well-behaved and usable without further transformation."
   ],
   "id": "4838f32105f68db7"
  },
  {
   "metadata": {},
   "cell_type": "markdown",
   "source": "## EDA humidity",
   "id": "e9842f8b024132e8"
  },
  {
   "metadata": {},
   "cell_type": "code",
   "source": "weather_data_raw['humidity'].describe()",
   "id": "a5d042f8c31471a1",
   "outputs": [],
   "execution_count": null
  },
  {
   "metadata": {},
   "cell_type": "code",
   "source": [
    "plt.figure(figsize=(8, 4))\n",
    "weather_data_raw['humidity'].plot.hist(bins=40, edgecolor='black')\n",
    "plt.title(\"Distribution of Humidity (%)\")\n",
    "plt.xlabel(\"Humidity [%]\")\n",
    "plt.ylabel(\"Frequency\")\n",
    "plt.grid(True)\n",
    "plt.tight_layout()\n",
    "plt.show()"
   ],
   "id": "2d2594336bc6a716",
   "outputs": [],
   "execution_count": null
  },
  {
   "metadata": {},
   "cell_type": "code",
   "source": [
    "plt.figure(figsize=(4, 6))\n",
    "plt.boxplot(weather_data_raw[\"humidity\"].dropna())\n",
    "plt.title(\"Boxplot of humidity\")\n",
    "plt.xlabel(\"humidity\")\n",
    "plt.tight_layout()\n",
    "plt.show()"
   ],
   "id": "76774623a4a26a15",
   "outputs": [],
   "execution_count": null
  },
  {
   "metadata": {
    "ExecuteTime": {
     "end_time": "2025-06-01T21:29:42.389850Z",
     "start_time": "2025-06-01T21:29:42.323534Z"
    }
   },
   "cell_type": "markdown",
   "source": [
    "- Values range from 9% to 97%.\n",
    "- Most values lie between 40% and 70%.\n",
    "- No anomalies or unrealistic entries."
   ],
   "id": "335b0603369bafc2"
  },
  {
   "metadata": {
    "ExecuteTime": {
     "end_time": "2025-06-01T21:29:42.449965Z",
     "start_time": "2025-06-01T21:29:42.413216Z"
    }
   },
   "cell_type": "markdown",
   "source": "## EDA precip",
   "id": "146e95ca7fe8d363"
  },
  {
   "metadata": {},
   "cell_type": "code",
   "source": "weather_data_raw['precip_mm'].describe()",
   "id": "821eb056fd42bee5",
   "outputs": [],
   "execution_count": null
  },
  {
   "metadata": {},
   "cell_type": "code",
   "source": [
    "plt.figure(figsize=(8, 4))\n",
    "weather_data_raw['precip_mm'].plot.hist(bins=40, edgecolor='black')\n",
    "plt.title(\"Distribution of Hourly Precipitation (mm)\")\n",
    "plt.xlabel(\"Hourly Precipitation [mm]\")\n",
    "plt.ylabel(\"Frequency\")\n",
    "plt.grid(True)\n",
    "plt.tight_layout()\n",
    "plt.show()"
   ],
   "id": "76a49adc500794d0",
   "outputs": [],
   "execution_count": null
  },
  {
   "metadata": {},
   "cell_type": "code",
   "source": [
    "plt.figure(figsize=(4, 6))\n",
    "plt.boxplot(weather_data_raw[\"precip_mm\"].dropna())\n",
    "plt.title(\"Boxplot of precip_mm\")\n",
    "plt.xlabel(\"precip_mm\")\n",
    "plt.tight_layout()\n",
    "plt.show()"
   ],
   "id": "a7eb1f50281728e7",
   "outputs": [],
   "execution_count": null
  },
  {
   "metadata": {},
   "cell_type": "markdown",
   "source": [
    "Findings of the Exploration\n",
    "- Most values are 0.0 (dry hours).\n",
    "- Occasional rain events up to 18.5 mm.\n",
    "\n",
    "Required Arrangements\n",
    "- None. Consider binary flag creation (e.g. had_rain = precip_mm > 0)."
   ],
   "id": "311ea4b3d37a2ed6"
  },
  {
   "metadata": {
    "ExecuteTime": {
     "end_time": "2025-06-01T21:29:48.296262Z",
     "start_time": "2025-06-01T21:29:48.291146Z"
    }
   },
   "cell_type": "markdown",
   "source": "## EDA pressure",
   "id": "cca12a75211d339"
  },
  {
   "metadata": {},
   "cell_type": "code",
   "source": "weather_data_raw['pressure_hPa'].describe()",
   "id": "66528935abab6105",
   "outputs": [],
   "execution_count": null
  },
  {
   "metadata": {},
   "cell_type": "code",
   "source": "weather_data_raw['pressure_hPa'].isna().sum()",
   "id": "d63d98ea8c58fe5c",
   "outputs": [],
   "execution_count": null
  },
  {
   "metadata": {},
   "cell_type": "code",
   "source": [
    "plt.figure(figsize=(8, 4))\n",
    "weather_data_raw['pressure_hPa'].plot.hist(bins=40, edgecolor='black')\n",
    "plt.title(\"Distribution of pressure_hPa\")\n",
    "plt.xlabel(\"pressure_hPa\")\n",
    "plt.ylabel(\"Frequency\")\n",
    "plt.grid(True)\n",
    "plt.tight_layout()\n",
    "plt.show()"
   ],
   "id": "e2c958ffbf65d010",
   "outputs": [],
   "execution_count": null
  },
  {
   "metadata": {},
   "cell_type": "code",
   "source": [
    "plt.figure(figsize=(4, 6))\n",
    "plt.boxplot(weather_data_raw[\"pressure_hPa\"].dropna())\n",
    "plt.title(\"Boxplot of pressure_hPa\")\n",
    "plt.xlabel(\"pressure_hPa\")\n",
    "plt.tight_layout()\n",
    "plt.show()"
   ],
   "id": "441294c384df5b3e",
   "outputs": [],
   "execution_count": null
  },
  {
   "metadata": {},
   "cell_type": "markdown",
   "source": "## EDA dailyrain",
   "id": "2fdb005ad3d2429a"
  },
  {
   "metadata": {},
   "cell_type": "code",
   "source": "weather_data_raw['dailyprecip'].value_counts()",
   "id": "d5c92cb8d2a51589",
   "outputs": [],
   "execution_count": null
  },
  {
   "metadata": {},
   "cell_type": "code",
   "source": [
    "# Ersetze 'T' durch einen minimalen Wert\n",
    "weather_data_raw['dailyprecip'] = weather_data_raw['dailyprecip'].replace('T', '0.001')"
   ],
   "id": "e945754063852e73",
   "outputs": [],
   "execution_count": null
  },
  {
   "metadata": {},
   "cell_type": "code",
   "source": "weather_data_raw['dailyprecip'] = weather_data_raw['dailyprecip'].astype(float)",
   "id": "c2f3a8871fc809f",
   "outputs": [],
   "execution_count": null
  },
  {
   "metadata": {},
   "cell_type": "code",
   "source": "weather_data_raw['precip_daily_mm'].isna().sum()",
   "id": "c16302576f6c9be5",
   "outputs": [],
   "execution_count": null
  },
  {
   "metadata": {},
   "cell_type": "code",
   "source": "weather_data_raw['precip_daily_mm'].describe()",
   "id": "42815826e055cfe",
   "outputs": [],
   "execution_count": null
  },
  {
   "metadata": {},
   "cell_type": "code",
   "source": [
    "plt.figure(figsize=(8, 4))\n",
    "weather_data_raw['precip_daily_mm'].plot.hist(bins=40, edgecolor='black')\n",
    "plt.title(\"Distribution of precip_daily_mm\")\n",
    "plt.xlabel(\"precip_daily_mm\")\n",
    "plt.ylabel(\"Frequency\")\n",
    "plt.grid(True)\n",
    "plt.tight_layout()\n",
    "plt.show()"
   ],
   "id": "f4f40e253c7f9dd8",
   "outputs": [],
   "execution_count": null
  },
  {
   "metadata": {},
   "cell_type": "code",
   "source": [
    "plt.figure(figsize=(4, 6))\n",
    "plt.boxplot(weather_data_raw[\"precip_daily_mm\"].dropna())\n",
    "plt.title(\"Boxplot of precip_daily_mm\")\n",
    "plt.xlabel(\"precip_daily_mm\")\n",
    "plt.tight_layout()\n",
    "plt.show()"
   ],
   "id": "35641f23c021ce03",
   "outputs": [],
   "execution_count": null
  },
  {
   "metadata": {
    "ExecuteTime": {
     "end_time": "2025-06-01T21:25:29.744211Z",
     "start_time": "2025-06-01T21:25:29.738331Z"
    }
   },
   "cell_type": "markdown",
   "source": "- ...",
   "id": "f784031a26775a75"
  },
  {
   "metadata": {
    "ExecuteTime": {
     "end_time": "2025-06-01T21:25:32.356540Z",
     "start_time": "2025-06-01T21:25:32.275501Z"
    }
   },
   "cell_type": "markdown",
   "source": "## EDA dailysnow",
   "id": "99ee5920ed6ca1d8"
  },
  {
   "metadata": {},
   "cell_type": "code",
   "source": "weather_data_raw['dailysnow'].value_counts()",
   "id": "d8a11f07340ecb2b",
   "outputs": [],
   "execution_count": null
  },
  {
   "metadata": {},
   "cell_type": "code",
   "source": [
    "weather_data_raw['dailysnow'] = weather_data_raw['dailysnow'].replace('T', '0.001')\n",
    "weather_data_raw['dailysnow'] = weather_data_raw['dailysnow'].astype(float)"
   ],
   "id": "2ff0e8ec7f37849c",
   "outputs": [],
   "execution_count": null
  },
  {
   "metadata": {},
   "cell_type": "code",
   "source": [
    "\n",
    "weather_data_raw['daily_snow_mm'].describe()"
   ],
   "id": "b653b9483ea85380",
   "outputs": [],
   "execution_count": null
  },
  {
   "metadata": {},
   "cell_type": "code",
   "source": "weather_data_raw['daily_snow_mm'].isna().sum()",
   "id": "2dc4dfb5d6876e50",
   "outputs": [],
   "execution_count": null
  },
  {
   "metadata": {},
   "cell_type": "code",
   "source": [
    "plt.figure(figsize=(8, 4))\n",
    "weather_data_raw['daily_snow_mm'].plot.hist(bins=40, edgecolor='black')\n",
    "plt.title(\"Distribution of daily_snow_mm\")\n",
    "plt.xlabel(\"daily_snow_mm\")\n",
    "plt.ylabel(\"Frequency\")\n",
    "plt.grid(True)\n",
    "plt.tight_layout()\n",
    "plt.show()"
   ],
   "id": "afb6b184c67e35f6",
   "outputs": [],
   "execution_count": null
  },
  {
   "metadata": {},
   "cell_type": "code",
   "source": [
    "plt.figure(figsize=(4, 6))\n",
    "plt.boxplot(weather_data_raw[\"daily_snow_mm\"].dropna())\n",
    "plt.title(\"Boxplot of daily_snow_mm\")\n",
    "plt.xlabel(\"daily_snow_mm\")\n",
    "plt.tight_layout()\n",
    "plt.show()"
   ],
   "id": "e1069ec4ce3e0efc",
   "outputs": [],
   "execution_count": null
  },
  {
   "metadata": {},
   "cell_type": "markdown",
   "source": "EDA fog, rain, snow",
   "id": "f2aff15efc521214"
  },
  {
   "metadata": {},
   "cell_type": "code",
   "source": "weather_data_raw['fog'].value_counts()",
   "id": "f24d4f03942ee750",
   "outputs": [],
   "execution_count": null
  },
  {
   "metadata": {},
   "cell_type": "code",
   "source": "weather_data_raw['rain'].value_counts()",
   "id": "79d2175bf0697566",
   "outputs": [],
   "execution_count": null
  },
  {
   "metadata": {},
   "cell_type": "code",
   "source": "weather_data_raw['snow'].value_counts()",
   "id": "5398cb495eb4b022",
   "outputs": [],
   "execution_count": null
  },
  {
   "metadata": {},
   "cell_type": "markdown",
   "source": "## EDA Conditions",
   "id": "c1dd95b3aea36951"
  },
  {
   "metadata": {},
   "cell_type": "code",
   "source": [
    "condition_counts = weather_data_raw['conditions'].value_counts()\n",
    "\n",
    "plt.figure(figsize=(10, 4))\n",
    "condition_counts.plot(kind='bar')\n",
    "plt.title(\"Distribution of Weather Conditions\")\n",
    "plt.xlabel(\"Condition\")\n",
    "plt.ylabel(\"Frequency\")\n",
    "plt.xticks(rotation=45, ha='right')\n",
    "plt.grid(True)\n",
    "plt.tight_layout()\n",
    "plt.show()"
   ],
   "id": "a4282801c307e45f",
   "outputs": [],
   "execution_count": null
  },
  {
   "metadata": {},
   "cell_type": "markdown",
   "source": [
    "- Most common condition is Clear (2215 times), followed by Overcast (1000).\n",
    "- Some conditions occur only a few times, e.g., Heavy Snow, Light Freezing Fog.\n",
    "- Unknown appears 83 times and may indicate missing or invalid sensor data."
   ],
   "id": "9dcaf45703a520f"
  },
  {
   "metadata": {},
   "cell_type": "markdown",
   "source": "# Classify / EDA  Weather Conditions",
   "id": "395a4a5282e906ad"
  },
  {
   "metadata": {},
   "cell_type": "markdown",
   "source": "## Classify / EDA –  rain intensity",
   "id": "bfe45e7a5f6bfa03"
  },
  {
   "metadata": {},
   "cell_type": "code",
   "source": [
    "rain_counts = weather_data_raw['rain_class'].value_counts().reindex([\n",
    "  'no_rain', 'light_rain', 'moderate_rain', 'heavy_rain', 'very_heavy_rain', 'extreme_rain'\n",
    "])\n",
    "\n",
    "rain_counts.plot(kind='bar', edgecolor='black', figsize=(8, 4))\n",
    "plt.title(\"Frequency of Rain Intensity Classes\")\n",
    "plt.xlabel(\"Rain Class\")\n",
    "plt.ylabel('number_of_hours')\n",
    "plt.grid(True)\n",
    "plt.tight_layout()\n",
    "plt.show()"
   ],
   "id": "9cd115beeb215556",
   "outputs": [],
   "execution_count": null
  },
  {
   "metadata": {},
   "cell_type": "code",
   "source": [
    "rain_time_series = weather_data_raw.set_index('datetime_hour')['rain_code']\n",
    "\n",
    "plt.figure(figsize=(12, 4))\n",
    "rain_time_series.plot(drawstyle='steps-post')\n",
    "plt.title(\"Rain Intensity Over Time\")\n",
    "plt.ylabel(\"Rain Class Code\")\n",
    "plt.grid(True)\n",
    "plt.tight_layout()\n",
    "plt.show()"
   ],
   "id": "522ebf7f0ee15ce8",
   "outputs": [],
   "execution_count": null
  },
  {
   "metadata": {},
   "cell_type": "code",
   "source": [
    "plt.figure(figsize=(8, 4))\n",
    "sns.boxplot(data=weather_data_raw, x='rain_class', y='humidity')\n",
    "plt.title(\"Humidity Distribution by Rain Class\")\n",
    "plt.xlabel(\"Rain Class\")\n",
    "plt.ylabel(\"Humidity (%)\")\n",
    "plt.xticks(rotation=45)\n",
    "plt.grid(True)\n",
    "plt.tight_layout()\n",
    "plt.show()"
   ],
   "id": "9bfee09592e77d7e",
   "outputs": [],
   "execution_count": null
  },
  {
   "metadata": {},
   "cell_type": "markdown",
   "source": "## Classify / EDA – snow intensity",
   "id": "1fd6d6dc2401b0c"
  },
  {
   "metadata": {},
   "cell_type": "code",
   "source": [
    "weather_data_raw['snow_class'].value_counts().reindex([\n",
    "  'no_snow', 'light_snow', \"snow\", 'heavy_snow'\n",
    "]).plot(kind='bar', edgecolor='black')\n",
    "plt.title(\"Frequency of Snow Intensity Classes\")\n",
    "plt.xlabel(\"Snow Class\")\n",
    "plt.ylabel('number_of_hours')\n",
    "plt.grid(True)\n",
    "plt.tight_layout()\n",
    "plt.show()"
   ],
   "id": "9d33d04b3815159c",
   "outputs": [],
   "execution_count": null
  },
  {
   "metadata": {},
   "cell_type": "code",
   "source": [
    "# Time series: Snow Class Code\n",
    "plt.figure(figsize=(12, 4))\n",
    "weather_data_raw.set_index('datetime_hour')['snow_code'].plot(drawstyle='steps-post')\n",
    "plt.title(\"Snow Intensity Over Time\")\n",
    "plt.ylabel(\"Snow Class Code\")\n",
    "plt.grid(True)\n",
    "plt.tight_layout()\n",
    "plt.show()"
   ],
   "id": "91b41cbdac8f7f6f",
   "outputs": [],
   "execution_count": null
  },
  {
   "metadata": {},
   "cell_type": "markdown",
   "source": "## Classify / EDA –  cloud intensity",
   "id": "43db527ba9180112"
  },
  {
   "metadata": {},
   "cell_type": "code",
   "source": [
    "# Bar plot: Frequency of Cloud Classes\n",
    "cloud_counts = weather_data_raw['cloud_class'].value_counts().reindex([\n",
    "  \"clear\", 'scattered_clouds', 'partly_cloudy', 'mostly_cloudy', \"overcast\", \"unknown\"\n",
    "])\n",
    "cloud_counts.plot(kind='bar', edgecolor='black', figsize=(8, 4))\n",
    "plt.title(\"Frequency of Cloud Intensity Classes\")\n",
    "plt.xlabel(\"Cloud Class\")\n",
    "plt.ylabel('number_of_hours')\n",
    "plt.grid(True)\n",
    "plt.tight_layout()\n",
    "plt.show()"
   ],
   "id": "df27e8075e717c60",
   "outputs": [],
   "execution_count": null
  },
  {
   "metadata": {},
   "cell_type": "code",
   "source": [
    "# Time series: Cloud Class Code\n",
    "plt.figure(figsize=(12, 4))\n",
    "weather_data_raw.set_index('datetime_hour')['cloud_code'].plot(drawstyle='steps-post')\n",
    "plt.title(\"Cloud Intensity Over Time\")\n",
    "plt.ylabel(\"Cloud Class Code\")\n",
    "plt.grid(True)\n",
    "plt.tight_layout()\n",
    "plt.show()"
   ],
   "id": "37dfe2cc83677ef4",
   "outputs": [],
   "execution_count": null
  },
  {
   "metadata": {},
   "cell_type": "code",
   "source": [
    "sns.boxplot(data=weather_data_raw, x='cloud_class', y='humidity')\n",
    "plt.title(\"Humidity by Cloud Class\")"
   ],
   "id": "faa33c63ee171f34",
   "outputs": [],
   "execution_count": null
  },
  {
   "metadata": {},
   "cell_type": "markdown",
   "source": "## Classify / EDA –  haze intensity",
   "id": "f2c03352145958c9"
  },
  {
   "metadata": {},
   "cell_type": "code",
   "source": [
    "# Bar plot: Frequency of Haze\n",
    "hazy_counts = weather_data_raw['hazy_class'].value_counts().reindex(['no_haze', \"haze\"])\n",
    "hazy_counts.plot(kind='bar', edgecolor='black', figsize=(6, 4))\n",
    "plt.title(\"Frequency of Haze\")\n",
    "plt.xlabel(\"Hazy Class\")\n",
    "plt.ylabel('number_of_hours')\n",
    "plt.grid(True)\n",
    "plt.tight_layout()\n",
    "plt.show()"
   ],
   "id": "ad3f376b4dff47ad",
   "outputs": [],
   "execution_count": null
  },
  {
   "metadata": {},
   "cell_type": "code",
   "source": [
    "# Time series: Hazy Class Code\n",
    "plt.figure(figsize=(12, 4))\n",
    "weather_data_raw.set_index('datetime_hour')['hazy_code'].plot(drawstyle='steps-post')\n",
    "plt.title(\"Haze Intensity Over Time\")\n",
    "plt.ylabel(\"Hazy Class Code\")\n",
    "plt.grid(True)\n",
    "plt.tight_layout()\n",
    "plt.show()"
   ],
   "id": "f016267dda573987",
   "outputs": [],
   "execution_count": null
  },
  {
   "metadata": {},
   "cell_type": "markdown",
   "source": "## Classify / EDA –  freezing fog or rain",
   "id": "1c789f7a022364bf"
  },
  {
   "metadata": {},
   "cell_type": "code",
   "source": [
    "# Bar plot: Frequency of Freezing Classes\n",
    "freezing_counts = weather_data_raw['freezing_class'].value_counts().reindex([\n",
    "  \"none\", 'light_freezing_rain', 'light_freezing_fog'\n",
    "])\n",
    "freezing_counts.plot(kind='bar', edgecolor='black', figsize=(8, 4))\n",
    "plt.title(\"Frequency of Freezing Fog or Rain\")\n",
    "plt.xlabel(\"Freezing Class\")\n",
    "plt.ylabel('number_of_hours')\n",
    "plt.grid(True)\n",
    "plt.tight_layout()\n",
    "plt.show()"
   ],
   "id": "f003cd28386a7026",
   "outputs": [],
   "execution_count": null
  },
  {
   "metadata": {},
   "cell_type": "code",
   "source": [
    "# Time series: Freezing Class Code\n",
    "plt.figure(figsize=(12, 4))\n",
    "weather_data_raw.set_index('datetime_hour')['freezing_code'].plot(drawstyle='steps-post')\n",
    "plt.title(\"Freezing Fog or Rain Intensity Over Time\")\n",
    "plt.ylabel(\"Freezing Class Code\")\n",
    "plt.grid(True)\n",
    "plt.tight_layout()\n",
    "plt.show()"
   ],
   "id": "ade2a7c4c19391cd",
   "outputs": [],
   "execution_count": null
  },
  {
   "metadata": {},
   "cell_type": "markdown",
   "source": "## Classify / EDA –  fog",
   "id": "61bc3255430bdc93"
  },
  {
   "metadata": {},
   "cell_type": "code",
   "source": [
    "# Bar plot: Frequency of Fog Classes\n",
    "fog_counts = weather_data_raw['fog_class'].value_counts().reindex([\"no_fog\", \"fog\"])\n",
    "fog_counts.plot(kind='bar', edgecolor='black', figsize=(6, 4))\n",
    "plt.title(\"Frequency of Fog Classes\")\n",
    "plt.xlabel(\"Fog Class\")\n",
    "plt.ylabel('number_of_hours')\n",
    "plt.grid(True)\n",
    "plt.tight_layout()\n",
    "plt.show()"
   ],
   "id": "3e0e1ea5970e2d84",
   "outputs": [],
   "execution_count": null
  },
  {
   "metadata": {},
   "cell_type": "code",
   "source": [
    "# Time series: Fog Class Code\n",
    "plt.figure(figsize=(12, 4))\n",
    "weather_data_raw.set_index('datetime_hour')['fog_code'].plot(drawstyle='steps-post')\n",
    "plt.title(\"Fog Intensity Over Time\")\n",
    "plt.ylabel(\"Fog Class Code\")\n",
    "plt.grid(True)\n",
    "plt.tight_layout()\n",
    "plt.show()"
   ],
   "id": "e8b01c0fcf47cd",
   "outputs": [],
   "execution_count": null
  },
  {
   "metadata": {},
   "cell_type": "markdown",
   "source": "## Classify / EDA –  temp itensity",
   "id": "82b54aeeebe94ec9"
  },
  {
   "metadata": {},
   "cell_type": "code",
   "source": [
    "# Bar plot: Frequency of Temperature Classes\n",
    "temp_counts = weather_data_raw['temp_class'].value_counts().reindex([\n",
    "  'very_cold', \"cold\", \"cool\", \"mild\", \"warm\", \"hot\"\n",
    "])\n",
    "\n",
    "temp_counts.plot(kind='bar', edgecolor='black', figsize=(8, 4))\n",
    "plt.title(\"Frequency of Temperature Classes\")\n",
    "plt.xlabel('Temperature_Class')\n",
    "plt.ylabel('number_of_hours')\n",
    "plt.grid(True)\n",
    "plt.tight_layout()\n",
    "plt.show()"
   ],
   "id": "a75d37c404ec2c6e",
   "outputs": [],
   "execution_count": null
  },
  {
   "metadata": {},
   "cell_type": "code",
   "source": [
    "# Boxplot: Windspeed by Temperature Class\n",
    "sns.boxplot(data=weather_data_raw, x='temp_class', y='windspeed_kph')\n",
    "plt.title(\"Windspeed by Temperature Class\")\n",
    "plt.xlabel('Temperature_Class')\n",
    "plt.ylabel(\"Windspeed (km/h)\")\n",
    "plt.grid(True)\n",
    "plt.tight_layout()\n",
    "plt.show()"
   ],
   "id": "ed6a4f52375d50eb",
   "outputs": [],
   "execution_count": null
  },
  {
   "metadata": {},
   "cell_type": "code",
   "source": [
    "# Boxplot: Pressure by Temperature Class\n",
    "sns.boxplot(data=weather_data_raw, x='temp_class', y='pressure_hPa')\n",
    "plt.title(\"Pressure by Temperature Class\")\n",
    "plt.xlabel('Temperature_Class')\n",
    "plt.ylabel(\"Pressure (hPa)\")\n",
    "plt.grid(True)\n",
    "plt.tight_layout()\n",
    "plt.show()"
   ],
   "id": "b6de9a56f6ee201d",
   "outputs": [],
   "execution_count": null
  },
  {
   "metadata": {},
   "cell_type": "code",
   "source": [
    "# Time series: Temperature Class Code over Time\n",
    "plt.figure(figsize=(12, 4))\n",
    "weather_data_raw.set_index('datetime_hour')['temp_code'].plot(drawstyle='steps-post')\n",
    "plt.title(\"Temperature Intensity Over Time\")\n",
    "plt.ylabel(\"Temperature Class Code\")\n",
    "plt.grid(True)\n",
    "plt.tight_layout()\n",
    "plt.show()"
   ],
   "id": "cbe8fb5de097ca7b",
   "outputs": [],
   "execution_count": null
  },
  {
   "metadata": {},
   "cell_type": "markdown",
   "source": "## Classify / EDA –  windspeed itensity",
   "id": "ebf24481f38dde65"
  },
  {
   "metadata": {},
   "cell_type": "code",
   "source": [
    "# Bar plot: Frequency of Windspeed Classes\n",
    "windspeed_counts = weather_data_raw['windspeed_class'].value_counts().reindex([\n",
    "  \"calm\", 'light_air', 'light_breeze', 'moderate_breeze', 'strong_breeze', \"stormy\"\n",
    "])\n",
    "\n",
    "windspeed_counts.plot(kind='bar', edgecolor='black', figsize=(8, 4))\n",
    "plt.title(\"Frequency of Windspeed Classes\")\n",
    "plt.xlabel('Windspeed_Class')\n",
    "plt.ylabel('number_of_hours')\n",
    "plt.grid(True)\n",
    "plt.tight_layout()\n",
    "plt.show()"
   ],
   "id": "af3e21da8e6cae8c",
   "outputs": [],
   "execution_count": null
  },
  {
   "metadata": {},
   "cell_type": "code",
   "source": [
    "# Boxplot: Temperature by Windspeed Class\n",
    "sns.boxplot(data=weather_data_raw, x='windspeed_class', y='temp_c')\n",
    "plt.title(\"Temperature by Windspeed Class\")\n",
    "plt.xlabel('Windspeed_Class')\n",
    "plt.ylabel('Temperature (°C)')\n",
    "plt.grid(True)\n",
    "plt.tight_layout()\n",
    "plt.show()"
   ],
   "id": "2a7b8339bf8cb074",
   "outputs": [],
   "execution_count": null
  },
  {
   "metadata": {},
   "cell_type": "code",
   "source": [
    "# Boxplot: Pressure by Windspeed Class\n",
    "sns.boxplot(data=weather_data_raw, x='windspeed_class', y='pressure_hPa')\n",
    "plt.title(\"Pressure by Windspeed Class\")\n",
    "plt.xlabel('Windspeed_Class')\n",
    "plt.ylabel(\"Pressure (hPa)\")\n",
    "plt.grid(True)\n",
    "plt.tight_layout()\n",
    "plt.show()"
   ],
   "id": "b70d4adb4db0ec2f",
   "outputs": [],
   "execution_count": null
  },
  {
   "metadata": {},
   "cell_type": "code",
   "source": [
    "# Time series: Windspeed Class Code over Time\n",
    "plt.figure(figsize=(12, 4))\n",
    "weather_data_raw.set_index('datetime_hour')['windspeed_code'].plot(drawstyle='steps-post')\n",
    "plt.title(\"Windspeed Intensity Over Time\")\n",
    "plt.ylabel(\"Windspeed Class Code\")\n",
    "plt.grid(True)\n",
    "plt.tight_layout()\n",
    "plt.show()"
   ],
   "id": "19e7353d553af0e4",
   "outputs": [],
   "execution_count": null
  },
  {
   "metadata": {},
   "cell_type": "markdown",
   "source": "## Classify / EDA –  humidity itensity",
   "id": "9780da48d029982e"
  },
  {
   "metadata": {},
   "cell_type": "code",
   "source": [
    "# Bar plot: Frequency of Humidity Classes\n",
    "humidity_counts = weather_data_raw['humidity_class'].value_counts().reindex([\n",
    "  'very_dry', 'dry', 'normal', 'wet', 'very_wet'\n",
    "])\n",
    "\n",
    "humidity_counts.plot(kind='bar', edgecolor='black', figsize=(8, 4))\n",
    "plt.title(\"Frequency of Humidity Classes\")\n",
    "plt.xlabel(\"Humidity Class\")\n",
    "plt.ylabel('number_of_hours')\n",
    "plt.grid(True)\n",
    "plt.tight_layout()\n",
    "plt.show()"
   ],
   "id": "5fac9abb30c122f0",
   "outputs": [],
   "execution_count": null
  },
  {
   "metadata": {},
   "cell_type": "code",
   "source": [
    "\n",
    "# Boxplot: Temperature by Humidity Class\n",
    "sns.boxplot(data=weather_data_raw, x='humidity_class', y='temp_c')\n",
    "plt.title(\"Temperature by Humidity Class\")\n",
    "plt.xlabel(\"Humidity Class\")\n",
    "plt.ylabel('Temperature (°C)')\n",
    "plt.grid(True)\n",
    "plt.tight_layout()\n",
    "plt.show()"
   ],
   "id": "304f78196f25c1b5",
   "outputs": [],
   "execution_count": null
  },
  {
   "metadata": {},
   "cell_type": "code",
   "source": [
    "\n",
    "# Time series: Humidity Class Code over Time\n",
    "plt.figure(figsize=(12, 4))\n",
    "weather_data_raw.set_index('datetime_hour')['humidity_code'].plot(drawstyle='steps-post')\n",
    "plt.title(\"Humidity Intensity Over Time\")\n",
    "plt.ylabel(\"Humidity Class Code\")\n",
    "plt.grid(True)\n",
    "plt.tight_layout()\n",
    "plt.show()"
   ],
   "id": "cd84e92f25f7edcd",
   "outputs": [],
   "execution_count": null
  },
  {
   "metadata": {},
   "cell_type": "markdown",
   "source": "## Classify / EDA –  pressure itensity",
   "id": "d3dcc69bbc780980"
  },
  {
   "metadata": {},
   "cell_type": "code",
   "source": [
    "# Bar plot: Frequency of Pressure Classes\n",
    "pressure_counts = weather_data_raw['pressure_class'].value_counts().reindex([\n",
    "  'very_low', \"low\", \"normal\", \"high\", 'very_high'\n",
    "])\n",
    "\n",
    "pressure_counts.plot(kind='bar', edgecolor='black', figsize=(8, 4))\n",
    "plt.title(\"Frequency of Pressure Classes\")\n",
    "plt.xlabel(\"Pressure Class\")\n",
    "plt.ylabel('number_of_hours')\n",
    "plt.grid(True)\n",
    "plt.tight_layout()\n",
    "plt.show()"
   ],
   "id": "1f5bafb28635730e",
   "outputs": [],
   "execution_count": null
  },
  {
   "metadata": {},
   "cell_type": "code",
   "source": [
    "\n",
    "# Boxplot: Temperature by Pressure Class\n",
    "sns.boxplot(data=weather_data_raw, x='pressure_class', y='temp_c')\n",
    "plt.title(\"Temperature by Pressure Class\")\n",
    "plt.xlabel(\"Pressure Class\")\n",
    "plt.ylabel('Temperature (°C)')\n",
    "plt.grid(True)\n",
    "plt.tight_layout()\n",
    "plt.show()"
   ],
   "id": "129004555fca9bee",
   "outputs": [],
   "execution_count": null
  },
  {
   "metadata": {},
   "cell_type": "code",
   "source": [
    "\n",
    "# Time series: Pressure Class Code over Time\n",
    "plt.figure(figsize=(12, 4))\n",
    "weather_data_raw.set_index('datetime_hour')['pressure_code'].plot(drawstyle='steps-post')\n",
    "plt.title(\"Pressure Intensity Over Time\")\n",
    "plt.ylabel(\"Pressure Class Code\")\n",
    "plt.grid(True)\n",
    "plt.tight_layout()\n",
    "plt.show()"
   ],
   "id": "9f6eb3688cd9b730",
   "outputs": [],
   "execution_count": null
  },
  {
   "metadata": {},
   "cell_type": "markdown",
   "source": "# Imputation",
   "id": "b1a89e8835e6728f"
  },
  {
   "metadata": {},
   "cell_type": "code",
   "source": [
    "weather_data_before_imputation = weather_data_raw\n",
    "weather_data_raw.set_index('datetime_hour', inplace=True)\n",
    "weather_data_raw['windspeed_kph'] = weather_data_raw['windspeed_kph'].interpolate(method='time')\n",
    "\n",
    "weather_data_raw.reset_index(inplace=True)\n",
    "plt.figure(figsize=(12, 4))\n",
    "weather_data_raw['windspeed_kph'].plot(label='Imputiert', alpha=0.8)\n",
    "weather_data_raw['windspeed_kph'].where(weather_data_raw['windspeed_kph'].notna()).plot(\n",
    "    style='o',\n",
    "    label='Original (Nicht-NaN)',\n",
    "    markersize=2)\n",
    "plt.title('Windspeed: Imputation sichtbar machen')\n",
    "plt.ylabel('km/h')\n",
    "plt.legend()\n",
    "plt.grid(True)\n",
    "plt.tight_layout()\n",
    "plt.show()\n",
    "before = weather_data_before_imputation['windspeed_kph']\n",
    "after = weather_data_raw['windspeed_kph']\n",
    "\n",
    "print(\"mean before:\", before.mean())\n",
    "print(\"mean after:\", after.mean())\n",
    "print(\"std deviation before:\", before.std())\n",
    "print(\"std deviation after:\", after.std())"
   ],
   "id": "823e21324e2b2563",
   "outputs": [],
   "execution_count": null
  },
  {
   "metadata": {},
   "cell_type": "markdown",
   "source": "## pressure",
   "id": "966ac2aad6900839"
  },
  {
   "metadata": {},
   "cell_type": "code",
   "source": [
    "weather_data_before_imputation = weather_data_raw\n",
    "weather_data_raw.set_index('datetime_hour', inplace=True)\n",
    "weather_data_raw['pressure_hPa'] = weather_data_raw['pressure_hPa'].interpolate(method='time')\n",
    "weather_data_raw.reset_index(inplace=True)\n",
    "plt.figure(figsize=(12, 4))\n",
    "weather_data_raw['pressure_hPa'].plot(label='Imputiert', alpha=0.8)\n",
    "weather_data_raw['pressure_hPa'].where(weather_data_raw['pressure_hPa'].notna()).plot(style='o',\n",
    "                                                                                      label='Original (Nicht-NaN)',\n",
    "                                                                                      markersize=2)\n",
    "plt.title('pressure_hPa: Imputation sichtbar machen')\n",
    "plt.ylabel('hpa')\n",
    "plt.legend()\n",
    "plt.grid(True)\n",
    "plt.tight_layout()\n",
    "plt.show()\n",
    "before = weather_data_before_imputation['pressure_hPa']\n",
    "after = weather_data_raw['pressure_hPa']\n",
    "\n",
    "print(\"mean before:\", before.mean())\n",
    "print(\"mean after:\", after.mean())\n",
    "print(\"std deviation before:\", before.std())\n",
    "print(\"std deviation after:\", after.std())"
   ],
   "id": "ca51acc9226c4d67",
   "outputs": [],
   "execution_count": null
  },
  {
   "metadata": {},
   "cell_type": "code",
   "source": "weather_data_raw.isna().sum()",
   "id": "52bb2777159820a4",
   "outputs": [],
   "execution_count": null
  },
  {
   "metadata": {},
   "cell_type": "code",
   "source": "weather_data_raw.info()",
   "id": "114400eac99c9fac",
   "outputs": [],
   "execution_count": null
  },
  {
   "metadata": {},
   "cell_type": "markdown",
   "source": "# Save Weather Data",
   "id": "707ebdcd0be54ef8"
  },
  {
   "metadata": {},
   "cell_type": "code",
   "source": "weather_data_raw.to_csv(\"data/weather_data_clean.csv\", index=False)",
   "id": "99a87f2d2c4a8f52",
   "outputs": [],
   "execution_count": null
  }
 ],
 "metadata": {
  "kernelspec": {
   "display_name": "Python 3",
   "language": "python",
   "name": "python3"
  },
  "language_info": {
   "codemirror_mode": {
    "name": "ipython",
    "version": 2
   },
   "file_extension": ".py",
   "mimetype": "text/x-python",
   "name": "python",
   "nbconvert_exporter": "python",
   "pygments_lexer": "ipython2",
   "version": "2.7.6"
  }
 },
 "nbformat": 4,
 "nbformat_minor": 5
}
