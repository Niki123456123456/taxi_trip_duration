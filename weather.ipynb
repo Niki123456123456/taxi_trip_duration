{
 "cells": [
  {
   "metadata": {},
   "cell_type": "markdown",
   "source": "## Load and unzip weatherdata",
   "id": "5477770855d8a525"
  },
  {
   "metadata": {},
   "cell_type": "code",
   "source": [
    "import pickle\n",
    "from pathlib import Path\n",
    "from zipfile import ZipFile\n",
    "\n",
    "import matplotlib.pyplot as plt\n",
    "import pandas as pd\n",
    "import seaborn as sns\n",
    "from kaggle.api.kaggle_api_extended import KaggleApi\n",
    "\n",
    "\n",
    "def load_weather_data():\n",
    "  dataset_slug = \"pschale/nyc-taxi-wunderground-weather\"\n",
    "  zip_name = \"nyc-taxi-wunderground-weather.zip\"\n",
    "  csv_name = \"weatherdata.csv\"\n",
    "\n",
    "  data_dir = Path(\"data\")\n",
    "  package_dir = Path(\"data_packages\")\n",
    "\n",
    "  zip_path = package_dir / zip_name\n",
    "  csv_path = data_dir / csv_name\n",
    "  pkl_path = data_dir / \"weatherdata.pkl\"\n",
    "\n",
    "  # Schritt 0: Cache verwenden\n",
    "  if pkl_path.is_file():\n",
    "    with open(pkl_path, \"rb\") as f:\n",
    "      return pickle.load(f)\n",
    "\n",
    "  # Schritt 1: ZIP herunterladen, wenn sie nicht existiert\n",
    "  if not zip_path.is_file():\n",
    "    package_dir.mkdir(parents=True, exist_ok=True)\n",
    "    api = KaggleApi()\n",
    "    api.authenticate()\n",
    "    api.dataset_download_files(dataset_slug, path=str(package_dir), unzip=False)\n",
    "\n",
    "  # Schritt 2: Entpacken, falls CSV noch nicht existiert\n",
    "  if not csv_path.is_file():\n",
    "    data_dir.mkdir(parents=True, exist_ok=True)\n",
    "    with ZipFile(zip_path, \"r\") as zip_ref:\n",
    "      zip_ref.extract(csv_name, path=data_dir)\n",
    "\n",
    "  # Schritt 3: CSV laden und Cache schreiben\n",
    "  if not csv_path.is_file():\n",
    "    raise FileNotFoundError(f\"{csv_path} wurde nicht gefunden – Entpackung fehlgeschlagen.\")\n",
    "\n",
    "  df = pd.read_csv(csv_path)\n",
    "  with open(pkl_path, \"wb\") as f:\n",
    "    pickle.dump(df, f)\n",
    "\n",
    "  return df\n",
    "\n",
    "\n",
    "# Anwendung\n",
    "weather_data_raw = load_weather_data()"
   ],
   "id": "f1441f1fa8f4fdf3",
   "outputs": [],
   "execution_count": null
  },
  {
   "metadata": {},
   "cell_type": "markdown",
   "source": "# EDA  weather_data_raw",
   "id": "648ae8501a52bcfa"
  },
  {
   "metadata": {},
   "cell_type": "markdown",
   "source": "## General EDA",
   "id": "774daa0844be994"
  },
  {
   "metadata": {},
   "cell_type": "code",
   "source": "weather_data_raw.info()",
   "id": "57db83f01fa40490",
   "outputs": [],
   "execution_count": null
  },
  {
   "metadata": {},
   "cell_type": "markdown",
   "source": [
    "- timestamp into datetime\n",
    "- temp into celsius\n",
    "- windspeed into kph\n",
    "- precip into mm\n",
    "- pressure into hpa\n",
    "- dailyprecip into mm\n",
    "- dailysnow into mm"
   ],
   "id": "91e8e07b65a012b9"
  },
  {
   "metadata": {},
   "cell_type": "code",
   "source": "weather_data_raw.describe()",
   "id": "ef2aa35105c5479d",
   "outputs": [],
   "execution_count": null
  },
  {
   "metadata": {},
   "cell_type": "code",
   "source": "weather_data_raw.describe(include='object')",
   "id": "64f9e0683b0d377",
   "outputs": [],
   "execution_count": null
  },
  {
   "metadata": {},
   "cell_type": "markdown",
   "source": "- timestamp has one double",
   "id": "a4f0066fe717f0ff"
  },
  {
   "metadata": {},
   "cell_type": "code",
   "source": "weather_data_raw.nunique()",
   "id": "9bccd65cf94f0055",
   "outputs": [],
   "execution_count": null
  },
  {
   "metadata": {},
   "cell_type": "code",
   "source": "weather_data_raw.isna().sum()",
   "id": "717938b0bd959503",
   "outputs": [],
   "execution_count": null
  },
  {
   "metadata": {},
   "cell_type": "markdown",
   "source": "## EDA timestamp (datetime)",
   "id": "9b76212faa9f5b5b"
  },
  {
   "metadata": {},
   "cell_type": "code",
   "source": [
    "# Count entries per full hour (rounded down)\n",
    "weather_data_raw['datetime'] = pd.to_datetime(weather_data_raw['timestamp'], errors='coerce')\n",
    "weather_data_raw['datetime_hour'] = weather_data_raw['datetime'].dt.floor('h')"
   ],
   "id": "5a24d234dc2a2410",
   "outputs": [],
   "execution_count": null
  },
  {
   "metadata": {},
   "cell_type": "code",
   "source": [
    "# Check for format consistency\n",
    "weather_data_raw['datetime_hour'].astype(str).str.match(\n",
    "    r'^\\d{4}-\\d{2}-\\d{2} \\d{2}:\\d{2}:\\d{2}$').all()"
   ],
   "id": "d87970b3262c765d",
   "outputs": [],
   "execution_count": null
  },
  {
   "metadata": {},
   "cell_type": "code",
   "source": [
    "counts_per_hour = weather_data_raw['datetime_hour'].value_counts().sort_index()\n",
    "\n",
    "# Plot time series frequency\n",
    "plt.figure(figsize=(12, 4))\n",
    "counts_per_hour.plot()\n",
    "plt.title(\"Weather Observations per Hour\")\n",
    "plt.xlabel(\"Time\")\n",
    "plt.ylabel(\"Observations per Hour\")\n",
    "plt.grid(True)\n",
    "plt.show()"
   ],
   "id": "2508601801ca31ad",
   "outputs": [],
   "execution_count": null
  },
  {
   "metadata": {},
   "cell_type": "markdown",
   "source": [
    "- The timestamps are predominantly distributed hourly, with slight fluctuations.\n",
    "- There are some dips in frequency; potentially missing hours.\n",
    "- The data does not appear to be exactly on the hour (e.g. xx:51)."
   ],
   "id": "844e4c8b06f9fdd4"
  },
  {
   "metadata": {},
   "cell_type": "code",
   "source": [
    "# Extract minute component from timestamp\n",
    "weather_data_raw['datetime_minute'] = weather_data_raw['datetime'].dt.minute\n",
    "\n",
    "# Count how many records fall into each minute of the hour\n",
    "minute_distribution = weather_data_raw['datetime_minute'].value_counts().sort_index()\n",
    "\n",
    "# Plot the distribution of measurement minutes\n",
    "plt.figure(figsize=(10, 4))\n",
    "minute_distribution.plot(kind='bar')\n",
    "plt.title(\"Distribution of Measurement Minutes\")\n",
    "plt.xlabel(\"Minute of the Hour\")\n",
    "plt.ylabel(\"Number of Observations\")\n",
    "plt.grid(True)\n",
    "plt.tight_layout()\n",
    "plt.show()"
   ],
   "id": "4d03f3d56a451997",
   "outputs": [],
   "execution_count": null
  },
  {
   "metadata": {},
   "cell_type": "markdown",
   "source": [
    "- Minute 51 is by far the most frequent minute of measurement (over 4000 entries).\n",
    "- All other minutes are rare or sporadic → probably exceptions, manual additions or other sources."
   ],
   "id": "4b7105fbcad38b02"
  },
  {
   "metadata": {},
   "cell_type": "code",
   "source": [
    "# Filter for rows measured at minute 51\n",
    "weather_51 = weather_data_raw[weather_data_raw['datetime_minute'] == 51].copy()\n",
    "\n",
    "# Count duplicated timestamps after filtering\n",
    "duplicate_timestamps = weather_51['datetime'].duplicated().sum()\n",
    "\n",
    "# Display all duplicated timestamp rows if any\n",
    "duplicated_rows = weather_51[weather_51['datetime'].duplicated(keep=False)]\n",
    "\n",
    "duplicate_timestamps, duplicated_rows.sort_values('datetime')"
   ],
   "id": "9000bb3f32a046d9",
   "outputs": [],
   "execution_count": null
  },
  {
   "metadata": {},
   "cell_type": "code",
   "source": [
    "# Aggregate to hourly level using mean for continuous values, max for binary flags\n",
    "weather_data_raw = (\n",
    "  weather_51.groupby('datetime_hour')\n",
    "  .agg({\n",
    "    'temp': 'mean',\n",
    "    'windspeed': 'mean',\n",
    "    'humidity': 'mean',\n",
    "    'precip': 'sum',\n",
    "    'pressure': 'mean',\n",
    "    'dailyprecip': 'first',  # same within a day\n",
    "    'dailysnow': 'first',\n",
    "    'fog': 'max',\n",
    "    'rain': 'max',\n",
    "    'snow': 'max',\n",
    "    'conditions': lambda x: x.mode().iloc[0] if not x.mode().empty else x.iloc[0]  # most frequent\n",
    "  })\n",
    "  .reset_index()\n",
    ")\n",
    "weather_data_raw"
   ],
   "id": "7ba1cdd816dd29d2",
   "outputs": [],
   "execution_count": null
  },
  {
   "metadata": {},
   "cell_type": "markdown",
   "source": [
    "\n",
    "- Exactly one timestamp is duplicated: 2016-03-13 00:51:00; Two different entries (Clear vs. Light\n",
    "Rain), probably two weather sources or measurements."
   ],
   "id": "636bc7cdab19f56b"
  },
  {
   "metadata": {},
   "cell_type": "code",
   "source": [
    "weather_data_raw['hour_of_day'] = weather_data_raw['datetime_hour'].dt.hour\n",
    "\n",
    "# Day of year and hour of year (for merging with weather)\n",
    "weather_data_raw['day_of_year'] = weather_data_raw['datetime_hour'].dt.dayofyear"
   ],
   "id": "11b6d77e453c92f3",
   "outputs": [],
   "execution_count": null
  },
  {
   "metadata": {},
   "cell_type": "code",
   "source": [
    "weather_data_raw['hour_of_year'] = ((weather_data_raw['day_of_year'] - 1) * 24 +\n",
    "                                 weather_data_raw['hour_of_day'])"
   ],
   "id": "78a564a3ac540a92",
   "outputs": [],
   "execution_count": null
  },
  {
   "metadata": {},
   "cell_type": "markdown",
   "source": "## EDA temp",
   "id": "acc4b5686bb6771"
  },
  {
   "metadata": {},
   "cell_type": "code",
   "source": [
    "weather_data_raw['temp_c'] = (weather_data_raw['temp'] - 32) * 5 / 9\n",
    "weather_data_raw['temp_c'].describe()"
   ],
   "id": "f5a18d7af9dc6b32",
   "outputs": [],
   "execution_count": null
  },
  {
   "metadata": {},
   "cell_type": "code",
   "source": [
    "plt.figure(figsize=(8, 4))\n",
    "weather_data_raw['temp_c'].plot.hist(bins=40, edgecolor='black')\n",
    "plt.title('Distribution of Temperature (°C)')\n",
    "plt.xlabel(\"Temperature [°C]\")\n",
    "plt.ylabel(\"Frequency\")\n",
    "plt.grid(True)\n",
    "plt.tight_layout()\n",
    "plt.show()"
   ],
   "id": "5f669d69fc758583",
   "outputs": [],
   "execution_count": null
  },
  {
   "metadata": {},
   "cell_type": "code",
   "source": [
    "plt.figure(figsize=(4, 6))\n",
    "plt.boxplot(weather_data_raw[\"temp_c\"].dropna())\n",
    "plt.title(\"Boxplot of temp_c\")\n",
    "plt.xlabel(\"temp_c\")\n",
    "plt.tight_layout()\n",
    "plt.show()"
   ],
   "id": "16de971d4452332f",
   "outputs": [],
   "execution_count": null
  },
  {
   "metadata": {},
   "cell_type": "markdown",
   "source": "## EDA Windspeed",
   "id": "9420e0475f358335"
  },
  {
   "metadata": {},
   "cell_type": "code",
   "source": [
    "weather_data_raw['windspeed_kph'] = weather_data_raw['windspeed'] * 1.60934\n",
    "weather_data_raw['windspeed_kph'].describe()"
   ],
   "id": "313f4851d25bb87",
   "outputs": [],
   "execution_count": null
  },
  {
   "metadata": {},
   "cell_type": "code",
   "source": "weather_data_raw['windspeed_kph'].isna().sum()",
   "id": "9b90e46ac0582443",
   "outputs": [],
   "execution_count": null
  },
  {
   "metadata": {},
   "cell_type": "code",
   "source": [
    "weather_data_before_imputation = weather_data_raw\n",
    "weather_data_raw.set_index('datetime_hour', inplace=True)\n",
    "weather_data_raw['windspeed_kph'] = weather_data_raw['windspeed_kph'].interpolate(method='time')\n",
    "weather_data_raw.reset_index(inplace=True)"
   ],
   "id": "364576f4505e29e8",
   "outputs": [],
   "execution_count": null
  },
  {
   "metadata": {},
   "cell_type": "code",
   "source": [
    "plt.figure(figsize=(12, 4))\n",
    "weather_data_raw['windspeed_kph'].plot(label='Imputiert', alpha=0.8)\n",
    "weather_data_raw['windspeed_kph'].where(weather_data_raw['windspeed_kph'].notna()).plot(style='o',\n",
    "                                                                                        label='Original (Nicht-NaN)',\n",
    "                                                                                        markersize=2)\n",
    "plt.title('Windspeed: Imputation sichtbar machen')\n",
    "plt.ylabel('km/h')\n",
    "plt.legend()\n",
    "plt.grid(True)\n",
    "plt.tight_layout()\n",
    "plt.show()"
   ],
   "id": "f3fb237232790e0b",
   "outputs": [],
   "execution_count": null
  },
  {
   "metadata": {},
   "cell_type": "code",
   "source": [
    "before = weather_data_before_imputation['windspeed_kph']\n",
    "after = weather_data_raw['windspeed_kph']\n",
    "\n",
    "print(\"mean before:\", before.mean())\n",
    "print(\"mean after:\", after.mean())\n",
    "print(\"std deviation before:\", before.std())\n",
    "print(\"std deviation after:\", after.std())"
   ],
   "id": "8ca1989721362604",
   "outputs": [],
   "execution_count": null
  },
  {
   "metadata": {},
   "cell_type": "code",
   "source": [
    "weather_data_raw['windspeed_kph'].plot(figsize=(12, 4),\n",
    "                                       title=\"Stündliche Windspeed nach Imputation\", grid=True)"
   ],
   "id": "ed7c2428635cb173",
   "outputs": [],
   "execution_count": null
  },
  {
   "metadata": {},
   "cell_type": "code",
   "source": "weather_data_raw['windspeed_kph'].isna().sum()",
   "id": "78cfadba218c0800",
   "outputs": [],
   "execution_count": null
  },
  {
   "metadata": {},
   "cell_type": "code",
   "source": [
    "plt.figure(figsize=(8, 4))\n",
    "weather_data_raw['windspeed_kph'].plot.hist(bins=40, edgecolor='black')\n",
    "plt.title(\"Distribution of Wind Speed (km/h)\")\n",
    "plt.xlabel(\"Wind Speed [km/h]\")\n",
    "plt.ylabel(\"Frequency\")\n",
    "plt.grid(True)\n",
    "plt.tight_layout()\n",
    "plt.show()"
   ],
   "id": "581539ce0007fc29",
   "outputs": [],
   "execution_count": null
  },
  {
   "metadata": {},
   "cell_type": "code",
   "source": [
    "plt.figure(figsize=(4, 6))\n",
    "plt.boxplot(weather_data_raw[\"windspeed_kph\"].dropna())\n",
    "plt.title(\"Boxplot of windspeed_kph\")\n",
    "plt.xlabel(\"windspeed_kph\")\n",
    "plt.tight_layout()\n",
    "plt.show()"
   ],
   "id": "174a8cff166c490f",
   "outputs": [],
   "execution_count": null
  },
  {
   "metadata": {},
   "cell_type": "markdown",
   "source": [
    "- Most values lie between 5 and 25 km/h, which is typical for city-level weather.\n",
    "- One extremely high value (137.12 km/h) may be an outlier.\n",
    "- The variable appears well-behaved and usable without further transformation."
   ],
   "id": "4838f32105f68db7"
  },
  {
   "metadata": {},
   "cell_type": "markdown",
   "source": "## EDA humidity",
   "id": "e9842f8b024132e8"
  },
  {
   "metadata": {},
   "cell_type": "code",
   "source": "weather_data_raw['humidity'].describe()",
   "id": "a5d042f8c31471a1",
   "outputs": [],
   "execution_count": null
  },
  {
   "metadata": {},
   "cell_type": "code",
   "source": [
    "plt.figure(figsize=(8, 4))\n",
    "weather_data_raw['humidity'].plot.hist(bins=40, edgecolor='black')\n",
    "plt.title(\"Distribution of Humidity (%)\")\n",
    "plt.xlabel(\"Humidity [%]\")\n",
    "plt.ylabel(\"Frequency\")\n",
    "plt.grid(True)\n",
    "plt.tight_layout()\n",
    "plt.show()"
   ],
   "id": "2d2594336bc6a716",
   "outputs": [],
   "execution_count": null
  },
  {
   "metadata": {},
   "cell_type": "code",
   "source": [
    "plt.figure(figsize=(4, 6))\n",
    "plt.boxplot(weather_data_raw[\"humidity\"].dropna())\n",
    "plt.title(\"Boxplot of humidity\")\n",
    "plt.xlabel(\"humidity\")\n",
    "plt.tight_layout()\n",
    "plt.show()"
   ],
   "id": "76774623a4a26a15",
   "outputs": [],
   "execution_count": null
  },
  {
   "metadata": {
    "ExecuteTime": {
     "end_time": "2025-06-01T21:29:42.389850Z",
     "start_time": "2025-06-01T21:29:42.323534Z"
    }
   },
   "cell_type": "markdown",
   "source": [
    "- Values range from 9% to 97%.\n",
    "- Most values lie between 40% and 70%.\n",
    "- No anomalies or unrealistic entries."
   ],
   "id": "335b0603369bafc2"
  },
  {
   "metadata": {
    "ExecuteTime": {
     "end_time": "2025-06-01T21:29:42.449965Z",
     "start_time": "2025-06-01T21:29:42.413216Z"
    }
   },
   "cell_type": "markdown",
   "source": "## EDA precip",
   "id": "146e95ca7fe8d363"
  },
  {
   "metadata": {},
   "cell_type": "code",
   "source": [
    "weather_data_raw['precip_mm'] = weather_data_raw['precip'] * 25.4\n",
    "weather_data_raw['precip_mm'].describe()"
   ],
   "id": "821eb056fd42bee5",
   "outputs": [],
   "execution_count": null
  },
  {
   "metadata": {},
   "cell_type": "code",
   "source": [
    "plt.figure(figsize=(8, 4))\n",
    "weather_data_raw['precip_mm'].plot.hist(bins=40, edgecolor='black')\n",
    "plt.title(\"Distribution of Hourly Precipitation (mm)\")\n",
    "plt.xlabel(\"Hourly Precipitation [mm]\")\n",
    "plt.ylabel(\"Frequency\")\n",
    "plt.grid(True)\n",
    "plt.tight_layout()\n",
    "plt.show()"
   ],
   "id": "76a49adc500794d0",
   "outputs": [],
   "execution_count": null
  },
  {
   "metadata": {},
   "cell_type": "code",
   "source": [
    "plt.figure(figsize=(4, 6))\n",
    "plt.boxplot(weather_data_raw[\"precip_mm\"].dropna())\n",
    "plt.title(\"Boxplot of precip_mm\")\n",
    "plt.xlabel(\"precip_mm\")\n",
    "plt.tight_layout()\n",
    "plt.show()"
   ],
   "id": "a7eb1f50281728e7",
   "outputs": [],
   "execution_count": null
  },
  {
   "metadata": {},
   "cell_type": "markdown",
   "source": [
    "Findings of the Exploration\n",
    "- Most values are 0.0 (dry hours).\n",
    "- Occasional rain events up to 18.5 mm.\n",
    "\n",
    "Required Arrangements\n",
    "- None. Consider binary flag creation (e.g. had_rain = precip_mm > 0)."
   ],
   "id": "311ea4b3d37a2ed6"
  },
  {
   "metadata": {
    "ExecuteTime": {
     "end_time": "2025-06-01T21:29:48.296262Z",
     "start_time": "2025-06-01T21:29:48.291146Z"
    }
   },
   "cell_type": "markdown",
   "source": "## EDA pressure",
   "id": "cca12a75211d339"
  },
  {
   "metadata": {},
   "cell_type": "code",
   "source": [
    "weather_data_raw['pressure_hPa'] = weather_data_raw['pressure'] * 33.8639\n",
    "weather_data_raw['pressure_hPa'].describe()"
   ],
   "id": "66528935abab6105",
   "outputs": [],
   "execution_count": null
  },
  {
   "metadata": {},
   "cell_type": "code",
   "source": "weather_data_raw['pressure_hPa'].isna().sum()",
   "id": "d63d98ea8c58fe5c",
   "outputs": [],
   "execution_count": null
  },
  {
   "metadata": {},
   "cell_type": "code",
   "source": [
    "weather_data_before_imputation = weather_data_raw\n",
    "weather_data_raw.set_index('datetime_hour', inplace=True)\n",
    "weather_data_raw['pressure_hPa'] = weather_data_raw['pressure_hPa'].interpolate(method='time')\n",
    "weather_data_raw.reset_index(inplace=True)"
   ],
   "id": "50038f179674be0f",
   "outputs": [],
   "execution_count": null
  },
  {
   "metadata": {},
   "cell_type": "code",
   "source": [
    "plt.figure(figsize=(12, 4))\n",
    "weather_data_raw['pressure_hPa'].plot(label='Imputiert', alpha=0.8)\n",
    "weather_data_raw['pressure_hPa'].where(weather_data_raw['pressure_hPa'].notna()).plot(style='o',\n",
    "                                                                                      label='Original (Nicht-NaN)',\n",
    "                                                                                      markersize=2)\n",
    "plt.title('pressure_hPa: Imputation sichtbar machen')\n",
    "plt.ylabel('hpa')\n",
    "plt.legend()\n",
    "plt.grid(True)\n",
    "plt.tight_layout()\n",
    "plt.show()"
   ],
   "id": "bb5659ef9e974f24",
   "outputs": [],
   "execution_count": null
  },
  {
   "metadata": {},
   "cell_type": "code",
   "source": [
    "before = weather_data_before_imputation['pressure_hPa']\n",
    "after = weather_data_raw['pressure_hPa']\n",
    "\n",
    "print(\"mean before:\", before.mean())\n",
    "print(\"mean after:\", after.mean())\n",
    "print(\"std deviation before:\", before.std())\n",
    "print(\"std deviation after:\", after.std())"
   ],
   "id": "1d514e57434540fd",
   "outputs": [],
   "execution_count": null
  },
  {
   "metadata": {},
   "cell_type": "code",
   "source": [
    "weather_data_raw['pressure_hPa'].plot(figsize=(12, 4),\n",
    "                                      title=\"Stündliche pressure_hPa nach Imputation\", grid=True)"
   ],
   "id": "917ce95a57515602",
   "outputs": [],
   "execution_count": null
  },
  {
   "metadata": {},
   "cell_type": "code",
   "source": "weather_data_raw['pressure_hPa'].isna().sum()",
   "id": "50bd22911809f875",
   "outputs": [],
   "execution_count": null
  },
  {
   "metadata": {},
   "cell_type": "code",
   "source": [
    "plt.figure(figsize=(8, 4))\n",
    "weather_data_raw['pressure_hPa'].plot.hist(bins=40, edgecolor='black')\n",
    "plt.title(\"Distribution of pressure_hPa\")\n",
    "plt.xlabel(\"pressure_hPa\")\n",
    "plt.ylabel(\"Frequency\")\n",
    "plt.grid(True)\n",
    "plt.tight_layout()\n",
    "plt.show()"
   ],
   "id": "e2c958ffbf65d010",
   "outputs": [],
   "execution_count": null
  },
  {
   "metadata": {},
   "cell_type": "code",
   "source": [
    "plt.figure(figsize=(4, 6))\n",
    "plt.boxplot(weather_data_raw[\"pressure_hPa\"].dropna())\n",
    "plt.title(\"Boxplot of pressure_hPa\")\n",
    "plt.xlabel(\"pressure_hPa\")\n",
    "plt.tight_layout()\n",
    "plt.show()"
   ],
   "id": "441294c384df5b3e",
   "outputs": [],
   "execution_count": null
  },
  {
   "metadata": {},
   "cell_type": "markdown",
   "source": "## EDA dailyrain",
   "id": "2fdb005ad3d2429a"
  },
  {
   "metadata": {},
   "cell_type": "code",
   "source": "weather_data_raw['dailyprecip'].value_counts()",
   "id": "d5c92cb8d2a51589",
   "outputs": [],
   "execution_count": null
  },
  {
   "metadata": {},
   "cell_type": "code",
   "source": [
    "# Ersetze 'T' durch einen minimalen Wert\n",
    "weather_data_raw['dailyprecip'] = weather_data_raw['dailyprecip'].replace('T', '0.001')"
   ],
   "id": "e945754063852e73",
   "outputs": [],
   "execution_count": null
  },
  {
   "metadata": {},
   "cell_type": "code",
   "source": "weather_data_raw['dailyprecip'] = weather_data_raw['dailyprecip'].astype(float)",
   "id": "c2f3a8871fc809f",
   "outputs": [],
   "execution_count": null
  },
  {
   "metadata": {},
   "cell_type": "code",
   "source": "weather_data_raw['precip_daily_mm'] = weather_data_raw['dailyprecip'] * 25.4",
   "id": "855fbacb2831becc",
   "outputs": [],
   "execution_count": null
  },
  {
   "metadata": {},
   "cell_type": "code",
   "source": "weather_data_raw['precip_daily_mm'].isna().sum()",
   "id": "c16302576f6c9be5",
   "outputs": [],
   "execution_count": null
  },
  {
   "metadata": {},
   "cell_type": "code",
   "source": "weather_data_raw['precip_daily_mm'].describe()",
   "id": "42815826e055cfe",
   "outputs": [],
   "execution_count": null
  },
  {
   "metadata": {},
   "cell_type": "code",
   "source": [
    "plt.figure(figsize=(8, 4))\n",
    "weather_data_raw['precip_daily_mm'].plot.hist(bins=40, edgecolor='black')\n",
    "plt.title(\"Distribution of precip_daily_mm\")\n",
    "plt.xlabel(\"precip_daily_mm\")\n",
    "plt.ylabel(\"Frequency\")\n",
    "plt.grid(True)\n",
    "plt.tight_layout()\n",
    "plt.show()"
   ],
   "id": "f4f40e253c7f9dd8",
   "outputs": [],
   "execution_count": null
  },
  {
   "metadata": {},
   "cell_type": "code",
   "source": [
    "plt.figure(figsize=(4, 6))\n",
    "plt.boxplot(weather_data_raw[\"precip_daily_mm\"].dropna())\n",
    "plt.title(\"Boxplot of precip_daily_mm\")\n",
    "plt.xlabel(\"precip_daily_mm\")\n",
    "plt.tight_layout()\n",
    "plt.show()"
   ],
   "id": "35641f23c021ce03",
   "outputs": [],
   "execution_count": null
  },
  {
   "metadata": {
    "ExecuteTime": {
     "end_time": "2025-06-01T21:25:29.744211Z",
     "start_time": "2025-06-01T21:25:29.738331Z"
    }
   },
   "cell_type": "markdown",
   "source": "- ...",
   "id": "f784031a26775a75"
  },
  {
   "metadata": {
    "ExecuteTime": {
     "end_time": "2025-06-01T21:25:32.356540Z",
     "start_time": "2025-06-01T21:25:32.275501Z"
    }
   },
   "cell_type": "markdown",
   "source": "## EDA dailysnow",
   "id": "99ee5920ed6ca1d8"
  },
  {
   "metadata": {},
   "cell_type": "code",
   "source": "weather_data_raw['dailysnow'].value_counts()",
   "id": "d8a11f07340ecb2b",
   "outputs": [],
   "execution_count": null
  },
  {
   "metadata": {},
   "cell_type": "code",
   "source": [
    "weather_data_raw['dailysnow'] = weather_data_raw['dailysnow'].replace('T', '0.001')\n",
    "weather_data_raw['dailysnow'] = weather_data_raw['dailysnow'].astype(float)"
   ],
   "id": "2ff0e8ec7f37849c",
   "outputs": [],
   "execution_count": null
  },
  {
   "metadata": {},
   "cell_type": "code",
   "source": [
    "weather_data_raw['daily_snow_mm'] = weather_data_raw['dailysnow'] * 25.4\n",
    "weather_data_raw['daily_snow_mm'].describe()"
   ],
   "id": "b653b9483ea85380",
   "outputs": [],
   "execution_count": null
  },
  {
   "metadata": {},
   "cell_type": "code",
   "source": "weather_data_raw['daily_snow_mm'].isna().sum()",
   "id": "2dc4dfb5d6876e50",
   "outputs": [],
   "execution_count": null
  },
  {
   "metadata": {},
   "cell_type": "code",
   "source": [
    "plt.figure(figsize=(8, 4))\n",
    "weather_data_raw['daily_snow_mm'].plot.hist(bins=40, edgecolor='black')\n",
    "plt.title(\"Distribution of daily_snow_mm\")\n",
    "plt.xlabel(\"daily_snow_mm\")\n",
    "plt.ylabel(\"Frequency\")\n",
    "plt.grid(True)\n",
    "plt.tight_layout()\n",
    "plt.show()"
   ],
   "id": "afb6b184c67e35f6",
   "outputs": [],
   "execution_count": null
  },
  {
   "metadata": {},
   "cell_type": "code",
   "source": [
    "plt.figure(figsize=(4, 6))\n",
    "plt.boxplot(weather_data_raw[\"daily_snow_mm\"].dropna())\n",
    "plt.title(\"Boxplot of daily_snow_mm\")\n",
    "plt.xlabel(\"daily_snow_mm\")\n",
    "plt.tight_layout()\n",
    "plt.show()"
   ],
   "id": "e1069ec4ce3e0efc",
   "outputs": [],
   "execution_count": null
  },
  {
   "metadata": {},
   "cell_type": "markdown",
   "source": "EDA fog, rain, snow",
   "id": "f2aff15efc521214"
  },
  {
   "metadata": {},
   "cell_type": "code",
   "source": "weather_data_raw['fog'].value_counts()",
   "id": "f24d4f03942ee750",
   "outputs": [],
   "execution_count": null
  },
  {
   "metadata": {},
   "cell_type": "code",
   "source": "weather_data_raw['rain'].value_counts()",
   "id": "79d2175bf0697566",
   "outputs": [],
   "execution_count": null
  },
  {
   "metadata": {},
   "cell_type": "code",
   "source": "weather_data_raw['snow'].value_counts()",
   "id": "5398cb495eb4b022",
   "outputs": [],
   "execution_count": null
  },
  {
   "metadata": {},
   "cell_type": "markdown",
   "source": "## EDA Conditions",
   "id": "c1dd95b3aea36951"
  },
  {
   "metadata": {},
   "cell_type": "code",
   "source": [
    "condition_counts = weather_data_raw['conditions'].value_counts()\n",
    "\n",
    "plt.figure(figsize=(10, 4))\n",
    "condition_counts.plot(kind='bar')\n",
    "plt.title(\"Distribution of Weather Conditions\")\n",
    "plt.xlabel(\"Condition\")\n",
    "plt.ylabel(\"Frequency\")\n",
    "plt.xticks(rotation=45, ha='right')\n",
    "plt.grid(True)\n",
    "plt.tight_layout()\n",
    "plt.show()"
   ],
   "id": "a4282801c307e45f",
   "outputs": [],
   "execution_count": null
  },
  {
   "metadata": {},
   "cell_type": "markdown",
   "source": [
    "- Most common condition is Clear (2215 times), followed by Overcast (1000).\n",
    "- Some conditions occur only a few times, e.g., Heavy Snow, Light Freezing Fog.\n",
    "- Unknown appears 83 times and may indicate missing or invalid sensor data."
   ],
   "id": "9dcaf45703a520f"
  },
  {
   "metadata": {},
   "cell_type": "markdown",
   "source": "# Classify / EDA  Weather Conditions",
   "id": "395a4a5282e906ad"
  },
  {
   "metadata": {},
   "cell_type": "markdown",
   "source": "## Classify / EDA –  rain intensity",
   "id": "bfe45e7a5f6bfa03"
  },
  {
   "metadata": {},
   "cell_type": "code",
   "outputs": [],
   "execution_count": null,
   "source": [
    "EXTREME_RAIN = 'extreme_rain'\n",
    "VERY_HEAVY_RAIN = 'very_heavy_rain'\n",
    "LIGHT_RAIN = 'light_rain'\n",
    "MODERATE_RAIN = 'moderate_rain'\n",
    "HEAVY_RAIN = 'heavy_rain'\n",
    "NO_RAIN = 'no_rain'\n",
    "NUMBER_OF_HOURS = 'number_of_hours'"
   ],
   "id": "d722b55d3c54d7e3"
  },
  {
   "metadata": {},
   "cell_type": "code",
   "source": [
    "# 1. Human-readable rain classification\n",
    "def classify_rain_label(x):\n",
    "  if x >= 30:\n",
    "    return EXTREME_RAIN\n",
    "  elif x >= 15:\n",
    "    return VERY_HEAVY_RAIN\n",
    "  elif x >= 7.5:\n",
    "    return HEAVY_RAIN\n",
    "  elif x >= 2.5:\n",
    "    return MODERATE_RAIN\n",
    "  elif x > 0:\n",
    "    return LIGHT_RAIN\n",
    "  else:\n",
    "    return NO_RAIN\n",
    "\n",
    "\n",
    "weather_data_raw['rain_class'] = weather_data_raw['precip_mm'].apply(classify_rain_label)"
   ],
   "id": "56db846489ab3892",
   "outputs": [],
   "execution_count": null
  },
  {
   "metadata": {},
   "cell_type": "code",
   "source": [
    "\n",
    "# 2. Ordinal encoding for machine learning\n",
    "rain_mapping = {\n",
    "  NO_RAIN: 0,\n",
    "  LIGHT_RAIN: 1,\n",
    "  MODERATE_RAIN: 2,\n",
    "  HEAVY_RAIN: 3,\n",
    "  VERY_HEAVY_RAIN: 4,\n",
    "  EXTREME_RAIN: 5\n",
    "}\n",
    "\n",
    "weather_data_raw['rain_code'] = weather_data_raw['rain_class'].map(rain_mapping)"
   ],
   "id": "9040fba8def36e55",
   "outputs": [],
   "execution_count": null
  },
  {
   "metadata": {},
   "cell_type": "code",
   "source": [
    "rain_counts = weather_data_raw['rain_class'].value_counts().reindex([\n",
    "  NO_RAIN, LIGHT_RAIN, MODERATE_RAIN, HEAVY_RAIN, VERY_HEAVY_RAIN, EXTREME_RAIN\n",
    "])\n",
    "\n",
    "rain_counts.plot(kind='bar', edgecolor='black', figsize=(8, 4))\n",
    "plt.title(\"Frequency of Rain Intensity Classes\")\n",
    "plt.xlabel(\"Rain Class\")\n",
    "plt.ylabel(NUMBER_OF_HOURS)\n",
    "plt.grid(True)\n",
    "plt.tight_layout()\n",
    "plt.show()"
   ],
   "id": "9cd115beeb215556",
   "outputs": [],
   "execution_count": null
  },
  {
   "metadata": {},
   "cell_type": "code",
   "source": [
    "rain_time_series = weather_data_raw.set_index('datetime_hour')['rain_code']\n",
    "\n",
    "plt.figure(figsize=(12, 4))\n",
    "rain_time_series.plot(drawstyle='steps-post')\n",
    "plt.title(\"Rain Intensity Over Time\")\n",
    "plt.ylabel(\"Rain Class Code\")\n",
    "plt.grid(True)\n",
    "plt.tight_layout()\n",
    "plt.show()"
   ],
   "id": "522ebf7f0ee15ce8",
   "outputs": [],
   "execution_count": null
  },
  {
   "metadata": {},
   "cell_type": "code",
   "source": [
    "plt.figure(figsize=(8, 4))\n",
    "sns.boxplot(data=weather_data_raw, x='rain_class', y='humidity')\n",
    "plt.title(\"Humidity Distribution by Rain Class\")\n",
    "plt.xlabel(\"Rain Class\")\n",
    "plt.ylabel(\"Humidity (%)\")\n",
    "plt.xticks(rotation=45)\n",
    "plt.grid(True)\n",
    "plt.tight_layout()\n",
    "plt.show()"
   ],
   "id": "9bfee09592e77d7e",
   "outputs": [],
   "execution_count": null
  },
  {
   "metadata": {},
   "cell_type": "markdown",
   "source": "## Classify / EDA – snow intensity",
   "id": "1fd6d6dc2401b0c"
  },
  {
   "metadata": {},
   "cell_type": "code",
   "outputs": [],
   "execution_count": null,
   "source": [
    "LIGHT_SNOW = 'light_snow'\n",
    "HEAVY_SNOW = 'heavy_snow'\n",
    "NO_SNOW = 'no_snow'"
   ],
   "id": "f43af3f6bbf78c9d"
  },
  {
   "metadata": {},
   "cell_type": "code",
   "source": [
    "# 1. Human-readable snow classification based on conditions\n",
    "def classify_snow_label(x):\n",
    "  if x == \"Light Snow\":\n",
    "    return LIGHT_SNOW\n",
    "  elif x == \"Snow\":\n",
    "    return \"snow\"\n",
    "  elif x == \"Heavy Snow\":\n",
    "    return HEAVY_SNOW\n",
    "  else:\n",
    "    return NO_SNOW\n",
    "\n",
    "\n",
    "weather_data_raw['snow_class'] = weather_data_raw['conditions'].apply(classify_snow_label)"
   ],
   "id": "ae68ef7856205f57",
   "outputs": [],
   "execution_count": null
  },
  {
   "metadata": {},
   "cell_type": "code",
   "source": [
    "# 2. Ordinal encoding for ML\n",
    "snow_mapping = {\n",
    "  NO_SNOW: 0,\n",
    "  LIGHT_SNOW: 1,\n",
    "  \"snow\": 2,\n",
    "  HEAVY_SNOW: 3\n",
    "}\n",
    "\n",
    "weather_data_raw['snow_code'] = weather_data_raw['snow_class'].map(snow_mapping)"
   ],
   "id": "bb149178258ee440",
   "outputs": [],
   "execution_count": null
  },
  {
   "metadata": {},
   "cell_type": "code",
   "source": [
    "weather_data_raw['snow_class'].value_counts().reindex([\n",
    "  NO_SNOW, LIGHT_SNOW, \"snow\", HEAVY_SNOW\n",
    "]).plot(kind='bar', edgecolor='black')\n",
    "plt.title(\"Frequency of Snow Intensity Classes\")\n",
    "plt.xlabel(\"Snow Class\")\n",
    "plt.ylabel(NUMBER_OF_HOURS)\n",
    "plt.grid(True)\n",
    "plt.tight_layout()\n",
    "plt.show()"
   ],
   "id": "9d33d04b3815159c",
   "outputs": [],
   "execution_count": null
  },
  {
   "metadata": {},
   "cell_type": "code",
   "source": [
    "# Time series: Snow Class Code\n",
    "plt.figure(figsize=(12, 4))\n",
    "weather_data_raw.set_index('datetime_hour')['snow_code'].plot(drawstyle='steps-post')\n",
    "plt.title(\"Snow Intensity Over Time\")\n",
    "plt.ylabel(\"Snow Class Code\")\n",
    "plt.grid(True)\n",
    "plt.tight_layout()\n",
    "plt.show()"
   ],
   "id": "91b41cbdac8f7f6f",
   "outputs": [],
   "execution_count": null
  },
  {
   "metadata": {},
   "cell_type": "markdown",
   "source": "## Classify / EDA –  cloud intensity",
   "id": "43db527ba9180112"
  },
  {
   "metadata": {},
   "cell_type": "code",
   "outputs": [],
   "execution_count": null,
   "source": [
    "SCATTERED_CLOUDS = 'scattered_clouds'\n",
    "MOSTLY_CLOUDY = 'mostly_cloudy'\n",
    "PARTLY_CLOUDY = 'partly_cloudy'"
   ],
   "id": "89f1ec5ae9a249aa"
  },
  {
   "metadata": {},
   "cell_type": "code",
   "source": [
    "# 1. Human-readable cloud classification based on conditions\n",
    "def classify_cloud_label(x):\n",
    "  if x == \"Clear\":\n",
    "    return \"clear\"  # 0–10%\n",
    "  elif x == \"Scattered Clouds\":\n",
    "    return SCATTERED_CLOUDS  # ~25–50%\n",
    "  elif x == \"Partly Cloudy\":\n",
    "    return PARTLY_CLOUDY  # ~20–60%\n",
    "  elif x == \"Mostly Cloudy\":\n",
    "    return MOSTLY_CLOUDY  # ~60–90%\n",
    "  elif x == \"Overcast\":\n",
    "    return \"overcast\"  # >90%\n",
    "  else:\n",
    "    return \"unknown\"\n",
    "\n",
    "\n",
    "weather_data_raw['cloud_class'] = weather_data_raw['conditions'].apply(classify_cloud_label)"
   ],
   "id": "bec1889b5f8c9b7c",
   "outputs": [],
   "execution_count": null
  },
  {
   "metadata": {},
   "cell_type": "code",
   "source": [
    "\n",
    "# 2. Ordinal encoding for ML\n",
    "cloud_mapping = {\n",
    "  \"unknown\": 0,\n",
    "  \"clear\": 1,\n",
    "  SCATTERED_CLOUDS: 2,\n",
    "  PARTLY_CLOUDY: 3,\n",
    "  MOSTLY_CLOUDY: 4,\n",
    "  \"overcast\": 5\n",
    "}\n",
    "\n",
    "weather_data_raw['cloud_code'] = weather_data_raw['cloud_class'].map(cloud_mapping)"
   ],
   "id": "be52e4e813d71ed5",
   "outputs": [],
   "execution_count": null
  },
  {
   "metadata": {},
   "cell_type": "code",
   "source": [
    "# Bar plot: Frequency of Cloud Classes\n",
    "cloud_counts = weather_data_raw['cloud_class'].value_counts().reindex([\n",
    "  \"clear\", SCATTERED_CLOUDS, PARTLY_CLOUDY, MOSTLY_CLOUDY, \"overcast\", \"unknown\"\n",
    "])\n",
    "cloud_counts.plot(kind='bar', edgecolor='black', figsize=(8, 4))\n",
    "plt.title(\"Frequency of Cloud Intensity Classes\")\n",
    "plt.xlabel(\"Cloud Class\")\n",
    "plt.ylabel(NUMBER_OF_HOURS)\n",
    "plt.grid(True)\n",
    "plt.tight_layout()\n",
    "plt.show()"
   ],
   "id": "df27e8075e717c60",
   "outputs": [],
   "execution_count": null
  },
  {
   "metadata": {},
   "cell_type": "code",
   "source": [
    "# Time series: Cloud Class Code\n",
    "plt.figure(figsize=(12, 4))\n",
    "weather_data_raw.set_index('datetime_hour')['cloud_code'].plot(drawstyle='steps-post')\n",
    "plt.title(\"Cloud Intensity Over Time\")\n",
    "plt.ylabel(\"Cloud Class Code\")\n",
    "plt.grid(True)\n",
    "plt.tight_layout()\n",
    "plt.show()"
   ],
   "id": "37dfe2cc83677ef4",
   "outputs": [],
   "execution_count": null
  },
  {
   "metadata": {},
   "cell_type": "code",
   "source": [
    "sns.boxplot(data=weather_data_raw, x='cloud_class', y='humidity')\n",
    "plt.title(\"Humidity by Cloud Class\")"
   ],
   "id": "faa33c63ee171f34",
   "outputs": [],
   "execution_count": null
  },
  {
   "metadata": {},
   "cell_type": "markdown",
   "source": "## Classify / EDA –  haze intensity",
   "id": "f2c03352145958c9"
  },
  {
   "metadata": {},
   "cell_type": "code",
   "outputs": [],
   "execution_count": null,
   "source": "NO_HAZE = 'no_haze'",
   "id": "1c20770804ba22a8"
  },
  {
   "metadata": {},
   "cell_type": "code",
   "source": [
    "# 1. Human-readable haze classification\n",
    "def classify_haze_label(x):\n",
    "  return \"haze\" if x == \"Haze\" else NO_HAZE\n",
    "\n",
    "\n",
    "weather_data_raw['hazy_class'] = weather_data_raw['conditions'].apply(classify_haze_label)"
   ],
   "id": "f73a8375834d318d",
   "outputs": [],
   "execution_count": null
  },
  {
   "metadata": {},
   "cell_type": "code",
   "source": [
    "\n",
    "# 2. Binary encoding for ML\n",
    "haze_mapping = {\n",
    "  NO_HAZE: 0,\n",
    "  \"haze\": 1\n",
    "}\n",
    "\n",
    "weather_data_raw['hazy_code'] = weather_data_raw['hazy_class'].map(haze_mapping)"
   ],
   "id": "18c8f3f022649703",
   "outputs": [],
   "execution_count": null
  },
  {
   "metadata": {},
   "cell_type": "code",
   "source": [
    "# Bar plot: Frequency of Haze\n",
    "hazy_counts = weather_data_raw['hazy_class'].value_counts().reindex([NO_HAZE, \"haze\"])\n",
    "hazy_counts.plot(kind='bar', edgecolor='black', figsize=(6, 4))\n",
    "plt.title(\"Frequency of Haze\")\n",
    "plt.xlabel(\"Hazy Class\")\n",
    "plt.ylabel(NUMBER_OF_HOURS)\n",
    "plt.grid(True)\n",
    "plt.tight_layout()\n",
    "plt.show()"
   ],
   "id": "ad3f376b4dff47ad",
   "outputs": [],
   "execution_count": null
  },
  {
   "metadata": {},
   "cell_type": "code",
   "source": [
    "# Time series: Hazy Class Code\n",
    "plt.figure(figsize=(12, 4))\n",
    "weather_data_raw.set_index('datetime_hour')['hazy_code'].plot(drawstyle='steps-post')\n",
    "plt.title(\"Haze Intensity Over Time\")\n",
    "plt.ylabel(\"Hazy Class Code\")\n",
    "plt.grid(True)\n",
    "plt.tight_layout()\n",
    "plt.show()"
   ],
   "id": "f016267dda573987",
   "outputs": [],
   "execution_count": null
  },
  {
   "metadata": {},
   "cell_type": "markdown",
   "source": "## Classify / EDA –  freezing fog or rain",
   "id": "1c789f7a022364bf"
  },
  {
   "metadata": {},
   "cell_type": "code",
   "outputs": [],
   "execution_count": null,
   "source": [
    "LIGHT_FREEZING_FOG = 'light_freezing_fog'\n",
    "LIGHT_FREEZING_RAIN = 'light_freezing_rain'"
   ],
   "id": "2e6fcb9a70c833f7"
  },
  {
   "metadata": {},
   "cell_type": "code",
   "source": [
    "# 1. Human-readable freezing condition classification\n",
    "def classify_freezing_label(x):\n",
    "  if x == \"Light Freezing Fog\":\n",
    "    return LIGHT_FREEZING_FOG\n",
    "  elif x == \"Light Freezing Rain\":\n",
    "    return LIGHT_FREEZING_RAIN\n",
    "  else:\n",
    "    return \"none\"\n",
    "\n",
    "\n",
    "weather_data_raw['freezing_class'] = weather_data_raw['conditions'].apply(classify_freezing_label)"
   ],
   "id": "c3b9203a48ff4387",
   "outputs": [],
   "execution_count": null
  },
  {
   "metadata": {},
   "cell_type": "code",
   "source": [
    "\n",
    "\n",
    "# 2. Ordinal encoding for ML\n",
    "freezing_mapping = {\n",
    "  \"none\": 0,\n",
    "  LIGHT_FREEZING_RAIN: 1,\n",
    "  LIGHT_FREEZING_FOG: 2\n",
    "}\n",
    "\n",
    "weather_data_raw['freezing_code'] = weather_data_raw['freezing_class'].map(freezing_mapping)"
   ],
   "id": "792f80cc013f93e7",
   "outputs": [],
   "execution_count": null
  },
  {
   "metadata": {},
   "cell_type": "code",
   "source": [
    "# Bar plot: Frequency of Freezing Classes\n",
    "freezing_counts = weather_data_raw['freezing_class'].value_counts().reindex([\n",
    "  \"none\", LIGHT_FREEZING_RAIN, LIGHT_FREEZING_FOG\n",
    "])\n",
    "freezing_counts.plot(kind='bar', edgecolor='black', figsize=(8, 4))\n",
    "plt.title(\"Frequency of Freezing Fog or Rain\")\n",
    "plt.xlabel(\"Freezing Class\")\n",
    "plt.ylabel(NUMBER_OF_HOURS)\n",
    "plt.grid(True)\n",
    "plt.tight_layout()\n",
    "plt.show()"
   ],
   "id": "f003cd28386a7026",
   "outputs": [],
   "execution_count": null
  },
  {
   "metadata": {},
   "cell_type": "code",
   "source": [
    "# Time series: Freezing Class Code\n",
    "plt.figure(figsize=(12, 4))\n",
    "weather_data_raw.set_index('datetime_hour')['freezing_code'].plot(drawstyle='steps-post')\n",
    "plt.title(\"Freezing Fog or Rain Intensity Over Time\")\n",
    "plt.ylabel(\"Freezing Class Code\")\n",
    "plt.grid(True)\n",
    "plt.tight_layout()\n",
    "plt.show()"
   ],
   "id": "ade2a7c4c19391cd",
   "outputs": [],
   "execution_count": null
  },
  {
   "metadata": {},
   "cell_type": "markdown",
   "source": "## Classify / EDA –  fog",
   "id": "61bc3255430bdc93"
  },
  {
   "metadata": {},
   "cell_type": "code",
   "outputs": [],
   "execution_count": null,
   "source": [
    "# Define fog labels as constants\n",
    "FOG_LABEL = \"fog\"\n",
    "NO_FOG_LABEL = \"no_fog\""
   ],
   "id": "a0ab4b08d396b737"
  },
  {
   "metadata": {},
   "cell_type": "code",
   "source": [
    "# 1. Human-readable fog classification\n",
    "def classify_fog_label(x):\n",
    "  return FOG_LABEL if x == 1 else NO_FOG_LABEL\n",
    "\n",
    "\n",
    "weather_data_raw['fog_class'] = weather_data_raw[FOG_LABEL].apply(classify_fog_label)"
   ],
   "id": "17f5fd2fdee4b7bd",
   "outputs": [],
   "execution_count": null
  },
  {
   "metadata": {},
   "cell_type": "code",
   "source": [
    "# 2. Binary encoding for ML\n",
    "fog_mapping = {\n",
    "  \"no fog\": 0,\n",
    "  \"fog\": 1\n",
    "}\n",
    "\n",
    "weather_data_raw['fog_code'] = weather_data_raw['fog_class'].map(fog_mapping)"
   ],
   "id": "810e49c0f0cb4f29",
   "outputs": [],
   "execution_count": null
  },
  {
   "metadata": {},
   "cell_type": "code",
   "source": [
    "# Bar plot: Frequency of Fog Classes\n",
    "fog_counts = weather_data_raw['fog_class'].value_counts().reindex([\"no fog\", \"fog\"])\n",
    "fog_counts.plot(kind='bar', edgecolor='black', figsize=(6, 4))\n",
    "plt.title(\"Frequency of Fog Classes\")\n",
    "plt.xlabel(\"Fog Class\")\n",
    "plt.ylabel(NUMBER_OF_HOURS)\n",
    "plt.grid(True)\n",
    "plt.tight_layout()\n",
    "plt.show()"
   ],
   "id": "3e0e1ea5970e2d84",
   "outputs": [],
   "execution_count": null
  },
  {
   "metadata": {},
   "cell_type": "code",
   "source": [
    "# Time series: Fog Class Code\n",
    "plt.figure(figsize=(12, 4))\n",
    "weather_data_raw.set_index('datetime_hour')['fog_code'].plot(drawstyle='steps-post')\n",
    "plt.title(\"Fog Intensity Over Time\")\n",
    "plt.ylabel(\"Fog Class Code\")\n",
    "plt.grid(True)\n",
    "plt.tight_layout()\n",
    "plt.show()"
   ],
   "id": "e8b01c0fcf47cd",
   "outputs": [],
   "execution_count": null
  },
  {
   "metadata": {},
   "cell_type": "markdown",
   "source": "## Classify / EDA –  temp itensity",
   "id": "82b54aeeebe94ec9"
  },
  {
   "metadata": {},
   "cell_type": "code",
   "outputs": [],
   "execution_count": null,
   "source": [
    "TEMPERATURE_CLASS ='Temperature_Class'\n",
    "VERY_COLD = 'very_cold'"
   ],
   "id": "811899d67b795eed"
  },
  {
   "metadata": {},
   "cell_type": "code",
   "source": [
    "# 1. Human-readable temperature classification\n",
    "def classify_temp_label(t):\n",
    "  if t < -5:\n",
    "    return VERY_COLD\n",
    "  elif t < 5:\n",
    "    return \"cold\"\n",
    "  elif t < 15:\n",
    "    return \"cool\"\n",
    "  elif t < 20:\n",
    "    return \"mild\"\n",
    "  elif t < 25:\n",
    "    return \"warm\"\n",
    "  else:\n",
    "    return \"hot\"\n",
    "\n",
    "\n",
    "weather_data_raw['temp_class'] = weather_data_raw['temp_c'].apply(classify_temp_label)"
   ],
   "id": "da3d4e868b3d235b",
   "outputs": [],
   "execution_count": null
  },
  {
   "metadata": {},
   "cell_type": "code",
   "source": [
    "\n",
    "\n",
    "# 2. Ordinal encoding for ML\n",
    "temp_mapping = {\n",
    "  VERY_COLD: 0,\n",
    "  \"cold\": 1,\n",
    "  \"cool\": 2,\n",
    "  \"mild\": 3,\n",
    "  \"warm\": 4,\n",
    "  \"hot\": 5\n",
    "}\n",
    "\n",
    "weather_data_raw['temp_code'] = weather_data_raw['temp_class'].map(temp_mapping)"
   ],
   "id": "2323ae86b6ec8eee",
   "outputs": [],
   "execution_count": null
  },
  {
   "metadata": {},
   "cell_type": "code",
   "source": [
    "# Bar plot: Frequency of Temperature Classes\n",
    "temp_counts = weather_data_raw['temp_class'].value_counts().reindex([\n",
    "  VERY_COLD, \"cold\", \"cool\", \"mild\", \"warm\", \"hot\"\n",
    "])\n",
    "\n",
    "temp_counts.plot(kind='bar', edgecolor='black', figsize=(8, 4))\n",
    "plt.title(\"Frequency of Temperature Classes\")\n",
    "plt.xlabel(TEMPERATURE_CLASS)\n",
    "plt.ylabel(NUMBER_OF_HOURS)\n",
    "plt.grid(True)\n",
    "plt.tight_layout()\n",
    "plt.show()"
   ],
   "id": "a75d37c404ec2c6e",
   "outputs": [],
   "execution_count": null
  },
  {
   "metadata": {},
   "cell_type": "code",
   "source": [
    "\n",
    "# Boxplot: Windspeed by Temperature Class\n",
    "sns.boxplot(data=weather_data_raw, x='temp_class', y='windspeed_kph')\n",
    "plt.title(\"Windspeed by Temperature Class\")\n",
    "plt.xlabel(TEMPERATURE_CLASS)\n",
    "plt.ylabel(\"Windspeed (km/h)\")\n",
    "plt.grid(True)\n",
    "plt.tight_layout()\n",
    "plt.show()"
   ],
   "id": "ed6a4f52375d50eb",
   "outputs": [],
   "execution_count": null
  },
  {
   "metadata": {},
   "cell_type": "code",
   "source": [
    "\n",
    "# Boxplot: Pressure by Temperature Class\n",
    "sns.boxplot(data=weather_data_raw, x='temp_class', y='pressure_hPa')\n",
    "plt.title(\"Pressure by Temperature Class\")\n",
    "plt.xlabel(TEMPERATURE_CLASS)\n",
    "plt.ylabel(\"Pressure (hPa)\")\n",
    "plt.grid(True)\n",
    "plt.tight_layout()\n",
    "plt.show()"
   ],
   "id": "b6de9a56f6ee201d",
   "outputs": [],
   "execution_count": null
  },
  {
   "metadata": {},
   "cell_type": "code",
   "source": [
    "\n",
    "# Time series: Temperature Class Code over Time\n",
    "plt.figure(figsize=(12, 4))\n",
    "weather_data_raw.set_index('datetime_hour')['temp_code'].plot(drawstyle='steps-post')\n",
    "plt.title(\"Temperature Intensity Over Time\")\n",
    "plt.ylabel(\"Temperature Class Code\")\n",
    "plt.grid(True)\n",
    "plt.tight_layout()\n",
    "plt.show()"
   ],
   "id": "cbe8fb5de097ca7b",
   "outputs": [],
   "execution_count": null
  },
  {
   "metadata": {},
   "cell_type": "markdown",
   "source": "## Classify / EDA –  windspeed itensity",
   "id": "ebf24481f38dde65"
  },
  {
   "metadata": {},
   "cell_type": "code",
   "outputs": [],
   "execution_count": null,
   "source": [
    "WINDSPEED_CLASS = 'Windspeed_Class'\n",
    "LIGHT_AIR = 'light_air'\n",
    "LIGHT_BREEZE = 'light_breeze'\n",
    "MODERATE_BREEZE = 'moderate_breeze'\n",
    "STRONG_BREEZE = 'strong_breeze'"
   ],
   "id": "b3ba8112d03395e4"
  },
  {
   "metadata": {},
   "cell_type": "code",
   "source": [
    "# 1. Human-readable windspeed classification (Beaufort-based)\n",
    "def classify_wind_label(speed):\n",
    "  if speed < 1:\n",
    "    return \"calm\"\n",
    "  elif speed < 12:\n",
    "    return LIGHT_AIR\n",
    "  elif speed < 29:\n",
    "    return LIGHT_BREEZE\n",
    "  elif speed < 50:\n",
    "    return MODERATE_BREEZE\n",
    "  elif speed < 75:\n",
    "    return STRONG_BREEZE\n",
    "  else:\n",
    "    return \"stormy\"\n",
    "\n",
    "\n",
    "weather_data_raw['windspeed_class'] = weather_data_raw['windspeed_kph'].apply(classify_wind_label)"
   ],
   "id": "bc70fcfcc8a35200",
   "outputs": [],
   "execution_count": null
  },
  {
   "metadata": {},
   "cell_type": "code",
   "source": [
    "# 2. Ordinal encoding for ML\n",
    "windspeed_mapping = {\n",
    "  \"calm\": 0,\n",
    "  LIGHT_AIR: 1,\n",
    "  LIGHT_BREEZE: 2,\n",
    "  MODERATE_BREEZE: 3,\n",
    "  STRONG_BREEZE: 4,\n",
    "  \"stormy\": 5\n",
    "}\n",
    "\n",
    "weather_data_raw['windspeed_code'] = weather_data_raw['windspeed_class'].map(\n",
    "    windspeed_mapping)"
   ],
   "id": "a716c1f5d201077e",
   "outputs": [],
   "execution_count": null
  },
  {
   "metadata": {},
   "cell_type": "code",
   "source": [
    "# Bar plot: Frequency of Windspeed Classes\n",
    "windspeed_counts = weather_data_raw['windspeed_class'].value_counts().reindex([\n",
    "  \"calm\", LIGHT_AIR, LIGHT_BREEZE, MODERATE_BREEZE, STRONG_BREEZE, \"stormy\"\n",
    "])\n",
    "\n",
    "windspeed_counts.plot(kind='bar', edgecolor='black', figsize=(8, 4))\n",
    "plt.title(\"Frequency of Windspeed Classes\")\n",
    "plt.xlabel(WINDSPEED_CLASS)\n",
    "plt.ylabel(NUMBER_OF_HOURS)\n",
    "plt.grid(True)\n",
    "plt.tight_layout()\n",
    "plt.show()"
   ],
   "id": "af3e21da8e6cae8c",
   "outputs": [],
   "execution_count": null
  },
  {
   "metadata": {},
   "cell_type": "code",
   "outputs": [],
   "execution_count": null,
   "source": "TEMPERATURE_C = \"Temperature (°C)\"",
   "id": "b31aa73288d5d0f4"
  },
  {
   "metadata": {},
   "cell_type": "code",
   "source": [
    "# Boxplot: Temperature by Windspeed Class\n",
    "sns.boxplot(data=weather_data_raw, x='windspeed_class', y='temp_c')\n",
    "plt.title(\"Temperature by Windspeed Class\")\n",
    "plt.xlabel(WINDSPEED_CLASS)\n",
    "plt.ylabel(TEMPERATURE_C)\n",
    "plt.grid(True)\n",
    "plt.tight_layout()\n",
    "plt.show()"
   ],
   "id": "2a7b8339bf8cb074",
   "outputs": [],
   "execution_count": null
  },
  {
   "metadata": {},
   "cell_type": "code",
   "source": [
    "# Boxplot: Pressure by Windspeed Class\n",
    "sns.boxplot(data=weather_data_raw, x='windspeed_class', y='pressure_hPa')\n",
    "plt.title(\"Pressure by Windspeed Class\")\n",
    "plt.xlabel(WINDSPEED_CLASS)\n",
    "plt.ylabel(\"Pressure (hPa)\")\n",
    "plt.grid(True)\n",
    "plt.tight_layout()\n",
    "plt.show()"
   ],
   "id": "b70d4adb4db0ec2f",
   "outputs": [],
   "execution_count": null
  },
  {
   "metadata": {},
   "cell_type": "code",
   "source": [
    "# Time series: Windspeed Class Code over Time\n",
    "plt.figure(figsize=(12, 4))\n",
    "weather_data_raw.set_index('datetime_hour')['windspeed_code'].plot(drawstyle='steps-post')\n",
    "plt.title(\"Windspeed Intensity Over Time\")\n",
    "plt.ylabel(\"Windspeed Class Code\")\n",
    "plt.grid(True)\n",
    "plt.tight_layout()\n",
    "plt.show()"
   ],
   "id": "19e7353d553af0e4",
   "outputs": [],
   "execution_count": null
  },
  {
   "metadata": {},
   "cell_type": "markdown",
   "source": "## Classify / EDA –  humidity itensity",
   "id": "9780da48d029982e"
  },
  {
   "metadata": {},
   "cell_type": "code",
   "source": [
    "def classify_humidity(h):\n",
    "  if h <= 30:\n",
    "    return 'very_dry'\n",
    "  elif h <= 50:\n",
    "    return 'dry'\n",
    "  elif h <= 70:\n",
    "    return 'normal'\n",
    "  elif h <= 85:\n",
    "    return 'wet'\n",
    "  else:\n",
    "    return 'very_wet'\n",
    "\n",
    "\n",
    "weather_data_raw['humidity_class'] = weather_data_raw['humidity'].apply(classify_humidity)"
   ],
   "id": "bf77b2b692f553f2",
   "outputs": [],
   "execution_count": null
  },
  {
   "metadata": {},
   "cell_type": "code",
   "source": [
    "humidity_mapping = {\n",
    "  'very_dry': 0,\n",
    "  'dry': 1,\n",
    "  'normal': 2,\n",
    "  'wet': 3,\n",
    "  'very_wet': 4\n",
    "}\n",
    "weather_data_raw['humidity_code'] = weather_data_raw['humidity_class'].map(humidity_mapping)"
   ],
   "id": "78818d2b4101b68e",
   "outputs": [],
   "execution_count": null
  },
  {
   "metadata": {},
   "cell_type": "code",
   "source": [
    "# Bar plot: Frequency of Humidity Classes\n",
    "humidity_counts = weather_data_raw['humidity_class'].value_counts().reindex([\n",
    "  'very_dry', 'dry', 'normale', 'wet', 'very_wet'\n",
    "])\n",
    "\n",
    "humidity_counts.plot(kind='bar', edgecolor='black', figsize=(8, 4))\n",
    "plt.title(\"Frequency of Humidity Classes\")\n",
    "plt.xlabel(\"Humidity Class\")\n",
    "plt.ylabel(NUMBER_OF_HOURS)\n",
    "plt.grid(True)\n",
    "plt.tight_layout()\n",
    "plt.show()"
   ],
   "id": "5fac9abb30c122f0",
   "outputs": [],
   "execution_count": null
  },
  {
   "metadata": {},
   "cell_type": "code",
   "source": [
    "\n",
    "# Boxplot: Temperature by Humidity Class\n",
    "sns.boxplot(data=weather_data_raw, x='humidity_class', y='temp_c')\n",
    "plt.title(\"Temperature by Humidity Class\")\n",
    "plt.xlabel(\"Humidity Class\")\n",
    "plt.ylabel(TEMPERATURE_C)\n",
    "plt.grid(True)\n",
    "plt.tight_layout()\n",
    "plt.show()"
   ],
   "id": "304f78196f25c1b5",
   "outputs": [],
   "execution_count": null
  },
  {
   "metadata": {},
   "cell_type": "code",
   "source": [
    "\n",
    "# Time series: Humidity Class Code over Time\n",
    "plt.figure(figsize=(12, 4))\n",
    "weather_data_raw.set_index('datetime_hour')['humidity_code'].plot(drawstyle='steps-post')\n",
    "plt.title(\"Humidity Intensity Over Time\")\n",
    "plt.ylabel(\"Humidity Class Code\")\n",
    "plt.grid(True)\n",
    "plt.tight_layout()\n",
    "plt.show()"
   ],
   "id": "cd84e92f25f7edcd",
   "outputs": [],
   "execution_count": null
  },
  {
   "metadata": {},
   "cell_type": "markdown",
   "source": "## Classify / EDA –  pressure itensity",
   "id": "d3dcc69bbc780980"
  },
  {
   "metadata": {},
   "cell_type": "code",
   "outputs": [],
   "execution_count": null,
   "source": [
    "VERY_HIGH = 'very_high'\n",
    "VERY_LOW = 'very_low'"
   ],
   "id": "b3e6ef0445479f8a"
  },
  {
   "metadata": {},
   "cell_type": "code",
   "source": [
    "def classify_pressure_label(p):\n",
    "  if p < 980:\n",
    "    return VERY_LOW\n",
    "  elif p < 1000:\n",
    "    return \"low\"\n",
    "  elif p < 1020:\n",
    "    return \"normal\"\n",
    "  elif p < 1030:\n",
    "    return \"high\"\n",
    "  else:\n",
    "    return VERY_HIGH\n",
    "\n",
    "\n",
    "weather_data_raw['pressure_class'] = weather_data_raw['pressure_hPa'].apply(classify_pressure_label)"
   ],
   "id": "d59a09fa5a91a408",
   "outputs": [],
   "execution_count": null
  },
  {
   "metadata": {},
   "cell_type": "code",
   "source": [
    "\n",
    "pressure_mapping = {\n",
    "  VERY_LOW: 0,\n",
    "  \"low\": 1,\n",
    "  \"normal\": 2,\n",
    "  \"high\": 3,\n",
    "  VERY_HIGH: 4\n",
    "}\n",
    "\n",
    "weather_data_raw['pressure_code'] = weather_data_raw['pressure_class'].map(pressure_mapping)"
   ],
   "id": "38399f349b7da047",
   "outputs": [],
   "execution_count": null
  },
  {
   "metadata": {},
   "cell_type": "code",
   "source": [
    "# Bar plot: Frequency of Pressure Classes\n",
    "pressure_counts = weather_data_raw['pressure_class'].value_counts().reindex([\n",
    "  VERY_LOW, \"low\", \"normal\", \"high\", VERY_HIGH\n",
    "])\n",
    "\n",
    "pressure_counts.plot(kind='bar', edgecolor='black', figsize=(8, 4))\n",
    "plt.title(\"Frequency of Pressure Classes\")\n",
    "plt.xlabel(\"Pressure Class\")\n",
    "plt.ylabel(NUMBER_OF_HOURS)\n",
    "plt.grid(True)\n",
    "plt.tight_layout()\n",
    "plt.show()"
   ],
   "id": "1f5bafb28635730e",
   "outputs": [],
   "execution_count": null
  },
  {
   "metadata": {},
   "cell_type": "code",
   "source": [
    "\n",
    "# Boxplot: Temperature by Pressure Class\n",
    "sns.boxplot(data=weather_data_raw, x='pressure_class', y='temp_c')\n",
    "plt.title(\"Temperature by Pressure Class\")\n",
    "plt.xlabel(\"Pressure Class\")\n",
    "plt.ylabel(TEMPERATURE_C)\n",
    "plt.grid(True)\n",
    "plt.tight_layout()\n",
    "plt.show()"
   ],
   "id": "129004555fca9bee",
   "outputs": [],
   "execution_count": null
  },
  {
   "metadata": {},
   "cell_type": "code",
   "source": [
    "\n",
    "# Time series: Pressure Class Code over Time\n",
    "plt.figure(figsize=(12, 4))\n",
    "weather_data_raw.set_index('datetime_hour')['pressure_code'].plot(drawstyle='steps-post')\n",
    "plt.title(\"Pressure Intensity Over Time\")\n",
    "plt.ylabel(\"Pressure Class Code\")\n",
    "plt.grid(True)\n",
    "plt.tight_layout()\n",
    "plt.show()"
   ],
   "id": "9f6eb3688cd9b730",
   "outputs": [],
   "execution_count": null
  },
  {
   "metadata": {},
   "cell_type": "markdown",
   "source": "# Save Weather Data",
   "id": "707ebdcd0be54ef8"
  },
  {
   "metadata": {},
   "cell_type": "code",
   "outputs": [],
   "execution_count": null,
   "source": [
    "# ensure no dupli remains\n",
    "weather_data_raw = weather_data_raw.sort_values('datetime_hour').drop_duplicates('datetime_hour')"
   ],
   "id": "31f1d1c7cd050f7"
  },
  {
   "metadata": {},
   "cell_type": "code",
   "source": "weather_data_raw.to_csv(\"data/weather_data_clean.csv\", index=False)",
   "id": "99a87f2d2c4a8f52",
   "outputs": [],
   "execution_count": null
  }
 ],
 "metadata": {
  "kernelspec": {
   "display_name": "Python 3",
   "language": "python",
   "name": "python3"
  },
  "language_info": {
   "codemirror_mode": {
    "name": "ipython",
    "version": 2
   },
   "file_extension": ".py",
   "mimetype": "text/x-python",
   "name": "python",
   "nbconvert_exporter": "python",
   "pygments_lexer": "ipython2",
   "version": "2.7.6"
  }
 },
 "nbformat": 4,
 "nbformat_minor": 5
}
