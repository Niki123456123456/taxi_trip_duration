{
 "cells": [
  {
   "metadata": {},
   "cell_type": "markdown",
   "source": "Load and unzip taxidata",
   "id": "5477770855d8a525"
  },
  {
   "metadata": {
    "ExecuteTime": {
     "end_time": "2025-05-23T08:11:43.478969Z",
     "start_time": "2025-05-23T08:11:41.980703Z"
    }
   },
   "cell_type": "code",
   "source": [
    "from pathlib import Path\n",
    "from zipfile import ZipFile\n",
    "import pandas as pd\n",
    "import pickle\n",
    "from kaggle.api.kaggle_api_extended import KaggleApi\n",
    "\n",
    "def load_weather_data():\n",
    "    dataset_slug = \"pschale/nyc-taxi-wunderground-weather\"\n",
    "    zip_name = \"nyc-taxi-wunderground-weather.zip\"\n",
    "    csv_name = \"weatherdata.csv\"\n",
    "\n",
    "    data_dir = Path(\"data\")\n",
    "    package_dir = Path(\"data_packages\")\n",
    "\n",
    "    zip_path = package_dir / zip_name\n",
    "    csv_path = data_dir / csv_name\n",
    "    pkl_path = data_dir / \"weatherdata.pkl\"\n",
    "\n",
    "    # Schritt 0: Cache verwenden\n",
    "    if pkl_path.is_file():\n",
    "        with open(pkl_path, \"rb\") as f:\n",
    "            return pickle.load(f)\n",
    "\n",
    "    # Schritt 1: ZIP herunterladen, wenn sie nicht existiert\n",
    "    if not zip_path.is_file():\n",
    "        package_dir.mkdir(parents=True, exist_ok=True)\n",
    "        api = KaggleApi()\n",
    "        api.authenticate()\n",
    "        api.dataset_download_files(dataset_slug, path=str(package_dir), unzip=False)\n",
    "\n",
    "    # Schritt 2: Entpacken, falls CSV noch nicht existiert\n",
    "    if not csv_path.is_file():\n",
    "        data_dir.mkdir(parents=True, exist_ok=True)\n",
    "        with ZipFile(zip_path, \"r\") as zip_ref:\n",
    "            zip_ref.extract(csv_name, path=data_dir)\n",
    "\n",
    "    # Schritt 3: CSV laden und Cache schreiben\n",
    "    if not csv_path.is_file():\n",
    "        raise FileNotFoundError(f\"{csv_path} wurde nicht gefunden – Entpackung fehlgeschlagen.\")\n",
    "\n",
    "    df = pd.read_csv(csv_path)\n",
    "    with open(pkl_path, \"wb\") as f:\n",
    "        pickle.dump(df, f)\n",
    "\n",
    "    return df\n",
    "\n",
    "# Anwendung\n",
    "weather_df = load_weather_data()"
   ],
   "id": "f1441f1fa8f4fdf3",
   "outputs": [
    {
     "name": "stderr",
     "output_type": "stream",
     "text": [
      "/Users/Wendo99/miniconda3/envs/NYC_Taxi/lib/python3.12/site-packages/requests/__init__.py:86: RequestsDependencyWarning: Unable to find acceptable character detection dependency (chardet or charset_normalizer).\n",
      "  warnings.warn(\n"
     ]
    },
    {
     "name": "stdout",
     "output_type": "stream",
     "text": [
      "Dataset URL: https://www.kaggle.com/datasets/pschale/nyc-taxi-wunderground-weather\n"
     ]
    }
   ],
   "execution_count": 1
  }
 ],
 "metadata": {
  "kernelspec": {
   "display_name": "Python 3",
   "language": "python",
   "name": "python3"
  },
  "language_info": {
   "codemirror_mode": {
    "name": "ipython",
    "version": 2
   },
   "file_extension": ".py",
   "mimetype": "text/x-python",
   "name": "python",
   "nbconvert_exporter": "python",
   "pygments_lexer": "ipython2",
   "version": "2.7.6"
  }
 },
 "nbformat": 4,
 "nbformat_minor": 5
}
