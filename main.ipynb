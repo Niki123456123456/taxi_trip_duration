{
 "cells": [
  {
   "cell_type": "code",
   "id": "initial_id",
   "metadata": {
    "collapsed": true,
    "ExecuteTime": {
     "end_time": "2025-05-30T16:40:30.016302Z",
     "start_time": "2025-05-30T16:40:30.013858Z"
    }
   },
   "source": [
    "import pickle\n",
    "from pathlib import Path\n",
    "from zipfile import ZipFile\n",
    "\n",
    "import matplotlib.pyplot as plt\n",
    "import pandas as pd\n",
    "from kaggle.api.kaggle_api_extended import KaggleApi\n"
   ],
   "outputs": [],
   "execution_count": 25
  },
  {
   "metadata": {
    "ExecuteTime": {
     "end_time": "2025-05-30T17:27:51.246530Z",
     "start_time": "2025-05-30T17:27:51.242464Z"
    }
   },
   "cell_type": "code",
   "source": [
    "import IPython\n",
    "app = IPython.Application.instance()\n",
    "app.kernel.do_shutdown(restart=False)"
   ],
   "id": "880075d5c6b82e59",
   "outputs": [
    {
     "data": {
      "text/plain": [
       "{'status': 'ok', 'restart': False}"
      ]
     },
     "execution_count": 1,
     "metadata": {},
     "output_type": "execute_result"
    }
   ],
   "execution_count": 1
  },
  {
   "metadata": {},
   "cell_type": "markdown",
   "source": "### Load taxi dataset, unzip and save in taxi_data_raw",
   "id": "efed8dd6702e92be"
  },
  {
   "metadata": {
    "ExecuteTime": {
     "end_time": "2025-05-30T16:40:30.301060Z",
     "start_time": "2025-05-30T16:40:30.040235Z"
    }
   },
   "cell_type": "code",
   "source": [
    "def load_taxi_data():\n",
    "  download_file_name = \"nyc-taxi-trip-duration.zip\"\n",
    "  data_dir = Path(\"data_packages\")\n",
    "  extracted_dir = Path(\"data\")\n",
    "  csv_path = extracted_dir / \"train.csv\"\n",
    "  pkl_path = extracted_dir / \"train.pkl\"\n",
    "\n",
    "  zip_path = data_dir / download_file_name\n",
    "\n",
    "  # Schritt 0: Schneller CSV-Zugriff über Cache (falls vorhanden)\n",
    "  if pkl_path.is_file():\n",
    "    with open(pkl_path, \"rb\") as f:\n",
    "      return pickle.load(f)\n",
    "\n",
    "  # Schritt 1: Download nur wenn ZIP noch fehlt\n",
    "  if not zip_path.is_file():\n",
    "    data_dir.mkdir(parents=True, exist_ok=True)\n",
    "    api = KaggleApi()\n",
    "    api.authenticate()\n",
    "    api.competition_download_files(\"nyc-taxi-trip-duration\", path=data_dir)\n",
    "\n",
    "  # Schritt 2: Entpacke ZIP nur, wenn innere ZIPs fehlen\n",
    "  inner_zip_names = {\"train.zip\", \"test.zip\", \"sample_submission.zip\"}\n",
    "  existing_inner_zips = {z.name for z in data_dir.glob(\"*.zip\")}\n",
    "  missing_inner_zips = inner_zip_names - existing_inner_zips\n",
    "\n",
    "  if missing_inner_zips:\n",
    "    with ZipFile(zip_path, 'r') as outer_zip:\n",
    "      outer_zip.extractall(data_dir)\n",
    "\n",
    "  # Schritt 3: Entpacke nur fehlende CSVs aus inneren ZIPs\n",
    "  extracted_dir.mkdir(parents=True, exist_ok=True)\n",
    "  for inner_zip in data_dir.glob(\"*.zip\"):\n",
    "    with ZipFile(inner_zip, 'r') as zip_ref:\n",
    "      for member in zip_ref.namelist():\n",
    "        if member.endswith(\".csv\"):\n",
    "          target_file = extracted_dir / Path(member).name\n",
    "          if not target_file.is_file():\n",
    "            zip_ref.extract(member, path=extracted_dir)\n",
    "\n",
    "  # Schritt 4: CSV laden und pkl-Cache speichern\n",
    "  if not csv_path.is_file():\n",
    "    raise FileNotFoundError(f\"'{csv_path}' wurde nicht gefunden – Entpackung fehlgeschlagen.\")\n",
    "\n",
    "  df = pd.read_csv(csv_path)\n",
    "  with open(pkl_path, \"wb\") as f:\n",
    "    pickle.dump(df, f)\n",
    "\n",
    "  return df\n",
    "\n",
    "\n",
    "# Anwendung\n",
    "taxi_data_raw = load_taxi_data()"
   ],
   "id": "600d536fa666d9a",
   "outputs": [],
   "execution_count": 26
  },
  {
   "metadata": {},
   "cell_type": "markdown",
   "source": "# Univariat EDA Taxidata",
   "id": "7950164dcaa9e8b6"
  },
  {
   "metadata": {},
   "cell_type": "markdown",
   "source": [
    "## General Exploration\n",
    "\n",
    "- Objective\n",
    "  - Number of rows\n",
    "  - Number of columns\n",
    "  - DTypes\n",
    "  - Missing values\n",
    "  - NaN\n",
    "  - Unique values\n",
    "- Required Arrangements\n",
    "  -  pickup_datetime & dropoff_datetime -> object into pd.datetime"
   ],
   "id": "289423fced367b0e"
  },
  {
   "metadata": {
    "ExecuteTime": {
     "end_time": "2025-05-30T16:40:30.314372Z",
     "start_time": "2025-05-30T16:40:30.309743Z"
    }
   },
   "cell_type": "code",
   "source": [
    "# taxi.shape\n",
    "# taxi.columns\n",
    "# taxi.dtypes\n",
    "taxi_data_raw.head()"
   ],
   "id": "98755a2f9973cb90",
   "outputs": [
    {
     "data": {
      "text/plain": [
       "          id  vendor_id      pickup_datetime     dropoff_datetime  \\\n",
       "0  id2875421          2  2016-03-14 17:24:55  2016-03-14 17:32:30   \n",
       "1  id2377394          1  2016-06-12 00:43:35  2016-06-12 00:54:38   \n",
       "2  id3858529          2  2016-01-19 11:35:24  2016-01-19 12:10:48   \n",
       "3  id3504673          2  2016-04-06 19:32:31  2016-04-06 19:39:40   \n",
       "4  id2181028          2  2016-03-26 13:30:55  2016-03-26 13:38:10   \n",
       "\n",
       "   passenger_count  pickup_longitude  pickup_latitude  dropoff_longitude  \\\n",
       "0                1        -73.982155        40.767937         -73.964630   \n",
       "1                1        -73.980415        40.738564         -73.999481   \n",
       "2                1        -73.979027        40.763939         -74.005333   \n",
       "3                1        -74.010040        40.719971         -74.012268   \n",
       "4                1        -73.973053        40.793209         -73.972923   \n",
       "\n",
       "   dropoff_latitude store_and_fwd_flag  trip_duration  \n",
       "0         40.765602                  N            455  \n",
       "1         40.731152                  N            663  \n",
       "2         40.710087                  N           2124  \n",
       "3         40.706718                  N            429  \n",
       "4         40.782520                  N            435  "
      ],
      "text/html": [
       "<div>\n",
       "<style scoped>\n",
       "    .dataframe tbody tr th:only-of-type {\n",
       "        vertical-align: middle;\n",
       "    }\n",
       "\n",
       "    .dataframe tbody tr th {\n",
       "        vertical-align: top;\n",
       "    }\n",
       "\n",
       "    .dataframe thead th {\n",
       "        text-align: right;\n",
       "    }\n",
       "</style>\n",
       "<table border=\"1\" class=\"dataframe\">\n",
       "  <thead>\n",
       "    <tr style=\"text-align: right;\">\n",
       "      <th></th>\n",
       "      <th>id</th>\n",
       "      <th>vendor_id</th>\n",
       "      <th>pickup_datetime</th>\n",
       "      <th>dropoff_datetime</th>\n",
       "      <th>passenger_count</th>\n",
       "      <th>pickup_longitude</th>\n",
       "      <th>pickup_latitude</th>\n",
       "      <th>dropoff_longitude</th>\n",
       "      <th>dropoff_latitude</th>\n",
       "      <th>store_and_fwd_flag</th>\n",
       "      <th>trip_duration</th>\n",
       "    </tr>\n",
       "  </thead>\n",
       "  <tbody>\n",
       "    <tr>\n",
       "      <th>0</th>\n",
       "      <td>id2875421</td>\n",
       "      <td>2</td>\n",
       "      <td>2016-03-14 17:24:55</td>\n",
       "      <td>2016-03-14 17:32:30</td>\n",
       "      <td>1</td>\n",
       "      <td>-73.982155</td>\n",
       "      <td>40.767937</td>\n",
       "      <td>-73.964630</td>\n",
       "      <td>40.765602</td>\n",
       "      <td>N</td>\n",
       "      <td>455</td>\n",
       "    </tr>\n",
       "    <tr>\n",
       "      <th>1</th>\n",
       "      <td>id2377394</td>\n",
       "      <td>1</td>\n",
       "      <td>2016-06-12 00:43:35</td>\n",
       "      <td>2016-06-12 00:54:38</td>\n",
       "      <td>1</td>\n",
       "      <td>-73.980415</td>\n",
       "      <td>40.738564</td>\n",
       "      <td>-73.999481</td>\n",
       "      <td>40.731152</td>\n",
       "      <td>N</td>\n",
       "      <td>663</td>\n",
       "    </tr>\n",
       "    <tr>\n",
       "      <th>2</th>\n",
       "      <td>id3858529</td>\n",
       "      <td>2</td>\n",
       "      <td>2016-01-19 11:35:24</td>\n",
       "      <td>2016-01-19 12:10:48</td>\n",
       "      <td>1</td>\n",
       "      <td>-73.979027</td>\n",
       "      <td>40.763939</td>\n",
       "      <td>-74.005333</td>\n",
       "      <td>40.710087</td>\n",
       "      <td>N</td>\n",
       "      <td>2124</td>\n",
       "    </tr>\n",
       "    <tr>\n",
       "      <th>3</th>\n",
       "      <td>id3504673</td>\n",
       "      <td>2</td>\n",
       "      <td>2016-04-06 19:32:31</td>\n",
       "      <td>2016-04-06 19:39:40</td>\n",
       "      <td>1</td>\n",
       "      <td>-74.010040</td>\n",
       "      <td>40.719971</td>\n",
       "      <td>-74.012268</td>\n",
       "      <td>40.706718</td>\n",
       "      <td>N</td>\n",
       "      <td>429</td>\n",
       "    </tr>\n",
       "    <tr>\n",
       "      <th>4</th>\n",
       "      <td>id2181028</td>\n",
       "      <td>2</td>\n",
       "      <td>2016-03-26 13:30:55</td>\n",
       "      <td>2016-03-26 13:38:10</td>\n",
       "      <td>1</td>\n",
       "      <td>-73.973053</td>\n",
       "      <td>40.793209</td>\n",
       "      <td>-73.972923</td>\n",
       "      <td>40.782520</td>\n",
       "      <td>N</td>\n",
       "      <td>435</td>\n",
       "    </tr>\n",
       "  </tbody>\n",
       "</table>\n",
       "</div>"
      ]
     },
     "execution_count": 27,
     "metadata": {},
     "output_type": "execute_result"
    }
   ],
   "execution_count": 27
  },
  {
   "metadata": {
    "ExecuteTime": {
     "end_time": "2025-05-30T16:40:30.440Z",
     "start_time": "2025-05-30T16:40:30.323477Z"
    }
   },
   "cell_type": "code",
   "source": "taxi_data_raw.info()",
   "id": "5265d3fb65c16631",
   "outputs": [
    {
     "name": "stdout",
     "output_type": "stream",
     "text": [
      "<class 'pandas.core.frame.DataFrame'>\n",
      "RangeIndex: 1458644 entries, 0 to 1458643\n",
      "Data columns (total 11 columns):\n",
      " #   Column              Non-Null Count    Dtype  \n",
      "---  ------              --------------    -----  \n",
      " 0   id                  1458644 non-null  object \n",
      " 1   vendor_id           1458644 non-null  int64  \n",
      " 2   pickup_datetime     1458644 non-null  object \n",
      " 3   dropoff_datetime    1458644 non-null  object \n",
      " 4   passenger_count     1458644 non-null  int64  \n",
      " 5   pickup_longitude    1458644 non-null  float64\n",
      " 6   pickup_latitude     1458644 non-null  float64\n",
      " 7   dropoff_longitude   1458644 non-null  float64\n",
      " 8   dropoff_latitude    1458644 non-null  float64\n",
      " 9   store_and_fwd_flag  1458644 non-null  object \n",
      " 10  trip_duration       1458644 non-null  int64  \n",
      "dtypes: float64(4), int64(3), object(4)\n",
      "memory usage: 122.4+ MB\n"
     ]
    }
   ],
   "execution_count": 28
  },
  {
   "metadata": {},
   "cell_type": "markdown",
   "source": [
    "- Findings\n",
    "  - 1458644 rows\n",
    "  - 11 columns\n",
    "  - object: id, pickup_datetime, dropoff_datetime, store_and_fwd_flag\n",
    "  - int64: vendor_id, passenger_count, trip_duration\n",
    "  - float64: pickup_longitude, pickup_latitude, dropoff_longitude, dropoff_latitude\n",
    "  - no missing values/categories"
   ],
   "id": "ec1d13a85bbfda9c"
  },
  {
   "metadata": {
    "ExecuteTime": {
     "end_time": "2025-05-30T16:40:30.563950Z",
     "start_time": "2025-05-30T16:40:30.453645Z"
    }
   },
   "cell_type": "code",
   "source": "taxi_data_raw.isna().sum()",
   "id": "15748e6fc767a29",
   "outputs": [
    {
     "data": {
      "text/plain": [
       "id                    0\n",
       "vendor_id             0\n",
       "pickup_datetime       0\n",
       "dropoff_datetime      0\n",
       "passenger_count       0\n",
       "pickup_longitude      0\n",
       "pickup_latitude       0\n",
       "dropoff_longitude     0\n",
       "dropoff_latitude      0\n",
       "store_and_fwd_flag    0\n",
       "trip_duration         0\n",
       "dtype: int64"
      ]
     },
     "execution_count": 29,
     "metadata": {},
     "output_type": "execute_result"
    }
   ],
   "execution_count": 29
  },
  {
   "metadata": {},
   "cell_type": "markdown",
   "source": [
    "- Findings\n",
    "  - no NaNs"
   ],
   "id": "6405d6e039103f13"
  },
  {
   "metadata": {
    "ExecuteTime": {
     "end_time": "2025-05-30T16:40:31.272316Z",
     "start_time": "2025-05-30T16:40:30.572608Z"
    }
   },
   "cell_type": "code",
   "source": "taxi_data_raw.nunique()",
   "id": "86faf9024d16e991",
   "outputs": [
    {
     "data": {
      "text/plain": [
       "id                    1458644\n",
       "vendor_id                   2\n",
       "pickup_datetime       1380222\n",
       "dropoff_datetime      1380377\n",
       "passenger_count            10\n",
       "pickup_longitude        23047\n",
       "pickup_latitude         45245\n",
       "dropoff_longitude       33821\n",
       "dropoff_latitude        62519\n",
       "store_and_fwd_flag          2\n",
       "trip_duration            7417\n",
       "dtype: int64"
      ]
     },
     "execution_count": 30,
     "metadata": {},
     "output_type": "execute_result"
    }
   ],
   "execution_count": 30
  },
  {
   "metadata": {},
   "cell_type": "markdown",
   "source": [
    "- Findings\n",
    "  - id can be used for unique ID\n",
    "  - two unique vendors seems to be allright\n",
    "  - ten unique passengers\n",
    "  - two unique store_and_fwd_flag matches with description"
   ],
   "id": "bcb5afaccb144271"
  },
  {
   "metadata": {
    "ExecuteTime": {
     "end_time": "2025-05-30T16:40:31.986971Z",
     "start_time": "2025-05-30T16:40:31.281927Z"
    }
   },
   "cell_type": "code",
   "source": "taxi_data_raw[taxi_data_raw.duplicated()]",
   "id": "9cf07c24ed7e9663",
   "outputs": [
    {
     "data": {
      "text/plain": [
       "Empty DataFrame\n",
       "Columns: [id, vendor_id, pickup_datetime, dropoff_datetime, passenger_count, pickup_longitude, pickup_latitude, dropoff_longitude, dropoff_latitude, store_and_fwd_flag, trip_duration]\n",
       "Index: []"
      ],
      "text/html": [
       "<div>\n",
       "<style scoped>\n",
       "    .dataframe tbody tr th:only-of-type {\n",
       "        vertical-align: middle;\n",
       "    }\n",
       "\n",
       "    .dataframe tbody tr th {\n",
       "        vertical-align: top;\n",
       "    }\n",
       "\n",
       "    .dataframe thead th {\n",
       "        text-align: right;\n",
       "    }\n",
       "</style>\n",
       "<table border=\"1\" class=\"dataframe\">\n",
       "  <thead>\n",
       "    <tr style=\"text-align: right;\">\n",
       "      <th></th>\n",
       "      <th>id</th>\n",
       "      <th>vendor_id</th>\n",
       "      <th>pickup_datetime</th>\n",
       "      <th>dropoff_datetime</th>\n",
       "      <th>passenger_count</th>\n",
       "      <th>pickup_longitude</th>\n",
       "      <th>pickup_latitude</th>\n",
       "      <th>dropoff_longitude</th>\n",
       "      <th>dropoff_latitude</th>\n",
       "      <th>store_and_fwd_flag</th>\n",
       "      <th>trip_duration</th>\n",
       "    </tr>\n",
       "  </thead>\n",
       "  <tbody>\n",
       "  </tbody>\n",
       "</table>\n",
       "</div>"
      ]
     },
     "execution_count": 31,
     "metadata": {},
     "output_type": "execute_result"
    }
   ],
   "execution_count": 31
  },
  {
   "metadata": {},
   "cell_type": "markdown",
   "source": [
    "- Findings\n",
    "  - no duplicated rows"
   ],
   "id": "4a96e01dcd78ca78"
  },
  {
   "metadata": {},
   "cell_type": "markdown",
   "source": [
    "## Exploration of vendor_id\n",
    "\n",
    "Findings\n",
    "- Only two unique values: 1 and 2.\n",
    "- Frequencies are relatively balanced.\n",
    "- No missing values or anomalies detected.\n",
    "\n",
    "Required Arrangements\n",
    "- No data cleaning needed.\n",
    "- Keep as categorical feature.\n",
    "- Optional: One-hot encode `vendor_id` if required by the model."
   ],
   "id": "b5dc499766bbdad5"
  },
  {
   "metadata": {
    "ExecuteTime": {
     "end_time": "2025-05-30T16:40:32.005199Z",
     "start_time": "2025-05-30T16:40:31.997444Z"
    }
   },
   "cell_type": "code",
   "source": [
    "# Vendor ID\n",
    "taxi_data_raw['vendor_id'].value_counts()"
   ],
   "id": "12cfb555bc22935f",
   "outputs": [
    {
     "data": {
      "text/plain": [
       "vendor_id\n",
       "2    780302\n",
       "1    678342\n",
       "Name: count, dtype: int64"
      ]
     },
     "execution_count": 32,
     "metadata": {},
     "output_type": "execute_result"
    }
   ],
   "execution_count": 32
  },
  {
   "metadata": {
    "ExecuteTime": {
     "end_time": "2025-05-30T16:40:32.100977Z",
     "start_time": "2025-05-30T16:40:32.018956Z"
    }
   },
   "cell_type": "code",
   "source": "taxi_data_raw['vendor_id'].plot.hist()",
   "id": "20d1f73a622b620a",
   "outputs": [
    {
     "data": {
      "text/plain": [
       "<Axes: ylabel='Frequency'>"
      ]
     },
     "execution_count": 33,
     "metadata": {},
     "output_type": "execute_result"
    },
    {
     "data": {
      "text/plain": [
       "<Figure size 640x480 with 1 Axes>"
      ],
      "image/png": "[encoded data removed]"
     },
     "metadata": {},
     "output_type": "display_data"
    }
   ],
   "execution_count": 33
  },
  {
   "metadata": {},
   "cell_type": "markdown",
   "source": [
    "## Exploration of pickup_datetime & dropoff_datetime\n",
    "\n",
    "Objective of the Exploration\n",
    "- Validate datetime format and logical consistency\n",
    "- Identify temporal patterns that may affect trip behavior\n",
    "- Prepare datetime features for modeling and external data joining\n",
    "\n",
    "Findings\n",
    "- All timestamps are in ISO-8601 format and correctly parsed as datetime objects\n",
    "- No negative trip durations found; dropoff times are always after pickup\n",
    "- Daily pickup/dropoff counts show consistent activity across the dataset\n",
    "- Clear hourly pickup pattern: peak between 18:00–22:00, trough from 01:00–06:00\n",
    "- Weekly pattern: peak on Fridays, trough on Sundays\n",
    "- Monthly pattern: most rides in March, fewest in January\n",
    "- Some duplicated timestamps exist; may indicate batch logging or system artifacts\n",
    "- Average trip duration varies by pickup hour, aligning with rush hour traffic behavior\n",
    "\n",
    "- Required Arrangements\n",
    "- Recommend extracting and keeping features like pickup_hour, dayofweek, month, hourofyear\n",
    "- These features support downstream modeling and alignment with weather data"
   ],
   "id": "b66b962d473ede59"
  },
  {
   "metadata": {},
   "cell_type": "markdown",
   "source": "pickup_datetime",
   "id": "991d15c801c770ac"
  },
  {
   "metadata": {
    "ExecuteTime": {
     "end_time": "2025-05-30T16:40:32.307234Z",
     "start_time": "2025-05-30T16:40:32.115698Z"
    }
   },
   "cell_type": "code",
   "source": "taxi_data_raw['pickup_datetime'] = pd.to_datetime(taxi_data_raw['pickup_datetime'])",
   "id": "fa4bd2ea31513f7d",
   "outputs": [],
   "execution_count": 34
  },
  {
   "metadata": {
    "ExecuteTime": {
     "end_time": "2025-05-30T16:40:33.772142Z",
     "start_time": "2025-05-30T16:40:32.315555Z"
    }
   },
   "cell_type": "code",
   "source": [
    "taxi_data_raw['pickup_datetime'].astype(str).str.match(\n",
    "    r'^\\d{4}-\\d{2}-\\d{2} \\d{2}:\\d{2}:\\d{2}$').all()"
   ],
   "id": "e014c186ba289cde",
   "outputs": [
    {
     "data": {
      "text/plain": [
       "np.True_"
      ]
     },
     "execution_count": 35,
     "metadata": {},
     "output_type": "execute_result"
    }
   ],
   "execution_count": 35
  },
  {
   "metadata": {
    "ExecuteTime": {
     "end_time": "2025-05-30T16:40:33.806005Z",
     "start_time": "2025-05-30T16:40:33.781101Z"
    }
   },
   "cell_type": "code",
   "source": "taxi_data_raw['pickup_datetime'].describe()",
   "id": "7ebcb82ff8c8b69a",
   "outputs": [
    {
     "data": {
      "text/plain": [
       "count                          1458644\n",
       "mean     2016-04-01 10:10:24.940037120\n",
       "min                2016-01-01 00:00:17\n",
       "25%      2016-02-17 16:46:04.249999872\n",
       "50%                2016-04-01 17:19:40\n",
       "75%      2016-05-15 03:56:08.750000128\n",
       "max                2016-06-30 23:59:39\n",
       "Name: pickup_datetime, dtype: object"
      ]
     },
     "execution_count": 36,
     "metadata": {},
     "output_type": "execute_result"
    }
   ],
   "execution_count": 36
  },
  {
   "metadata": {},
   "cell_type": "markdown",
   "source": "dropoff_datetime",
   "id": "98ef3b17f49948d8"
  },
  {
   "metadata": {
    "ExecuteTime": {
     "end_time": "2025-05-30T16:40:34.010358Z",
     "start_time": "2025-05-30T16:40:33.819610Z"
    }
   },
   "cell_type": "code",
   "source": "taxi_data_raw['dropoff_datetime'] = pd.to_datetime(taxi_data_raw['dropoff_datetime'])",
   "id": "41d6af7eddf3be56",
   "outputs": [],
   "execution_count": 37
  },
  {
   "metadata": {
    "ExecuteTime": {
     "end_time": "2025-05-30T16:40:35.497216Z",
     "start_time": "2025-05-30T16:40:34.017575Z"
    }
   },
   "cell_type": "code",
   "source": [
    "taxi_data_raw['dropoff_datetime'].astype(str).str.match(\n",
    "    r'^\\d{4}-\\d{2}-\\d{2} \\d{2}:\\d{2}:\\d{2}$').all()"
   ],
   "id": "7cbdd895d52b6e94",
   "outputs": [
    {
     "data": {
      "text/plain": [
       "np.True_"
      ]
     },
     "execution_count": 38,
     "metadata": {},
     "output_type": "execute_result"
    }
   ],
   "execution_count": 38
  },
  {
   "metadata": {
    "ExecuteTime": {
     "end_time": "2025-05-30T16:40:35.537805Z",
     "start_time": "2025-05-30T16:40:35.511552Z"
    }
   },
   "cell_type": "code",
   "source": "taxi_data_raw['dropoff_datetime'].describe()",
   "id": "e9241fd6445b8de0",
   "outputs": [
    {
     "data": {
      "text/plain": [
       "count                          1458644\n",
       "mean     2016-04-01 10:26:24.432310528\n",
       "min                2016-01-01 00:03:31\n",
       "25%         2016-02-17 17:05:32.500000\n",
       "50%                2016-04-01 17:35:12\n",
       "75%      2016-05-15 04:10:51.750000128\n",
       "max                2016-07-01 23:02:03\n",
       "Name: dropoff_datetime, dtype: object"
      ]
     },
     "execution_count": 39,
     "metadata": {},
     "output_type": "execute_result"
    }
   ],
   "execution_count": 39
  },
  {
   "metadata": {
    "ExecuteTime": {
     "end_time": "2025-05-30T16:40:35.555412Z",
     "start_time": "2025-05-30T16:40:35.551435Z"
    }
   },
   "cell_type": "code",
   "source": "(taxi_data_raw['dropoff_datetime'] < taxi_data_raw['pickup_datetime']).sum()",
   "id": "e864fad35d6eba7b",
   "outputs": [
    {
     "data": {
      "text/plain": [
       "np.int64(0)"
      ]
     },
     "execution_count": 40,
     "metadata": {},
     "output_type": "execute_result"
    }
   ],
   "execution_count": 40
  },
  {
   "metadata": {},
   "cell_type": "markdown",
   "source": "- no negative durations",
   "id": "af67cbb2c6120be8"
  },
  {
   "metadata": {
    "ExecuteTime": {
     "end_time": "2025-05-30T16:40:36.142072Z",
     "start_time": "2025-05-30T16:40:35.567107Z"
    }
   },
   "cell_type": "code",
   "source": [
    "pickup_counts = taxi_data_raw['pickup_datetime'].dt.date.value_counts().sort_index()\n",
    "dropoff_counts = taxi_data_raw['dropoff_datetime'].dt.date.value_counts().sort_index()\n",
    "\n",
    "# Plot\n",
    "fig, ax = plt.subplots(figsize=(12, 5))\n",
    "pickup_counts.plot(ax=ax, label=\"Pickups\", color='green', alpha=0.6)\n",
    "dropoff_counts.plot(ax=ax, label=\"Dropoffs\", color='blue', alpha=0.6)\n",
    "\n",
    "ax.set_title(\"Daily Pickup and Dropoff Counts\")\n",
    "ax.set_xlabel(\"Date\")\n",
    "ax.set_ylabel(\"Number of Rides\")\n",
    "ax.legend()\n",
    "plt.grid(True)\n",
    "plt.tight_layout()\n",
    "plt.show()"
   ],
   "id": "382ed36b63d14fe9",
   "outputs": [
    {
     "data": {
      "text/plain": [
       "<Figure size 1200x500 with 1 Axes>"
      ],
      "image/png": "[encoded data removed]"
     },
     "metadata": {},
     "output_type": "display_data"
    }
   ],
   "execution_count": 41
  },
  {
   "metadata": {
    "ExecuteTime": {
     "end_time": "2025-05-30T16:40:36.255704Z",
     "start_time": "2025-05-30T16:40:36.152370Z"
    }
   },
   "cell_type": "code",
   "source": "taxi_data_raw['pickup_datetime'].dt.hour.value_counts().sort_index().plot(kind='bar')",
   "id": "cd761058132640d9",
   "outputs": [
    {
     "data": {
      "text/plain": [
       "<Axes: xlabel='pickup_datetime'>"
      ]
     },
     "execution_count": 42,
     "metadata": {},
     "output_type": "execute_result"
    },
    {
     "data": {
      "text/plain": [
       "<Figure size 640x480 with 1 Axes>"
      ],
      "image/png": "[encoded data removed]"
     },
     "metadata": {},
     "output_type": "display_data"
    }
   ],
   "execution_count": 42
  },
  {
   "metadata": {},
   "cell_type": "markdown",
   "source": [
    "- peak from 18 to 22\n",
    "- trough from 1 to 6"
   ],
   "id": "182552317b3ffe37"
  },
  {
   "metadata": {
    "ExecuteTime": {
     "end_time": "2025-05-30T16:40:36.352579Z",
     "start_time": "2025-05-30T16:40:36.269042Z"
    }
   },
   "cell_type": "code",
   "source": "taxi_data_raw['pickup_datetime'].dt.dayofweek.value_counts().sort_index().plot(kind='bar')",
   "id": "de70db4851f320de",
   "outputs": [
    {
     "data": {
      "text/plain": [
       "<Axes: xlabel='pickup_datetime'>"
      ]
     },
     "execution_count": 43,
     "metadata": {},
     "output_type": "execute_result"
    },
    {
     "data": {
      "text/plain": [
       "<Figure size 640x480 with 1 Axes>"
      ],
      "image/png": "[encoded data removed]"
     },
     "metadata": {},
     "output_type": "display_data"
    }
   ],
   "execution_count": 43
  },
  {
   "metadata": {
    "ExecuteTime": {
     "end_time": "2025-05-30T16:40:36.411971Z",
     "start_time": "2025-05-30T16:40:36.365952Z"
    }
   },
   "cell_type": "code",
   "source": "taxi_data_raw['pickup_datetime'].dt.dayofweek.value_counts().sort_index()",
   "id": "217556123f94721f",
   "outputs": [
    {
     "data": {
      "text/plain": [
       "pickup_datetime\n",
       "0    187418\n",
       "1    202749\n",
       "2    210136\n",
       "3    218574\n",
       "4    223533\n",
       "5    220868\n",
       "6    195366\n",
       "Name: count, dtype: int64"
      ]
     },
     "execution_count": 44,
     "metadata": {},
     "output_type": "execute_result"
    }
   ],
   "execution_count": 44
  },
  {
   "metadata": {},
   "cell_type": "markdown",
   "source": [
    "- trough on Sunday\n",
    "- peak on Friday"
   ],
   "id": "c795622c87b43bce"
  },
  {
   "metadata": {
    "ExecuteTime": {
     "end_time": "2025-05-30T16:40:36.499578Z",
     "start_time": "2025-05-30T16:40:36.420765Z"
    }
   },
   "cell_type": "code",
   "source": "taxi_data_raw['pickup_datetime'].dt.month.value_counts().sort_index().plot(kind='bar')",
   "id": "3a573d70097a6675",
   "outputs": [
    {
     "data": {
      "text/plain": [
       "<Axes: xlabel='pickup_datetime'>"
      ]
     },
     "execution_count": 45,
     "metadata": {},
     "output_type": "execute_result"
    },
    {
     "data": {
      "text/plain": [
       "<Figure size 640x480 with 1 Axes>"
      ],
      "image/png": "[encoded data removed]"
     },
     "metadata": {},
     "output_type": "display_data"
    }
   ],
   "execution_count": 45
  },
  {
   "metadata": {
    "ExecuteTime": {
     "end_time": "2025-05-30T16:40:36.552851Z",
     "start_time": "2025-05-30T16:40:36.511979Z"
    }
   },
   "cell_type": "code",
   "source": "taxi_data_raw['pickup_datetime'].dt.month.value_counts().sort_index()",
   "id": "9769da5e3550f8b6",
   "outputs": [
    {
     "data": {
      "text/plain": [
       "pickup_datetime\n",
       "1    229707\n",
       "2    238300\n",
       "3    256189\n",
       "4    251645\n",
       "5    248487\n",
       "6    234316\n",
       "Name: count, dtype: int64"
      ]
     },
     "execution_count": 46,
     "metadata": {},
     "output_type": "execute_result"
    }
   ],
   "execution_count": 46
  },
  {
   "metadata": {},
   "cell_type": "markdown",
   "source": [
    "- trough in January\n",
    "- peak in March"
   ],
   "id": "a2cfa16bd598f658"
  },
  {
   "metadata": {
    "ExecuteTime": {
     "end_time": "2025-05-30T16:40:36.842473Z",
     "start_time": "2025-05-30T16:40:36.566138Z"
    }
   },
   "cell_type": "code",
   "source": "taxi_data_raw.groupby(['pickup_datetime']).size().sort_values(ascending=False).head()",
   "id": "1d218449ee377b01",
   "outputs": [
    {
     "data": {
      "text/plain": [
       "pickup_datetime\n",
       "2016-03-04 08:07:34    5\n",
       "2016-01-12 18:48:44    5\n",
       "2016-06-10 23:17:17    5\n",
       "2016-02-09 21:03:38    5\n",
       "2016-05-07 13:18:07    5\n",
       "dtype: int64"
      ]
     },
     "execution_count": 47,
     "metadata": {},
     "output_type": "execute_result"
    }
   ],
   "execution_count": 47
  },
  {
   "metadata": {},
   "cell_type": "markdown",
   "source": "- could be repeated records",
   "id": "92980c7ccc0fd715"
  },
  {
   "metadata": {
    "ExecuteTime": {
     "end_time": "2025-05-30T16:40:36.940238Z",
     "start_time": "2025-05-30T16:40:36.851783Z"
    }
   },
   "cell_type": "code",
   "source": [
    "# # shows the average trip duration per pickup hour across a 24-hour day\n",
    "taxi_data_raw.groupby(taxi_data_raw['pickup_datetime'].dt.hour)['trip_duration'].mean().plot()"
   ],
   "id": "e3e75ba2d1f6c241",
   "outputs": [
    {
     "data": {
      "text/plain": [
       "<Axes: xlabel='pickup_datetime'>"
      ]
     },
     "execution_count": 48,
     "metadata": {},
     "output_type": "execute_result"
    },
    {
     "data": {
      "text/plain": [
       "<Figure size 640x480 with 1 Axes>"
      ],
      "image/png": "[encoded data removed]"
     },
     "metadata": {},
     "output_type": "display_data"
    }
   ],
   "execution_count": 48
  },
  {
   "metadata": {},
   "cell_type": "markdown",
   "source": "- aligns with expected rush hour effects",
   "id": "89190e1e6701b41"
  },
  {
   "metadata": {},
   "cell_type": "markdown",
   "source": [
    "## Exploration of passenger_count\n",
    "\n",
    "Objective of the Exploration\n",
    "- Understand the distribution and validity of passenger counts\n",
    "- Identify and quantify implausible values (e.g. 0, >6)\n",
    "- Evaluate whether passenger count influences trip duration\n",
    "\n",
    "Findings\n",
    "- The majority of trips have 1 passenger; distribution is heavily right-skewed\n",
    "- Edge values observed: 60 trips with 0 passengers, and very few with 7–9 passengers\n",
    "- These edge values are likely invalid or extremely rare\n",
    "- Trips with 0 passengers show the highest average trip duration, which is implausible and suggests data entry or system error\n",
    "- Passenger counts 7–9 are extremely rare and may suffer from sampling bias or logging issues\n",
    "- These edge cases collectively make up a very small share of the data (<0.01%)\n",
    "\n",
    "Required Arrangements\n",
    "- Strongly consider removing or flagging trips where `passenger_count` is 0 or greater than 6\n",
    "- Consider binning `passenger_count` into categories:\n",
    "  - solo (1)\n",
    "  - small group (2–4)\n",
    "  - full load (5–6)\n",
    "  - unknown/invalid (0, 7–9)\n",
    "- Keep `passenger_count` as a numeric or categorical feature for modeling\n",
    "- Use passenger count as an additional signal when filtering unrealistic trip durations or combinations (e.g. 0 passengers with long duration)"
   ],
   "id": "17530423e66f5829"
  },
  {
   "metadata": {
    "ExecuteTime": {
     "end_time": "2025-05-30T16:40:36.973180Z",
     "start_time": "2025-05-30T16:40:36.953626Z"
    }
   },
   "cell_type": "code",
   "source": "taxi_data_raw[\"passenger_count\"].describe()",
   "id": "c14b7aef050d6e79",
   "outputs": [
    {
     "data": {
      "text/plain": [
       "count    1.458644e+06\n",
       "mean     1.664530e+00\n",
       "std      1.314242e+00\n",
       "min      0.000000e+00\n",
       "25%      1.000000e+00\n",
       "50%      1.000000e+00\n",
       "75%      2.000000e+00\n",
       "max      9.000000e+00\n",
       "Name: passenger_count, dtype: float64"
      ]
     },
     "execution_count": 49,
     "metadata": {},
     "output_type": "execute_result"
    }
   ],
   "execution_count": 49
  },
  {
   "metadata": {
    "ExecuteTime": {
     "end_time": "2025-05-30T16:40:37.006240Z",
     "start_time": "2025-05-30T16:40:36.999259Z"
    }
   },
   "cell_type": "code",
   "source": [
    "# Passenger count\n",
    "taxi_data_raw['passenger_count'].value_counts().sort_index()"
   ],
   "id": "71df320baea2d985",
   "outputs": [
    {
     "data": {
      "text/plain": [
       "passenger_count\n",
       "0         60\n",
       "1    1033540\n",
       "2     210318\n",
       "3      59896\n",
       "4      28404\n",
       "5      78088\n",
       "6      48333\n",
       "7          3\n",
       "8          1\n",
       "9          1\n",
       "Name: count, dtype: int64"
      ]
     },
     "execution_count": 50,
     "metadata": {},
     "output_type": "execute_result"
    }
   ],
   "execution_count": 50
  },
  {
   "metadata": {
    "ExecuteTime": {
     "end_time": "2025-05-30T16:40:38.899160Z",
     "start_time": "2025-05-30T16:40:38.819035Z"
    }
   },
   "cell_type": "code",
   "source": [
    "ax = taxi_data_raw['passenger_count'].plot.hist(\n",
    "    bins=range(0, 11),\n",
    "    edgecolor='black',\n",
    "    color='skyblue',\n",
    "    figsize=(8, 4)\n",
    ")\n",
    "\n",
    "ax.set_title(\"Distribution of Passenger Count\")\n",
    "ax.set_xlabel(\"Passenger Count\")\n",
    "ax.set_ylabel(\"Number of Trips\")\n",
    "plt.grid(axis='y', linestyle='--', alpha=0.7)\n",
    "plt.tight_layout()\n",
    "plt.show()"
   ],
   "id": "516f404017ab0073",
   "outputs": [
    {
     "data": {
      "text/plain": [
       "<Figure size 800x400 with 1 Axes>"
      ],
      "image/png": "[encoded data removed]"
     },
     "metadata": {},
     "output_type": "display_data"
    }
   ],
   "execution_count": 51
  },
  {
   "metadata": {
    "ExecuteTime": {
     "end_time": "2025-05-30T17:03:19.493418Z",
     "start_time": "2025-05-30T17:03:19.409460Z"
    }
   },
   "cell_type": "code",
   "source": "taxi_data_raw.groupby('passenger_count')['trip_duration'].mean().plot(kind='bar')",
   "id": "701fe3dcaeb46229",
   "outputs": [
    {
     "data": {
      "text/plain": [
       "<Axes: xlabel='passenger_count'>"
      ]
     },
     "execution_count": 71,
     "metadata": {},
     "output_type": "execute_result"
    },
    {
     "data": {
      "text/plain": [
       "<Figure size 640x480 with 1 Axes>"
      ],
      "image/png": "[encoded data removed]"
     },
     "metadata": {},
     "output_type": "display_data"
    }
   ],
   "execution_count": 71
  },
  {
   "metadata": {},
   "cell_type": "markdown",
   "source": "- Passenger count = 0 has the highest average trip duration, which is not plausible, indicating likely data entry or logging errors",
   "id": "e7b98bd8c13e1832"
  },
  {
   "metadata": {
    "ExecuteTime": {
     "end_time": "2025-05-30T16:49:41.181895Z",
     "start_time": "2025-05-30T16:49:40.881235Z"
    }
   },
   "cell_type": "code",
   "source": [
    "(pd.crosstab(taxi_data_raw['pickup_datetime'].dt.hour, taxi_data_raw['passenger_count']).plot(\n",
    "  kind='bar', stacked=True, figsize=(12, 5)))"
   ],
   "id": "a137e9073a328510",
   "outputs": [
    {
     "data": {
      "text/plain": [
       "<Axes: xlabel='pickup_datetime'>"
      ]
     },
     "execution_count": 60,
     "metadata": {},
     "output_type": "execute_result"
    },
    {
     "data": {
      "text/plain": [
       "<Figure size 1200x500 with 1 Axes>"
      ],
      "image/png": "[encoded data removed]"
     },
     "metadata": {},
     "output_type": "display_data"
    }
   ],
   "execution_count": 60
  },
  {
   "metadata": {},
   "cell_type": "markdown",
   "source": [
    "- Passenger count = 1 dominates at all hours\n",
    "- Group trips (2–4 passengers) are more frequent in the evening and late night"
   ],
   "id": "7556a9392c535e9f"
  },
  {
   "metadata": {
    "ExecuteTime": {
     "end_time": "2025-05-30T16:49:48.468611Z",
     "start_time": "2025-05-30T16:49:48.458035Z"
    }
   },
   "cell_type": "code",
   "source": [
    "edge_cases = taxi_data_raw['passenger_count'].isin([0, 7, 8, 9])\n",
    "edge_cases.mean()"
   ],
   "id": "9e197efba9f9cde6",
   "outputs": [
    {
     "data": {
      "text/plain": [
       "np.float64(4.4561935605946344e-05)"
      ]
     },
     "execution_count": 61,
     "metadata": {},
     "output_type": "execute_result"
    }
   ],
   "execution_count": 61
  },
  {
   "metadata": {},
   "cell_type": "markdown",
   "source": "- Justify whether to filter or re-label rare values",
   "id": "4f1b667c11661606"
  },
  {
   "metadata": {
    "ExecuteTime": {
     "end_time": "2025-05-30T17:12:37.533727Z",
     "start_time": "2025-05-30T17:12:37.517776Z"
    }
   },
   "cell_type": "code",
   "source": [
    "# View rows with passenger_count == 0\n",
    "zero_passenger_trips = taxi_data_raw[taxi_data_raw['passenger_count'] == 0]"
   ],
   "id": "d0bf7c3fcc763783",
   "outputs": [],
   "execution_count": 75
  },
  {
   "metadata": {
    "ExecuteTime": {
     "end_time": "2025-05-30T17:12:39.637724Z",
     "start_time": "2025-05-30T17:12:39.630724Z"
    }
   },
   "cell_type": "code",
   "source": "zero_passenger_trips[['pickup_datetime', 'dropoff_datetime', 'trip_duration']].describe()",
   "id": "d001cbb1bb91c62e",
   "outputs": [
    {
     "data": {
      "text/plain": [
       "                     pickup_datetime               dropoff_datetime  \\\n",
       "count                             60                             60   \n",
       "mean   2016-03-15 22:50:02.650000128  2016-03-15 23:18:41.083333376   \n",
       "min              2016-01-01 05:01:32            2016-01-01 05:01:36   \n",
       "25%    2016-02-01 01:11:45.249999872  2016-02-01 01:12:16.750000128   \n",
       "50%       2016-03-11 11:06:05.500000     2016-03-11 11:24:22.500000   \n",
       "75%       2016-05-06 01:24:55.500000            2016-05-06 01:25:09   \n",
       "max              2016-06-13 05:59:07            2016-06-13 05:59:16   \n",
       "std                              NaN                            NaN   \n",
       "\n",
       "       trip_duration  \n",
       "count      60.000000  \n",
       "mean     1718.433333  \n",
       "min         1.000000  \n",
       "25%         6.750000  \n",
       "50%        20.500000  \n",
       "75%        92.250000  \n",
       "max     85901.000000  \n",
       "std     11072.157098  "
      ],
      "text/html": [
       "<div>\n",
       "<style scoped>\n",
       "    .dataframe tbody tr th:only-of-type {\n",
       "        vertical-align: middle;\n",
       "    }\n",
       "\n",
       "    .dataframe tbody tr th {\n",
       "        vertical-align: top;\n",
       "    }\n",
       "\n",
       "    .dataframe thead th {\n",
       "        text-align: right;\n",
       "    }\n",
       "</style>\n",
       "<table border=\"1\" class=\"dataframe\">\n",
       "  <thead>\n",
       "    <tr style=\"text-align: right;\">\n",
       "      <th></th>\n",
       "      <th>pickup_datetime</th>\n",
       "      <th>dropoff_datetime</th>\n",
       "      <th>trip_duration</th>\n",
       "    </tr>\n",
       "  </thead>\n",
       "  <tbody>\n",
       "    <tr>\n",
       "      <th>count</th>\n",
       "      <td>60</td>\n",
       "      <td>60</td>\n",
       "      <td>60.000000</td>\n",
       "    </tr>\n",
       "    <tr>\n",
       "      <th>mean</th>\n",
       "      <td>2016-03-15 22:50:02.650000128</td>\n",
       "      <td>2016-03-15 23:18:41.083333376</td>\n",
       "      <td>1718.433333</td>\n",
       "    </tr>\n",
       "    <tr>\n",
       "      <th>min</th>\n",
       "      <td>2016-01-01 05:01:32</td>\n",
       "      <td>2016-01-01 05:01:36</td>\n",
       "      <td>1.000000</td>\n",
       "    </tr>\n",
       "    <tr>\n",
       "      <th>25%</th>\n",
       "      <td>2016-02-01 01:11:45.249999872</td>\n",
       "      <td>2016-02-01 01:12:16.750000128</td>\n",
       "      <td>6.750000</td>\n",
       "    </tr>\n",
       "    <tr>\n",
       "      <th>50%</th>\n",
       "      <td>2016-03-11 11:06:05.500000</td>\n",
       "      <td>2016-03-11 11:24:22.500000</td>\n",
       "      <td>20.500000</td>\n",
       "    </tr>\n",
       "    <tr>\n",
       "      <th>75%</th>\n",
       "      <td>2016-05-06 01:24:55.500000</td>\n",
       "      <td>2016-05-06 01:25:09</td>\n",
       "      <td>92.250000</td>\n",
       "    </tr>\n",
       "    <tr>\n",
       "      <th>max</th>\n",
       "      <td>2016-06-13 05:59:07</td>\n",
       "      <td>2016-06-13 05:59:16</td>\n",
       "      <td>85901.000000</td>\n",
       "    </tr>\n",
       "    <tr>\n",
       "      <th>std</th>\n",
       "      <td>NaN</td>\n",
       "      <td>NaN</td>\n",
       "      <td>11072.157098</td>\n",
       "    </tr>\n",
       "  </tbody>\n",
       "</table>\n",
       "</div>"
      ]
     },
     "execution_count": 76,
     "metadata": {},
     "output_type": "execute_result"
    }
   ],
   "execution_count": 76
  },
  {
   "metadata": {},
   "cell_type": "markdown",
   "source": [
    "## Explore pickup_longitude, pickup_latitude & dropoff_longitude, dropoff_latitude\n",
    "\n",
    "1\n",
    "\n",
    "Findings\n",
    "- Some trip locations are probably outside of New York\n",
    "- Coordinate values are numerically valid but not always geographically plausible. Some trips lie outside typical NYC boundaries (latitude 40.5–41.0, longitude −74.3 to −73.6).\n",
    "\n",
    "Required Arrangements\n",
    "- Remove or filter coordinates outside the approximate bounds of NYC\n",
    "- Optionally define bounding boxes for boroughs or airports for further geographic feature\n",
    "engineering"
   ],
   "id": "204e1e0da0b5b061"
  },
  {
   "metadata": {
    "ExecuteTime": {
     "end_time": "2025-05-30T15:26:20.271503Z",
     "start_time": "2025-05-30T15:26:20.088188Z"
    }
   },
   "cell_type": "code",
   "source": [
    "# Summary statistics for coordinates\n",
    "taxi_data_raw[\n",
    "  ['pickup_latitude', 'pickup_longitude', 'dropoff_latitude', 'dropoff_longitude']].describe()"
   ],
   "id": "41558085fa790322",
   "outputs": [
    {
     "data": {
      "text/plain": [
       "       pickup_latitude  pickup_longitude  dropoff_latitude  dropoff_longitude\n",
       "count     1.458644e+06      1.458644e+06      1.458644e+06       1.458644e+06\n",
       "mean      4.075092e+01     -7.397349e+01      4.075180e+01      -7.397342e+01\n",
       "std       3.288119e-02      7.090186e-02      3.589056e-02       7.064327e-02\n",
       "min       3.435970e+01     -1.219333e+02      3.218114e+01      -1.219333e+02\n",
       "25%       4.073735e+01     -7.399187e+01      4.073588e+01      -7.399133e+01\n",
       "50%       4.075410e+01     -7.398174e+01      4.075452e+01      -7.397975e+01\n",
       "75%       4.076836e+01     -7.396733e+01      4.076981e+01      -7.396301e+01\n",
       "max       5.188108e+01     -6.133553e+01      4.392103e+01      -6.133553e+01"
      ],
      "text/html": [
       "<div>\n",
       "<style scoped>\n",
       "    .dataframe tbody tr th:only-of-type {\n",
       "        vertical-align: middle;\n",
       "    }\n",
       "\n",
       "    .dataframe tbody tr th {\n",
       "        vertical-align: top;\n",
       "    }\n",
       "\n",
       "    .dataframe thead th {\n",
       "        text-align: right;\n",
       "    }\n",
       "</style>\n",
       "<table border=\"1\" class=\"dataframe\">\n",
       "  <thead>\n",
       "    <tr style=\"text-align: right;\">\n",
       "      <th></th>\n",
       "      <th>pickup_latitude</th>\n",
       "      <th>pickup_longitude</th>\n",
       "      <th>dropoff_latitude</th>\n",
       "      <th>dropoff_longitude</th>\n",
       "    </tr>\n",
       "  </thead>\n",
       "  <tbody>\n",
       "    <tr>\n",
       "      <th>count</th>\n",
       "      <td>1.458644e+06</td>\n",
       "      <td>1.458644e+06</td>\n",
       "      <td>1.458644e+06</td>\n",
       "      <td>1.458644e+06</td>\n",
       "    </tr>\n",
       "    <tr>\n",
       "      <th>mean</th>\n",
       "      <td>4.075092e+01</td>\n",
       "      <td>-7.397349e+01</td>\n",
       "      <td>4.075180e+01</td>\n",
       "      <td>-7.397342e+01</td>\n",
       "    </tr>\n",
       "    <tr>\n",
       "      <th>std</th>\n",
       "      <td>3.288119e-02</td>\n",
       "      <td>7.090186e-02</td>\n",
       "      <td>3.589056e-02</td>\n",
       "      <td>7.064327e-02</td>\n",
       "    </tr>\n",
       "    <tr>\n",
       "      <th>min</th>\n",
       "      <td>3.435970e+01</td>\n",
       "      <td>-1.219333e+02</td>\n",
       "      <td>3.218114e+01</td>\n",
       "      <td>-1.219333e+02</td>\n",
       "    </tr>\n",
       "    <tr>\n",
       "      <th>25%</th>\n",
       "      <td>4.073735e+01</td>\n",
       "      <td>-7.399187e+01</td>\n",
       "      <td>4.073588e+01</td>\n",
       "      <td>-7.399133e+01</td>\n",
       "    </tr>\n",
       "    <tr>\n",
       "      <th>50%</th>\n",
       "      <td>4.075410e+01</td>\n",
       "      <td>-7.398174e+01</td>\n",
       "      <td>4.075452e+01</td>\n",
       "      <td>-7.397975e+01</td>\n",
       "    </tr>\n",
       "    <tr>\n",
       "      <th>75%</th>\n",
       "      <td>4.076836e+01</td>\n",
       "      <td>-7.396733e+01</td>\n",
       "      <td>4.076981e+01</td>\n",
       "      <td>-7.396301e+01</td>\n",
       "    </tr>\n",
       "    <tr>\n",
       "      <th>max</th>\n",
       "      <td>5.188108e+01</td>\n",
       "      <td>-6.133553e+01</td>\n",
       "      <td>4.392103e+01</td>\n",
       "      <td>-6.133553e+01</td>\n",
       "    </tr>\n",
       "  </tbody>\n",
       "</table>\n",
       "</div>"
      ]
     },
     "execution_count": 20,
     "metadata": {},
     "output_type": "execute_result"
    }
   ],
   "execution_count": 20
  },
  {
   "metadata": {
    "ExecuteTime": {
     "end_time": "2025-05-30T15:26:20.293467Z",
     "start_time": "2025-05-30T15:26:20.281221Z"
    }
   },
   "cell_type": "code",
   "source": [
    "taxi_data_raw[\n",
    "  (taxi_data_raw['pickup_latitude'] < 40.5) | (taxi_data_raw['pickup_latitude'] > 41.0) |\n",
    "  (taxi_data_raw['dropoff_latitude'] < 40.5) | (taxi_data_raw['dropoff_latitude'] > 41.0) |\n",
    "  (taxi_data_raw['pickup_longitude'] < -74.3) | (taxi_data_raw['pickup_longitude'] > -73.6) |\n",
    "  (taxi_data_raw['dropoff_longitude'] < -74.3) | (taxi_data_raw['dropoff_longitude'] > -73.6)]"
   ],
   "id": "811d25955253e3ab",
   "outputs": [
    {
     "data": {
      "text/plain": [
       "                id  vendor_id     pickup_datetime    dropoff_datetime  \\\n",
       "115      id2358953          2 2016-06-27 00:31:28 2016-06-27 01:06:44   \n",
       "991      id1859156          1 2016-02-17 00:54:13 2016-02-17 01:36:27   \n",
       "1101     id3913560          2 2016-01-11 22:48:55 2016-01-11 23:40:20   \n",
       "9565     id0304778          1 2016-02-23 20:38:44 2016-02-23 21:19:17   \n",
       "13006    id3022813          1 2016-06-15 18:02:41 2016-06-15 18:03:18   \n",
       "...            ...        ...                 ...                 ...   \n",
       "1449228  id2148312          2 2016-04-23 22:44:36 2016-04-23 23:31:57   \n",
       "1449384  id3101192          1 2016-05-17 20:43:33 2016-05-17 22:13:12   \n",
       "1450700  id1292498          1 2016-06-23 07:02:07 2016-06-23 08:28:12   \n",
       "1454301  id1367595          2 2016-04-09 01:38:09 2016-04-09 02:14:52   \n",
       "1454727  id3458201          2 2016-05-03 21:39:04 2016-05-03 22:42:51   \n",
       "\n",
       "         passenger_count  pickup_longitude  pickup_latitude  \\\n",
       "115                    1        -73.870819        40.773739   \n",
       "991                    3        -73.969254        40.754047   \n",
       "1101                   2        -74.012657        40.702179   \n",
       "9565                   1        -73.982925        40.761841   \n",
       "13006                  1        -73.558289        40.781223   \n",
       "...                  ...               ...              ...   \n",
       "1449228                1        -73.790451        40.646904   \n",
       "1449384                2        -73.979401        40.752388   \n",
       "1450700                1        -73.782013        40.644894   \n",
       "1454301                1        -74.047142        40.789986   \n",
       "1454727                1        -73.876328        40.772141   \n",
       "\n",
       "         dropoff_longitude  dropoff_latitude store_and_fwd_flag  trip_duration  \n",
       "115             -73.857498         41.017811                  N           2116  \n",
       "991             -73.593582         41.043865                  N           2534  \n",
       "1101            -74.307762         40.567341                  N           3085  \n",
       "9565            -74.379631         40.745274                  N           2433  \n",
       "13006           -73.558281         40.781227                  N             37  \n",
       "...                    ...               ...                ...            ...  \n",
       "1449228         -73.837021         41.061226                  N           2841  \n",
       "1449384         -73.872871         41.040192                  N           5379  \n",
       "1450700         -73.774452         41.031044                  N           5165  \n",
       "1454301         -74.010872         41.112366                  N           2203  \n",
       "1454727         -73.287422         41.138100                  N           3827  \n",
       "\n",
       "[633 rows x 11 columns]"
      ],
      "text/html": [
       "<div>\n",
       "<style scoped>\n",
       "    .dataframe tbody tr th:only-of-type {\n",
       "        vertical-align: middle;\n",
       "    }\n",
       "\n",
       "    .dataframe tbody tr th {\n",
       "        vertical-align: top;\n",
       "    }\n",
       "\n",
       "    .dataframe thead th {\n",
       "        text-align: right;\n",
       "    }\n",
       "</style>\n",
       "<table border=\"1\" class=\"dataframe\">\n",
       "  <thead>\n",
       "    <tr style=\"text-align: right;\">\n",
       "      <th></th>\n",
       "      <th>id</th>\n",
       "      <th>vendor_id</th>\n",
       "      <th>pickup_datetime</th>\n",
       "      <th>dropoff_datetime</th>\n",
       "      <th>passenger_count</th>\n",
       "      <th>pickup_longitude</th>\n",
       "      <th>pickup_latitude</th>\n",
       "      <th>dropoff_longitude</th>\n",
       "      <th>dropoff_latitude</th>\n",
       "      <th>store_and_fwd_flag</th>\n",
       "      <th>trip_duration</th>\n",
       "    </tr>\n",
       "  </thead>\n",
       "  <tbody>\n",
       "    <tr>\n",
       "      <th>115</th>\n",
       "      <td>id2358953</td>\n",
       "      <td>2</td>\n",
       "      <td>2016-06-27 00:31:28</td>\n",
       "      <td>2016-06-27 01:06:44</td>\n",
       "      <td>1</td>\n",
       "      <td>-73.870819</td>\n",
       "      <td>40.773739</td>\n",
       "      <td>-73.857498</td>\n",
       "      <td>41.017811</td>\n",
       "      <td>N</td>\n",
       "      <td>2116</td>\n",
       "    </tr>\n",
       "    <tr>\n",
       "      <th>991</th>\n",
       "      <td>id1859156</td>\n",
       "      <td>1</td>\n",
       "      <td>2016-02-17 00:54:13</td>\n",
       "      <td>2016-02-17 01:36:27</td>\n",
       "      <td>3</td>\n",
       "      <td>-73.969254</td>\n",
       "      <td>40.754047</td>\n",
       "      <td>-73.593582</td>\n",
       "      <td>41.043865</td>\n",
       "      <td>N</td>\n",
       "      <td>2534</td>\n",
       "    </tr>\n",
       "    <tr>\n",
       "      <th>1101</th>\n",
       "      <td>id3913560</td>\n",
       "      <td>2</td>\n",
       "      <td>2016-01-11 22:48:55</td>\n",
       "      <td>2016-01-11 23:40:20</td>\n",
       "      <td>2</td>\n",
       "      <td>-74.012657</td>\n",
       "      <td>40.702179</td>\n",
       "      <td>-74.307762</td>\n",
       "      <td>40.567341</td>\n",
       "      <td>N</td>\n",
       "      <td>3085</td>\n",
       "    </tr>\n",
       "    <tr>\n",
       "      <th>9565</th>\n",
       "      <td>id0304778</td>\n",
       "      <td>1</td>\n",
       "      <td>2016-02-23 20:38:44</td>\n",
       "      <td>2016-02-23 21:19:17</td>\n",
       "      <td>1</td>\n",
       "      <td>-73.982925</td>\n",
       "      <td>40.761841</td>\n",
       "      <td>-74.379631</td>\n",
       "      <td>40.745274</td>\n",
       "      <td>N</td>\n",
       "      <td>2433</td>\n",
       "    </tr>\n",
       "    <tr>\n",
       "      <th>13006</th>\n",
       "      <td>id3022813</td>\n",
       "      <td>1</td>\n",
       "      <td>2016-06-15 18:02:41</td>\n",
       "      <td>2016-06-15 18:03:18</td>\n",
       "      <td>1</td>\n",
       "      <td>-73.558289</td>\n",
       "      <td>40.781223</td>\n",
       "      <td>-73.558281</td>\n",
       "      <td>40.781227</td>\n",
       "      <td>N</td>\n",
       "      <td>37</td>\n",
       "    </tr>\n",
       "    <tr>\n",
       "      <th>...</th>\n",
       "      <td>...</td>\n",
       "      <td>...</td>\n",
       "      <td>...</td>\n",
       "      <td>...</td>\n",
       "      <td>...</td>\n",
       "      <td>...</td>\n",
       "      <td>...</td>\n",
       "      <td>...</td>\n",
       "      <td>...</td>\n",
       "      <td>...</td>\n",
       "      <td>...</td>\n",
       "    </tr>\n",
       "    <tr>\n",
       "      <th>1449228</th>\n",
       "      <td>id2148312</td>\n",
       "      <td>2</td>\n",
       "      <td>2016-04-23 22:44:36</td>\n",
       "      <td>2016-04-23 23:31:57</td>\n",
       "      <td>1</td>\n",
       "      <td>-73.790451</td>\n",
       "      <td>40.646904</td>\n",
       "      <td>-73.837021</td>\n",
       "      <td>41.061226</td>\n",
       "      <td>N</td>\n",
       "      <td>2841</td>\n",
       "    </tr>\n",
       "    <tr>\n",
       "      <th>1449384</th>\n",
       "      <td>id3101192</td>\n",
       "      <td>1</td>\n",
       "      <td>2016-05-17 20:43:33</td>\n",
       "      <td>2016-05-17 22:13:12</td>\n",
       "      <td>2</td>\n",
       "      <td>-73.979401</td>\n",
       "      <td>40.752388</td>\n",
       "      <td>-73.872871</td>\n",
       "      <td>41.040192</td>\n",
       "      <td>N</td>\n",
       "      <td>5379</td>\n",
       "    </tr>\n",
       "    <tr>\n",
       "      <th>1450700</th>\n",
       "      <td>id1292498</td>\n",
       "      <td>1</td>\n",
       "      <td>2016-06-23 07:02:07</td>\n",
       "      <td>2016-06-23 08:28:12</td>\n",
       "      <td>1</td>\n",
       "      <td>-73.782013</td>\n",
       "      <td>40.644894</td>\n",
       "      <td>-73.774452</td>\n",
       "      <td>41.031044</td>\n",
       "      <td>N</td>\n",
       "      <td>5165</td>\n",
       "    </tr>\n",
       "    <tr>\n",
       "      <th>1454301</th>\n",
       "      <td>id1367595</td>\n",
       "      <td>2</td>\n",
       "      <td>2016-04-09 01:38:09</td>\n",
       "      <td>2016-04-09 02:14:52</td>\n",
       "      <td>1</td>\n",
       "      <td>-74.047142</td>\n",
       "      <td>40.789986</td>\n",
       "      <td>-74.010872</td>\n",
       "      <td>41.112366</td>\n",
       "      <td>N</td>\n",
       "      <td>2203</td>\n",
       "    </tr>\n",
       "    <tr>\n",
       "      <th>1454727</th>\n",
       "      <td>id3458201</td>\n",
       "      <td>2</td>\n",
       "      <td>2016-05-03 21:39:04</td>\n",
       "      <td>2016-05-03 22:42:51</td>\n",
       "      <td>1</td>\n",
       "      <td>-73.876328</td>\n",
       "      <td>40.772141</td>\n",
       "      <td>-73.287422</td>\n",
       "      <td>41.138100</td>\n",
       "      <td>N</td>\n",
       "      <td>3827</td>\n",
       "    </tr>\n",
       "  </tbody>\n",
       "</table>\n",
       "<p>633 rows × 11 columns</p>\n",
       "</div>"
      ]
     },
     "execution_count": 21,
     "metadata": {},
     "output_type": "execute_result"
    }
   ],
   "execution_count": 21
  },
  {
   "metadata": {},
   "cell_type": "markdown",
   "source": "Check Rounding errors",
   "id": "9e0424a0f0dbc7bf"
  },
  {
   "metadata": {
    "ExecuteTime": {
     "end_time": "2025-05-30T15:26:20.927485Z",
     "start_time": "2025-05-30T15:26:20.301647Z"
    }
   },
   "cell_type": "code",
   "source": "taxi_data_raw['pickup_longitude'].map(lambda x: str(x)[-3:] == '000').mean()",
   "id": "c3f4f458820dc67",
   "outputs": [
    {
     "data": {
      "text/plain": [
       "np.float64(0.0)"
      ]
     },
     "execution_count": 22,
     "metadata": {},
     "output_type": "execute_result"
    }
   ],
   "execution_count": 22
  },
  {
   "metadata": {
    "ExecuteTime": {
     "end_time": "2025-05-30T15:26:21.557456Z",
     "start_time": "2025-05-30T15:26:20.938045Z"
    }
   },
   "cell_type": "code",
   "source": "taxi_data_raw['pickup_latitude'].map(lambda x: str(x)[-3:] == '000').mean()",
   "id": "264b7500ecd35f9",
   "outputs": [
    {
     "data": {
      "text/plain": [
       "np.float64(0.0)"
      ]
     },
     "execution_count": 23,
     "metadata": {},
     "output_type": "execute_result"
    }
   ],
   "execution_count": 23
  },
  {
   "metadata": {
    "ExecuteTime": {
     "end_time": "2025-05-30T15:26:22.187917Z",
     "start_time": "2025-05-30T15:26:21.567957Z"
    }
   },
   "cell_type": "code",
   "source": "taxi_data_raw['dropoff_latitude'].map(lambda x: str(x)[-3:] == '000').mean()",
   "id": "c7256925451f56e",
   "outputs": [
    {
     "data": {
      "text/plain": [
       "np.float64(0.0)"
      ]
     },
     "execution_count": 24,
     "metadata": {},
     "output_type": "execute_result"
    }
   ],
   "execution_count": 24
  },
  {
   "metadata": {
    "ExecuteTime": {
     "end_time": "2025-05-30T15:26:22.827777Z",
     "start_time": "2025-05-30T15:26:22.194657Z"
    }
   },
   "cell_type": "code",
   "source": "taxi_data_raw['dropoff_longitude'].map(lambda x: str(x)[-3:] == '000').mean()",
   "id": "799f7cb16aa01d85",
   "outputs": [
    {
     "data": {
      "text/plain": [
       "np.float64(0.0)"
      ]
     },
     "execution_count": 25,
     "metadata": {},
     "output_type": "execute_result"
    }
   ],
   "execution_count": 25
  },
  {
   "metadata": {},
   "cell_type": "markdown",
   "source": [
    "## Exploration of Store and forward flag\n",
    "\n",
    "3\n",
    "\n",
    "Findings\n",
    "- store_and_fwd_flag contains mostly N, with a small number of Y. This flag indicates whether the record was stored before forwarding (e.g., due to no signal).\n",
    "- less than 1% with category Y\n",
    "\n",
    "Required Arrangements\n",
    "- less than 1% with category Y are not sent to server immediately - does it have effect on data\n",
    "quality ?\n",
    "- One-hot-encode  store_and_fwd_flag if used in models."
   ],
   "id": "c04560a038ad5346"
  },
  {
   "metadata": {
    "ExecuteTime": {
     "end_time": "2025-05-30T15:26:22.870824Z",
     "start_time": "2025-05-30T15:26:22.838894Z"
    }
   },
   "cell_type": "code",
   "source": "taxi_data_raw['store_and_fwd_flag'].value_counts(normalize=True)",
   "id": "56c66d0b0b2ec494",
   "outputs": [
    {
     "data": {
      "text/plain": [
       "store_and_fwd_flag\n",
       "N    0.994485\n",
       "Y    0.005515\n",
       "Name: proportion, dtype: float64"
      ]
     },
     "execution_count": 26,
     "metadata": {},
     "output_type": "execute_result"
    }
   ],
   "execution_count": 26
  },
  {
   "metadata": {},
   "cell_type": "markdown",
   "source": [
    "## Exploration of trip_duration\n",
    "\n",
    "target variable\n",
    "\n",
    "Findings of the Exploration\n",
    "- Several trips have a duration longer than 2 hours, which is highly unlikely for intra-city NYC taxi rides. A few trips are also shorter than 1 minute, which may indicate errors or missing data.\n",
    "- A subset of trips has identical pickup and dropoff locations but long durations, which is potentially a GPS or logging error.\n",
    "\n",
    "Required Arrangements\n",
    "- Filter out trips with duration < 1 minute or > 2 hours to remove unrealistic records."
   ],
   "id": "6a3606bed0961e51"
  },
  {
   "metadata": {
    "ExecuteTime": {
     "end_time": "2025-05-30T15:26:22.907844Z",
     "start_time": "2025-05-30T15:26:22.880805Z"
    }
   },
   "cell_type": "code",
   "source": [
    "# Summary statistics for trip duration\n",
    "taxi_data_raw['trip_duration'].describe()"
   ],
   "id": "e70598f384108b14",
   "outputs": [
    {
     "data": {
      "text/plain": [
       "count    1.458644e+06\n",
       "mean     9.594923e+02\n",
       "std      5.237432e+03\n",
       "min      1.000000e+00\n",
       "25%      3.970000e+02\n",
       "50%      6.620000e+02\n",
       "75%      1.075000e+03\n",
       "max      3.526282e+06\n",
       "Name: trip_duration, dtype: float64"
      ]
     },
     "execution_count": 27,
     "metadata": {},
     "output_type": "execute_result"
    }
   ],
   "execution_count": 27
  },
  {
   "metadata": {
    "ExecuteTime": {
     "end_time": "2025-05-30T15:26:22.924058Z",
     "start_time": "2025-05-30T15:26:22.918350Z"
    }
   },
   "cell_type": "code",
   "source": [
    "# Check for extreme trip durations\n",
    "taxi_data_raw[taxi_data_raw['trip_duration'] > 3 * 3600]"
   ],
   "id": "7294b1950b4fd69d",
   "outputs": [
    {
     "data": {
      "text/plain": [
       "                id  vendor_id     pickup_datetime    dropoff_datetime  \\\n",
       "531      id3307903          2 2016-02-20 04:03:06 2016-02-21 03:33:00   \n",
       "1134     id1091477          2 2016-05-07 18:36:22 2016-05-08 18:32:11   \n",
       "1865     id3431345          2 2016-06-07 12:58:48 2016-06-08 12:58:00   \n",
       "3442     id1487069          2 2016-02-13 00:21:49 2016-02-14 00:19:05   \n",
       "4172     id3674870          2 2016-03-18 11:54:20 2016-03-19 11:34:17   \n",
       "...            ...        ...                 ...                 ...   \n",
       "1455097  id2798196          2 2016-03-20 03:51:36 2016-03-21 00:00:00   \n",
       "1456458  id2055880          2 2016-02-08 19:11:31 2016-02-09 19:08:44   \n",
       "1457207  id1910950          2 2016-06-08 16:29:12 2016-06-09 16:11:03   \n",
       "1457752  id1215198          2 2016-02-02 11:31:10 2016-02-03 11:29:44   \n",
       "1458076  id2332290          2 2016-04-24 00:58:34 2016-04-25 00:56:16   \n",
       "\n",
       "         passenger_count  pickup_longitude  pickup_latitude  \\\n",
       "531                    3        -74.008102        40.741489   \n",
       "1134                   1        -73.990242        40.750919   \n",
       "1865                   6        -73.954956        40.777649   \n",
       "3442                   1        -73.968590        40.799217   \n",
       "4172                   1        -73.989090        40.736992   \n",
       "...                  ...               ...              ...   \n",
       "1455097                2        -73.969299        40.757301   \n",
       "1456458                3        -73.973282        40.760792   \n",
       "1457207                1        -73.958061        40.800869   \n",
       "1457752                6        -73.972069        40.794220   \n",
       "1458076                1        -73.990479        40.760876   \n",
       "\n",
       "         dropoff_longitude  dropoff_latitude store_and_fwd_flag  trip_duration  \n",
       "531             -74.009956         40.714611                  N          84594  \n",
       "1134            -73.976280         40.750889                  N          86149  \n",
       "1865            -73.981033         40.743713                  N          86352  \n",
       "3442            -73.979584         40.784714                  N          86236  \n",
       "4172            -73.972336         40.751511                  N          85197  \n",
       "...                    ...               ...                ...            ...  \n",
       "1455097         -73.870277         40.709808                  N          72504  \n",
       "1456458         -73.988518         40.764210                  N          86233  \n",
       "1457207         -73.964119         40.805515                  N          85311  \n",
       "1457752         -73.961014         40.806728                  N          86314  \n",
       "1458076         -73.983025         40.764557                  N          86262  \n",
       "\n",
       "[2112 rows x 11 columns]"
      ],
      "text/html": [
       "<div>\n",
       "<style scoped>\n",
       "    .dataframe tbody tr th:only-of-type {\n",
       "        vertical-align: middle;\n",
       "    }\n",
       "\n",
       "    .dataframe tbody tr th {\n",
       "        vertical-align: top;\n",
       "    }\n",
       "\n",
       "    .dataframe thead th {\n",
       "        text-align: right;\n",
       "    }\n",
       "</style>\n",
       "<table border=\"1\" class=\"dataframe\">\n",
       "  <thead>\n",
       "    <tr style=\"text-align: right;\">\n",
       "      <th></th>\n",
       "      <th>id</th>\n",
       "      <th>vendor_id</th>\n",
       "      <th>pickup_datetime</th>\n",
       "      <th>dropoff_datetime</th>\n",
       "      <th>passenger_count</th>\n",
       "      <th>pickup_longitude</th>\n",
       "      <th>pickup_latitude</th>\n",
       "      <th>dropoff_longitude</th>\n",
       "      <th>dropoff_latitude</th>\n",
       "      <th>store_and_fwd_flag</th>\n",
       "      <th>trip_duration</th>\n",
       "    </tr>\n",
       "  </thead>\n",
       "  <tbody>\n",
       "    <tr>\n",
       "      <th>531</th>\n",
       "      <td>id3307903</td>\n",
       "      <td>2</td>\n",
       "      <td>2016-02-20 04:03:06</td>\n",
       "      <td>2016-02-21 03:33:00</td>\n",
       "      <td>3</td>\n",
       "      <td>-74.008102</td>\n",
       "      <td>40.741489</td>\n",
       "      <td>-74.009956</td>\n",
       "      <td>40.714611</td>\n",
       "      <td>N</td>\n",
       "      <td>84594</td>\n",
       "    </tr>\n",
       "    <tr>\n",
       "      <th>1134</th>\n",
       "      <td>id1091477</td>\n",
       "      <td>2</td>\n",
       "      <td>2016-05-07 18:36:22</td>\n",
       "      <td>2016-05-08 18:32:11</td>\n",
       "      <td>1</td>\n",
       "      <td>-73.990242</td>\n",
       "      <td>40.750919</td>\n",
       "      <td>-73.976280</td>\n",
       "      <td>40.750889</td>\n",
       "      <td>N</td>\n",
       "      <td>86149</td>\n",
       "    </tr>\n",
       "    <tr>\n",
       "      <th>1865</th>\n",
       "      <td>id3431345</td>\n",
       "      <td>2</td>\n",
       "      <td>2016-06-07 12:58:48</td>\n",
       "      <td>2016-06-08 12:58:00</td>\n",
       "      <td>6</td>\n",
       "      <td>-73.954956</td>\n",
       "      <td>40.777649</td>\n",
       "      <td>-73.981033</td>\n",
       "      <td>40.743713</td>\n",
       "      <td>N</td>\n",
       "      <td>86352</td>\n",
       "    </tr>\n",
       "    <tr>\n",
       "      <th>3442</th>\n",
       "      <td>id1487069</td>\n",
       "      <td>2</td>\n",
       "      <td>2016-02-13 00:21:49</td>\n",
       "      <td>2016-02-14 00:19:05</td>\n",
       "      <td>1</td>\n",
       "      <td>-73.968590</td>\n",
       "      <td>40.799217</td>\n",
       "      <td>-73.979584</td>\n",
       "      <td>40.784714</td>\n",
       "      <td>N</td>\n",
       "      <td>86236</td>\n",
       "    </tr>\n",
       "    <tr>\n",
       "      <th>4172</th>\n",
       "      <td>id3674870</td>\n",
       "      <td>2</td>\n",
       "      <td>2016-03-18 11:54:20</td>\n",
       "      <td>2016-03-19 11:34:17</td>\n",
       "      <td>1</td>\n",
       "      <td>-73.989090</td>\n",
       "      <td>40.736992</td>\n",
       "      <td>-73.972336</td>\n",
       "      <td>40.751511</td>\n",
       "      <td>N</td>\n",
       "      <td>85197</td>\n",
       "    </tr>\n",
       "    <tr>\n",
       "      <th>...</th>\n",
       "      <td>...</td>\n",
       "      <td>...</td>\n",
       "      <td>...</td>\n",
       "      <td>...</td>\n",
       "      <td>...</td>\n",
       "      <td>...</td>\n",
       "      <td>...</td>\n",
       "      <td>...</td>\n",
       "      <td>...</td>\n",
       "      <td>...</td>\n",
       "      <td>...</td>\n",
       "    </tr>\n",
       "    <tr>\n",
       "      <th>1455097</th>\n",
       "      <td>id2798196</td>\n",
       "      <td>2</td>\n",
       "      <td>2016-03-20 03:51:36</td>\n",
       "      <td>2016-03-21 00:00:00</td>\n",
       "      <td>2</td>\n",
       "      <td>-73.969299</td>\n",
       "      <td>40.757301</td>\n",
       "      <td>-73.870277</td>\n",
       "      <td>40.709808</td>\n",
       "      <td>N</td>\n",
       "      <td>72504</td>\n",
       "    </tr>\n",
       "    <tr>\n",
       "      <th>1456458</th>\n",
       "      <td>id2055880</td>\n",
       "      <td>2</td>\n",
       "      <td>2016-02-08 19:11:31</td>\n",
       "      <td>2016-02-09 19:08:44</td>\n",
       "      <td>3</td>\n",
       "      <td>-73.973282</td>\n",
       "      <td>40.760792</td>\n",
       "      <td>-73.988518</td>\n",
       "      <td>40.764210</td>\n",
       "      <td>N</td>\n",
       "      <td>86233</td>\n",
       "    </tr>\n",
       "    <tr>\n",
       "      <th>1457207</th>\n",
       "      <td>id1910950</td>\n",
       "      <td>2</td>\n",
       "      <td>2016-06-08 16:29:12</td>\n",
       "      <td>2016-06-09 16:11:03</td>\n",
       "      <td>1</td>\n",
       "      <td>-73.958061</td>\n",
       "      <td>40.800869</td>\n",
       "      <td>-73.964119</td>\n",
       "      <td>40.805515</td>\n",
       "      <td>N</td>\n",
       "      <td>85311</td>\n",
       "    </tr>\n",
       "    <tr>\n",
       "      <th>1457752</th>\n",
       "      <td>id1215198</td>\n",
       "      <td>2</td>\n",
       "      <td>2016-02-02 11:31:10</td>\n",
       "      <td>2016-02-03 11:29:44</td>\n",
       "      <td>6</td>\n",
       "      <td>-73.972069</td>\n",
       "      <td>40.794220</td>\n",
       "      <td>-73.961014</td>\n",
       "      <td>40.806728</td>\n",
       "      <td>N</td>\n",
       "      <td>86314</td>\n",
       "    </tr>\n",
       "    <tr>\n",
       "      <th>1458076</th>\n",
       "      <td>id2332290</td>\n",
       "      <td>2</td>\n",
       "      <td>2016-04-24 00:58:34</td>\n",
       "      <td>2016-04-25 00:56:16</td>\n",
       "      <td>1</td>\n",
       "      <td>-73.990479</td>\n",
       "      <td>40.760876</td>\n",
       "      <td>-73.983025</td>\n",
       "      <td>40.764557</td>\n",
       "      <td>N</td>\n",
       "      <td>86262</td>\n",
       "    </tr>\n",
       "  </tbody>\n",
       "</table>\n",
       "<p>2112 rows × 11 columns</p>\n",
       "</div>"
      ]
     },
     "execution_count": 28,
     "metadata": {},
     "output_type": "execute_result"
    }
   ],
   "execution_count": 28
  },
  {
   "metadata": {
    "ExecuteTime": {
     "end_time": "2025-05-30T15:26:22.939192Z",
     "start_time": "2025-05-30T15:26:22.932837Z"
    }
   },
   "cell_type": "code",
   "source": "taxi_data_raw[taxi_data_raw['trip_duration'] < 60]  # < 1 minute",
   "id": "e17729b9653d117b",
   "outputs": [
    {
     "data": {
      "text/plain": [
       "                id  vendor_id     pickup_datetime    dropoff_datetime  \\\n",
       "72       id1510700          2 2016-02-20 21:58:13 2016-02-20 21:59:10   \n",
       "323      id2954399          1 2016-06-27 11:22:37 2016-06-27 11:23:17   \n",
       "842      id3263580          2 2016-05-21 12:46:46 2016-05-21 12:46:49   \n",
       "853      id2730154          2 2016-03-29 22:39:46 2016-03-29 22:40:44   \n",
       "1107     id0729156          2 2016-06-23 13:36:48 2016-06-23 13:36:50   \n",
       "...            ...        ...                 ...                 ...   \n",
       "1458044  id3200588          2 2016-03-12 01:35:35 2016-03-12 01:35:42   \n",
       "1458085  id1326136          2 2016-05-21 12:07:11 2016-05-21 12:07:28   \n",
       "1458140  id0175875          1 2016-03-22 06:18:10 2016-03-22 06:18:47   \n",
       "1458544  id3958653          1 2016-06-16 15:10:11 2016-06-16 15:10:49   \n",
       "1458602  id2089150          1 2016-05-30 14:42:12 2016-05-30 14:42:38   \n",
       "\n",
       "         passenger_count  pickup_longitude  pickup_latitude  \\\n",
       "72                     1        -73.958397        40.772629   \n",
       "323                    1        -74.001030        40.756653   \n",
       "842                    2        -73.782372        40.648766   \n",
       "853                    5        -73.982201        40.731812   \n",
       "1107                   3        -73.827660        40.716175   \n",
       "...                  ...               ...              ...   \n",
       "1458044                1        -74.007378        40.739441   \n",
       "1458085                1        -73.978935        40.762463   \n",
       "1458140                1        -73.991325        40.744934   \n",
       "1458544                1        -73.956459        40.767231   \n",
       "1458602                1        -74.015457        40.708027   \n",
       "\n",
       "         dropoff_longitude  dropoff_latitude store_and_fwd_flag  trip_duration  \n",
       "72              -73.955132         40.774242                  N             57  \n",
       "323             -74.000999         40.756626                  N             40  \n",
       "842             -73.782372         40.648746                  N              3  \n",
       "853             -73.979950         40.734814                  N             58  \n",
       "1107            -73.822113         40.711452                  N              2  \n",
       "...                    ...               ...                ...            ...  \n",
       "1458044         -74.007378         40.739449                  N              7  \n",
       "1458085         -73.977654         40.762012                  N             17  \n",
       "1458140         -73.989388         40.748024                  N             37  \n",
       "1458544         -73.956589         40.767269                  N             38  \n",
       "1458602         -74.015396         40.708138                  N             26  \n",
       "\n",
       "[8595 rows x 11 columns]"
      ],
      "text/html": [
       "<div>\n",
       "<style scoped>\n",
       "    .dataframe tbody tr th:only-of-type {\n",
       "        vertical-align: middle;\n",
       "    }\n",
       "\n",
       "    .dataframe tbody tr th {\n",
       "        vertical-align: top;\n",
       "    }\n",
       "\n",
       "    .dataframe thead th {\n",
       "        text-align: right;\n",
       "    }\n",
       "</style>\n",
       "<table border=\"1\" class=\"dataframe\">\n",
       "  <thead>\n",
       "    <tr style=\"text-align: right;\">\n",
       "      <th></th>\n",
       "      <th>id</th>\n",
       "      <th>vendor_id</th>\n",
       "      <th>pickup_datetime</th>\n",
       "      <th>dropoff_datetime</th>\n",
       "      <th>passenger_count</th>\n",
       "      <th>pickup_longitude</th>\n",
       "      <th>pickup_latitude</th>\n",
       "      <th>dropoff_longitude</th>\n",
       "      <th>dropoff_latitude</th>\n",
       "      <th>store_and_fwd_flag</th>\n",
       "      <th>trip_duration</th>\n",
       "    </tr>\n",
       "  </thead>\n",
       "  <tbody>\n",
       "    <tr>\n",
       "      <th>72</th>\n",
       "      <td>id1510700</td>\n",
       "      <td>2</td>\n",
       "      <td>2016-02-20 21:58:13</td>\n",
       "      <td>2016-02-20 21:59:10</td>\n",
       "      <td>1</td>\n",
       "      <td>-73.958397</td>\n",
       "      <td>40.772629</td>\n",
       "      <td>-73.955132</td>\n",
       "      <td>40.774242</td>\n",
       "      <td>N</td>\n",
       "      <td>57</td>\n",
       "    </tr>\n",
       "    <tr>\n",
       "      <th>323</th>\n",
       "      <td>id2954399</td>\n",
       "      <td>1</td>\n",
       "      <td>2016-06-27 11:22:37</td>\n",
       "      <td>2016-06-27 11:23:17</td>\n",
       "      <td>1</td>\n",
       "      <td>-74.001030</td>\n",
       "      <td>40.756653</td>\n",
       "      <td>-74.000999</td>\n",
       "      <td>40.756626</td>\n",
       "      <td>N</td>\n",
       "      <td>40</td>\n",
       "    </tr>\n",
       "    <tr>\n",
       "      <th>842</th>\n",
       "      <td>id3263580</td>\n",
       "      <td>2</td>\n",
       "      <td>2016-05-21 12:46:46</td>\n",
       "      <td>2016-05-21 12:46:49</td>\n",
       "      <td>2</td>\n",
       "      <td>-73.782372</td>\n",
       "      <td>40.648766</td>\n",
       "      <td>-73.782372</td>\n",
       "      <td>40.648746</td>\n",
       "      <td>N</td>\n",
       "      <td>3</td>\n",
       "    </tr>\n",
       "    <tr>\n",
       "      <th>853</th>\n",
       "      <td>id2730154</td>\n",
       "      <td>2</td>\n",
       "      <td>2016-03-29 22:39:46</td>\n",
       "      <td>2016-03-29 22:40:44</td>\n",
       "      <td>5</td>\n",
       "      <td>-73.982201</td>\n",
       "      <td>40.731812</td>\n",
       "      <td>-73.979950</td>\n",
       "      <td>40.734814</td>\n",
       "      <td>N</td>\n",
       "      <td>58</td>\n",
       "    </tr>\n",
       "    <tr>\n",
       "      <th>1107</th>\n",
       "      <td>id0729156</td>\n",
       "      <td>2</td>\n",
       "      <td>2016-06-23 13:36:48</td>\n",
       "      <td>2016-06-23 13:36:50</td>\n",
       "      <td>3</td>\n",
       "      <td>-73.827660</td>\n",
       "      <td>40.716175</td>\n",
       "      <td>-73.822113</td>\n",
       "      <td>40.711452</td>\n",
       "      <td>N</td>\n",
       "      <td>2</td>\n",
       "    </tr>\n",
       "    <tr>\n",
       "      <th>...</th>\n",
       "      <td>...</td>\n",
       "      <td>...</td>\n",
       "      <td>...</td>\n",
       "      <td>...</td>\n",
       "      <td>...</td>\n",
       "      <td>...</td>\n",
       "      <td>...</td>\n",
       "      <td>...</td>\n",
       "      <td>...</td>\n",
       "      <td>...</td>\n",
       "      <td>...</td>\n",
       "    </tr>\n",
       "    <tr>\n",
       "      <th>1458044</th>\n",
       "      <td>id3200588</td>\n",
       "      <td>2</td>\n",
       "      <td>2016-03-12 01:35:35</td>\n",
       "      <td>2016-03-12 01:35:42</td>\n",
       "      <td>1</td>\n",
       "      <td>-74.007378</td>\n",
       "      <td>40.739441</td>\n",
       "      <td>-74.007378</td>\n",
       "      <td>40.739449</td>\n",
       "      <td>N</td>\n",
       "      <td>7</td>\n",
       "    </tr>\n",
       "    <tr>\n",
       "      <th>1458085</th>\n",
       "      <td>id1326136</td>\n",
       "      <td>2</td>\n",
       "      <td>2016-05-21 12:07:11</td>\n",
       "      <td>2016-05-21 12:07:28</td>\n",
       "      <td>1</td>\n",
       "      <td>-73.978935</td>\n",
       "      <td>40.762463</td>\n",
       "      <td>-73.977654</td>\n",
       "      <td>40.762012</td>\n",
       "      <td>N</td>\n",
       "      <td>17</td>\n",
       "    </tr>\n",
       "    <tr>\n",
       "      <th>1458140</th>\n",
       "      <td>id0175875</td>\n",
       "      <td>1</td>\n",
       "      <td>2016-03-22 06:18:10</td>\n",
       "      <td>2016-03-22 06:18:47</td>\n",
       "      <td>1</td>\n",
       "      <td>-73.991325</td>\n",
       "      <td>40.744934</td>\n",
       "      <td>-73.989388</td>\n",
       "      <td>40.748024</td>\n",
       "      <td>N</td>\n",
       "      <td>37</td>\n",
       "    </tr>\n",
       "    <tr>\n",
       "      <th>1458544</th>\n",
       "      <td>id3958653</td>\n",
       "      <td>1</td>\n",
       "      <td>2016-06-16 15:10:11</td>\n",
       "      <td>2016-06-16 15:10:49</td>\n",
       "      <td>1</td>\n",
       "      <td>-73.956459</td>\n",
       "      <td>40.767231</td>\n",
       "      <td>-73.956589</td>\n",
       "      <td>40.767269</td>\n",
       "      <td>N</td>\n",
       "      <td>38</td>\n",
       "    </tr>\n",
       "    <tr>\n",
       "      <th>1458602</th>\n",
       "      <td>id2089150</td>\n",
       "      <td>1</td>\n",
       "      <td>2016-05-30 14:42:12</td>\n",
       "      <td>2016-05-30 14:42:38</td>\n",
       "      <td>1</td>\n",
       "      <td>-74.015457</td>\n",
       "      <td>40.708027</td>\n",
       "      <td>-74.015396</td>\n",
       "      <td>40.708138</td>\n",
       "      <td>N</td>\n",
       "      <td>26</td>\n",
       "    </tr>\n",
       "  </tbody>\n",
       "</table>\n",
       "<p>8595 rows × 11 columns</p>\n",
       "</div>"
      ]
     },
     "execution_count": 29,
     "metadata": {},
     "output_type": "execute_result"
    }
   ],
   "execution_count": 29
  },
  {
   "metadata": {},
   "cell_type": "markdown",
   "source": "# Multivariat EDA Taxidata",
   "id": "c09a883880c05ad8"
  },
  {
   "metadata": {},
   "cell_type": "markdown",
   "source": [
    "## Geographic distribution\n",
    "\n",
    "Objective of the Exploration\n",
    "- Understand the geographic distribution of pickup and dropoff locations. Detect possible GPS\n",
    "errors, clusters, or unrealistic values."
   ],
   "id": "81cd9a4a4a437499"
  },
  {
   "metadata": {
    "ExecuteTime": {
     "end_time": "2025-05-30T15:26:23.277960Z",
     "start_time": "2025-05-30T15:26:22.946013Z"
    }
   },
   "cell_type": "code",
   "source": [
    "# Scatterplot of pickup and dropoff locations\n",
    "plt.figure(figsize=(6, 6))\n",
    "plt.scatter(taxi_data_raw['pickup_longitude'], taxi_data_raw['pickup_latitude'], s=0.5, alpha=0.1,\n",
    "            label='pickup')\n",
    "plt.scatter(taxi_data_raw['dropoff_longitude'], taxi_data_raw['dropoff_latitude'], s=0.5, alpha=0.1,\n",
    "            label='dropoff')\n",
    "plt.xlim(-74.3, -73.5)\n",
    "plt.ylim(40.50, 41.0)\n",
    "plt.xlabel(\"Longitude\")\n",
    "plt.ylabel(\"Latitude\")\n",
    "plt.legend(loc='upper right')\n",
    "plt.title(\"Geographic Distribution of Taxi Pickups and Dropoffs\")\n",
    "plt.grid(True)\n",
    "plt.tight_layout()\n",
    "plt.show()"
   ],
   "id": "e1127b18916175a9",
   "outputs": [
    {
     "data": {
      "text/plain": [
       "<Figure size 600x600 with 1 Axes>"
      ],
      "image/png": "[encoded data removed]"
     },
     "metadata": {},
     "output_type": "display_data"
    }
   ],
   "execution_count": 30
  },
  {
   "metadata": {},
   "cell_type": "markdown",
   "source": [
    "Findings of the Exploration\n",
    "- Most pickups and dropoffs are located within the NYC area (Manhattan, Brooklyn, Queens).\n",
    "- Some points lie far outside the visible city bounds — likely due to GPS glitches or data corruption.\n",
    "- Clear density clusters appear around Midtown and Downtown Manhattan.\n",
    "\n",
    "Required Arrangements\n",
    "- Later: Remove or filter coordinates outside the approximate bounds of NYC:\n",
    "    - Latitude: 40.5 – 41.0\n",
    "    - Longitude: −74.3 – −73.6\n",
    "- Optionally define bounding boxes for boroughs or airports for further geographic feature engineering."
   ],
   "id": "e33ef62a0b273b36"
  },
  {
   "metadata": {},
   "cell_type": "markdown",
   "source": [
    "## Explore pickup/dropoff & trip_duration\n",
    "\n",
    "Findings\n",
    "- Flag or remove trips where pickup and dropoff locations are (nearly) identical and duration > 5 minutes.\n",
    "\n",
    "Required Arrangements\n",
    "- ...\n"
   ],
   "id": "bcc5c2e334ae7232"
  },
  {
   "metadata": {
    "ExecuteTime": {
     "end_time": "2025-05-30T15:26:23.301918Z",
     "start_time": "2025-05-30T15:26:23.287258Z"
    }
   },
   "cell_type": "code",
   "source": [
    "taxi_data_raw[\n",
    "  (taxi_data_raw['pickup_latitude'].round(5) == taxi_data_raw['dropoff_latitude'].round(5)) &\n",
    "  (taxi_data_raw['pickup_longitude'].round(5) == taxi_data_raw['dropoff_longitude'].round(5)) &\n",
    "  (taxi_data_raw['trip_duration'] > 300)  # more than 5 minutes\n",
    "  ]"
   ],
   "id": "d47542f7228cab00",
   "outputs": [
    {
     "data": {
      "text/plain": [
       "                id  vendor_id     pickup_datetime    dropoff_datetime  \\\n",
       "291      id0924324          2 2016-05-10 18:07:52 2016-05-10 18:26:21   \n",
       "407      id1145809          2 2016-05-16 23:15:13 2016-05-16 23:31:00   \n",
       "702      id3499387          1 2016-01-25 19:45:12 2016-01-25 19:54:52   \n",
       "2609     id1992673          2 2016-03-02 20:10:41 2016-03-02 20:30:53   \n",
       "3014     id3206922          2 2016-04-24 18:38:34 2016-04-24 18:48:32   \n",
       "...            ...        ...                 ...                 ...   \n",
       "1455304  id1799905          2 2016-02-17 08:08:40 2016-02-17 08:16:49   \n",
       "1456135  id1441158          1 2016-03-17 21:53:37 2016-03-17 22:01:16   \n",
       "1456399  id0618137          2 2016-02-17 08:57:04 2016-02-17 09:18:28   \n",
       "1456989  id2595295          2 2016-03-12 07:37:16 2016-03-12 07:46:42   \n",
       "1457114  id0051314          2 2016-04-09 20:34:21 2016-04-09 20:44:53   \n",
       "\n",
       "         passenger_count  pickup_longitude  pickup_latitude  \\\n",
       "291                    2        -73.959068        40.775661   \n",
       "407                    6        -73.808487        40.687336   \n",
       "702                    1        -73.786720        40.647041   \n",
       "2609                   5        -73.875313        40.773682   \n",
       "3014                   1        -73.985168        40.736259   \n",
       "...                  ...               ...              ...   \n",
       "1455304                1        -73.981995        40.759571   \n",
       "1456135                2        -73.978439        40.736889   \n",
       "1456399                1        -73.978859        40.756721   \n",
       "1456989                1        -73.984848        40.728222   \n",
       "1457114                1        -73.965981        40.770988   \n",
       "\n",
       "         dropoff_longitude  dropoff_latitude store_and_fwd_flag  trip_duration  \n",
       "291             -73.959068         40.775661                  N           1109  \n",
       "407             -73.808487         40.687336                  N            947  \n",
       "702             -73.786720         40.647041                  N            580  \n",
       "2609            -73.875313         40.773682                  N           1212  \n",
       "3014            -73.985168         40.736259                  N            598  \n",
       "...                    ...               ...                ...            ...  \n",
       "1455304         -73.981995         40.759571                  N            489  \n",
       "1456135         -73.978439         40.736889                  N            459  \n",
       "1456399         -73.978859         40.756721                  N           1284  \n",
       "1456989         -73.984848         40.728222                  N            566  \n",
       "1457114         -73.965981         40.770988                  N            632  \n",
       "\n",
       "[3195 rows x 11 columns]"
      ],
      "text/html": [
       "<div>\n",
       "<style scoped>\n",
       "    .dataframe tbody tr th:only-of-type {\n",
       "        vertical-align: middle;\n",
       "    }\n",
       "\n",
       "    .dataframe tbody tr th {\n",
       "        vertical-align: top;\n",
       "    }\n",
       "\n",
       "    .dataframe thead th {\n",
       "        text-align: right;\n",
       "    }\n",
       "</style>\n",
       "<table border=\"1\" class=\"dataframe\">\n",
       "  <thead>\n",
       "    <tr style=\"text-align: right;\">\n",
       "      <th></th>\n",
       "      <th>id</th>\n",
       "      <th>vendor_id</th>\n",
       "      <th>pickup_datetime</th>\n",
       "      <th>dropoff_datetime</th>\n",
       "      <th>passenger_count</th>\n",
       "      <th>pickup_longitude</th>\n",
       "      <th>pickup_latitude</th>\n",
       "      <th>dropoff_longitude</th>\n",
       "      <th>dropoff_latitude</th>\n",
       "      <th>store_and_fwd_flag</th>\n",
       "      <th>trip_duration</th>\n",
       "    </tr>\n",
       "  </thead>\n",
       "  <tbody>\n",
       "    <tr>\n",
       "      <th>291</th>\n",
       "      <td>id0924324</td>\n",
       "      <td>2</td>\n",
       "      <td>2016-05-10 18:07:52</td>\n",
       "      <td>2016-05-10 18:26:21</td>\n",
       "      <td>2</td>\n",
       "      <td>-73.959068</td>\n",
       "      <td>40.775661</td>\n",
       "      <td>-73.959068</td>\n",
       "      <td>40.775661</td>\n",
       "      <td>N</td>\n",
       "      <td>1109</td>\n",
       "    </tr>\n",
       "    <tr>\n",
       "      <th>407</th>\n",
       "      <td>id1145809</td>\n",
       "      <td>2</td>\n",
       "      <td>2016-05-16 23:15:13</td>\n",
       "      <td>2016-05-16 23:31:00</td>\n",
       "      <td>6</td>\n",
       "      <td>-73.808487</td>\n",
       "      <td>40.687336</td>\n",
       "      <td>-73.808487</td>\n",
       "      <td>40.687336</td>\n",
       "      <td>N</td>\n",
       "      <td>947</td>\n",
       "    </tr>\n",
       "    <tr>\n",
       "      <th>702</th>\n",
       "      <td>id3499387</td>\n",
       "      <td>1</td>\n",
       "      <td>2016-01-25 19:45:12</td>\n",
       "      <td>2016-01-25 19:54:52</td>\n",
       "      <td>1</td>\n",
       "      <td>-73.786720</td>\n",
       "      <td>40.647041</td>\n",
       "      <td>-73.786720</td>\n",
       "      <td>40.647041</td>\n",
       "      <td>N</td>\n",
       "      <td>580</td>\n",
       "    </tr>\n",
       "    <tr>\n",
       "      <th>2609</th>\n",
       "      <td>id1992673</td>\n",
       "      <td>2</td>\n",
       "      <td>2016-03-02 20:10:41</td>\n",
       "      <td>2016-03-02 20:30:53</td>\n",
       "      <td>5</td>\n",
       "      <td>-73.875313</td>\n",
       "      <td>40.773682</td>\n",
       "      <td>-73.875313</td>\n",
       "      <td>40.773682</td>\n",
       "      <td>N</td>\n",
       "      <td>1212</td>\n",
       "    </tr>\n",
       "    <tr>\n",
       "      <th>3014</th>\n",
       "      <td>id3206922</td>\n",
       "      <td>2</td>\n",
       "      <td>2016-04-24 18:38:34</td>\n",
       "      <td>2016-04-24 18:48:32</td>\n",
       "      <td>1</td>\n",
       "      <td>-73.985168</td>\n",
       "      <td>40.736259</td>\n",
       "      <td>-73.985168</td>\n",
       "      <td>40.736259</td>\n",
       "      <td>N</td>\n",
       "      <td>598</td>\n",
       "    </tr>\n",
       "    <tr>\n",
       "      <th>...</th>\n",
       "      <td>...</td>\n",
       "      <td>...</td>\n",
       "      <td>...</td>\n",
       "      <td>...</td>\n",
       "      <td>...</td>\n",
       "      <td>...</td>\n",
       "      <td>...</td>\n",
       "      <td>...</td>\n",
       "      <td>...</td>\n",
       "      <td>...</td>\n",
       "      <td>...</td>\n",
       "    </tr>\n",
       "    <tr>\n",
       "      <th>1455304</th>\n",
       "      <td>id1799905</td>\n",
       "      <td>2</td>\n",
       "      <td>2016-02-17 08:08:40</td>\n",
       "      <td>2016-02-17 08:16:49</td>\n",
       "      <td>1</td>\n",
       "      <td>-73.981995</td>\n",
       "      <td>40.759571</td>\n",
       "      <td>-73.981995</td>\n",
       "      <td>40.759571</td>\n",
       "      <td>N</td>\n",
       "      <td>489</td>\n",
       "    </tr>\n",
       "    <tr>\n",
       "      <th>1456135</th>\n",
       "      <td>id1441158</td>\n",
       "      <td>1</td>\n",
       "      <td>2016-03-17 21:53:37</td>\n",
       "      <td>2016-03-17 22:01:16</td>\n",
       "      <td>2</td>\n",
       "      <td>-73.978439</td>\n",
       "      <td>40.736889</td>\n",
       "      <td>-73.978439</td>\n",
       "      <td>40.736889</td>\n",
       "      <td>N</td>\n",
       "      <td>459</td>\n",
       "    </tr>\n",
       "    <tr>\n",
       "      <th>1456399</th>\n",
       "      <td>id0618137</td>\n",
       "      <td>2</td>\n",
       "      <td>2016-02-17 08:57:04</td>\n",
       "      <td>2016-02-17 09:18:28</td>\n",
       "      <td>1</td>\n",
       "      <td>-73.978859</td>\n",
       "      <td>40.756721</td>\n",
       "      <td>-73.978859</td>\n",
       "      <td>40.756721</td>\n",
       "      <td>N</td>\n",
       "      <td>1284</td>\n",
       "    </tr>\n",
       "    <tr>\n",
       "      <th>1456989</th>\n",
       "      <td>id2595295</td>\n",
       "      <td>2</td>\n",
       "      <td>2016-03-12 07:37:16</td>\n",
       "      <td>2016-03-12 07:46:42</td>\n",
       "      <td>1</td>\n",
       "      <td>-73.984848</td>\n",
       "      <td>40.728222</td>\n",
       "      <td>-73.984848</td>\n",
       "      <td>40.728222</td>\n",
       "      <td>N</td>\n",
       "      <td>566</td>\n",
       "    </tr>\n",
       "    <tr>\n",
       "      <th>1457114</th>\n",
       "      <td>id0051314</td>\n",
       "      <td>2</td>\n",
       "      <td>2016-04-09 20:34:21</td>\n",
       "      <td>2016-04-09 20:44:53</td>\n",
       "      <td>1</td>\n",
       "      <td>-73.965981</td>\n",
       "      <td>40.770988</td>\n",
       "      <td>-73.965981</td>\n",
       "      <td>40.770988</td>\n",
       "      <td>N</td>\n",
       "      <td>632</td>\n",
       "    </tr>\n",
       "  </tbody>\n",
       "</table>\n",
       "<p>3195 rows × 11 columns</p>\n",
       "</div>"
      ]
     },
     "execution_count": 31,
     "metadata": {},
     "output_type": "execute_result"
    }
   ],
   "execution_count": 31
  },
  {
   "metadata": {},
   "cell_type": "markdown",
   "source": [
    "# Feature Engineering Target variable trip_duration\n",
    "\n",
    "Objective of the Exploration\n",
    "- Understand the distribution and scale of the target variable trip_duration. Identify skewness,\n",
    "outliers, and determine whether transformation is necessary for modeling."
   ],
   "id": "106680787c69f758"
  },
  {
   "metadata": {
    "ExecuteTime": {
     "end_time": "2025-05-30T15:26:23.313314Z",
     "start_time": "2025-05-30T15:26:23.309612Z"
    }
   },
   "cell_type": "code",
   "source": [
    "# Trip duration in minutes\n",
    "taxi_data_raw['trip_duration_min'] = taxi_data_raw['trip_duration'] / 60"
   ],
   "id": "ee4fe78447255c02",
   "outputs": [],
   "execution_count": 32
  },
  {
   "metadata": {
    "ExecuteTime": {
     "end_time": "2025-05-30T15:26:23.401570Z",
     "start_time": "2025-05-30T15:26:23.319918Z"
    }
   },
   "cell_type": "code",
   "source": [
    "# Histogram (capped at 100 minutes for clarity)\n",
    "plt.figure(figsize=(8, 4))\n",
    "plt.hist(taxi_data_raw['trip_duration_min'], bins=100, range=(0, 100), edgecolor='black')\n",
    "plt.title(\"Distribution of Trip Duration (minutes)\")\n",
    "plt.xlabel(\"Trip Duration [min]\")\n",
    "plt.ylabel(\"Frequency\")\n",
    "plt.grid(True)\n",
    "plt.tight_layout()\n",
    "plt.show()"
   ],
   "id": "cf3afac7a638964f",
   "outputs": [
    {
     "data": {
      "text/plain": [
       "<Figure size 800x400 with 1 Axes>"
      ],
      "image/png": "[encoded data removed]"
     },
     "metadata": {},
     "output_type": "display_data"
    }
   ],
   "execution_count": 33
  },
  {
   "metadata": {
    "ExecuteTime": {
     "end_time": "2025-05-30T15:26:23.540611Z",
     "start_time": "2025-05-30T15:26:23.412710Z"
    }
   },
   "cell_type": "code",
   "source": [
    "import numpy as np\n",
    "\n",
    "# Log-transformed trip duration\n",
    "taxi_data_raw['trip_duration_log'] = np.log1p(taxi_data_raw['trip_duration'])\n",
    "\n",
    "plt.figure(figsize=(8, 4))\n",
    "plt.hist(taxi_data_raw['trip_duration_log'], bins=100, edgecolor='black')\n",
    "plt.title(\"Log-Transformed Trip Duration\")\n",
    "plt.xlabel(\"log(1 + trip_duration [s])\")\n",
    "plt.ylabel(\"Frequency\")\n",
    "plt.grid(True)\n",
    "plt.tight_layout()\n",
    "plt.show()"
   ],
   "id": "4dea6ae3e8555dc",
   "outputs": [
    {
     "data": {
      "text/plain": [
       "<Figure size 800x400 with 1 Axes>"
      ],
      "image/png": "[encoded data removed]"
     },
     "metadata": {},
     "output_type": "display_data"
    }
   ],
   "execution_count": 34
  },
  {
   "metadata": {},
   "cell_type": "markdown",
   "source": [
    "Log-Transformed Distribution\n",
    "1. Reduces skewness\n",
    "The original trip durations are highly skewed: most rides are short, but a few last hours. This heavy right tail can distort models.\n",
    "The log transformation compresses large values and spreads out small ones, leading to a more balanced distribution.\n",
    "\n",
    "2. Improves model behavior\n",
    "Many regression algorithms (like linear regression) assume that the target variable is normally distributed or homoscedastic (constant variance).\n",
    "The log-transformed duration better fulfills these assumptions.\n",
    "\n",
    "3. Makes error more meaningful\n",
    "Model errors in log space correspond to multiplicative errors in the original space. This means:\n",
    "- predicting 10 minutes instead of 5 (factor 2) is treated the same as 60 instead of 30.\n",
    "\n",
    "When to avoid it?\n",
    "- If your model or interpretation needs durations in raw units.\n",
    "- If your duration already has a narrow, well-behaved range (not the case here).\n",
    "\n",
    "***\n",
    "\n",
    "Findings of the Exploration\n",
    "- The original distribution is strongly right-skewed: most trips last less than 30 minutes, but some exceed 2 hours.\n",
    "- A log-transformation significantly stabilizes the distribution, making it more suitable for linear models or models assuming normality.\n",
    "- A few extreme values (very long trips) may distort the mean or variance if unfiltered.\n",
    "\n",
    "\n",
    "Required Arrangements\n",
    "- Use the log-transformed trip_duration_log as target variable for regression models.\n",
    "- Keep trip_duration_min for interpretability and visual analysis.\n",
    "- Consider capping or removing values >2 hours depending on modeling strategy.\n"
   ],
   "id": "5e2be2e44d226e50"
  },
  {
   "metadata": {},
   "cell_type": "markdown",
   "source": [
    "## Extracting time-based features\n",
    "\n",
    "Objective of the Exploration\n",
    "- Extract interpretable and useful temporal features from the pickup_datetime to support\n",
    "seasonality analysis, rush-hour detection, and feature generation for modeling."
   ],
   "id": "9d111917080001b0"
  },
  {
   "metadata": {
    "ExecuteTime": {
     "end_time": "2025-05-30T15:26:23.707771Z",
     "start_time": "2025-05-30T15:26:23.553196Z"
    }
   },
   "cell_type": "code",
   "source": [
    "# Basic datetime features\n",
    "taxi_data_raw['pickup_hour'] = taxi_data_raw['pickup_datetime'].dt.hour\n",
    "taxi_data_raw['pickup_dayofweek'] = taxi_data_raw['pickup_datetime'].dt.dayofweek  # 0 = Monday\n",
    "taxi_data_raw['pickup_month'] = taxi_data_raw['pickup_datetime'].dt.month\n",
    "\n",
    "# Day of year and hour of year (for merging with weather)\n",
    "taxi_data_raw['pickup_dayofyear'] = taxi_data_raw['pickup_datetime'].dt.dayofyear\n",
    "taxi_data_raw['pickup_hourofyear'] = (taxi_data_raw['pickup_dayofyear'] - 1) * 24 + taxi_data_raw[\n",
    "  'pickup_hour']"
   ],
   "id": "947bf1a4ba55c67e",
   "outputs": [],
   "execution_count": 35
  },
  {
   "metadata": {},
   "cell_type": "markdown",
   "source": [
    "Findings of the Exploration\n",
    "- These features capture weekly and daily cycles in traffic (e.g. rush hour, weekday vs. weekend).\n",
    "- pickup_hourofyear is especially useful for merging with hourly weather data.\n",
    "- No anomalies found in datetime values; extraction is stable and complete.\n",
    "\n",
    "Required Arrangements\n",
    "- Keep these features for modeling as numeric or categorical inputs.\n",
    "- Optional: encode pickup_dayofweek or pickup_hour cyclically (e.g. using sin/cos) for tree-free models.\n",
    "- Use pickup_hourofyear for weather-data joins."
   ],
   "id": "931f5cc62699259a"
  },
  {
   "metadata": {
    "ExecuteTime": {
     "end_time": "2025-05-30T15:26:23.721851Z",
     "start_time": "2025-05-30T15:26:23.715647Z"
    }
   },
   "cell_type": "code",
   "source": "taxi_data_raw",
   "id": "38fa35a630e908f7",
   "outputs": [
    {
     "data": {
      "text/plain": [
       "                id  vendor_id     pickup_datetime    dropoff_datetime  \\\n",
       "0        id2875421          2 2016-03-14 17:24:55 2016-03-14 17:32:30   \n",
       "1        id2377394          1 2016-06-12 00:43:35 2016-06-12 00:54:38   \n",
       "2        id3858529          2 2016-01-19 11:35:24 2016-01-19 12:10:48   \n",
       "3        id3504673          2 2016-04-06 19:32:31 2016-04-06 19:39:40   \n",
       "4        id2181028          2 2016-03-26 13:30:55 2016-03-26 13:38:10   \n",
       "...            ...        ...                 ...                 ...   \n",
       "1458639  id2376096          2 2016-04-08 13:31:04 2016-04-08 13:44:02   \n",
       "1458640  id1049543          1 2016-01-10 07:35:15 2016-01-10 07:46:10   \n",
       "1458641  id2304944          2 2016-04-22 06:57:41 2016-04-22 07:10:25   \n",
       "1458642  id2714485          1 2016-01-05 15:56:26 2016-01-05 16:02:39   \n",
       "1458643  id1209952          1 2016-04-05 14:44:25 2016-04-05 14:47:43   \n",
       "\n",
       "         passenger_count  pickup_longitude  pickup_latitude  \\\n",
       "0                      1        -73.982155        40.767937   \n",
       "1                      1        -73.980415        40.738564   \n",
       "2                      1        -73.979027        40.763939   \n",
       "3                      1        -74.010040        40.719971   \n",
       "4                      1        -73.973053        40.793209   \n",
       "...                  ...               ...              ...   \n",
       "1458639                4        -73.982201        40.745522   \n",
       "1458640                1        -74.000946        40.747379   \n",
       "1458641                1        -73.959129        40.768799   \n",
       "1458642                1        -73.982079        40.749062   \n",
       "1458643                1        -73.979538        40.781750   \n",
       "\n",
       "         dropoff_longitude  dropoff_latitude store_and_fwd_flag  \\\n",
       "0               -73.964630         40.765602                  N   \n",
       "1               -73.999481         40.731152                  N   \n",
       "2               -74.005333         40.710087                  N   \n",
       "3               -74.012268         40.706718                  N   \n",
       "4               -73.972923         40.782520                  N   \n",
       "...                    ...               ...                ...   \n",
       "1458639         -73.994911         40.740170                  N   \n",
       "1458640         -73.970184         40.796547                  N   \n",
       "1458641         -74.004433         40.707371                  N   \n",
       "1458642         -73.974632         40.757107                  N   \n",
       "1458643         -73.972809         40.790585                  N   \n",
       "\n",
       "         trip_duration  trip_duration_min  trip_duration_log  pickup_hour  \\\n",
       "0                  455           7.583333           6.122493           17   \n",
       "1                  663          11.050000           6.498282            0   \n",
       "2                 2124          35.400000           7.661527           11   \n",
       "3                  429           7.150000           6.063785           19   \n",
       "4                  435           7.250000           6.077642           13   \n",
       "...                ...                ...                ...          ...   \n",
       "1458639            778          12.966667           6.658011           13   \n",
       "1458640            655          10.916667           6.486161            7   \n",
       "1458641            764          12.733333           6.639876            6   \n",
       "1458642            373           6.216667           5.924256           15   \n",
       "1458643            198           3.300000           5.293305           14   \n",
       "\n",
       "         pickup_dayofweek  pickup_month  pickup_dayofyear  pickup_hourofyear  \n",
       "0                       0             3                74               1769  \n",
       "1                       6             6               164               3912  \n",
       "2                       1             1                19                443  \n",
       "3                       2             4                97               2323  \n",
       "4                       5             3                86               2053  \n",
       "...                   ...           ...               ...                ...  \n",
       "1458639                 4             4                99               2365  \n",
       "1458640                 6             1                10                223  \n",
       "1458641                 4             4               113               2694  \n",
       "1458642                 1             1                 5                111  \n",
       "1458643                 1             4                96               2294  \n",
       "\n",
       "[1458644 rows x 18 columns]"
      ],
      "text/html": [
       "<div>\n",
       "<style scoped>\n",
       "    .dataframe tbody tr th:only-of-type {\n",
       "        vertical-align: middle;\n",
       "    }\n",
       "\n",
       "    .dataframe tbody tr th {\n",
       "        vertical-align: top;\n",
       "    }\n",
       "\n",
       "    .dataframe thead th {\n",
       "        text-align: right;\n",
       "    }\n",
       "</style>\n",
       "<table border=\"1\" class=\"dataframe\">\n",
       "  <thead>\n",
       "    <tr style=\"text-align: right;\">\n",
       "      <th></th>\n",
       "      <th>id</th>\n",
       "      <th>vendor_id</th>\n",
       "      <th>pickup_datetime</th>\n",
       "      <th>dropoff_datetime</th>\n",
       "      <th>passenger_count</th>\n",
       "      <th>pickup_longitude</th>\n",
       "      <th>pickup_latitude</th>\n",
       "      <th>dropoff_longitude</th>\n",
       "      <th>dropoff_latitude</th>\n",
       "      <th>store_and_fwd_flag</th>\n",
       "      <th>trip_duration</th>\n",
       "      <th>trip_duration_min</th>\n",
       "      <th>trip_duration_log</th>\n",
       "      <th>pickup_hour</th>\n",
       "      <th>pickup_dayofweek</th>\n",
       "      <th>pickup_month</th>\n",
       "      <th>pickup_dayofyear</th>\n",
       "      <th>pickup_hourofyear</th>\n",
       "    </tr>\n",
       "  </thead>\n",
       "  <tbody>\n",
       "    <tr>\n",
       "      <th>0</th>\n",
       "      <td>id2875421</td>\n",
       "      <td>2</td>\n",
       "      <td>2016-03-14 17:24:55</td>\n",
       "      <td>2016-03-14 17:32:30</td>\n",
       "      <td>1</td>\n",
       "      <td>-73.982155</td>\n",
       "      <td>40.767937</td>\n",
       "      <td>-73.964630</td>\n",
       "      <td>40.765602</td>\n",
       "      <td>N</td>\n",
       "      <td>455</td>\n",
       "      <td>7.583333</td>\n",
       "      <td>6.122493</td>\n",
       "      <td>17</td>\n",
       "      <td>0</td>\n",
       "      <td>3</td>\n",
       "      <td>74</td>\n",
       "      <td>1769</td>\n",
       "    </tr>\n",
       "    <tr>\n",
       "      <th>1</th>\n",
       "      <td>id2377394</td>\n",
       "      <td>1</td>\n",
       "      <td>2016-06-12 00:43:35</td>\n",
       "      <td>2016-06-12 00:54:38</td>\n",
       "      <td>1</td>\n",
       "      <td>-73.980415</td>\n",
       "      <td>40.738564</td>\n",
       "      <td>-73.999481</td>\n",
       "      <td>40.731152</td>\n",
       "      <td>N</td>\n",
       "      <td>663</td>\n",
       "      <td>11.050000</td>\n",
       "      <td>6.498282</td>\n",
       "      <td>0</td>\n",
       "      <td>6</td>\n",
       "      <td>6</td>\n",
       "      <td>164</td>\n",
       "      <td>3912</td>\n",
       "    </tr>\n",
       "    <tr>\n",
       "      <th>2</th>\n",
       "      <td>id3858529</td>\n",
       "      <td>2</td>\n",
       "      <td>2016-01-19 11:35:24</td>\n",
       "      <td>2016-01-19 12:10:48</td>\n",
       "      <td>1</td>\n",
       "      <td>-73.979027</td>\n",
       "      <td>40.763939</td>\n",
       "      <td>-74.005333</td>\n",
       "      <td>40.710087</td>\n",
       "      <td>N</td>\n",
       "      <td>2124</td>\n",
       "      <td>35.400000</td>\n",
       "      <td>7.661527</td>\n",
       "      <td>11</td>\n",
       "      <td>1</td>\n",
       "      <td>1</td>\n",
       "      <td>19</td>\n",
       "      <td>443</td>\n",
       "    </tr>\n",
       "    <tr>\n",
       "      <th>3</th>\n",
       "      <td>id3504673</td>\n",
       "      <td>2</td>\n",
       "      <td>2016-04-06 19:32:31</td>\n",
       "      <td>2016-04-06 19:39:40</td>\n",
       "      <td>1</td>\n",
       "      <td>-74.010040</td>\n",
       "      <td>40.719971</td>\n",
       "      <td>-74.012268</td>\n",
       "      <td>40.706718</td>\n",
       "      <td>N</td>\n",
       "      <td>429</td>\n",
       "      <td>7.150000</td>\n",
       "      <td>6.063785</td>\n",
       "      <td>19</td>\n",
       "      <td>2</td>\n",
       "      <td>4</td>\n",
       "      <td>97</td>\n",
       "      <td>2323</td>\n",
       "    </tr>\n",
       "    <tr>\n",
       "      <th>4</th>\n",
       "      <td>id2181028</td>\n",
       "      <td>2</td>\n",
       "      <td>2016-03-26 13:30:55</td>\n",
       "      <td>2016-03-26 13:38:10</td>\n",
       "      <td>1</td>\n",
       "      <td>-73.973053</td>\n",
       "      <td>40.793209</td>\n",
       "      <td>-73.972923</td>\n",
       "      <td>40.782520</td>\n",
       "      <td>N</td>\n",
       "      <td>435</td>\n",
       "      <td>7.250000</td>\n",
       "      <td>6.077642</td>\n",
       "      <td>13</td>\n",
       "      <td>5</td>\n",
       "      <td>3</td>\n",
       "      <td>86</td>\n",
       "      <td>2053</td>\n",
       "    </tr>\n",
       "    <tr>\n",
       "      <th>...</th>\n",
       "      <td>...</td>\n",
       "      <td>...</td>\n",
       "      <td>...</td>\n",
       "      <td>...</td>\n",
       "      <td>...</td>\n",
       "      <td>...</td>\n",
       "      <td>...</td>\n",
       "      <td>...</td>\n",
       "      <td>...</td>\n",
       "      <td>...</td>\n",
       "      <td>...</td>\n",
       "      <td>...</td>\n",
       "      <td>...</td>\n",
       "      <td>...</td>\n",
       "      <td>...</td>\n",
       "      <td>...</td>\n",
       "      <td>...</td>\n",
       "      <td>...</td>\n",
       "    </tr>\n",
       "    <tr>\n",
       "      <th>1458639</th>\n",
       "      <td>id2376096</td>\n",
       "      <td>2</td>\n",
       "      <td>2016-04-08 13:31:04</td>\n",
       "      <td>2016-04-08 13:44:02</td>\n",
       "      <td>4</td>\n",
       "      <td>-73.982201</td>\n",
       "      <td>40.745522</td>\n",
       "      <td>-73.994911</td>\n",
       "      <td>40.740170</td>\n",
       "      <td>N</td>\n",
       "      <td>778</td>\n",
       "      <td>12.966667</td>\n",
       "      <td>6.658011</td>\n",
       "      <td>13</td>\n",
       "      <td>4</td>\n",
       "      <td>4</td>\n",
       "      <td>99</td>\n",
       "      <td>2365</td>\n",
       "    </tr>\n",
       "    <tr>\n",
       "      <th>1458640</th>\n",
       "      <td>id1049543</td>\n",
       "      <td>1</td>\n",
       "      <td>2016-01-10 07:35:15</td>\n",
       "      <td>2016-01-10 07:46:10</td>\n",
       "      <td>1</td>\n",
       "      <td>-74.000946</td>\n",
       "      <td>40.747379</td>\n",
       "      <td>-73.970184</td>\n",
       "      <td>40.796547</td>\n",
       "      <td>N</td>\n",
       "      <td>655</td>\n",
       "      <td>10.916667</td>\n",
       "      <td>6.486161</td>\n",
       "      <td>7</td>\n",
       "      <td>6</td>\n",
       "      <td>1</td>\n",
       "      <td>10</td>\n",
       "      <td>223</td>\n",
       "    </tr>\n",
       "    <tr>\n",
       "      <th>1458641</th>\n",
       "      <td>id2304944</td>\n",
       "      <td>2</td>\n",
       "      <td>2016-04-22 06:57:41</td>\n",
       "      <td>2016-04-22 07:10:25</td>\n",
       "      <td>1</td>\n",
       "      <td>-73.959129</td>\n",
       "      <td>40.768799</td>\n",
       "      <td>-74.004433</td>\n",
       "      <td>40.707371</td>\n",
       "      <td>N</td>\n",
       "      <td>764</td>\n",
       "      <td>12.733333</td>\n",
       "      <td>6.639876</td>\n",
       "      <td>6</td>\n",
       "      <td>4</td>\n",
       "      <td>4</td>\n",
       "      <td>113</td>\n",
       "      <td>2694</td>\n",
       "    </tr>\n",
       "    <tr>\n",
       "      <th>1458642</th>\n",
       "      <td>id2714485</td>\n",
       "      <td>1</td>\n",
       "      <td>2016-01-05 15:56:26</td>\n",
       "      <td>2016-01-05 16:02:39</td>\n",
       "      <td>1</td>\n",
       "      <td>-73.982079</td>\n",
       "      <td>40.749062</td>\n",
       "      <td>-73.974632</td>\n",
       "      <td>40.757107</td>\n",
       "      <td>N</td>\n",
       "      <td>373</td>\n",
       "      <td>6.216667</td>\n",
       "      <td>5.924256</td>\n",
       "      <td>15</td>\n",
       "      <td>1</td>\n",
       "      <td>1</td>\n",
       "      <td>5</td>\n",
       "      <td>111</td>\n",
       "    </tr>\n",
       "    <tr>\n",
       "      <th>1458643</th>\n",
       "      <td>id1209952</td>\n",
       "      <td>1</td>\n",
       "      <td>2016-04-05 14:44:25</td>\n",
       "      <td>2016-04-05 14:47:43</td>\n",
       "      <td>1</td>\n",
       "      <td>-73.979538</td>\n",
       "      <td>40.781750</td>\n",
       "      <td>-73.972809</td>\n",
       "      <td>40.790585</td>\n",
       "      <td>N</td>\n",
       "      <td>198</td>\n",
       "      <td>3.300000</td>\n",
       "      <td>5.293305</td>\n",
       "      <td>14</td>\n",
       "      <td>1</td>\n",
       "      <td>4</td>\n",
       "      <td>96</td>\n",
       "      <td>2294</td>\n",
       "    </tr>\n",
       "  </tbody>\n",
       "</table>\n",
       "<p>1458644 rows × 18 columns</p>\n",
       "</div>"
      ]
     },
     "execution_count": 36,
     "metadata": {},
     "output_type": "execute_result"
    }
   ],
   "execution_count": 36
  },
  {
   "metadata": {
    "ExecuteTime": {
     "end_time": "2025-05-30T15:26:23.731611Z",
     "start_time": "2025-05-30T15:26:23.730365Z"
    }
   },
   "cell_type": "code",
   "source": "",
   "id": "cc244513025cd5d1",
   "outputs": [],
   "execution_count": null
  }
 ],
 "metadata": {
  "kernelspec": {
   "display_name": "Python 3",
   "language": "python",
   "name": "python3"
  },
  "language_info": {
   "codemirror_mode": {
    "name": "ipython",
    "version": 2
   },
   "file_extension": ".py",
   "mimetype": "text/x-python",
   "name": "python",
   "nbconvert_exporter": "python",
   "pygments_lexer": "ipython2",
   "version": "2.7.6"
  }
 },
 "nbformat": 4,
 "nbformat_minor": 5
}
