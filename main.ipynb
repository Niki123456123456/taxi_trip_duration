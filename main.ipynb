{
 "cells": [
  {
   "cell_type": "code",
   "id": "initial_id",
   "metadata": {
    "collapsed": true,
    "ExecuteTime": {
     "end_time": "2025-05-23T08:11:04.000330Z",
     "start_time": "2025-05-23T08:11:03.192011Z"
    }
   },
   "source": [
    "from pathlib import Path\n",
    "from zipfile import ZipFile\n",
    "import pandas as pd\n",
    "import pickle\n",
    "from kaggle.api.kaggle_api_extended import KaggleApi\n",
    "import matplotlib.pyplot as plt\n"
   ],
   "outputs": [
    {
     "name": "stderr",
     "output_type": "stream",
     "text": [
      "/Users/Wendo99/miniconda3/envs/NYC_Taxi/lib/python3.12/site-packages/requests/__init__.py:86: RequestsDependencyWarning: Unable to find acceptable character detection dependency (chardet or charset_normalizer).\n",
      "  warnings.warn(\n"
     ]
    }
   ],
   "execution_count": 1
  },
  {
   "metadata": {},
   "cell_type": "markdown",
   "source": "Load and unzip taxidata",
   "id": "efed8dd6702e92be"
  },
  {
   "metadata": {
    "ExecuteTime": {
     "end_time": "2025-05-23T08:11:21.099087Z",
     "start_time": "2025-05-23T08:11:04.003565Z"
    }
   },
   "cell_type": "code",
   "source": [
    "def load_taxi_data():\n",
    "    download_file_name = \"nyc-taxi-trip-duration.zip\"\n",
    "    data_dir = Path(\"data_packages\")\n",
    "    extracted_dir = Path(\"data\")\n",
    "    csv_path = extracted_dir / \"train.csv\"\n",
    "    pkl_path = extracted_dir / \"train.pkl\"\n",
    "\n",
    "    zip_path = data_dir / download_file_name\n",
    "\n",
    "    # Schritt 0: Schneller CSV-Zugriff über Cache (falls vorhanden)\n",
    "    if pkl_path.is_file():\n",
    "        with open(pkl_path, \"rb\") as f:\n",
    "            return pickle.load(f)\n",
    "\n",
    "    # Schritt 1: Download nur wenn ZIP noch fehlt\n",
    "    if not zip_path.is_file():\n",
    "        data_dir.mkdir(parents=True, exist_ok=True)\n",
    "        api = KaggleApi()\n",
    "        api.authenticate()\n",
    "        api.competition_download_files(\"nyc-taxi-trip-duration\", path=data_dir)\n",
    "\n",
    "    # Schritt 2: Entpacke ZIP nur, wenn innere ZIPs fehlen\n",
    "    inner_zip_names = {\"train.zip\", \"test.zip\", \"sample_submission.zip\"}\n",
    "    existing_inner_zips = {z.name for z in data_dir.glob(\"*.zip\")}\n",
    "    missing_inner_zips = inner_zip_names - existing_inner_zips\n",
    "\n",
    "    if missing_inner_zips:\n",
    "        with ZipFile(zip_path, 'r') as outer_zip:\n",
    "            outer_zip.extractall(data_dir)\n",
    "\n",
    "    # Schritt 3: Entpacke nur fehlende CSVs aus inneren ZIPs\n",
    "    extracted_dir.mkdir(parents=True, exist_ok=True)\n",
    "    for inner_zip in data_dir.glob(\"*.zip\"):\n",
    "        with ZipFile(inner_zip, 'r') as zip_ref:\n",
    "            for member in zip_ref.namelist():\n",
    "                if member.endswith(\".csv\"):\n",
    "                    target_file = extracted_dir / Path(member).name\n",
    "                    if not target_file.is_file():\n",
    "                        zip_ref.extract(member, path=extracted_dir)\n",
    "\n",
    "    # Schritt 4: CSV laden und pkl-Cache speichern\n",
    "    if not csv_path.is_file():\n",
    "        raise FileNotFoundError(f\"'{csv_path}' wurde nicht gefunden – Entpackung fehlgeschlagen.\")\n",
    "\n",
    "    df = pd.read_csv(csv_path)\n",
    "    with open(pkl_path, \"wb\") as f:\n",
    "        pickle.dump(df, f)\n",
    "\n",
    "    return df\n",
    "\n",
    "# Anwendung\n",
    "taxi = load_taxi_data()"
   ],
   "id": "600d536fa666d9a",
   "outputs": [],
   "execution_count": 2
  },
  {
   "metadata": {},
   "cell_type": "markdown",
   "source": "Explore taxi data",
   "id": "7950164dcaa9e8b6"
  },
  {
   "metadata": {
    "ExecuteTime": {
     "end_time": "2025-05-23T08:11:21.208762Z",
     "start_time": "2025-05-23T08:11:21.202749Z"
    }
   },
   "cell_type": "code",
   "source": "taxi.head()",
   "id": "98755a2f9973cb90",
   "outputs": [
    {
     "data": {
      "text/plain": [
       "          id  vendor_id      pickup_datetime     dropoff_datetime  \\\n",
       "0  id2875421          2  2016-03-14 17:24:55  2016-03-14 17:32:30   \n",
       "1  id2377394          1  2016-06-12 00:43:35  2016-06-12 00:54:38   \n",
       "2  id3858529          2  2016-01-19 11:35:24  2016-01-19 12:10:48   \n",
       "3  id3504673          2  2016-04-06 19:32:31  2016-04-06 19:39:40   \n",
       "4  id2181028          2  2016-03-26 13:30:55  2016-03-26 13:38:10   \n",
       "\n",
       "   passenger_count  pickup_longitude  pickup_latitude  dropoff_longitude  \\\n",
       "0                1        -73.982155        40.767937         -73.964630   \n",
       "1                1        -73.980415        40.738564         -73.999481   \n",
       "2                1        -73.979027        40.763939         -74.005333   \n",
       "3                1        -74.010040        40.719971         -74.012268   \n",
       "4                1        -73.973053        40.793209         -73.972923   \n",
       "\n",
       "   dropoff_latitude store_and_fwd_flag  trip_duration  \n",
       "0         40.765602                  N            455  \n",
       "1         40.731152                  N            663  \n",
       "2         40.710087                  N           2124  \n",
       "3         40.706718                  N            429  \n",
       "4         40.782520                  N            435  "
      ],
      "text/html": [
       "<div>\n",
       "<style scoped>\n",
       "    .dataframe tbody tr th:only-of-type {\n",
       "        vertical-align: middle;\n",
       "    }\n",
       "\n",
       "    .dataframe tbody tr th {\n",
       "        vertical-align: top;\n",
       "    }\n",
       "\n",
       "    .dataframe thead th {\n",
       "        text-align: right;\n",
       "    }\n",
       "</style>\n",
       "<table border=\"1\" class=\"dataframe\">\n",
       "  <thead>\n",
       "    <tr style=\"text-align: right;\">\n",
       "      <th></th>\n",
       "      <th>id</th>\n",
       "      <th>vendor_id</th>\n",
       "      <th>pickup_datetime</th>\n",
       "      <th>dropoff_datetime</th>\n",
       "      <th>passenger_count</th>\n",
       "      <th>pickup_longitude</th>\n",
       "      <th>pickup_latitude</th>\n",
       "      <th>dropoff_longitude</th>\n",
       "      <th>dropoff_latitude</th>\n",
       "      <th>store_and_fwd_flag</th>\n",
       "      <th>trip_duration</th>\n",
       "    </tr>\n",
       "  </thead>\n",
       "  <tbody>\n",
       "    <tr>\n",
       "      <th>0</th>\n",
       "      <td>id2875421</td>\n",
       "      <td>2</td>\n",
       "      <td>2016-03-14 17:24:55</td>\n",
       "      <td>2016-03-14 17:32:30</td>\n",
       "      <td>1</td>\n",
       "      <td>-73.982155</td>\n",
       "      <td>40.767937</td>\n",
       "      <td>-73.964630</td>\n",
       "      <td>40.765602</td>\n",
       "      <td>N</td>\n",
       "      <td>455</td>\n",
       "    </tr>\n",
       "    <tr>\n",
       "      <th>1</th>\n",
       "      <td>id2377394</td>\n",
       "      <td>1</td>\n",
       "      <td>2016-06-12 00:43:35</td>\n",
       "      <td>2016-06-12 00:54:38</td>\n",
       "      <td>1</td>\n",
       "      <td>-73.980415</td>\n",
       "      <td>40.738564</td>\n",
       "      <td>-73.999481</td>\n",
       "      <td>40.731152</td>\n",
       "      <td>N</td>\n",
       "      <td>663</td>\n",
       "    </tr>\n",
       "    <tr>\n",
       "      <th>2</th>\n",
       "      <td>id3858529</td>\n",
       "      <td>2</td>\n",
       "      <td>2016-01-19 11:35:24</td>\n",
       "      <td>2016-01-19 12:10:48</td>\n",
       "      <td>1</td>\n",
       "      <td>-73.979027</td>\n",
       "      <td>40.763939</td>\n",
       "      <td>-74.005333</td>\n",
       "      <td>40.710087</td>\n",
       "      <td>N</td>\n",
       "      <td>2124</td>\n",
       "    </tr>\n",
       "    <tr>\n",
       "      <th>3</th>\n",
       "      <td>id3504673</td>\n",
       "      <td>2</td>\n",
       "      <td>2016-04-06 19:32:31</td>\n",
       "      <td>2016-04-06 19:39:40</td>\n",
       "      <td>1</td>\n",
       "      <td>-74.010040</td>\n",
       "      <td>40.719971</td>\n",
       "      <td>-74.012268</td>\n",
       "      <td>40.706718</td>\n",
       "      <td>N</td>\n",
       "      <td>429</td>\n",
       "    </tr>\n",
       "    <tr>\n",
       "      <th>4</th>\n",
       "      <td>id2181028</td>\n",
       "      <td>2</td>\n",
       "      <td>2016-03-26 13:30:55</td>\n",
       "      <td>2016-03-26 13:38:10</td>\n",
       "      <td>1</td>\n",
       "      <td>-73.973053</td>\n",
       "      <td>40.793209</td>\n",
       "      <td>-73.972923</td>\n",
       "      <td>40.782520</td>\n",
       "      <td>N</td>\n",
       "      <td>435</td>\n",
       "    </tr>\n",
       "  </tbody>\n",
       "</table>\n",
       "</div>"
      ]
     },
     "execution_count": 3,
     "metadata": {},
     "output_type": "execute_result"
    }
   ],
   "execution_count": 3
  },
  {
   "metadata": {},
   "cell_type": "markdown",
   "source": "Show Column info",
   "id": "2c89d63d1999d5a5"
  },
  {
   "metadata": {
    "ExecuteTime": {
     "end_time": "2025-05-23T08:11:21.384360Z",
     "start_time": "2025-05-23T08:11:21.254139Z"
    }
   },
   "cell_type": "code",
   "source": "taxi.info()",
   "id": "6bb937459a4f2d53",
   "outputs": [
    {
     "name": "stdout",
     "output_type": "stream",
     "text": [
      "<class 'pandas.core.frame.DataFrame'>\n",
      "RangeIndex: 1458644 entries, 0 to 1458643\n",
      "Data columns (total 11 columns):\n",
      " #   Column              Non-Null Count    Dtype  \n",
      "---  ------              --------------    -----  \n",
      " 0   id                  1458644 non-null  object \n",
      " 1   vendor_id           1458644 non-null  int64  \n",
      " 2   pickup_datetime     1458644 non-null  object \n",
      " 3   dropoff_datetime    1458644 non-null  object \n",
      " 4   passenger_count     1458644 non-null  int64  \n",
      " 5   pickup_longitude    1458644 non-null  float64\n",
      " 6   pickup_latitude     1458644 non-null  float64\n",
      " 7   dropoff_longitude   1458644 non-null  float64\n",
      " 8   dropoff_latitude    1458644 non-null  float64\n",
      " 9   store_and_fwd_flag  1458644 non-null  object \n",
      " 10  trip_duration       1458644 non-null  int64  \n",
      "dtypes: float64(4), int64(3), object(4)\n",
      "memory usage: 122.4+ MB\n"
     ]
    }
   ],
   "execution_count": 4
  },
  {
   "metadata": {},
   "cell_type": "markdown",
   "source": "- pickup_datetime and dropoff_datetime should be converted into data type of \"date\"",
   "id": "2d676bd5c1a8948a"
  },
  {
   "metadata": {},
   "cell_type": "markdown",
   "source": "transform pickup_datetime and dropoff_datetime into datetime64",
   "id": "c70fa956f8495b8e"
  },
  {
   "metadata": {
    "ExecuteTime": {
     "end_time": "2025-05-23T08:11:21.872718Z",
     "start_time": "2025-05-23T08:11:21.414932Z"
    }
   },
   "cell_type": "code",
   "source": [
    "taxi['pickup_datetime'] = pd.to_datetime(taxi['pickup_datetime'])\n",
    "taxi['dropoff_datetime'] = pd.to_datetime(taxi['dropoff_datetime'])\n",
    "\n",
    "taxi.info()"
   ],
   "id": "116f614c53f50139",
   "outputs": [
    {
     "name": "stdout",
     "output_type": "stream",
     "text": [
      "<class 'pandas.core.frame.DataFrame'>\n",
      "RangeIndex: 1458644 entries, 0 to 1458643\n",
      "Data columns (total 11 columns):\n",
      " #   Column              Non-Null Count    Dtype         \n",
      "---  ------              --------------    -----         \n",
      " 0   id                  1458644 non-null  object        \n",
      " 1   vendor_id           1458644 non-null  int64         \n",
      " 2   pickup_datetime     1458644 non-null  datetime64[ns]\n",
      " 3   dropoff_datetime    1458644 non-null  datetime64[ns]\n",
      " 4   passenger_count     1458644 non-null  int64         \n",
      " 5   pickup_longitude    1458644 non-null  float64       \n",
      " 6   pickup_latitude     1458644 non-null  float64       \n",
      " 7   dropoff_longitude   1458644 non-null  float64       \n",
      " 8   dropoff_latitude    1458644 non-null  float64       \n",
      " 9   store_and_fwd_flag  1458644 non-null  object        \n",
      " 10  trip_duration       1458644 non-null  int64         \n",
      "dtypes: datetime64[ns](2), float64(4), int64(3), object(2)\n",
      "memory usage: 122.4+ MB\n"
     ]
    }
   ],
   "execution_count": 5
  },
  {
   "metadata": {},
   "cell_type": "markdown",
   "source": "Check store_and_fwd_flag",
   "id": "2ec4d068c46d2c7f"
  },
  {
   "metadata": {
    "ExecuteTime": {
     "end_time": "2025-05-23T08:11:21.910158Z",
     "start_time": "2025-05-23T08:11:21.878043Z"
    }
   },
   "cell_type": "code",
   "source": "taxi[\"store_and_fwd_flag\"].value_counts()",
   "id": "e70598f384108b14",
   "outputs": [
    {
     "data": {
      "text/plain": [
       "store_and_fwd_flag\n",
       "N    1450599\n",
       "Y       8045\n",
       "Name: count, dtype: int64"
      ]
     },
     "execution_count": 6,
     "metadata": {},
     "output_type": "execute_result"
    }
   ],
   "execution_count": 6
  },
  {
   "metadata": {},
   "cell_type": "markdown",
   "source": "- This flag indicates whether the trip record was held in vehicle memory before sending to the vendor because the vehicle did not have a connection to the server - Y=store and forward; N=not a store and forward trip",
   "id": "f8b1869d868ba2de"
  },
  {
   "metadata": {},
   "cell_type": "markdown",
   "source": "Show Overview of numerical variables",
   "id": "28d4bc9ad0e7dd7a"
  },
  {
   "metadata": {
    "ExecuteTime": {
     "end_time": "2025-05-23T08:11:22.239665Z",
     "start_time": "2025-05-23T08:11:21.943004Z"
    }
   },
   "cell_type": "code",
   "source": "taxi.describe()",
   "id": "7294b1950b4fd69d",
   "outputs": [
    {
     "data": {
      "text/plain": [
       "          vendor_id                pickup_datetime  \\\n",
       "count  1.458644e+06                        1458644   \n",
       "mean   1.534950e+00  2016-04-01 10:10:24.940037120   \n",
       "min    1.000000e+00            2016-01-01 00:00:17   \n",
       "25%    1.000000e+00  2016-02-17 16:46:04.249999872   \n",
       "50%    2.000000e+00            2016-04-01 17:19:40   \n",
       "75%    2.000000e+00  2016-05-15 03:56:08.750000128   \n",
       "max    2.000000e+00            2016-06-30 23:59:39   \n",
       "std    4.987772e-01                            NaN   \n",
       "\n",
       "                    dropoff_datetime  passenger_count  pickup_longitude  \\\n",
       "count                        1458644     1.458644e+06      1.458644e+06   \n",
       "mean   2016-04-01 10:26:24.432310528     1.664530e+00     -7.397349e+01   \n",
       "min              2016-01-01 00:03:31     0.000000e+00     -1.219333e+02   \n",
       "25%       2016-02-17 17:05:32.500000     1.000000e+00     -7.399187e+01   \n",
       "50%              2016-04-01 17:35:12     1.000000e+00     -7.398174e+01   \n",
       "75%    2016-05-15 04:10:51.750000128     2.000000e+00     -7.396733e+01   \n",
       "max              2016-07-01 23:02:03     9.000000e+00     -6.133553e+01   \n",
       "std                              NaN     1.314242e+00      7.090186e-02   \n",
       "\n",
       "       pickup_latitude  dropoff_longitude  dropoff_latitude  trip_duration  \n",
       "count     1.458644e+06       1.458644e+06      1.458644e+06   1.458644e+06  \n",
       "mean      4.075092e+01      -7.397342e+01      4.075180e+01   9.594923e+02  \n",
       "min       3.435970e+01      -1.219333e+02      3.218114e+01   1.000000e+00  \n",
       "25%       4.073735e+01      -7.399133e+01      4.073588e+01   3.970000e+02  \n",
       "50%       4.075410e+01      -7.397975e+01      4.075452e+01   6.620000e+02  \n",
       "75%       4.076836e+01      -7.396301e+01      4.076981e+01   1.075000e+03  \n",
       "max       5.188108e+01      -6.133553e+01      4.392103e+01   3.526282e+06  \n",
       "std       3.288119e-02       7.064327e-02      3.589056e-02   5.237432e+03  "
      ],
      "text/html": [
       "<div>\n",
       "<style scoped>\n",
       "    .dataframe tbody tr th:only-of-type {\n",
       "        vertical-align: middle;\n",
       "    }\n",
       "\n",
       "    .dataframe tbody tr th {\n",
       "        vertical-align: top;\n",
       "    }\n",
       "\n",
       "    .dataframe thead th {\n",
       "        text-align: right;\n",
       "    }\n",
       "</style>\n",
       "<table border=\"1\" class=\"dataframe\">\n",
       "  <thead>\n",
       "    <tr style=\"text-align: right;\">\n",
       "      <th></th>\n",
       "      <th>vendor_id</th>\n",
       "      <th>pickup_datetime</th>\n",
       "      <th>dropoff_datetime</th>\n",
       "      <th>passenger_count</th>\n",
       "      <th>pickup_longitude</th>\n",
       "      <th>pickup_latitude</th>\n",
       "      <th>dropoff_longitude</th>\n",
       "      <th>dropoff_latitude</th>\n",
       "      <th>trip_duration</th>\n",
       "    </tr>\n",
       "  </thead>\n",
       "  <tbody>\n",
       "    <tr>\n",
       "      <th>count</th>\n",
       "      <td>1.458644e+06</td>\n",
       "      <td>1458644</td>\n",
       "      <td>1458644</td>\n",
       "      <td>1.458644e+06</td>\n",
       "      <td>1.458644e+06</td>\n",
       "      <td>1.458644e+06</td>\n",
       "      <td>1.458644e+06</td>\n",
       "      <td>1.458644e+06</td>\n",
       "      <td>1.458644e+06</td>\n",
       "    </tr>\n",
       "    <tr>\n",
       "      <th>mean</th>\n",
       "      <td>1.534950e+00</td>\n",
       "      <td>2016-04-01 10:10:24.940037120</td>\n",
       "      <td>2016-04-01 10:26:24.432310528</td>\n",
       "      <td>1.664530e+00</td>\n",
       "      <td>-7.397349e+01</td>\n",
       "      <td>4.075092e+01</td>\n",
       "      <td>-7.397342e+01</td>\n",
       "      <td>4.075180e+01</td>\n",
       "      <td>9.594923e+02</td>\n",
       "    </tr>\n",
       "    <tr>\n",
       "      <th>min</th>\n",
       "      <td>1.000000e+00</td>\n",
       "      <td>2016-01-01 00:00:17</td>\n",
       "      <td>2016-01-01 00:03:31</td>\n",
       "      <td>0.000000e+00</td>\n",
       "      <td>-1.219333e+02</td>\n",
       "      <td>3.435970e+01</td>\n",
       "      <td>-1.219333e+02</td>\n",
       "      <td>3.218114e+01</td>\n",
       "      <td>1.000000e+00</td>\n",
       "    </tr>\n",
       "    <tr>\n",
       "      <th>25%</th>\n",
       "      <td>1.000000e+00</td>\n",
       "      <td>2016-02-17 16:46:04.249999872</td>\n",
       "      <td>2016-02-17 17:05:32.500000</td>\n",
       "      <td>1.000000e+00</td>\n",
       "      <td>-7.399187e+01</td>\n",
       "      <td>4.073735e+01</td>\n",
       "      <td>-7.399133e+01</td>\n",
       "      <td>4.073588e+01</td>\n",
       "      <td>3.970000e+02</td>\n",
       "    </tr>\n",
       "    <tr>\n",
       "      <th>50%</th>\n",
       "      <td>2.000000e+00</td>\n",
       "      <td>2016-04-01 17:19:40</td>\n",
       "      <td>2016-04-01 17:35:12</td>\n",
       "      <td>1.000000e+00</td>\n",
       "      <td>-7.398174e+01</td>\n",
       "      <td>4.075410e+01</td>\n",
       "      <td>-7.397975e+01</td>\n",
       "      <td>4.075452e+01</td>\n",
       "      <td>6.620000e+02</td>\n",
       "    </tr>\n",
       "    <tr>\n",
       "      <th>75%</th>\n",
       "      <td>2.000000e+00</td>\n",
       "      <td>2016-05-15 03:56:08.750000128</td>\n",
       "      <td>2016-05-15 04:10:51.750000128</td>\n",
       "      <td>2.000000e+00</td>\n",
       "      <td>-7.396733e+01</td>\n",
       "      <td>4.076836e+01</td>\n",
       "      <td>-7.396301e+01</td>\n",
       "      <td>4.076981e+01</td>\n",
       "      <td>1.075000e+03</td>\n",
       "    </tr>\n",
       "    <tr>\n",
       "      <th>max</th>\n",
       "      <td>2.000000e+00</td>\n",
       "      <td>2016-06-30 23:59:39</td>\n",
       "      <td>2016-07-01 23:02:03</td>\n",
       "      <td>9.000000e+00</td>\n",
       "      <td>-6.133553e+01</td>\n",
       "      <td>5.188108e+01</td>\n",
       "      <td>-6.133553e+01</td>\n",
       "      <td>4.392103e+01</td>\n",
       "      <td>3.526282e+06</td>\n",
       "    </tr>\n",
       "    <tr>\n",
       "      <th>std</th>\n",
       "      <td>4.987772e-01</td>\n",
       "      <td>NaN</td>\n",
       "      <td>NaN</td>\n",
       "      <td>1.314242e+00</td>\n",
       "      <td>7.090186e-02</td>\n",
       "      <td>3.288119e-02</td>\n",
       "      <td>7.064327e-02</td>\n",
       "      <td>3.589056e-02</td>\n",
       "      <td>5.237432e+03</td>\n",
       "    </tr>\n",
       "  </tbody>\n",
       "</table>\n",
       "</div>"
      ]
     },
     "execution_count": 7,
     "metadata": {},
     "output_type": "execute_result"
    }
   ],
   "execution_count": 7
  },
  {
   "metadata": {},
   "cell_type": "markdown",
   "source": "Plot data in hist",
   "id": "81cd9a4a4a437499"
  },
  {
   "metadata": {
    "ExecuteTime": {
     "end_time": "2025-05-23T08:11:22.853488Z",
     "start_time": "2025-05-23T08:11:22.268880Z"
    }
   },
   "cell_type": "code",
   "source": [
    "taxi.hist(bins=50, figsize=(12, 8))\n",
    "plt.show()"
   ],
   "id": "e1127b18916175a9",
   "outputs": [
    {
     "data": {
      "text/plain": [
       "<Figure size 1200x800 with 9 Axes>"
      ],
      "image/png": "[encoded data removed]"
     },
     "metadata": {},
     "output_type": "display_data"
    }
   ],
   "execution_count": 8
  },
  {
   "metadata": {},
   "cell_type": "markdown",
   "source": "- Some data is concentrated in certain intervalls. Maybe data needs to be categorized.",
   "id": "c9120d2bf52d22bd"
  },
  {
   "metadata": {},
   "cell_type": "markdown",
   "source": [
    "## Create Testdata\n",
    "\n",
    "Don't look into test data - Data-Snooping-Bias"
   ],
   "id": "106680787c69f758"
  },
  {
   "metadata": {
    "ExecuteTime": {
     "end_time": "2025-05-23T08:11:23.872025Z",
     "start_time": "2025-05-23T08:11:22.860872Z"
    }
   },
   "cell_type": "code",
   "source": [
    "from sklearn.model_selection import train_test_split\n",
    "\n",
    "train_set, test_set = train_test_split(taxi, test_size=0.3, random_state=42)"
   ],
   "id": "ee4fe78447255c02",
   "outputs": [],
   "execution_count": 9
  }
 ],
 "metadata": {
  "kernelspec": {
   "display_name": "Python 3",
   "language": "python",
   "name": "python3"
  },
  "language_info": {
   "codemirror_mode": {
    "name": "ipython",
    "version": 2
   },
   "file_extension": ".py",
   "mimetype": "text/x-python",
   "name": "python",
   "nbconvert_exporter": "python",
   "pygments_lexer": "ipython2",
   "version": "2.7.6"
  }
 },
 "nbformat": 4,
 "nbformat_minor": 5
}
