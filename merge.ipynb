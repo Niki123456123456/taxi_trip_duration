{
 "cells": [
  {
   "metadata": {},
   "cell_type": "markdown",
   "source": "# Load & Merge Data",
   "id": "34c03db1a4ff8ba6"
  },
  {
   "metadata": {
    "ExecuteTime": {
     "end_time": "2025-06-09T03:48:41.159360Z",
     "start_time": "2025-06-09T03:48:41.157344Z"
    }
   },
   "cell_type": "code",
   "source": [
    "# Load packages\n",
    "import pandas as pd\n",
    "\n",
    "from merge_utils import merge_taxi_weather"
   ],
   "id": "7ec98e65d37bcc3d",
   "outputs": [],
   "execution_count": 1
  },
  {
   "metadata": {
    "ExecuteTime": {
     "end_time": "2025-06-09T03:48:43.302899Z",
     "start_time": "2025-06-09T03:48:41.217818Z"
    }
   },
   "cell_type": "code",
   "source": [
    "# Load taxi and weather data\n",
    "taxi_data = pd.read_csv(\"data/taxi_data.csv\")\n",
    "weather_data = pd.read_csv(\"data/weather_data.csv\")"
   ],
   "id": "a7ea8a5838c042af",
   "outputs": [],
   "execution_count": 2
  },
  {
   "metadata": {
    "ExecuteTime": {
     "end_time": "2025-06-09T03:48:43.847725Z",
     "start_time": "2025-06-09T03:48:43.317887Z"
    }
   },
   "cell_type": "code",
   "source": [
    "assert 'hour_of_year' in taxi_data.columns\n",
    "taxi_weather_data = merge_taxi_weather(taxi_data, weather_data)"
   ],
   "id": "2e9f8655f7ca74d7",
   "outputs": [],
   "execution_count": 3
  },
  {
   "metadata": {
    "ExecuteTime": {
     "end_time": "2025-06-09T03:48:59.344003Z",
     "start_time": "2025-06-09T03:48:43.860343Z"
    }
   },
   "cell_type": "code",
   "source": [
    "# save taxi_weather_data_raw to csv\n",
    "taxi_weather_data.to_csv(\"data/taxi_weather_data.csv\", index=False)"
   ],
   "id": "efec25586d3d4c38",
   "outputs": [],
   "execution_count": 4
  }
 ],
 "metadata": {
  "kernelspec": {
   "display_name": "Python 3",
   "language": "python",
   "name": "python3"
  },
  "language_info": {
   "codemirror_mode": {
    "name": "ipython",
    "version": 2
   },
   "file_extension": ".py",
   "mimetype": "text/x-python",
   "name": "python",
   "nbconvert_exporter": "python",
   "pygments_lexer": "ipython2",
   "version": "2.7.6"
  }
 },
 "nbformat": 4,
 "nbformat_minor": 5
}
