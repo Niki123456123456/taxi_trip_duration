{
 "cells": [
  {
   "metadata": {},
   "cell_type": "markdown",
   "source": "# Load & Merge Data",
   "id": "34c03db1a4ff8ba6"
  },
  {
   "metadata": {},
   "cell_type": "code",
   "source": [
    "# Load packages\n",
    "import pandas as pd"
   ],
   "id": "7ec98e65d37bcc3d",
   "outputs": [],
   "execution_count": null
  },
  {
   "metadata": {},
   "cell_type": "code",
   "source": [
    "# Load taxi and weather data\n",
    "taxi_data_clean = pd.read_csv(\"data/taxi_data_clean.csv\")\n",
    "weather_data_clean = pd.read_csv(\"data/weather_data_clean.csv\")"
   ],
   "id": "a7ea8a5838c042af",
   "outputs": [],
   "execution_count": null
  },
  {
   "metadata": {},
   "cell_type": "code",
   "source": [
    "taxi_data_clean['hour_of_year'] = taxi_data_clean['hour_of_year'].astype(int)\n",
    "weather_data_clean['hour_of_year'] = weather_data_clean['hour_of_year'].astype(int)"
   ],
   "id": "b5d8ee38374ce255",
   "outputs": [],
   "execution_count": null
  },
  {
   "metadata": {},
   "cell_type": "code",
   "source": [
    "missing = taxi_data_clean[~taxi_data_clean['hour_of_year'].isin(weather_data_clean['hour_of_year'])]\n",
    "print(\"Fehlende Stunden im Wetterdatensatz:\", len(missing))\n",
    "print(missing['hour_of_year'].value_counts().head())"
   ],
   "id": "cf5f619d90180b82",
   "outputs": [],
   "execution_count": null
  },
  {
   "metadata": {},
   "cell_type": "code",
   "source": [
    "assert weather_data_clean['hour_of_year'].is_unique, \"Wetterdaten haben doppelte Stundenwerte\"\n",
    "assert 'hour_of_year' in taxi_data_clean.columns and 'hour_of_year' in weather_data_clean.columns, \"Join-Spalte fehlt\""
   ],
   "id": "b253df0a4f187262",
   "outputs": [],
   "execution_count": null
  },
  {
   "cell_type": "code",
   "id": "initial_id",
   "metadata": {
    "collapsed": true
   },
   "source": [
    "# Merge taxi and weather data\n",
    "taxi_weather_data_raw = pd.merge(taxi_data_clean, weather_data_clean, how='left',\n",
    "                                 on=['hour_of_year'], validate='many_to_one')"
   ],
   "outputs": [],
   "execution_count": null
  },
  {
   "metadata": {},
   "cell_type": "code",
   "source": "weather_data_clean.duplicated(subset='hour_of_year').sum()",
   "id": "2e9f8655f7ca74d7",
   "outputs": [],
   "execution_count": null
  },
  {
   "metadata": {},
   "cell_type": "code",
   "source": [
    "# save taxi_weather_data_raw to csv\n",
    "taxi_weather_data_raw.isnull().sum()\n",
    "taxi_weather_data_raw.to_csv(\"data/taxi_weather_data_raw.csv\", index=False)"
   ],
   "id": "efec25586d3d4c38",
   "outputs": [],
   "execution_count": null
  }
 ],
 "metadata": {
  "kernelspec": {
   "display_name": "Python 3",
   "language": "python",
   "name": "python3"
  },
  "language_info": {
   "codemirror_mode": {
    "name": "ipython",
    "version": 2
   },
   "file_extension": ".py",
   "mimetype": "text/x-python",
   "name": "python",
   "nbconvert_exporter": "python",
   "pygments_lexer": "ipython2",
   "version": "2.7.6"
  }
 },
 "nbformat": 4,
 "nbformat_minor": 5
}
