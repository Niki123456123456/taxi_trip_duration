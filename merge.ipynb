{
 "cells": [
  {
   "metadata": {},
   "cell_type": "markdown",
   "source": "# Load & Merge Data",
   "id": "34c03db1a4ff8ba6"
  },
  {
   "metadata": {
    "ExecuteTime": {
     "end_time": "2025-06-06T14:08:31.990926Z",
     "start_time": "2025-06-06T14:08:31.513421Z"
    }
   },
   "cell_type": "code",
   "source": [
    "# Load packages\n",
    "import pandas as pd"
   ],
   "id": "7ec98e65d37bcc3d",
   "outputs": [],
   "execution_count": 1
  },
  {
   "metadata": {
    "ExecuteTime": {
     "end_time": "2025-06-06T14:08:34.165993Z",
     "start_time": "2025-06-06T14:08:32.047109Z"
    }
   },
   "cell_type": "code",
   "source": [
    "# Load taxi and weather data\n",
    "taxi_data_clean = pd.read_csv(\"data/taxi_data_clean.csv\")\n",
    "weather_data_clean = pd.read_csv(\"data/weather_data_clean.csv\")"
   ],
   "id": "a7ea8a5838c042af",
   "outputs": [],
   "execution_count": 2
  },
  {
   "cell_type": "code",
   "id": "initial_id",
   "metadata": {
    "collapsed": true,
    "ExecuteTime": {
     "end_time": "2025-06-06T14:08:34.860783Z",
     "start_time": "2025-06-06T14:08:34.181704Z"
    }
   },
   "source": [
    "# Merge taxi and weather data\n",
    "taxi_weather_data_raw = pd.merge(taxi_data_clean, weather_data_clean, how='left',\n",
    "                                 on=['hour_of_year'], validate='many_to_one')"
   ],
   "outputs": [],
   "execution_count": 3
  },
  {
   "metadata": {
    "ExecuteTime": {
     "end_time": "2025-06-06T14:08:54.831367Z",
     "start_time": "2025-06-06T14:08:34.875655Z"
    }
   },
   "cell_type": "code",
   "source": [
    "# save taxi_weather_data_raw to csv\n",
    "taxi_weather_data_raw.to_csv(\"data/taxi_weather_data_raw.csv\", index=False)"
   ],
   "id": "efec25586d3d4c38",
   "outputs": [],
   "execution_count": 4
  }
 ],
 "metadata": {
  "kernelspec": {
   "display_name": "Python 3",
   "language": "python",
   "name": "python3"
  },
  "language_info": {
   "codemirror_mode": {
    "name": "ipython",
    "version": 2
   },
   "file_extension": ".py",
   "mimetype": "text/x-python",
   "name": "python",
   "nbconvert_exporter": "python",
   "pygments_lexer": "ipython2",
   "version": "2.7.6"
  }
 },
 "nbformat": 4,
 "nbformat_minor": 5
}
