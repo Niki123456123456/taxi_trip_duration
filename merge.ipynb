{
 "cells": [
  {
   "metadata": {},
   "cell_type": "markdown",
   "source": "# Load & Merge Data",
   "id": "34c03db1a4ff8ba6"
  },
  {
   "metadata": {
    "ExecuteTime": {
     "end_time": "2025-06-03T14:38:47.936073Z",
     "start_time": "2025-06-03T14:38:47.461825Z"
    }
   },
   "cell_type": "code",
   "source": [
    "# Load packages\n",
    "import pandas as pd"
   ],
   "id": "7ec98e65d37bcc3d",
   "outputs": [],
   "execution_count": 1
  },
  {
   "metadata": {
    "ExecuteTime": {
     "end_time": "2025-06-03T14:38:51.741807Z",
     "start_time": "2025-06-03T14:38:49.630395Z"
    }
   },
   "cell_type": "code",
   "source": [
    "# Load taxi and weather data\n",
    "taxi_data_clean = pd.read_csv(\"data/taxi_data_clean.csv\")\n",
    "weather_data_clean = pd.read_csv(\"data/weather_data_clean.csv\")"
   ],
   "id": "a7ea8a5838c042af",
   "outputs": [],
   "execution_count": 2
  },
  {
   "metadata": {
    "ExecuteTime": {
     "end_time": "2025-06-03T14:39:24.117674Z",
     "start_time": "2025-06-03T14:39:24.107175Z"
    }
   },
   "cell_type": "code",
   "source": [
    "# datetime ranges align\n",
    "print(taxi_data_clean['hour_of_year'].min(), taxi_data_clean['hour_of_year'].max())\n",
    "print(weather_data_clean['hour_of_year'].min(), weather_data_clean['hour_of_year'].max())"
   ],
   "id": "3cdc178d24f11f89",
   "outputs": [
    {
     "name": "stdout",
     "output_type": "stream",
     "text": [
      "0 4367\n",
      "0 4391\n"
     ]
    }
   ],
   "execution_count": 4
  },
  {
   "cell_type": "code",
   "id": "initial_id",
   "metadata": {
    "collapsed": true,
    "ExecuteTime": {
     "end_time": "2025-06-03T14:43:37.364874Z",
     "start_time": "2025-06-03T14:43:36.822066Z"
    }
   },
   "source": [
    "# Merge taxi and weather data\n",
    "taxi_weather_data_raw = pd.merge(taxi_data_clean, weather_data_clean, how='left',\n",
    "                               on=['hour_of_year'],validate='many_to_one')"
   ],
   "outputs": [],
   "execution_count": 8
  },
  {
   "metadata": {},
   "cell_type": "code",
   "source": [
    "# save taxi_weather_data_raw to csv\n",
    "taxi_weather_data_raw.to_csv(\"data/taxi_weather_data_raw.csv\", index=False)"
   ],
   "id": "efec25586d3d4c38",
   "outputs": [],
   "execution_count": null
  }
 ],
 "metadata": {
  "kernelspec": {
   "display_name": "Python 3",
   "language": "python",
   "name": "python3"
  },
  "language_info": {
   "codemirror_mode": {
    "name": "ipython",
    "version": 2
   },
   "file_extension": ".py",
   "mimetype": "text/x-python",
   "name": "python",
   "nbconvert_exporter": "python",
   "pygments_lexer": "ipython2",
   "version": "2.7.6"
  }
 },
 "nbformat": 4,
 "nbformat_minor": 5
}
