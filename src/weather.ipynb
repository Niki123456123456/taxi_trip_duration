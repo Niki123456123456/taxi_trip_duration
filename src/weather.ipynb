{
 "cells": [
  {
   "cell_type": "markdown",
   "id": "5477770855d8a525",
   "metadata": {},
   "source": [
    "# Imports + pipeline call"
   ]
  },
  {
   "cell_type": "code",
   "execution_count": 15,
   "id": "ac290834a24151e2",
   "metadata": {
    "ExecuteTime": {
     "end_time": "2025-06-29T11:48:22.753636Z",
     "start_time": "2025-06-29T11:48:22.166282Z"
    }
   },
   "outputs": [],
   "source": [
    "from pipelines.weather_pipeline import build_weather_dataset\n",
    "from viz import plot_hist, plot_boxplot"
   ]
  },
  {
   "cell_type": "code",
   "execution_count": 16,
   "id": "c90fd22553c01c8e",
   "metadata": {
    "ExecuteTime": {
     "end_time": "2025-06-29T11:48:23.085396Z",
     "start_time": "2025-06-29T11:48:22.824325Z"
    }
   },
   "outputs": [
    {
     "name": "stdout",
     "output_type": "stream",
     "text": [
      "Warning: Your Kaggle API key is readable by other users on this system! To fix this, you can run 'chmod 600 /Users/nnord/.kaggle/kaggle.json'\n",
      "Dataset URL: https://www.kaggle.com/datasets/pschale/nyc-taxi-wunderground-weather\n"
     ]
    }
   ],
   "source": [
    "weather_df = build_weather_dataset(save_csv=True)"
   ]
  },
  {
   "cell_type": "markdown",
   "id": "648ae8501a52bcfa",
   "metadata": {},
   "source": [
    "# EDA Hist / describe"
   ]
  },
  {
   "cell_type": "code",
   "execution_count": 17,
   "id": "64f9e0683b0d377",
   "metadata": {
    "ExecuteTime": {
     "end_time": "2025-06-29T11:48:23.108529Z",
     "start_time": "2025-06-29T11:48:23.096717Z"
    }
   },
   "outputs": [
    {
     "data": {
      "text/html": [
       "<div>\n",
       "<style scoped>\n",
       "    .dataframe tbody tr th:only-of-type {\n",
       "        vertical-align: middle;\n",
       "    }\n",
       "\n",
       "    .dataframe tbody tr th {\n",
       "        vertical-align: top;\n",
       "    }\n",
       "\n",
       "    .dataframe thead th {\n",
       "        text-align: right;\n",
       "    }\n",
       "</style>\n",
       "<table border=\"1\" class=\"dataframe\">\n",
       "  <thead>\n",
       "    <tr style=\"text-align: right;\">\n",
       "      <th></th>\n",
       "      <th>conditions</th>\n",
       "      <th>temp_class</th>\n",
       "      <th>windspeed_class</th>\n",
       "      <th>humidity_class</th>\n",
       "      <th>fog_class</th>\n",
       "      <th>freezing_class</th>\n",
       "      <th>cloud_class</th>\n",
       "      <th>hazy_class</th>\n",
       "      <th>pressure_class</th>\n",
       "      <th>rain_class</th>\n",
       "      <th>snow_class</th>\n",
       "    </tr>\n",
       "  </thead>\n",
       "  <tbody>\n",
       "    <tr>\n",
       "      <th>count</th>\n",
       "      <td>4392</td>\n",
       "      <td>4392</td>\n",
       "      <td>4392</td>\n",
       "      <td>4392</td>\n",
       "      <td>4392</td>\n",
       "      <td>4392</td>\n",
       "      <td>4392</td>\n",
       "      <td>4392</td>\n",
       "      <td>4392</td>\n",
       "      <td>4392</td>\n",
       "      <td>4392</td>\n",
       "    </tr>\n",
       "    <tr>\n",
       "      <th>unique</th>\n",
       "      <td>23</td>\n",
       "      <td>6</td>\n",
       "      <td>8</td>\n",
       "      <td>5</td>\n",
       "      <td>2</td>\n",
       "      <td>3</td>\n",
       "      <td>6</td>\n",
       "      <td>2</td>\n",
       "      <td>4</td>\n",
       "      <td>4</td>\n",
       "      <td>3</td>\n",
       "    </tr>\n",
       "    <tr>\n",
       "      <th>top</th>\n",
       "      <td>Clear</td>\n",
       "      <td>cool</td>\n",
       "      <td>light_air</td>\n",
       "      <td>dry</td>\n",
       "      <td>no_fog</td>\n",
       "      <td>no_freezing_rain_fog</td>\n",
       "      <td>clear</td>\n",
       "      <td>no_haze</td>\n",
       "      <td>normal</td>\n",
       "      <td>no_rain</td>\n",
       "      <td>no_snow</td>\n",
       "    </tr>\n",
       "    <tr>\n",
       "      <th>freq</th>\n",
       "      <td>2235</td>\n",
       "      <td>1599</td>\n",
       "      <td>2387</td>\n",
       "      <td>1696</td>\n",
       "      <td>4361</td>\n",
       "      <td>4390</td>\n",
       "      <td>2235</td>\n",
       "      <td>4301</td>\n",
       "      <td>3033</td>\n",
       "      <td>4271</td>\n",
       "      <td>4359</td>\n",
       "    </tr>\n",
       "  </tbody>\n",
       "</table>\n",
       "</div>"
      ],
      "text/plain": [
       "       conditions temp_class windspeed_class humidity_class fog_class  \\\n",
       "count        4392       4392            4392           4392      4392   \n",
       "unique         23          6               8              5         2   \n",
       "top         Clear       cool       light_air            dry    no_fog   \n",
       "freq         2235       1599            2387           1696      4361   \n",
       "\n",
       "              freezing_class cloud_class hazy_class pressure_class rain_class  \\\n",
       "count                   4392        4392       4392           4392       4392   \n",
       "unique                     3           6          2              4          4   \n",
       "top     no_freezing_rain_fog       clear    no_haze         normal    no_rain   \n",
       "freq                    4390        2235       4301           3033       4271   \n",
       "\n",
       "       snow_class  \n",
       "count        4392  \n",
       "unique          3  \n",
       "top       no_snow  \n",
       "freq         4359  "
      ]
     },
     "execution_count": 17,
     "metadata": {},
     "output_type": "execute_result"
    }
   ],
   "source": [
    "weather_df.describe(include='object')"
   ]
  },
  {
   "cell_type": "markdown",
   "id": "a4f0066fe717f0ff",
   "metadata": {},
   "source": [
    "- Exactly one timestamp is duplicated: 2016-03-13 00:51:00; Two different entries (Clear vs. Light\n",
    "Rain), probably two weather sources or measurements."
   ]
  },
  {
   "cell_type": "markdown",
   "id": "acc4b5686bb6771",
   "metadata": {},
   "source": [
    "## EDA temp Plots"
   ]
  },
  {
   "cell_type": "code",
   "execution_count": 18,
   "id": "f5a18d7af9dc6b32",
   "metadata": {
    "ExecuteTime": {
     "end_time": "2025-06-29T11:48:23.246431Z",
     "start_time": "2025-06-29T11:48:23.242789Z"
    }
   },
   "outputs": [
    {
     "data": {
      "text/plain": [
       "count    4392.000000\n",
       "mean       10.728907\n",
       "std         9.158675\n",
       "min       -18.277778\n",
       "25%         3.888889\n",
       "50%        10.611111\n",
       "75%        17.777778\n",
       "max        32.222222\n",
       "Name: temp_c, dtype: float64"
      ]
     },
     "execution_count": 18,
     "metadata": {},
     "output_type": "execute_result"
    }
   ],
   "source": [
    "weather_df['temp_c'].describe()"
   ]
  },
  {
   "cell_type": "code",
   "execution_count": 19,
   "id": "4068178d53e94fc7",
   "metadata": {
    "ExecuteTime": {
     "end_time": "2025-06-29T11:48:23.393414Z",
     "start_time": "2025-06-29T11:48:23.286662Z"
    }
   },
   "outputs": [
    {
     "data": {
      "image/png": "[encoded data removed]",
      "text/plain": [
       "<Figure size 800x400 with 1 Axes>"
      ]
     },
     "metadata": {},
     "output_type": "display_data"
    }
   ],
   "source": [
    "plot_hist(weather_df, 'temp_c')"
   ]
  },
  {
   "cell_type": "code",
   "execution_count": 20,
   "id": "927f290d9e07733",
   "metadata": {
    "ExecuteTime": {
     "end_time": "2025-06-29T11:48:23.467016Z",
     "start_time": "2025-06-29T11:48:23.422706Z"
    }
   },
   "outputs": [
    {
     "data": {
      "image/png": "[encoded data removed]",
      "text/plain": [
       "<Figure size 400x600 with 1 Axes>"
      ]
     },
     "metadata": {},
     "output_type": "display_data"
    }
   ],
   "source": [
    "plot_boxplot(weather_df, 'temp_c')"
   ]
  },
  {
   "cell_type": "markdown",
   "id": "9420e0475f358335",
   "metadata": {},
   "source": [
    "## EDA Windspeed Plots"
   ]
  },
  {
   "cell_type": "code",
   "execution_count": 21,
   "id": "313f4851d25bb87",
   "metadata": {
    "ExecuteTime": {
     "end_time": "2025-06-29T11:48:23.486187Z",
     "start_time": "2025-06-29T11:48:23.480882Z"
    }
   },
   "outputs": [
    {
     "data": {
      "text/plain": [
       "count    4392.000000\n",
       "mean       11.047463\n",
       "std         6.070704\n",
       "min         0.000000\n",
       "25%         7.402964\n",
       "50%         9.334172\n",
       "75%        13.035654\n",
       "max       120.000000\n",
       "Name: windspeed_kph, dtype: float64"
      ]
     },
     "execution_count": 21,
     "metadata": {},
     "output_type": "execute_result"
    }
   ],
   "source": [
    "weather_df['windspeed_kph'].describe()"
   ]
  },
  {
   "cell_type": "code",
   "execution_count": 22,
   "id": "9b90e46ac0582443",
   "metadata": {
    "ExecuteTime": {
     "end_time": "2025-06-29T11:48:23.520036Z",
     "start_time": "2025-06-29T11:48:23.517376Z"
    }
   },
   "outputs": [
    {
     "data": {
      "text/plain": [
       "np.int64(0)"
      ]
     },
     "execution_count": 22,
     "metadata": {},
     "output_type": "execute_result"
    }
   ],
   "source": [
    "weather_df['windspeed_kph'].isna().sum()"
   ]
  },
  {
   "cell_type": "code",
   "execution_count": 23,
   "id": "581539ce0007fc29",
   "metadata": {
    "ExecuteTime": {
     "end_time": "2025-06-29T11:48:23.637506Z",
     "start_time": "2025-06-29T11:48:23.567695Z"
    }
   },
   "outputs": [
    {
     "data": {
      "image/png": "[encoded data removed]",
      "text/plain": [
       "<Figure size 800x400 with 1 Axes>"
      ]
     },
     "metadata": {},
     "output_type": "display_data"
    }
   ],
   "source": [
    "plot_hist(weather_df, 'windspeed_kph')"
   ]
  },
  {
   "cell_type": "code",
   "execution_count": 24,
   "id": "174a8cff166c490f",
   "metadata": {
    "ExecuteTime": {
     "end_time": "2025-06-29T11:48:23.700518Z",
     "start_time": "2025-06-29T11:48:23.656731Z"
    }
   },
   "outputs": [
    {
     "data": {
      "image/png": "[encoded data removed]",
      "text/plain": [
       "<Figure size 400x600 with 1 Axes>"
      ]
     },
     "metadata": {},
     "output_type": "display_data"
    }
   ],
   "source": [
    "plot_boxplot(weather_df, 'windspeed_kph')"
   ]
  },
  {
   "cell_type": "markdown",
   "id": "e9842f8b024132e8",
   "metadata": {},
   "source": [
    "## EDA humidity Plots"
   ]
  },
  {
   "cell_type": "code",
   "execution_count": 25,
   "id": "a5d042f8c31471a1",
   "metadata": {
    "ExecuteTime": {
     "end_time": "2025-06-29T11:48:23.716423Z",
     "start_time": "2025-06-29T11:48:23.712966Z"
    }
   },
   "outputs": [
    {
     "data": {
      "text/plain": [
       "count    4392.000000\n",
       "mean       54.144423\n",
       "std        18.964341\n",
       "min         9.000000\n",
       "25%        40.000000\n",
       "50%        51.000000\n",
       "75%        67.125000\n",
       "max       100.000000\n",
       "Name: humidity, dtype: float64"
      ]
     },
     "execution_count": 25,
     "metadata": {},
     "output_type": "execute_result"
    }
   ],
   "source": [
    "weather_df['humidity'].describe()"
   ]
  },
  {
   "cell_type": "code",
   "execution_count": 26,
   "id": "2d2594336bc6a716",
   "metadata": {
    "ExecuteTime": {
     "end_time": "2025-06-29T11:48:23.899325Z",
     "start_time": "2025-06-29T11:48:23.740980Z"
    }
   },
   "outputs": [
    {
     "data": {
      "image/png": "[encoded data removed]",
      "text/plain": [
       "<Figure size 800x400 with 1 Axes>"
      ]
     },
     "metadata": {},
     "output_type": "display_data"
    }
   ],
   "source": [
    "plot_hist(weather_df, 'humidity')"
   ]
  },
  {
   "cell_type": "code",
   "execution_count": 27,
   "id": "76774623a4a26a15",
   "metadata": {
    "ExecuteTime": {
     "end_time": "2025-06-29T11:48:23.958252Z",
     "start_time": "2025-06-29T11:48:23.919676Z"
    }
   },
   "outputs": [
    {
     "data": {
      "image/png": "[encoded data removed]",
      "text/plain": [
       "<Figure size 400x600 with 1 Axes>"
      ]
     },
     "metadata": {},
     "output_type": "display_data"
    }
   ],
   "source": [
    "plot_boxplot(weather_df, 'humidity')"
   ]
  },
  {
   "cell_type": "markdown",
   "id": "335b0603369bafc2",
   "metadata": {
    "ExecuteTime": {
     "end_time": "2025-06-01T21:29:42.389850Z",
     "start_time": "2025-06-01T21:29:42.323534Z"
    }
   },
   "source": [
    "- Values range from 9% to 97%.\n",
    "- Most values lie between 40% and 70%.\n",
    "- No anomalies or unrealistic entries."
   ]
  },
  {
   "cell_type": "markdown",
   "id": "311ea4b3d37a2ed6",
   "metadata": {},
   "source": [
    "## EDA pressure Plots"
   ]
  },
  {
   "cell_type": "code",
   "execution_count": 28,
   "id": "102b37bc3920a4dc",
   "metadata": {
    "ExecuteTime": {
     "end_time": "2025-06-29T11:48:23.980147Z",
     "start_time": "2025-06-29T11:48:23.974918Z"
    }
   },
   "outputs": [
    {
     "data": {
      "text/plain": [
       "count    4392.000000\n",
       "mean     1015.676908\n",
       "std         7.885847\n",
       "min       989.841797\n",
       "25%      1010.160137\n",
       "50%      1015.917000\n",
       "75%      1020.657946\n",
       "max      1036.912618\n",
       "Name: pressure_hpa, dtype: float64"
      ]
     },
     "execution_count": 28,
     "metadata": {},
     "output_type": "execute_result"
    }
   ],
   "source": [
    "weather_df['pressure_hpa'].describe()"
   ]
  },
  {
   "cell_type": "code",
   "execution_count": 29,
   "id": "66528935abab6105",
   "metadata": {
    "ExecuteTime": {
     "end_time": "2025-06-29T11:48:24.005190Z",
     "start_time": "2025-06-29T11:48:24.002628Z"
    }
   },
   "outputs": [
    {
     "data": {
      "text/plain": [
       "np.int64(0)"
      ]
     },
     "execution_count": 29,
     "metadata": {},
     "output_type": "execute_result"
    }
   ],
   "source": [
    "weather_df['pressure_hpa'].isna().sum()"
   ]
  },
  {
   "cell_type": "code",
   "execution_count": 30,
   "id": "d63d98ea8c58fe5c",
   "metadata": {
    "ExecuteTime": {
     "end_time": "2025-06-29T11:48:24.093761Z",
     "start_time": "2025-06-29T11:48:24.027821Z"
    }
   },
   "outputs": [
    {
     "data": {
      "image/png": "[encoded data removed]",
      "text/plain": [
       "<Figure size 800x400 with 1 Axes>"
      ]
     },
     "metadata": {},
     "output_type": "display_data"
    }
   ],
   "source": [
    "plot_hist(weather_df, 'pressure_hpa')"
   ]
  },
  {
   "cell_type": "code",
   "execution_count": 31,
   "id": "e2c958ffbf65d010",
   "metadata": {
    "ExecuteTime": {
     "end_time": "2025-06-29T11:48:24.147124Z",
     "start_time": "2025-06-29T11:48:24.106275Z"
    }
   },
   "outputs": [
    {
     "data": {
      "image/png": "[encoded data removed]",
      "text/plain": [
       "<Figure size 400x600 with 1 Axes>"
      ]
     },
     "metadata": {},
     "output_type": "display_data"
    }
   ],
   "source": [
    "plot_boxplot(weather_df, 'pressure_hpa')"
   ]
  },
  {
   "cell_type": "markdown",
   "id": "45becb42cb06c75f",
   "metadata": {},
   "source": [
    "## EDA daily rain"
   ]
  },
  {
   "cell_type": "code",
   "execution_count": 32,
   "id": "7eeed7bcf1257776",
   "metadata": {
    "ExecuteTime": {
     "end_time": "2025-06-29T11:48:24.168105Z",
     "start_time": "2025-06-29T11:48:24.162570Z"
    }
   },
   "outputs": [
    {
     "data": {
      "text/plain": [
       "daily_precip_mm\n",
       "0.000     2554\n",
       "0.254      622\n",
       "1.270       96\n",
       "1.016       96\n",
       "2.286       94\n",
       "0.508       72\n",
       "4.064       72\n",
       "6.096       48\n",
       "11.430      48\n",
       "1.524       48\n",
       "58.674      24\n",
       "3.048       24\n",
       "5.588       24\n",
       "23.114      24\n",
       "10.160      24\n",
       "41.910      24\n",
       "4.572       24\n",
       "13.716      24\n",
       "15.494      24\n",
       "5.080       24\n",
       "21.082      24\n",
       "9.652       24\n",
       "13.462      24\n",
       "18.542      24\n",
       "1.778       24\n",
       "7.366       24\n",
       "2.794       24\n",
       "3.556       24\n",
       "45.720      24\n",
       "30.988      24\n",
       "7.620       24\n",
       "0.762       24\n",
       "25.654      24\n",
       "11.176      24\n",
       "12.700      23\n",
       "3.810       21\n",
       "11.938      21\n",
       "6.350        1\n",
       "Name: count, dtype: int64"
      ]
     },
     "execution_count": 32,
     "metadata": {},
     "output_type": "execute_result"
    }
   ],
   "source": [
    "weather_df['daily_precip_mm'].value_counts()"
   ]
  },
  {
   "cell_type": "code",
   "execution_count": 33,
   "id": "d5c92cb8d2a51589",
   "metadata": {
    "ExecuteTime": {
     "end_time": "2025-06-29T11:48:24.188675Z",
     "start_time": "2025-06-29T11:48:24.186414Z"
    }
   },
   "outputs": [
    {
     "data": {
      "text/plain": [
       "np.int64(0)"
      ]
     },
     "execution_count": 33,
     "metadata": {},
     "output_type": "execute_result"
    }
   ],
   "source": [
    "weather_df['daily_precip_mm'].isna().sum()"
   ]
  },
  {
   "cell_type": "code",
   "execution_count": 46,
   "id": "c16302576f6c9be5",
   "metadata": {
    "ExecuteTime": {
     "end_time": "2025-06-29T11:48:24.220763Z",
     "start_time": "2025-06-29T11:48:24.217167Z"
    }
   },
   "outputs": [
    {
     "data": {
      "text/plain": [
       "count    4392.000000\n",
       "mean        2.646007\n",
       "std         7.690361\n",
       "min         0.000000\n",
       "25%         0.000000\n",
       "50%         0.000000\n",
       "75%         1.016000\n",
       "max        58.674000\n",
       "Name: daily_precip_mm, dtype: float64"
      ]
     },
     "execution_count": 46,
     "metadata": {},
     "output_type": "execute_result"
    }
   ],
   "source": [
    "weather_df['daily_precip_mm'].describe()"
   ]
  },
  {
   "cell_type": "markdown",
   "id": "77b24b5349b1aa55",
   "metadata": {},
   "source": [
    "## EDA dailysnow"
   ]
  },
  {
   "cell_type": "code",
   "execution_count": 35,
   "id": "f4f40e253c7f9dd8",
   "metadata": {
    "ExecuteTime": {
     "end_time": "2025-06-29T11:48:24.253760Z",
     "start_time": "2025-06-29T11:48:24.251099Z"
    }
   },
   "outputs": [
    {
     "data": {
      "text/plain": [
       "daily_snow_mm\n",
       "0.00      3917\n",
       "2.54       307\n",
       "10.16       48\n",
       "5.08        24\n",
       "600.00      24\n",
       "63.50       24\n",
       "35.56       24\n",
       "12.70       24\n",
       "Name: count, dtype: int64"
      ]
     },
     "execution_count": 35,
     "metadata": {},
     "output_type": "execute_result"
    }
   ],
   "source": [
    "weather_df['daily_snow_mm'].value_counts()"
   ]
  },
  {
   "cell_type": "code",
   "execution_count": 36,
   "id": "35641f23c021ce03",
   "metadata": {
    "ExecuteTime": {
     "end_time": "2025-06-29T11:48:24.304243Z",
     "start_time": "2025-06-29T11:48:24.300737Z"
    },
    "SqlCellData": {
     "variableName$1": "df_sql1"
    }
   },
   "outputs": [
    {
     "data": {
      "text/plain": [
       "count    4392.000000\n",
       "mean        4.205742\n",
       "std        44.514285\n",
       "min         0.000000\n",
       "25%         0.000000\n",
       "50%         0.000000\n",
       "75%         0.000000\n",
       "max       600.000000\n",
       "Name: daily_snow_mm, dtype: float64"
      ]
     },
     "execution_count": 36,
     "metadata": {},
     "output_type": "execute_result"
    }
   ],
   "source": [
    "weather_df['daily_snow_mm'].describe()"
   ]
  },
  {
   "cell_type": "code",
   "execution_count": 37,
   "id": "d24d628a33b8e726",
   "metadata": {
    "ExecuteTime": {
     "end_time": "2025-06-29T11:48:24.356985Z",
     "start_time": "2025-06-29T11:48:24.354565Z"
    }
   },
   "outputs": [
    {
     "data": {
      "text/plain": [
       "np.int64(0)"
      ]
     },
     "execution_count": 37,
     "metadata": {},
     "output_type": "execute_result"
    }
   ],
   "source": [
    "weather_df['daily_snow_mm'].isna().sum()"
   ]
  },
  {
   "cell_type": "markdown",
   "id": "99ee5920ed6ca1d8",
   "metadata": {
    "ExecuteTime": {
     "end_time": "2025-06-12T22:02:34.747001Z",
     "start_time": "2025-06-12T22:02:34.742163Z"
    }
   },
   "source": [
    "EDA fog, rain, snow"
   ]
  },
  {
   "cell_type": "code",
   "execution_count": 38,
   "id": "d8a11f07340ecb2b",
   "metadata": {
    "ExecuteTime": {
     "end_time": "2025-06-29T11:48:24.409945Z",
     "start_time": "2025-06-29T11:48:24.407361Z"
    }
   },
   "outputs": [
    {
     "data": {
      "text/plain": [
       "fog\n",
       "0    4361\n",
       "1      31\n",
       "Name: count, dtype: int64"
      ]
     },
     "execution_count": 38,
     "metadata": {},
     "output_type": "execute_result"
    }
   ],
   "source": [
    "weather_df['fog'].value_counts()"
   ]
  },
  {
   "cell_type": "code",
   "execution_count": 39,
   "id": "b653b9483ea85380",
   "metadata": {
    "ExecuteTime": {
     "end_time": "2025-06-29T11:48:24.453667Z",
     "start_time": "2025-06-29T11:48:24.451334Z"
    }
   },
   "outputs": [
    {
     "data": {
      "text/plain": [
       "np.int64(0)"
      ]
     },
     "execution_count": 39,
     "metadata": {},
     "output_type": "execute_result"
    }
   ],
   "source": [
    "weather_df['fog'].isna().sum()"
   ]
  },
  {
   "cell_type": "code",
   "execution_count": 40,
   "id": "2dc4dfb5d6876e50",
   "metadata": {
    "ExecuteTime": {
     "end_time": "2025-06-29T11:48:24.497179Z",
     "start_time": "2025-06-29T11:48:24.494321Z"
    }
   },
   "outputs": [
    {
     "data": {
      "text/plain": [
       "rain\n",
       "0    4169\n",
       "1     223\n",
       "Name: count, dtype: int64"
      ]
     },
     "execution_count": 40,
     "metadata": {},
     "output_type": "execute_result"
    }
   ],
   "source": [
    "weather_df['rain'].value_counts()"
   ]
  },
  {
   "cell_type": "code",
   "execution_count": 41,
   "id": "afb6b184c67e35f6",
   "metadata": {
    "ExecuteTime": {
     "end_time": "2025-06-29T11:48:24.544220Z",
     "start_time": "2025-06-29T11:48:24.541673Z"
    }
   },
   "outputs": [
    {
     "data": {
      "text/plain": [
       "np.int64(0)"
      ]
     },
     "execution_count": 41,
     "metadata": {},
     "output_type": "execute_result"
    }
   ],
   "source": [
    "weather_df['rain'].isna().sum()"
   ]
  },
  {
   "cell_type": "code",
   "execution_count": 42,
   "id": "e1069ec4ce3e0efc",
   "metadata": {
    "ExecuteTime": {
     "end_time": "2025-06-29T11:48:24.581761Z",
     "start_time": "2025-06-29T11:48:24.578182Z"
    }
   },
   "outputs": [
    {
     "data": {
      "text/plain": [
       "snow\n",
       "0    4313\n",
       "1      79\n",
       "Name: count, dtype: int64"
      ]
     },
     "execution_count": 42,
     "metadata": {},
     "output_type": "execute_result"
    }
   ],
   "source": [
    "weather_df['snow'].value_counts()"
   ]
  },
  {
   "cell_type": "code",
   "execution_count": 43,
   "id": "c996a0c905d6440a",
   "metadata": {
    "ExecuteTime": {
     "end_time": "2025-06-29T11:48:24.629247Z",
     "start_time": "2025-06-29T11:48:24.626684Z"
    }
   },
   "outputs": [
    {
     "data": {
      "text/plain": [
       "np.int64(0)"
      ]
     },
     "execution_count": 43,
     "metadata": {},
     "output_type": "execute_result"
    }
   ],
   "source": [
    "weather_df['snow'].isna().sum()"
   ]
  },
  {
   "cell_type": "markdown",
   "id": "36d562b411baf4d1",
   "metadata": {},
   "source": [
    "## EDA Conditions"
   ]
  },
  {
   "cell_type": "code",
   "execution_count": 44,
   "id": "79d2175bf0697566",
   "metadata": {
    "ExecuteTime": {
     "end_time": "2025-06-29T11:48:24.655235Z",
     "start_time": "2025-06-29T11:48:24.652547Z"
    }
   },
   "outputs": [
    {
     "data": {
      "text/plain": [
       "conditions\n",
       "Clear                  2235\n",
       "Overcast                971\n",
       "Mostly Cloudy           307\n",
       "Partly Cloudy           240\n",
       "Light Rain              177\n",
       "Scattered Clouds        116\n",
       "Unknown                  94\n",
       "Haze                     91\n",
       "Light Snow               52\n",
       "Cloudy                   39\n",
       "Rain                     18\n",
       "Snow                     16\n",
       "Heavy Rain               12\n",
       "Heavy Snow                6\n",
       "Clear                     6\n",
       "Partly Cloudy             3\n",
       "Mostly Cloudy             2\n",
       "Fair                      2\n",
       "Partly Cloud              1\n",
       "Light Freezing Fog        1\n",
       "Light Freezing Rain       1\n",
       "Cloudy                    1\n",
       "Cloud                     1\n",
       "Name: count, dtype: int64"
      ]
     },
     "execution_count": 44,
     "metadata": {},
     "output_type": "execute_result"
    }
   ],
   "source": [
    "weather_df['conditions'].value_counts()"
   ]
  },
  {
   "cell_type": "code",
   "execution_count": 47,
   "id": "5398cb495eb4b022",
   "metadata": {
    "ExecuteTime": {
     "end_time": "2025-06-29T11:48:24.692558Z",
     "start_time": "2025-06-29T11:48:24.690045Z"
    }
   },
   "outputs": [
    {
     "data": {
      "text/plain": [
       "np.int64(0)"
      ]
     },
     "execution_count": 47,
     "metadata": {},
     "output_type": "execute_result"
    }
   ],
   "source": [
    "weather_df['conditions'].isna().sum()"
   ]
  },
  {
   "cell_type": "markdown",
   "id": "c1dd95b3aea36951",
   "metadata": {
    "ExecuteTime": {
     "end_time": "2025-06-12T22:07:54.774334Z",
     "start_time": "2025-06-12T22:07:54.769453Z"
    }
   },
   "source": [
    "- Most common condition is Clear (2215 times), followed by Overcast (1000).\n",
    "- Some conditions occur only a few times, e.g., Heavy Snow, Light Freezing Fog.\n",
    "- Unknown appears 83 times and may indicate missing or invalid sensor data."
   ]
  }
 ],
 "metadata": {
  "kernelspec": {
   "display_name": ".venv",
   "language": "python",
   "name": "python3"
  },
  "language_info": {
   "codemirror_mode": {
    "name": "ipython",
    "version": 3
   },
   "file_extension": ".py",
   "mimetype": "text/x-python",
   "name": "python",
   "nbconvert_exporter": "python",
   "pygments_lexer": "ipython3",
   "version": "3.13.3"
  }
 },
 "nbformat": 4,
 "nbformat_minor": 5
}
