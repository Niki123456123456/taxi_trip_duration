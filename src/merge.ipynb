{
 "cells": [
  {
   "cell_type": "markdown",
   "id": "e1ee2dbfcdecf86",
   "metadata": {},
   "source": [
    "# Load n Merge"
   ]
  },
  {
   "cell_type": "code",
   "execution_count": 1,
   "id": "ad0c6c2298a331f5",
   "metadata": {
    "ExecuteTime": {
     "end_time": "2025-06-29T12:05:38.739561Z",
     "start_time": "2025-06-29T12:05:38.583719Z"
    }
   },
   "outputs": [],
   "source": [
    "from pipelines.merge_pipeline import build_merged_dataset"
   ]
  },
  {
   "cell_type": "code",
   "execution_count": 2,
   "id": "efe02d8fadab8392",
   "metadata": {
    "ExecuteTime": {
     "end_time": "2025-06-29T12:06:04.739334Z",
     "start_time": "2025-06-29T12:05:38.799760Z"
    }
   },
   "outputs": [],
   "source": [
    "df = build_merged_dataset(save_csv=True)"
   ]
  }
 ],
 "metadata": {
  "kernelspec": {
   "display_name": ".venv",
   "language": "python",
   "name": "python3"
  },
  "language_info": {
   "codemirror_mode": {
    "name": "ipython",
    "version": 3
   },
   "file_extension": ".py",
   "mimetype": "text/x-python",
   "name": "python",
   "nbconvert_exporter": "python",
   "pygments_lexer": "ipython3",
   "version": "3.13.3"
  }
 },
 "nbformat": 4,
 "nbformat_minor": 5
}
