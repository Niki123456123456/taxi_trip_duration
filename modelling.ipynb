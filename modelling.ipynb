{
 "cells": [
  {
   "metadata": {},
   "cell_type": "markdown",
   "source": "# Load data",
   "id": "a0d5a60dd549e5f"
  },
  {
   "metadata": {
    "ExecuteTime": {
     "end_time": "2025-06-07T23:00:22.929316Z",
     "start_time": "2025-06-07T23:00:22.728924Z"
    }
   },
   "cell_type": "code",
   "source": [
    "import matplotlib.pyplot as plt\n",
    "# Load packages\n",
    "import pandas as pd\n",
    "\n",
    "from config import (\n",
    "  TYPICAL_HOURS, TYPICAL_WEEKDAYS,\n",
    "  TYPICAL_DISTANCE_KM, TYPICAL_DURATION_MIN,\n",
    "  TYPICAL_PASSENGERS, LAT_RANGE, LON_RANGE, TEST_SIZE, RANDOM_STATE\n",
    ")\n",
    "from modelling import split_train_test"
   ],
   "id": "39ef4c7d749f93c5",
   "outputs": [],
   "execution_count": 1
  },
  {
   "metadata": {
    "ExecuteTime": {
     "end_time": "2025-06-07T23:00:31.095274Z",
     "start_time": "2025-06-07T23:00:25.952675Z"
    }
   },
   "cell_type": "code",
   "source": [
    "# Load taxi and weather data\n",
    "taxi_weather_data = pd.read_csv(\"data/taxi_weather_data.csv\")"
   ],
   "id": "5bebf574b1f9c56e",
   "outputs": [],
   "execution_count": 2
  },
  {
   "metadata": {
    "ExecuteTime": {
     "end_time": "2025-06-07T23:00:34.041998Z",
     "start_time": "2025-06-07T23:00:33.448334Z"
    }
   },
   "cell_type": "code",
   "source": "taxi_weather_data.info()",
   "id": "10f2c11940452b51",
   "outputs": [
    {
     "name": "stdout",
     "output_type": "stream",
     "text": [
      "<class 'pandas.core.frame.DataFrame'>\n",
      "RangeIndex: 1444229 entries, 0 to 1444228\n",
      "Data columns (total 52 columns):\n",
      " #   Column              Non-Null Count    Dtype  \n",
      "---  ------              --------------    -----  \n",
      " 0   id                  1444229 non-null  object \n",
      " 1   vendor_id           1444229 non-null  int64  \n",
      " 2   pickup_datetime     1444229 non-null  object \n",
      " 3   dropoff_datetime    1444229 non-null  object \n",
      " 4   passenger_count     1444229 non-null  int64  \n",
      " 5   pickup_longitude    1444229 non-null  float64\n",
      " 6   pickup_latitude     1444229 non-null  float64\n",
      " 7   dropoff_longitude   1444229 non-null  float64\n",
      " 8   dropoff_latitude    1444229 non-null  float64\n",
      " 9   store_and_fwd_flag  1444229 non-null  object \n",
      " 10  trip_duration       1444229 non-null  int64  \n",
      " 11  pickup_hour         1444229 non-null  int64  \n",
      " 12  pickup_weekday      1444229 non-null  object \n",
      " 13  pickup_month        1444229 non-null  int64  \n",
      " 14  hour_of_year        1444229 non-null  int64  \n",
      " 15  trip_duration_min   1444229 non-null  float64\n",
      " 16  trip_duration_log   1444229 non-null  float64\n",
      " 17  hav_dist_km         1444229 non-null  float64\n",
      " 18  datetime_hour       1444229 non-null  object \n",
      " 19  humidity            1444229 non-null  float64\n",
      " 20  fog                 1444229 non-null  int64  \n",
      " 21  rain                1444229 non-null  int64  \n",
      " 22  snow                1444229 non-null  int64  \n",
      " 23  conditions          1444229 non-null  object \n",
      " 24  datetime            1444229 non-null  object \n",
      " 25  hour_of_day         1444229 non-null  int64  \n",
      " 26  temp_c              1444229 non-null  float64\n",
      " 27  windspeed_kph       1444229 non-null  float64\n",
      " 28  precip_mm           1444229 non-null  float64\n",
      " 29  pressure_hPa        1444229 non-null  float64\n",
      " 30  precip_daily_mm     1444229 non-null  float64\n",
      " 31  daily_snow_mm       1444229 non-null  float64\n",
      " 32  rain_class          1444229 non-null  object \n",
      " 33  rain_code           1444229 non-null  int64  \n",
      " 34  snow_class          1444229 non-null  object \n",
      " 35  snow_code           1444229 non-null  int64  \n",
      " 36  cloud_class         1444229 non-null  object \n",
      " 37  cloud_code          1444229 non-null  int64  \n",
      " 38  hazy_class          1444229 non-null  object \n",
      " 39  hazy_code           1444229 non-null  int64  \n",
      " 40  freezing_class      1444229 non-null  object \n",
      " 41  freezing_code       1444229 non-null  int64  \n",
      " 42  fog_class           1444229 non-null  object \n",
      " 43  fog_code            1444229 non-null  int64  \n",
      " 44  temp_class          1444229 non-null  object \n",
      " 45  temp_code           1444229 non-null  int64  \n",
      " 46  windspeed_class     1444229 non-null  object \n",
      " 47  windspeed_code      1444229 non-null  int64  \n",
      " 48  humidity_class      1444229 non-null  object \n",
      " 49  humidity_code       1444229 non-null  int64  \n",
      " 50  pressure_class      1444229 non-null  object \n",
      " 51  pressure_code       1444229 non-null  int64  \n",
      "dtypes: float64(14), int64(20), object(18)\n",
      "memory usage: 573.0+ MB\n"
     ]
    }
   ],
   "execution_count": 3
  },
  {
   "metadata": {
    "ExecuteTime": {
     "end_time": "2025-06-07T23:00:40.476238Z",
     "start_time": "2025-06-07T23:00:39.966699Z"
    }
   },
   "cell_type": "code",
   "source": "taxi_weather_data.isna().sum()",
   "id": "3f590dad2ec20f6d",
   "outputs": [
    {
     "data": {
      "text/plain": [
       "id                    0\n",
       "vendor_id             0\n",
       "pickup_datetime       0\n",
       "dropoff_datetime      0\n",
       "passenger_count       0\n",
       "pickup_longitude      0\n",
       "pickup_latitude       0\n",
       "dropoff_longitude     0\n",
       "dropoff_latitude      0\n",
       "store_and_fwd_flag    0\n",
       "trip_duration         0\n",
       "pickup_hour           0\n",
       "pickup_weekday        0\n",
       "pickup_month          0\n",
       "hour_of_year          0\n",
       "trip_duration_min     0\n",
       "trip_duration_log     0\n",
       "hav_dist_km           0\n",
       "datetime_hour         0\n",
       "humidity              0\n",
       "fog                   0\n",
       "rain                  0\n",
       "snow                  0\n",
       "conditions            0\n",
       "datetime              0\n",
       "hour_of_day           0\n",
       "temp_c                0\n",
       "windspeed_kph         0\n",
       "precip_mm             0\n",
       "pressure_hPa          0\n",
       "precip_daily_mm       0\n",
       "daily_snow_mm         0\n",
       "rain_class            0\n",
       "rain_code             0\n",
       "snow_class            0\n",
       "snow_code             0\n",
       "cloud_class           0\n",
       "cloud_code            0\n",
       "hazy_class            0\n",
       "hazy_code             0\n",
       "freezing_class        0\n",
       "freezing_code         0\n",
       "fog_class             0\n",
       "fog_code              0\n",
       "temp_class            0\n",
       "temp_code             0\n",
       "windspeed_class       0\n",
       "windspeed_code        0\n",
       "humidity_class        0\n",
       "humidity_code         0\n",
       "pressure_class        0\n",
       "pressure_code         0\n",
       "dtype: int64"
      ]
     },
     "execution_count": 4,
     "metadata": {},
     "output_type": "execute_result"
    }
   ],
   "execution_count": 4
  },
  {
   "metadata": {},
   "cell_type": "markdown",
   "source": "# split train and test set",
   "id": "144f9dd08de3852f"
  },
  {
   "metadata": {},
   "cell_type": "code",
   "source": [
    "train_set, test_set = split_train_test(taxi_weather_data, test_size=TEST_SIZE,\n",
    "                                       random_state=RANDOM_STATE)"
   ],
   "id": "1de79edf73cc8618",
   "outputs": [],
   "execution_count": null
  },
  {
   "metadata": {},
   "cell_type": "markdown",
   "source": "# Seek correlation",
   "id": "ed28ff86c109b297"
  },
  {
   "metadata": {},
   "cell_type": "markdown",
   "source": "## correlation matrix (trip_dur and trip_dur_log)",
   "id": "c7a80185238b8f37"
  },
  {
   "cell_type": "code",
   "id": "initial_id",
   "metadata": {
    "collapsed": true
   },
   "source": "corr_matrix = taxi_weather_data.select_dtypes(include='number').corr()",
   "outputs": [],
   "execution_count": null
  },
  {
   "metadata": {},
   "cell_type": "code",
   "source": [
    "corr_matrix['trip_duration'].sort_values(ascending=False)\n",
    "taxi_weather_data['trip_duration'].std()"
   ],
   "id": "d122f6b93e6e4557",
   "outputs": [],
   "execution_count": null
  },
  {
   "metadata": {},
   "cell_type": "markdown",
   "source": [
    "- Not a strong predictor so far. Even distance is only weakly correlated\n",
    "- No weather variable currently shows a significant linear correlation"
   ],
   "id": "42709045db68a86e"
  },
  {
   "metadata": {},
   "cell_type": "code",
   "source": [
    "corr_matrix['trip_duration_log'].sort_values(ascending=False)\n",
    "taxi_weather_data['trip_duration_log'].std()"
   ],
   "id": "d2f685ef613257e0",
   "outputs": [],
   "execution_count": null
  },
  {
   "metadata": {},
   "cell_type": "markdown",
   "source": [
    "- The log transformation of trip_duration has reduced the dispersion\n",
    "- haversine_km - Strong correlation: longer distance → longer duration (logarithmically smoothed)\n",
    "- pickup_longitude - Possible district effect\n",
    "- Weather characteristics hardly show linear effects, they could have a non-linear effect or only be relevant at certain times or locations\n",
    "- Geographical coordinates contribute significantly"
   ],
   "id": "779df181d3f25f73"
  },
  {
   "metadata": {},
   "cell_type": "markdown",
   "source": "## Filter haversine in combination",
   "id": "33b24537acb783f4"
  },
  {
   "metadata": {},
   "cell_type": "code",
   "source": [
    "filtered = taxi_weather_data[\n",
    "  (taxi_weather_data['trip_duration_min'].between(*TYPICAL_DURATION_MIN)) &\n",
    "  (taxi_weather_data['hav_dist_km'].between(*TYPICAL_DISTANCE_KM)) &\n",
    "  (taxi_weather_data['pickup_hour'].between(*TYPICAL_HOURS)) &\n",
    "  (taxi_weather_data['pickup_weekday'].isin(TYPICAL_WEEKDAYS)) &\n",
    "  (taxi_weather_data['passenger_count'].between(*TYPICAL_PASSENGERS)) &\n",
    "  (taxi_weather_data['pickup_longitude'].between(*LON_RANGE)) &\n",
    "  (taxi_weather_data['dropoff_longitude'].between(*LON_RANGE)) &\n",
    "  (taxi_weather_data['pickup_latitude'].between(*LAT_RANGE)) &\n",
    "  (taxi_weather_data['dropoff_latitude'].between(*LAT_RANGE))\n",
    "  ]\n",
    "\n",
    "filtered.plot.scatter(x=\"hav_dist_km\", y=\"trip_duration_log\", alpha=0.7, grid=True)\n",
    "plt.xlabel(\"hav_dist_km\")\n",
    "plt.ylabel(\"Trip Duration\")\n",
    "plt.title(\"scatter: Weekday, Distance, Time\")\n",
    "plt.show()\n",
    "\n",
    "filtered.plot.hexbin(\n",
    "    x=\"hav_dist_km\", y=\"trip_duration_log\",\n",
    "    gridsize=50, cmap='plasma'\n",
    ")\n",
    "plt.xlabel(\"hav_dist_km\")\n",
    "plt.ylabel(\"Trip Duration\")\n",
    "plt.title(\"Hexbin: Weekday, Distance, Time\")\n",
    "plt.grid(True)\n",
    "plt.show()\n",
    "# TODO: Add zone-based filtering (e.g. by longitude/latitude clusters or external zone map)"
   ],
   "id": "51479b6f92b1b8b4",
   "outputs": [],
   "execution_count": null
  },
  {
   "metadata": {},
   "cell_type": "markdown",
   "source": "# Classify Weather Conditions",
   "id": "5afda805babec345"
  }
 ],
 "metadata": {
  "kernelspec": {
   "display_name": "Python 3",
   "language": "python",
   "name": "python3"
  },
  "language_info": {
   "codemirror_mode": {
    "name": "ipython",
    "version": 2
   },
   "file_extension": ".py",
   "mimetype": "text/x-python",
   "name": "python",
   "nbconvert_exporter": "python",
   "pygments_lexer": "ipython2",
   "version": "2.7.6"
  }
 },
 "nbformat": 4,
 "nbformat_minor": 5
}
