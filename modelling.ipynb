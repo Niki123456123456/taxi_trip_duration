{
 "cells": [
  {
   "metadata": {},
   "cell_type": "markdown",
   "source": "# Load data",
   "id": "a0d5a60dd549e5f"
  },
  {
   "metadata": {},
   "cell_type": "code",
   "source": [
    "import matplotlib.pyplot as plt\n",
    "# Load packages\n",
    "import pandas as pd\n",
    "from sklearn.model_selection import train_test_split\n",
    "\n",
    "from features_engineering import add_weather_features\n"
   ],
   "id": "39ef4c7d749f93c5",
   "outputs": [],
   "execution_count": null
  },
  {
   "metadata": {},
   "cell_type": "code",
   "source": [
    "# Load taxi and weather data\n",
    "taxi_weather_data_raw = pd.read_csv(\"data/taxi_weather_data_raw.csv\")"
   ],
   "id": "5bebf574b1f9c56e",
   "outputs": [],
   "execution_count": null
  },
  {
   "metadata": {},
   "cell_type": "code",
   "source": "taxi_weather_data_raw.info()",
   "id": "10f2c11940452b51",
   "outputs": [],
   "execution_count": null
  },
  {
   "metadata": {},
   "cell_type": "code",
   "source": "taxi_weather_data_raw[['hour_of_year', 'datetime_hour']].head()",
   "id": "364d097d1d420d6c",
   "outputs": [],
   "execution_count": null
  },
  {
   "metadata": {},
   "cell_type": "code",
   "source": "taxi_weather_data_raw[['datetime_hour', 'pickup_datetime']]",
   "id": "780ce06cacac7acb",
   "outputs": [],
   "execution_count": null
  },
  {
   "metadata": {},
   "cell_type": "code",
   "source": "taxi_weather_data_raw.isna().sum()",
   "id": "3f590dad2ec20f6d",
   "outputs": [],
   "execution_count": null
  },
  {
   "metadata": {},
   "cell_type": "code",
   "source": "taxi_weather_data_raw.info()",
   "id": "521aecce18ba3a2e",
   "outputs": [],
   "execution_count": null
  },
  {
   "metadata": {},
   "cell_type": "code",
   "source": "taxi_weather_data_raw.isna().sum()",
   "id": "7ae95309a69bf8a2",
   "outputs": [],
   "execution_count": null
  },
  {
   "metadata": {},
   "cell_type": "markdown",
   "source": "# split train and test set",
   "id": "144f9dd08de3852f"
  },
  {
   "metadata": {},
   "cell_type": "code",
   "source": "train_set, test_set = train_test_split(taxi_weather_data_raw, test_size=0.2, random_state=42)",
   "id": "1de79edf73cc8618",
   "outputs": [],
   "execution_count": null
  },
  {
   "metadata": {},
   "cell_type": "code",
   "source": "taxi_weather_data = train_set.copy()",
   "id": "5cfa76066bf6cc38",
   "outputs": [],
   "execution_count": null
  },
  {
   "metadata": {},
   "cell_type": "markdown",
   "source": "# Seek correlation",
   "id": "ed28ff86c109b297"
  },
  {
   "metadata": {},
   "cell_type": "markdown",
   "source": "## correlation matrix (trip_dur and trip_dur_log)",
   "id": "c7a80185238b8f37"
  },
  {
   "cell_type": "code",
   "id": "initial_id",
   "metadata": {
    "collapsed": true
   },
   "source": "corr_matrix = taxi_weather_data.select_dtypes(include='number').corr()",
   "outputs": [],
   "execution_count": null
  },
  {
   "metadata": {},
   "cell_type": "code",
   "source": "corr_matrix['trip_duration'].sort_values(ascending=False)",
   "id": "d122f6b93e6e4557",
   "outputs": [],
   "execution_count": null
  },
  {
   "metadata": {},
   "cell_type": "markdown",
   "source": [
    "- Not a strong predictor so far. Even distance is only weakly correlated\n",
    "- No weather variable currently shows a significant linear correlation"
   ],
   "id": "42709045db68a86e"
  },
  {
   "metadata": {},
   "cell_type": "code",
   "source": "corr_matrix['trip_duration_log'].sort_values(ascending=False)",
   "id": "d2f685ef613257e0",
   "outputs": [],
   "execution_count": null
  },
  {
   "metadata": {},
   "cell_type": "markdown",
   "source": [
    "- The log transformation of trip_duration has reduced the dispersion\n",
    "- haversine_km - Strong correlation: longer distance → longer duration (logarithmically smoothed)\n",
    "- pickup_longitude - Possible district effect\n",
    "- Weather characteristics hardly show linear effects, they could have a non-linear effect or only be relevant at certain times or locations\n",
    "- Geographical coordinates contribute significantly"
   ],
   "id": "779df181d3f25f73"
  },
  {
   "metadata": {},
   "cell_type": "markdown",
   "source": "## Filter haversine in combination",
   "id": "33b24537acb783f4"
  },
  {
   "metadata": {},
   "cell_type": "code",
   "source": [
    "# Filter: ≤ 10 km, 7–9 AM, Monday to Friday (weekday 0–4)\n",
    "filtered = taxi_weather_data[\n",
    "  (taxi_weather_data['trip_duration_min'].between(5, 120)) &\n",
    "  (taxi_weather_data['hav_dist_km'].between(1, 20)) &\n",
    "  (taxi_weather_data['pickup_hour_of_day'].between(5, 18)) &\n",
    "  (taxi_weather_data['pickup_day_of_week'].between(0, 6)) &\n",
    "  (taxi_weather_data['passenger_count'].between(1, 6)) &\n",
    "  (taxi_weather_data['pickup_longitude'].between(-74.3, -73.6)) &\n",
    "  (taxi_weather_data['dropoff_longitude'].between(-74.3, -73.6)) &\n",
    "  (taxi_weather_data['pickup_latitude'].between(40.47, 41.0)) &\n",
    "  (taxi_weather_data['dropoff_latitude'].between(40.47, 41.0))\n",
    "  ]\n",
    "\n",
    "filtered.plot.scatter(x=\"hav_dist_km\", y=\"trip_duration_log\", alpha=0.7, grid=True)\n",
    "plt.xlabel(\"hav_dist_km\")\n",
    "plt.ylabel(\"Trip Duration\")\n",
    "plt.title(\"scatter: Weekday, Distance, Time\")\n",
    "plt.show()\n",
    "\n",
    "filtered.plot.hexbin(\n",
    "    x=\"hav_dist_km\", y=\"trip_duration_log\",\n",
    "    gridsize=50, cmap='plasma'\n",
    ")\n",
    "plt.xlabel(\"hav_dist_km\")\n",
    "plt.ylabel(\"Trip Duration\")\n",
    "plt.title(\"Hexbin: Weekday, Distance, Time\")\n",
    "plt.grid(True)\n",
    "plt.show()\n",
    "# TODO: Add zone-based filtering (e.g. by longitude/latitude clusters or external zone map)"
   ],
   "id": "51479b6f92b1b8b4",
   "outputs": [],
   "execution_count": null
  },
  {
   "metadata": {},
   "cell_type": "markdown",
   "source": "# Imputation of  Features",
   "id": "33a5448bb6ec0d4c"
  },
  {
   "metadata": {},
   "cell_type": "code",
   "source": "taxi_weather_data.isna().sum()",
   "id": "ab51687fe16c417c",
   "outputs": [],
   "execution_count": null
  },
  {
   "metadata": {},
   "cell_type": "code",
   "source": [
    "# Create new time column from hour_of_year (basis: start time)\n",
    "base_time = pd.to_datetime(\"2016-01-01 00:00:00\")\n",
    "taxi_weather_data['datetime_hour_fallback'] = taxi_weather_data['hour_of_year'].apply(\n",
    "    lambda h: base_time + pd.Timedelta(hours=h))"
   ],
   "id": "aa9f109978727cab",
   "outputs": [],
   "execution_count": null
  },
  {
   "metadata": {},
   "cell_type": "code",
   "source": [
    "features_to_impute = [\n",
    "  'humidity', 'windspeed_kph', 'temp_c', 'pressure_hPa', 'precip_daily_mm', 'daily_snow_mm',\n",
    "  'precip_mm'\n",
    "]\n",
    "\n",
    "for feature in features_to_impute:\n",
    "  print(f\"\\nImputing {feature}...\")\n",
    "  before = taxi_weather_data[feature]\n",
    "  taxi_weather_data.set_index('datetime_hour_fallback', inplace=True)\n",
    "  taxi_weather_data[feature] = taxi_weather_data[feature].interpolate(method='time')\n",
    "  after = taxi_weather_data[feature]\n",
    "  taxi_weather_data.reset_index(inplace=True)\n",
    "\n",
    "  print(\"mean before:\", before.mean())\n",
    "  print(\"mean after:\", after.mean())\n",
    "  print(\"std deviation before:\", before.std())\n",
    "  print(\"std deviation after:\", after.std())"
   ],
   "id": "29010ce906a8ce2f",
   "outputs": [],
   "execution_count": null
  },
  {
   "metadata": {},
   "cell_type": "code",
   "source": "taxi_weather_data.isna().sum()",
   "id": "f4919d323845e605",
   "outputs": [],
   "execution_count": null
  },
  {
   "metadata": {},
   "cell_type": "markdown",
   "source": "## Classify Weather Conditions",
   "id": "5afda805babec345"
  },
  {
   "metadata": {},
   "cell_type": "code",
   "outputs": [],
   "execution_count": null,
   "source": "taxi_weather_data = add_weather_features(taxi_weather_data)",
   "id": "7daeb0717e0218a1"
  },
  {
   "metadata": {},
   "cell_type": "code",
   "source": "taxi_weather_data.isna().sum()",
   "id": "fc09fdbd4a87f201",
   "outputs": [],
   "execution_count": null
  }
 ],
 "metadata": {
  "kernelspec": {
   "display_name": "Python 3",
   "language": "python",
   "name": "python3"
  },
  "language_info": {
   "codemirror_mode": {
    "name": "ipython",
    "version": 2
   },
   "file_extension": ".py",
   "mimetype": "text/x-python",
   "name": "python",
   "nbconvert_exporter": "python",
   "pygments_lexer": "ipython2",
   "version": "2.7.6"
  }
 },
 "nbformat": 4,
 "nbformat_minor": 5
}
