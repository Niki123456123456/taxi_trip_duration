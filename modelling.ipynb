{
 "cells": [
  {
   "metadata": {},
   "cell_type": "markdown",
   "source": "# Load data",
   "id": "a0d5a60dd549e5f"
  },
  {
   "metadata": {
    "ExecuteTime": {
     "end_time": "2025-06-03T14:53:21.312623Z",
     "start_time": "2025-06-03T14:53:20.836812Z"
    }
   },
   "cell_type": "code",
   "source": [
    "# Load packages\n",
    "import pandas as pd"
   ],
   "id": "39ef4c7d749f93c5",
   "outputs": [],
   "execution_count": 2
  },
  {
   "metadata": {
    "ExecuteTime": {
     "end_time": "2025-06-03T14:53:41.421934Z",
     "start_time": "2025-06-03T14:53:36.102113Z"
    }
   },
   "cell_type": "code",
   "source": [
    "# Load taxi and weather data\n",
    "taxi_weather_data_raw = pd.read_csv(\"data/taxi_weather_data_raw.csv\")"
   ],
   "id": "5bebf574b1f9c56e",
   "outputs": [],
   "execution_count": 4
  },
  {
   "metadata": {},
   "cell_type": "markdown",
   "source": "# Seek correlation",
   "id": "ed28ff86c109b297"
  },
  {
   "cell_type": "code",
   "execution_count": null,
   "id": "initial_id",
   "metadata": {
    "collapsed": true
   },
   "outputs": [],
   "source": [
    ""
   ]
  }
 ],
 "metadata": {
  "kernelspec": {
   "display_name": "Python 3",
   "language": "python",
   "name": "python3"
  },
  "language_info": {
   "codemirror_mode": {
    "name": "ipython",
    "version": 2
   },
   "file_extension": ".py",
   "mimetype": "text/x-python",
   "name": "python",
   "nbconvert_exporter": "python",
   "pygments_lexer": "ipython2",
   "version": "2.7.6"
  }
 },
 "nbformat": 4,
 "nbformat_minor": 5
}
