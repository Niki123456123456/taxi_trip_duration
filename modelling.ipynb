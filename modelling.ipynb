{
 "cells": [
  {
   "metadata": {},
   "cell_type": "markdown",
   "source": "# Load data",
   "id": "a0d5a60dd549e5f"
  },
  {
   "metadata": {
    "ExecuteTime": {
     "end_time": "2025-06-03T14:53:21.312623Z",
     "start_time": "2025-06-03T14:53:20.836812Z"
    }
   },
   "cell_type": "code",
   "source": [
    "# Load packages\n",
    "import pandas as pd\n",
    "import seaborn as sns\n",
    "import matplotlib.pyplot as plt\n"
   ],
   "id": "39ef4c7d749f93c5",
   "outputs": [],
   "execution_count": 2
  },
  {
   "metadata": {
    "ExecuteTime": {
     "end_time": "2025-06-03T14:53:41.421934Z",
     "start_time": "2025-06-03T14:53:36.102113Z"
    }
   },
   "cell_type": "code",
   "source": [
    "# Load taxi and weather data\n",
    "taxi_weather_data_raw = pd.read_csv(\"data/taxi_weather_data_raw.csv\")"
   ],
   "id": "5bebf574b1f9c56e",
   "outputs": [],
   "execution_count": 4
  },
  {
   "metadata": {},
   "cell_type": "markdown",
   "source": "# Seek correlation",
   "id": "ed28ff86c109b297"
  },
  {
   "metadata": {},
   "cell_type": "markdown",
   "source": "## correlation matrix",
   "id": "c7a80185238b8f37"
  },
  {
   "cell_type": "code",
   "id": "initial_id",
   "metadata": {
    "collapsed": true,
    "ExecuteTime": {
     "end_time": "2025-06-03T15:18:34.159476Z",
     "start_time": "2025-06-03T15:18:30.720211Z"
    }
   },
   "source": "corr_matrix = taxi_weather_data_raw.select_dtypes(include='number').corr()",
   "outputs": [],
   "execution_count": 11
  },
  {
   "metadata": {
    "ExecuteTime": {
     "end_time": "2025-06-03T15:18:41.571473Z",
     "start_time": "2025-06-03T15:18:41.562981Z"
    }
   },
   "cell_type": "code",
   "source": "corr_matrix['trip_duration'].sort_values(ascending=False)",
   "id": "d122f6b93e6e4557",
   "outputs": [
    {
     "data": {
      "text/plain": [
       "trip_duration_min       1.000000\n",
       "trip_duration           1.000000\n",
       "trip_duration_log       0.260503\n",
       "haversine_km            0.096961\n",
       "pickup_longitude        0.026536\n",
       "vendor_id               0.021246\n",
       "dropoff_longitude       0.014961\n",
       "passenger_count         0.009125\n",
       "temp_class_code         0.007739\n",
       "temp                    0.006996\n",
       "temp_C                  0.006996\n",
       "hour_of_year            0.006933\n",
       "day_of_year_x           0.006911\n",
       "day_of_year_y           0.006911\n",
       "pickup_month            0.006833\n",
       "hour_of_day             0.004393\n",
       "pickup_hour_of_day      0.004393\n",
       "windspeed_class_code    0.001781\n",
       "windspeed_kph           0.001350\n",
       "hazy_class_code         0.001151\n",
       "windspeed               0.001143\n",
       "rain_class_code         0.000917\n",
       "precip_mm               0.000060\n",
       "precip                  0.000060\n",
       "precip_snow_mm         -0.000080\n",
       "dailysnow              -0.000080\n",
       "pressure               -0.000148\n",
       "pressure_hPa           -0.000196\n",
       "fog                    -0.000267\n",
       "fog_class_code         -0.000267\n",
       "rain                   -0.000407\n",
       "snow_class_code        -0.000442\n",
       "pickup_day_of_week     -0.000500\n",
       "snow                   -0.000577\n",
       "pressure_class_code    -0.000726\n",
       "cloud_class_code       -0.000835\n",
       "freezing_class_code    -0.000915\n",
       "dailyprecip            -0.002507\n",
       "precip_daily_mm        -0.002507\n",
       "humidity_class_code    -0.003271\n",
       "humidity               -0.004053\n",
       "dropoff_latitude       -0.021675\n",
       "pickup_latitude        -0.029208\n",
       "Name: trip_duration, dtype: float64"
      ]
     },
     "execution_count": 12,
     "metadata": {},
     "output_type": "execute_result"
    }
   ],
   "execution_count": 12
  },
  {
   "metadata": {},
   "cell_type": "markdown",
   "source": [
    "- Not a strong predictor so far. Even distance is only weakly correlated\n",
    "- No weather variable currently shows a significant linear correlation"
   ],
   "id": "42709045db68a86e"
  },
  {
   "metadata": {
    "ExecuteTime": {
     "end_time": "2025-06-03T15:18:45.075764Z",
     "start_time": "2025-06-03T15:18:45.069913Z"
    }
   },
   "cell_type": "code",
   "source": "corr_matrix['trip_duration_log'].sort_values(ascending=False)",
   "id": "d2f685ef613257e0",
   "outputs": [
    {
     "data": {
      "text/plain": [
       "trip_duration_log       1.000000\n",
       "haversine_km            0.572367\n",
       "trip_duration           0.260503\n",
       "trip_duration_min       0.260503\n",
       "pickup_longitude        0.109614\n",
       "dropoff_longitude       0.071455\n",
       "temp_C                  0.060105\n",
       "temp                    0.060105\n",
       "temp_class_code         0.057509\n",
       "hour_of_year            0.046874\n",
       "day_of_year_y           0.046674\n",
       "day_of_year_x           0.046674\n",
       "pickup_month            0.045425\n",
       "pickup_hour_of_day      0.039088\n",
       "hour_of_day             0.039088\n",
       "passenger_count         0.021169\n",
       "vendor_id               0.019825\n",
       "hazy_class_code         0.005456\n",
       "rain_class_code         0.000928\n",
       "windspeed_class_code    0.000740\n",
       "cloud_class_code       -0.000386\n",
       "precip_mm              -0.000458\n",
       "precip                 -0.000458\n",
       "windspeed_kph          -0.000680\n",
       "rain                   -0.002199\n",
       "windspeed              -0.002488\n",
       "fog                    -0.003048\n",
       "fog_class_code         -0.003048\n",
       "freezing_class_code    -0.003208\n",
       "precip_snow_mm         -0.003917\n",
       "dailysnow              -0.003917\n",
       "snow_class_code        -0.008098\n",
       "snow                   -0.008961\n",
       "pressure               -0.011865\n",
       "pressure_hPa           -0.012109\n",
       "dailyprecip            -0.012740\n",
       "precip_daily_mm        -0.012740\n",
       "pressure_class_code    -0.016516\n",
       "humidity_class_code    -0.021059\n",
       "humidity               -0.024152\n",
       "pickup_day_of_week     -0.027820\n",
       "dropoff_latitude       -0.123885\n",
       "pickup_latitude        -0.144390\n",
       "Name: trip_duration_log, dtype: float64"
      ]
     },
     "execution_count": 13,
     "metadata": {},
     "output_type": "execute_result"
    }
   ],
   "execution_count": 13
  },
  {
   "metadata": {},
   "cell_type": "markdown",
   "source": [
    "- The log transformation of trip_duration has reduced the dispersion\n",
    "- haversine_km - Strong correlation: longer distance → longer duration (logarithmically smoothed)\n",
    "- pickup_longitude - Possible district effect\n",
    "- Weather characteristics hardly show linear effects, they could have a non-linear effect or only be relevant at certain times or locations\n",
    "- Geographical coordinates contribute significantly"
   ],
   "id": "779df181d3f25f73"
  }
 ],
 "metadata": {
  "kernelspec": {
   "display_name": "Python 3",
   "language": "python",
   "name": "python3"
  },
  "language_info": {
   "codemirror_mode": {
    "name": "ipython",
    "version": 2
   },
   "file_extension": ".py",
   "mimetype": "text/x-python",
   "name": "python",
   "nbconvert_exporter": "python",
   "pygments_lexer": "ipython2",
   "version": "2.7.6"
  }
 },
 "nbformat": 4,
 "nbformat_minor": 5
}
